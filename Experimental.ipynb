{
 "cells": [
  {
   "cell_type": "code",
   "execution_count": 1,
   "metadata": {},
   "outputs": [],
   "source": [
    "import numpy as np\n",
    "import pandas as pd\n",
    "import matplotlib.pyplot as plt\n",
    "\n",
    "import turbopanda as turb"
   ]
  },
  {
   "cell_type": "code",
   "execution_count": 2,
   "metadata": {},
   "outputs": [
    {
     "data": {
      "text/plain": [
       "MetaPanda(aviner_prot(n=6785, p=13, mem=0.707MB), mode='delay')"
      ]
     },
     "execution_count": 2,
     "metadata": {},
     "output_type": "execute_result"
    }
   ],
   "source": [
    "m3 = turb.read(\"../Research Data/datasets/aviner_prot.csv\")\n",
    "m3.mode_ = \"delay\"\n",
    "m3"
   ]
  },
  {
   "cell_type": "code",
   "execution_count": 3,
   "metadata": {},
   "outputs": [
    {
     "data": {
      "text/html": [
       "<div>\n",
       "<style scoped>\n",
       "    .dataframe tbody tr th:only-of-type {\n",
       "        vertical-align: middle;\n",
       "    }\n",
       "\n",
       "    .dataframe tbody tr th {\n",
       "        vertical-align: top;\n",
       "    }\n",
       "\n",
       "    .dataframe thead th {\n",
       "        text-align: right;\n",
       "    }\n",
       "</style>\n",
       "<table border=\"1\" class=\"dataframe\">\n",
       "  <thead>\n",
       "    <tr style=\"text-align: right;\">\n",
       "      <th>colnames</th>\n",
       "      <th>unip_id</th>\n",
       "      <th>leading_unip_id</th>\n",
       "      <th>prot_name</th>\n",
       "      <th>gene_name</th>\n",
       "      <th>prot_G1_r1</th>\n",
       "      <th>prot_G1_r2</th>\n",
       "      <th>prot_G1_r3</th>\n",
       "      <th>prot_S_r1</th>\n",
       "      <th>prot_S_r2</th>\n",
       "      <th>prot_S_r3</th>\n",
       "      <th>prot_G2M_r1</th>\n",
       "      <th>prot_G2M_r2</th>\n",
       "      <th>prot_G2M_r3</th>\n",
       "    </tr>\n",
       "    <tr>\n",
       "      <th>counter</th>\n",
       "      <th></th>\n",
       "      <th></th>\n",
       "      <th></th>\n",
       "      <th></th>\n",
       "      <th></th>\n",
       "      <th></th>\n",
       "      <th></th>\n",
       "      <th></th>\n",
       "      <th></th>\n",
       "      <th></th>\n",
       "      <th></th>\n",
       "      <th></th>\n",
       "      <th></th>\n",
       "    </tr>\n",
       "  </thead>\n",
       "  <tbody>\n",
       "    <tr>\n",
       "      <td>0</td>\n",
       "      <td>A0AUL9;B4DV45;H7C3T2;Q2TAZ0;Q2TAZ0-3</td>\n",
       "      <td>A0AUL9</td>\n",
       "      <td>Autophagy-related protein 2 homolog A</td>\n",
       "      <td>ATG2A</td>\n",
       "      <td>17.74603</td>\n",
       "      <td>17.84261</td>\n",
       "      <td>19.05566</td>\n",
       "      <td>14.29699</td>\n",
       "      <td>15.85089</td>\n",
       "      <td>14.54906</td>\n",
       "      <td>19.61385</td>\n",
       "      <td>20.41638</td>\n",
       "      <td>20.68011</td>\n",
       "    </tr>\n",
       "    <tr>\n",
       "      <td>1</td>\n",
       "      <td>A0A024R9W3;A0AV96;B7Z8Z7;B7ZLP7;D6R9D6;D6R9M7;...</td>\n",
       "      <td>A0AV96</td>\n",
       "      <td>RNA-binding protein 47</td>\n",
       "      <td>RBM47;FLJ20273</td>\n",
       "      <td>24.80691</td>\n",
       "      <td>24.61986</td>\n",
       "      <td>24.81729</td>\n",
       "      <td>22.70295</td>\n",
       "      <td>22.96914</td>\n",
       "      <td>21.60824</td>\n",
       "      <td>24.56605</td>\n",
       "      <td>24.58572</td>\n",
       "      <td>24.80183</td>\n",
       "    </tr>\n",
       "    <tr>\n",
       "      <td>2</td>\n",
       "      <td>A0AVL1;B4DDM8;C9J6H5;C9JPM3;F8WC54;Q13443;Q134...</td>\n",
       "      <td>A0AVL1</td>\n",
       "      <td>Disintegrin and metalloproteinase domain-conta...</td>\n",
       "      <td>ADAM9</td>\n",
       "      <td>19.79536</td>\n",
       "      <td>18.76332</td>\n",
       "      <td>18.69210</td>\n",
       "      <td>17.80612</td>\n",
       "      <td>15.23971</td>\n",
       "      <td>15.70079</td>\n",
       "      <td>20.00265</td>\n",
       "      <td>19.45619</td>\n",
       "      <td>18.38499</td>\n",
       "    </tr>\n",
       "    <tr>\n",
       "      <td>3</td>\n",
       "      <td>A0A024RDB0;A0AVT1;B3KSS1;H0Y8S8;H0Y9U5;A0AVT1-...</td>\n",
       "      <td>A0AVT1</td>\n",
       "      <td>Ubiquitin-like modifier-activating enzyme 6</td>\n",
       "      <td>UBA6;UBE1L2</td>\n",
       "      <td>24.71078</td>\n",
       "      <td>24.44152</td>\n",
       "      <td>24.69110</td>\n",
       "      <td>21.82714</td>\n",
       "      <td>21.98123</td>\n",
       "      <td>20.26098</td>\n",
       "      <td>24.93152</td>\n",
       "      <td>25.36866</td>\n",
       "      <td>25.32347</td>\n",
       "    </tr>\n",
       "    <tr>\n",
       "      <td>4</td>\n",
       "      <td>A0A087WXU3;A0FGR8;H7BXI1;A0FGR8-2;A0FGR8-4;A0F...</td>\n",
       "      <td>A0FGR8</td>\n",
       "      <td>Extended synaptotagmin-2</td>\n",
       "      <td>ESYT2</td>\n",
       "      <td>18.11792</td>\n",
       "      <td>19.06960</td>\n",
       "      <td>NaN</td>\n",
       "      <td>19.58983</td>\n",
       "      <td>19.37914</td>\n",
       "      <td>18.48656</td>\n",
       "      <td>18.63846</td>\n",
       "      <td>18.57319</td>\n",
       "      <td>19.83579</td>\n",
       "    </tr>\n",
       "  </tbody>\n",
       "</table>\n",
       "</div>"
      ],
      "text/plain": [
       "colnames                                            unip_id leading_unip_id  \\\n",
       "counter                                                                       \n",
       "0                      A0AUL9;B4DV45;H7C3T2;Q2TAZ0;Q2TAZ0-3          A0AUL9   \n",
       "1         A0A024R9W3;A0AV96;B7Z8Z7;B7ZLP7;D6R9D6;D6R9M7;...          A0AV96   \n",
       "2         A0AVL1;B4DDM8;C9J6H5;C9JPM3;F8WC54;Q13443;Q134...          A0AVL1   \n",
       "3         A0A024RDB0;A0AVT1;B3KSS1;H0Y8S8;H0Y9U5;A0AVT1-...          A0AVT1   \n",
       "4         A0A087WXU3;A0FGR8;H7BXI1;A0FGR8-2;A0FGR8-4;A0F...          A0FGR8   \n",
       "\n",
       "colnames                                          prot_name       gene_name  \\\n",
       "counter                                                                       \n",
       "0                     Autophagy-related protein 2 homolog A           ATG2A   \n",
       "1                                    RNA-binding protein 47  RBM47;FLJ20273   \n",
       "2         Disintegrin and metalloproteinase domain-conta...           ADAM9   \n",
       "3               Ubiquitin-like modifier-activating enzyme 6     UBA6;UBE1L2   \n",
       "4                                  Extended synaptotagmin-2           ESYT2   \n",
       "\n",
       "colnames  prot_G1_r1  prot_G1_r2  prot_G1_r3  prot_S_r1  prot_S_r2  prot_S_r3  \\\n",
       "counter                                                                         \n",
       "0           17.74603    17.84261    19.05566   14.29699   15.85089   14.54906   \n",
       "1           24.80691    24.61986    24.81729   22.70295   22.96914   21.60824   \n",
       "2           19.79536    18.76332    18.69210   17.80612   15.23971   15.70079   \n",
       "3           24.71078    24.44152    24.69110   21.82714   21.98123   20.26098   \n",
       "4           18.11792    19.06960         NaN   19.58983   19.37914   18.48656   \n",
       "\n",
       "colnames  prot_G2M_r1  prot_G2M_r2  prot_G2M_r3  \n",
       "counter                                          \n",
       "0            19.61385     20.41638     20.68011  \n",
       "1            24.56605     24.58572     24.80183  \n",
       "2            20.00265     19.45619     18.38499  \n",
       "3            24.93152     25.36866     25.32347  \n",
       "4            18.63846     18.57319     19.83579  "
      ]
     },
     "execution_count": 3,
     "metadata": {},
     "output_type": "execute_result"
    }
   ],
   "source": [
    "m3.df_.head()"
   ]
  },
  {
   "cell_type": "code",
   "execution_count": 4,
   "metadata": {},
   "outputs": [
    {
     "ename": "TypeError",
     "evalue": "'NoneType' object is not callable",
     "output_type": "error",
     "traceback": [
      "\u001b[0;31m---------------------------------------------------------------------------\u001b[0m",
      "\u001b[0;31mTypeError\u001b[0m                                 Traceback (most recent call last)",
      "\u001b[0;32m<ipython-input-4-c43ac0ee1665>\u001b[0m in \u001b[0;36m<module>\u001b[0;34m\u001b[0m\n\u001b[0;32m----> 1\u001b[0;31m \u001b[0mm3\u001b[0m\u001b[0;34m.\u001b[0m\u001b[0mapply\u001b[0m\u001b[0;34m(\u001b[0m\u001b[0;34m\"fillna\"\u001b[0m\u001b[0;34m,\u001b[0m \u001b[0;36m0\u001b[0m\u001b[0;34m)\u001b[0m\u001b[0;34m\u001b[0m\u001b[0;34m\u001b[0m\u001b[0m\n\u001b[0m",
      "\u001b[0;31mTypeError\u001b[0m: 'NoneType' object is not callable"
     ]
    }
   ],
   "source": [
    "m3.apply(\"fillna\", 0)"
   ]
  },
  {
   "cell_type": "code",
   "execution_count": 5,
   "metadata": {},
   "outputs": [
    {
     "data": {
      "text/plain": [
       "\u001b[0;31mType:\u001b[0m        NoneType\n",
       "\u001b[0;31mString form:\u001b[0m None\n",
       "\u001b[0;31mDocstring:\u001b[0m   <no docstring>\n"
      ]
     },
     "metadata": {},
     "output_type": "display_data"
    }
   ],
   "source": [
    "m3.apply?"
   ]
  },
  {
   "cell_type": "code",
   "execution_count": null,
   "metadata": {},
   "outputs": [],
   "source": []
  },
  {
   "cell_type": "code",
   "execution_count": null,
   "metadata": {},
   "outputs": [],
   "source": []
  }
 ],
 "metadata": {
  "kernelspec": {
   "display_name": "Python 3",
   "language": "python",
   "name": "python3"
  },
  "language_info": {
   "codemirror_mode": {
    "name": "ipython",
    "version": 3
   },
   "file_extension": ".py",
   "mimetype": "text/x-python",
   "name": "python",
   "nbconvert_exporter": "python",
   "pygments_lexer": "ipython3",
   "version": "3.7.4"
  }
 },
 "nbformat": 4,
 "nbformat_minor": 4
}
