{
 "cells": [
  {
   "cell_type": "markdown",
   "metadata": {},
   "source": [
    "# Correlation: Relationships between columns\n",
    "\n",
    "**TurboPanda** still has more to offer to allow seemless flowing of `pandas`-like operations, and indeed into `scikit-learn`."
   ]
  },
  {
   "cell_type": "code",
   "execution_count": 4,
   "metadata": {
    "pycharm": {
     "is_executing": false
    }
   },
   "outputs": [
    {
     "data": {
      "text/plain": [
       "'0.2.2'"
      ]
     },
     "execution_count": 4,
     "metadata": {},
     "output_type": "execute_result"
    }
   ],
   "source": [
    "import sys\n",
    "import numpy as np\n",
    "import pandas as pd\n",
    "sys.path.insert(0,\"../\")\n",
    "# our main import\n",
    "import turbopanda as turb\n",
    "\n",
    "import matplotlib.pyplot as plt\n",
    "%matplotlib inline\n",
    "\n",
    "print(turb.__version__)\n"
   ]
  },
  {
   "cell_type": "code",
   "execution_count": 23,
   "metadata": {
    "collapsed": false,
    "jupyter": {
     "outputs_hidden": false
    },
    "pycharm": {
     "is_executing": false,
     "name": "#%%\n"
    }
   },
   "outputs": [
    {
     "data": {
      "text/plain": [
       "MetaPanda(trl(n=5216, p=14, mem=1.169MB, options=[]))"
      ]
     },
     "execution_count": 23,
     "metadata": {},
     "output_type": "execute_result"
    }
   ],
   "source": [
    "g = turb.read(\"../data/translation.csv\", name=\"trl\")\n",
    "g"
   ]
  },
  {
   "cell_type": "markdown",
   "metadata": {},
   "source": [
    "## Determining the relationship between columns in a DataFrame\n",
    "\n",
    "In `pandas`, there exists a basic correlation function `corr()` which takes\n",
    " a method type among other things and returns a correlation matrix. I \n",
    " found this to be clunky and unreliable. Not only this, but it lacks options in terms of\n",
    " different types of correlation methods and different formats, for instance \n",
    " in the following cases:\n",
    "\n",
    "1. *Case one*: when two features are **not both** continuous.\n",
    "2. *Case two*: when features are not type-casted properly due to `pandas` poor \n",
    "handling of missing data.\n",
    "3. *Case three*: when desiring to compare *between* two datasets (say Matrix and Vector).\n",
    " `pandas` only provides intra-correlations between features in a *single dataframe*.\n",
    "\n",
    "***\n",
    "\n",
    "Note that matrices must be completely overlapping in order to correlate variables together. It doesn't\n",
    "make sense otherwise.\n",
    "\n",
    "| Use case | `pandas` response | `turbopanda` response |\n",
    "| --------------------- | ----------------- | --------------- |\n",
    "| One matrix $X$ | Correlates all using `method`<br>parameter (spearman, pearson)<br>returning Matrix | Correlates all using most<br>appropriate method (spearman,<br>pearson for continuous, biserial for boolean/cont)<br>returning list of interactions |\n",
    "| Two vectors $x$,$y$ of same shape | Does not handle | Correlates using appropriate method<br>returning single value |\n",
    "| One matrix $X$, one Vector $y$ | Does not handle | Correlates every column $X_i$ to vector $y$<br>using appropriate method returning<br>Vector $z$ |\n",
    "| Two matrices $X$,$Y$ of same shape | Does not handle | Correlates column $X_i$ with $Y_i$ using <br>most appropriate method returning<br>Vector $z$ |\n",
    "| Two matrices $X$,$Y$ of different shapes | Does not handle | Correlates every column $X_i$ with $Y_j$ using <br>most appropriate method returning<br>returning list of interactions |\n",
    " \n",
    "***\n",
    "\n",
    "In `turbopanda`, we have a dedicated `correlate()` function which handles missing,\n",
    " heterogenous datasets.\n",
    " \n",
    "Note that there must be NO columns of object type or any other non-numeric data type\n",
    "before calling:\n"
   ]
  },
  {
   "cell_type": "code",
   "execution_count": 26,
   "metadata": {
    "pycharm": {
     "is_executing": false
    }
   },
   "outputs": [
    {
     "name": "stdout",
     "output_type": "stream",
     "text": [
      "<class 'pandas.core.frame.DataFrame'>\n",
      "RangeIndex: 66 entries, 0 to 65\n",
      "Data columns (total 11 columns):\n",
      "method        66 non-null object\n",
      "CI95_lower    66 non-null float64\n",
      "CI95_upper    66 non-null float64\n",
      "adj_r2        66 non-null float64\n",
      "n             66 non-null int64\n",
      "p-val         66 non-null float64\n",
      "power         66 non-null float64\n",
      "r             66 non-null float64\n",
      "r2            66 non-null float64\n",
      "x             66 non-null object\n",
      "y             66 non-null object\n",
      "dtypes: float64(7), int64(1), object(3)\n",
      "memory usage: 5.8+ KB\n"
     ]
    }
   ],
   "source": [
    "corr = turb.correlate(g[float])\n",
    "corr.info()"
   ]
  },
  {
   "cell_type": "markdown",
   "metadata": {
    "pycharm": {
     "name": "#%% md\n"
    }
   },
   "source": [
    "What we see is a list of correlation experiments, given column $x$ and $y$, we get the method used,\n",
    "confidence intervals, $r$ and $r^2$, $n$, p-values and estimated power.\n",
    "\n",
    "This data..."
   ]
  }
 ],
 "metadata": {
  "kernelspec": {
   "display_name": "Python 3",
   "language": "python",
   "name": "python3"
  },
  "language_info": {
   "codemirror_mode": {
    "name": "ipython",
    "version": 3
   },
   "file_extension": ".py",
   "mimetype": "text/x-python",
   "name": "python",
   "nbconvert_exporter": "python",
   "pygments_lexer": "ipython3",
   "version": "3.7.5"
  },
  "pycharm": {
   "stem_cell": {
    "cell_type": "raw",
    "metadata": {
     "collapsed": false
    },
    "source": []
   }
  }
 },
 "nbformat": 4,
 "nbformat_minor": 4
}
