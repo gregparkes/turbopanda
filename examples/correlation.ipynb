{
 "cells": [
  {
   "cell_type": "markdown",
   "metadata": {},
   "source": [
    "# Correlation: Relationships between columns\n",
    "\n",
    "**TurboPanda** still has more to offer to allow seemless flowing of `pandas`-like operations, and indeed into `scikit-learn`."
   ]
  },
  {
   "cell_type": "code",
   "execution_count": 13,
   "metadata": {
    "pycharm": {
     "is_executing": false
    }
   },
   "outputs": [
    {
     "name": "stdout",
     "output_type": "stream",
     "text": [
      "0.2.4\n"
     ]
    }
   ],
   "source": [
    "import sys\n",
    "import numpy as np\n",
    "import pandas as pd\n",
    "sys.path.insert(0,\"../\")\n",
    "# our main import\n",
    "import turbopanda as turb\n",
    "\n",
    "import matplotlib.pyplot as plt\n",
    "%matplotlib inline\n",
    "\n",
    "print(turb.__version__)"
   ]
  },
  {
   "cell_type": "code",
   "execution_count": 14,
   "metadata": {
    "jupyter": {
     "outputs_hidden": false
    },
    "pycharm": {
     "is_executing": false,
     "name": "#%%\n"
    }
   },
   "outputs": [
    {
     "data": {
      "text/plain": [
       "MetaPanda(trl(n=5216, p=11, mem=0.918MB, options=[]))"
      ]
     },
     "execution_count": 14,
     "metadata": {},
     "output_type": "execute_result"
    }
   ],
   "source": [
    "g = turb.read(\"../data/translation.csv\", name=\"trl\")\n",
    "g"
   ]
  },
  {
   "cell_type": "code",
   "execution_count": 15,
   "metadata": {},
   "outputs": [
    {
     "data": {
      "text/plain": [
       "Index(['prot_IDs', 'prot_names', 'Gene_names', 'translation_G1_1',\n",
       "       'translation_G1_2', 'translation_G2M_1', 'translation_G2M_2',\n",
       "       'translation_MG1_1', 'translation_MG1_2', 'translation_S_1',\n",
       "       'translation_S_2'],\n",
       "      dtype='object', name='colnames')"
      ]
     },
     "execution_count": 15,
     "metadata": {},
     "output_type": "execute_result"
    }
   ],
   "source": [
    "g.columns"
   ]
  },
  {
   "cell_type": "markdown",
   "metadata": {},
   "source": [
    "## Determining the relationship between columns in a DataFrame\n",
    "\n",
    "In `pandas`, there exists a basic correlation function `corr()` which takes\n",
    " a method type among other things and returns a correlation matrix. I \n",
    " found this to be clunky and unreliable. Not only this, but it lacks options in terms of\n",
    " different types of correlation methods and different formats, for instance \n",
    " in the following cases:\n",
    "\n",
    "1. *Case one*: when two features are **not both** continuous.\n",
    "2. *Case two*: when features are not type-casted properly due to `pandas` poor \n",
    "handling of missing data.\n",
    "3. *Case three*: when desiring to compare *between* two datasets (say Matrix and Vector).\n",
    " `pandas` only provides intra-correlations between features in a *single dataframe*.\n",
    "\n",
    "***\n",
    "\n",
    "Note that matrices must be completely overlapping in order to correlate variables together. It doesn't\n",
    "make sense otherwise.\n",
    "\n",
    "| Use case | `pandas` response | `turbopanda` response |\n",
    "| --------------------- | ----------------- | --------------- |\n",
    "| One matrix $X$ | Correlates all using `method`<br>parameter (spearman, pearson)<br>returning Matrix | Correlates all using most<br>appropriate method (spearman,<br>pearson for continuous, biserial for boolean/cont)<br>returning list of interactions |\n",
    "| Two vectors $x$,$y$ of same shape | Does not handle | Correlates using appropriate method<br>returning single value |\n",
    "| One matrix $X$, one Vector $y$ | Does not handle | Correlates every column $X_i$ to vector $y$<br>using appropriate method returning<br>Vector $z$ |\n",
    "| Two matrices $X$,$Y$ of same shape | Does not handle | Correlates column $X_i$ with $Y_i$ using <br>most appropriate method returning<br>Vector $z$ |\n",
    "| Two matrices $X$,$Y$ of different shapes | Does not handle | Correlates every column $X_i$ with $Y_j$ using <br>most appropriate method returning<br>returning list of interactions |\n",
    " \n",
    "***\n",
    "\n",
    "In `turbopanda`, we have a dedicated `correlate()` function which handles missing,\n",
    " heterogenous datasets.\n",
    " \n",
    "Note that there must be NO columns of object type or any other non-numeric data type\n",
    "before calling:\n"
   ]
  },
  {
   "cell_type": "code",
   "execution_count": 16,
   "metadata": {
    "pycharm": {
     "is_executing": false
    }
   },
   "outputs": [
    {
     "name": "stdout",
     "output_type": "stream",
     "text": [
      "<class 'pandas.core.frame.DataFrame'>\n",
      "RangeIndex: 36 entries, 0 to 35\n",
      "Data columns (total 12 columns):\n",
      "method        36 non-null object\n",
      "CI95_lower    36 non-null float64\n",
      "CI95_upper    36 non-null float64\n",
      "adj_r2        36 non-null float64\n",
      "n             36 non-null int64\n",
      "outliers      0 non-null float64\n",
      "p-val         36 non-null float64\n",
      "power         36 non-null float64\n",
      "r             36 non-null float64\n",
      "r2            36 non-null float64\n",
      "x             36 non-null object\n",
      "y             36 non-null object\n",
      "dtypes: float64(8), int64(1), object(3)\n",
      "memory usage: 3.5+ KB\n"
     ]
    }
   ],
   "source": [
    "corr = turb.correlate(g[float])\n",
    "corr.info()"
   ]
  },
  {
   "cell_type": "code",
   "execution_count": 17,
   "metadata": {},
   "outputs": [
    {
     "data": {
      "text/html": [
       "<div>\n",
       "<style scoped>\n",
       "    .dataframe tbody tr th:only-of-type {\n",
       "        vertical-align: middle;\n",
       "    }\n",
       "\n",
       "    .dataframe tbody tr th {\n",
       "        vertical-align: top;\n",
       "    }\n",
       "\n",
       "    .dataframe thead th {\n",
       "        text-align: right;\n",
       "    }\n",
       "</style>\n",
       "<table border=\"1\" class=\"dataframe\">\n",
       "  <thead>\n",
       "    <tr style=\"text-align: right;\">\n",
       "      <th></th>\n",
       "      <th>method</th>\n",
       "      <th>CI95_lower</th>\n",
       "      <th>CI95_upper</th>\n",
       "      <th>adj_r2</th>\n",
       "      <th>n</th>\n",
       "      <th>outliers</th>\n",
       "      <th>p-val</th>\n",
       "      <th>power</th>\n",
       "      <th>r</th>\n",
       "      <th>r2</th>\n",
       "      <th>x</th>\n",
       "      <th>y</th>\n",
       "    </tr>\n",
       "  </thead>\n",
       "  <tbody>\n",
       "    <tr>\n",
       "      <th>0</th>\n",
       "      <td>spearman</td>\n",
       "      <td>1.00</td>\n",
       "      <td>1.00</td>\n",
       "      <td>1.000</td>\n",
       "      <td>4790</td>\n",
       "      <td>NaN</td>\n",
       "      <td>0.0</td>\n",
       "      <td>inf</td>\n",
       "      <td>1.000</td>\n",
       "      <td>1.000</td>\n",
       "      <td>translation_G1_1</td>\n",
       "      <td>translation_G1_1</td>\n",
       "    </tr>\n",
       "    <tr>\n",
       "      <th>1</th>\n",
       "      <td>spearman</td>\n",
       "      <td>0.94</td>\n",
       "      <td>0.95</td>\n",
       "      <td>0.896</td>\n",
       "      <td>4635</td>\n",
       "      <td>NaN</td>\n",
       "      <td>0.0</td>\n",
       "      <td>1.0</td>\n",
       "      <td>0.947</td>\n",
       "      <td>0.896</td>\n",
       "      <td>translation_G1_1</td>\n",
       "      <td>translation_G1_2</td>\n",
       "    </tr>\n",
       "    <tr>\n",
       "      <th>2</th>\n",
       "      <td>spearman</td>\n",
       "      <td>0.92</td>\n",
       "      <td>0.93</td>\n",
       "      <td>0.854</td>\n",
       "      <td>4543</td>\n",
       "      <td>NaN</td>\n",
       "      <td>0.0</td>\n",
       "      <td>1.0</td>\n",
       "      <td>0.924</td>\n",
       "      <td>0.854</td>\n",
       "      <td>translation_G1_1</td>\n",
       "      <td>translation_G2M_1</td>\n",
       "    </tr>\n",
       "    <tr>\n",
       "      <th>3</th>\n",
       "      <td>spearman</td>\n",
       "      <td>0.91</td>\n",
       "      <td>0.92</td>\n",
       "      <td>0.845</td>\n",
       "      <td>4562</td>\n",
       "      <td>NaN</td>\n",
       "      <td>0.0</td>\n",
       "      <td>1.0</td>\n",
       "      <td>0.919</td>\n",
       "      <td>0.845</td>\n",
       "      <td>translation_G1_1</td>\n",
       "      <td>translation_G2M_2</td>\n",
       "    </tr>\n",
       "    <tr>\n",
       "      <th>4</th>\n",
       "      <td>spearman</td>\n",
       "      <td>0.93</td>\n",
       "      <td>0.94</td>\n",
       "      <td>0.875</td>\n",
       "      <td>4621</td>\n",
       "      <td>NaN</td>\n",
       "      <td>0.0</td>\n",
       "      <td>1.0</td>\n",
       "      <td>0.936</td>\n",
       "      <td>0.875</td>\n",
       "      <td>translation_G1_1</td>\n",
       "      <td>translation_MG1_1</td>\n",
       "    </tr>\n",
       "  </tbody>\n",
       "</table>\n",
       "</div>"
      ],
      "text/plain": [
       "     method  CI95_lower  CI95_upper  adj_r2     n  outliers  p-val  power  \\\n",
       "0  spearman        1.00        1.00   1.000  4790       NaN    0.0    inf   \n",
       "1  spearman        0.94        0.95   0.896  4635       NaN    0.0    1.0   \n",
       "2  spearman        0.92        0.93   0.854  4543       NaN    0.0    1.0   \n",
       "3  spearman        0.91        0.92   0.845  4562       NaN    0.0    1.0   \n",
       "4  spearman        0.93        0.94   0.875  4621       NaN    0.0    1.0   \n",
       "\n",
       "       r     r2                 x                  y  \n",
       "0  1.000  1.000  translation_G1_1   translation_G1_1  \n",
       "1  0.947  0.896  translation_G1_1   translation_G1_2  \n",
       "2  0.924  0.854  translation_G1_1  translation_G2M_1  \n",
       "3  0.919  0.845  translation_G1_1  translation_G2M_2  \n",
       "4  0.936  0.875  translation_G1_1  translation_MG1_1  "
      ]
     },
     "execution_count": 17,
     "metadata": {},
     "output_type": "execute_result"
    }
   ],
   "source": [
    "corr.head()"
   ]
  },
  {
   "cell_type": "markdown",
   "metadata": {
    "pycharm": {
     "name": "#%% md\n"
    }
   },
   "source": [
    "What we see is a list of correlation experiments, given column $x$ and $y$, we get the method used,\n",
    "confidence intervals, $r$ and $r^2$, $n$, p-values and estimated power.\n",
    "\n",
    "## Obtaining a correlation matrix\n",
    "\n",
    "From these sets of rows, it is common to want to convert this into matrix-form using either $r$, $r^2$, or some other parameter."
   ]
  },
  {
   "cell_type": "code",
   "execution_count": 24,
   "metadata": {},
   "outputs": [],
   "source": [
    "M = turb.corr.row_to_matrix(corr)"
   ]
  },
  {
   "cell_type": "code",
   "execution_count": 25,
   "metadata": {},
   "outputs": [
    {
     "data": {
      "image/png": "[encoded data removed]",
      "text/plain": [
       "<Figure size 432x288 with 2 Axes>"
      ]
     },
     "metadata": {
      "needs_background": "light"
     },
     "output_type": "display_data"
    }
   ],
   "source": [
    "plt.pcolormesh(M, cmap=\"seismic\")\n",
    "plt.colorbar()\n",
    "plt.show()"
   ]
  },
  {
   "cell_type": "code",
   "execution_count": null,
   "metadata": {},
   "outputs": [],
   "source": []
  }
 ],
 "metadata": {
  "kernelspec": {
   "display_name": "Python 3",
   "language": "python",
   "name": "python3"
  },
  "language_info": {
   "codemirror_mode": {
    "name": "ipython",
    "version": 3
   },
   "file_extension": ".py",
   "mimetype": "text/x-python",
   "name": "python",
   "nbconvert_exporter": "python",
   "pygments_lexer": "ipython3",
   "version": "3.7.6"
  },
  "pycharm": {
   "stem_cell": {
    "cell_type": "raw",
    "metadata": {
     "collapsed": false
    },
    "source": []
   }
  }
 },
 "nbformat": 4,
 "nbformat_minor": 4
}
