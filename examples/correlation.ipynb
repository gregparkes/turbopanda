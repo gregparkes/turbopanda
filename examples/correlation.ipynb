{
 "cells": [
  {
   "cell_type": "markdown",
   "metadata": {},
   "source": [
    "# Correlation: Relationships between columns\n",
    "\n",
    "**TurboPanda** still has more to offer to allow seemless flowing of `pandas`-like operations, and indeed into `scikit-learn`."
   ]
  },
  {
   "cell_type": "code",
   "execution_count": 8,
   "metadata": {},
   "outputs": [
    {
     "name": "stdout",
     "output_type": "stream",
     "text": [
      "0.2.8\n"
     ]
    }
   ],
   "source": [
    "import sys\n",
    "import numpy as np\n",
    "import pandas as pd\n",
    "sys.path.insert(0,\"../\")\n",
    "# our main import\n",
    "import turbopanda as turb\n",
    "\n",
    "import matplotlib.pyplot as plt\n",
    "%matplotlib inline\n",
    "\n",
    "print(turb.__version__)"
   ]
  },
  {
   "cell_type": "code",
   "execution_count": 9,
   "metadata": {
    "jupyter": {
     "outputs_hidden": false
    },
    "pycharm": {
     "name": "#%%\n"
    }
   },
   "outputs": [
    {
     "data": {
      "text/plain": [
       "MetaPanda(rna(n=100, p=117, mem=0.187MB, options=[]))"
      ]
     },
     "execution_count": 9,
     "metadata": {},
     "output_type": "execute_result"
    }
   ],
   "source": [
    "g = turb.read(\"../data/rna.csv\", name=\"rna\")\n",
    "g"
   ]
  },
  {
   "cell_type": "code",
   "execution_count": 10,
   "metadata": {},
   "outputs": [
    {
     "data": {
      "text/plain": [
       "Index(['counter', 'refseq_id', 'G_mrna', 'A_mrna', 'C_mrna', 'T_mrna',\n",
       "       'length_mrna', 'GC_content_mrna', 'length_cds', 'length_prop_cds',\n",
       "       ...\n",
       "       'ncRNA_fc', 'precursor_RNA_bs', 'misc_feature_fc', 'sig_peptide_fc',\n",
       "       'STS_fc', 'regulatory_fc', 'mat_peptide_fc', 'exon_fc', 'proprotein_bs',\n",
       "       'transit_peptide_fc'],\n",
       "      dtype='object', name='colnames', length=117)"
      ]
     },
     "execution_count": 10,
     "metadata": {},
     "output_type": "execute_result"
    }
   ],
   "source": [
    "g.columns"
   ]
  },
  {
   "cell_type": "markdown",
   "metadata": {},
   "source": [
    "## Determining the relationship between columns in a DataFrame\n",
    "\n",
    "In `pandas`, there exists a basic correlation function `corr()` which takes\n",
    " a method type among other things and returns a correlation matrix. I \n",
    " found this to be clunky and unreliable. Not only this, but it lacks options in terms of\n",
    " different types of correlation methods and different formats, for instance \n",
    " in the following cases:\n",
    "\n",
    "1. *Case one*: when two features are **not both** continuous.\n",
    "2. *Case two*: when features are not type-casted properly due to `pandas` poor \n",
    "handling of missing data.\n",
    "3. *Case three*: when desiring to compare *between* two datasets (say Matrix and Vector).\n",
    " `pandas` only provides intra-correlations between features in a *single dataframe*.\n",
    "\n",
    "***\n",
    "\n",
    "Note that matrices must be completely overlapping in order to correlate variables together. It doesn't\n",
    "make sense otherwise.\n",
    "\n",
    "| Use case | `pandas` response | `turbopanda` response |\n",
    "| --------------------- | ----------------- | --------------- |\n",
    "| One matrix $X$ | Correlates all using `method`<br>parameter (spearman, pearson)<br>returning Matrix | Correlates all using most<br>appropriate method (spearman,<br>pearson for continuous, biserial for boolean/cont)<br>returning list of interactions |\n",
    "| Two vectors $x$,$y$ of same shape | Does not handle | Correlates using appropriate method<br>returning single value |\n",
    "| One matrix $X$, one Vector $y$ | Does not handle | Correlates every column $X_i$ to vector $y$<br>using appropriate method returning<br>Vector $z$ |\n",
    "| Two matrices $X$,$Y$ of same shape | Does not handle | Correlates column $X_i$ with $Y_i$ using <br>most appropriate method returning<br>Vector $z$ |\n",
    "| Two matrices $X$,$Y$ of different shapes | Does not handle | Correlates every column $X_i$ with $Y_j$ using <br>most appropriate method returning<br>returning list of interactions |\n",
    " \n",
    "***\n",
    "\n",
    "In `turbopanda`, we have a dedicated `correlate()` function which handles missing,\n",
    " heterogenous datasets.\n",
    " \n",
    "Note that there must be NO columns of object type or any other non-numeric data type\n",
    "before calling:\n"
   ]
  },
  {
   "cell_type": "code",
   "execution_count": 11,
   "metadata": {},
   "outputs": [
    {
     "name": "stdout",
     "output_type": "stream",
     "text": [
      "<class 'pandas.core.frame.DataFrame'>\n",
      "RangeIndex: 136 entries, 0 to 135\n",
      "Data columns (total 12 columns):\n",
      " #   Column      Non-Null Count  Dtype  \n",
      "---  ------      --------------  -----  \n",
      " 0   x           136 non-null    object \n",
      " 1   y           136 non-null    object \n",
      " 2   n           136 non-null    int64  \n",
      " 3   method      136 non-null    object \n",
      " 4   r           136 non-null    float64\n",
      " 5   r2          136 non-null    float64\n",
      " 6   adj_r2      136 non-null    float64\n",
      " 7   CI95_lower  136 non-null    float64\n",
      " 8   CI95_upper  136 non-null    float64\n",
      " 9   p_val       136 non-null    float64\n",
      " 10  power       136 non-null    float64\n",
      " 11  outliers    0 non-null      float64\n",
      "dtypes: float64(8), int64(1), object(3)\n",
      "memory usage: 12.9+ KB\n"
     ]
    }
   ],
   "source": [
    "corr = turb.correlate(g[float])\n",
    "corr.info()"
   ]
  },
  {
   "cell_type": "code",
   "execution_count": 12,
   "metadata": {},
   "outputs": [
    {
     "data": {
      "text/html": [
       "<div>\n",
       "<style scoped>\n",
       "    .dataframe tbody tr th:only-of-type {\n",
       "        vertical-align: middle;\n",
       "    }\n",
       "\n",
       "    .dataframe tbody tr th {\n",
       "        vertical-align: top;\n",
       "    }\n",
       "\n",
       "    .dataframe thead th {\n",
       "        text-align: right;\n",
       "    }\n",
       "</style>\n",
       "<table border=\"1\" class=\"dataframe\">\n",
       "  <thead>\n",
       "    <tr style=\"text-align: right;\">\n",
       "      <th></th>\n",
       "      <th>x</th>\n",
       "      <th>y</th>\n",
       "      <th>n</th>\n",
       "      <th>method</th>\n",
       "      <th>r</th>\n",
       "      <th>r2</th>\n",
       "      <th>adj_r2</th>\n",
       "      <th>CI95_lower</th>\n",
       "      <th>CI95_upper</th>\n",
       "      <th>p_val</th>\n",
       "      <th>power</th>\n",
       "      <th>outliers</th>\n",
       "    </tr>\n",
       "  </thead>\n",
       "  <tbody>\n",
       "    <tr>\n",
       "      <th>0</th>\n",
       "      <td>GC_content_mrna</td>\n",
       "      <td>GC_content_mrna</td>\n",
       "      <td>100</td>\n",
       "      <td>spearman</td>\n",
       "      <td>1.000</td>\n",
       "      <td>1.000</td>\n",
       "      <td>1.000</td>\n",
       "      <td>1.00</td>\n",
       "      <td>1.00</td>\n",
       "      <td>0.000000</td>\n",
       "      <td>1.000</td>\n",
       "      <td>NaN</td>\n",
       "    </tr>\n",
       "    <tr>\n",
       "      <th>1</th>\n",
       "      <td>GC_content_mrna</td>\n",
       "      <td>length_prop_cds</td>\n",
       "      <td>100</td>\n",
       "      <td>spearman</td>\n",
       "      <td>0.271</td>\n",
       "      <td>0.073</td>\n",
       "      <td>0.054</td>\n",
       "      <td>0.08</td>\n",
       "      <td>0.44</td>\n",
       "      <td>0.006481</td>\n",
       "      <td>0.784</td>\n",
       "      <td>NaN</td>\n",
       "    </tr>\n",
       "    <tr>\n",
       "      <th>2</th>\n",
       "      <td>GC_content_mrna</td>\n",
       "      <td>length_prop_utr5</td>\n",
       "      <td>100</td>\n",
       "      <td>spearman</td>\n",
       "      <td>0.093</td>\n",
       "      <td>0.009</td>\n",
       "      <td>-0.012</td>\n",
       "      <td>-0.11</td>\n",
       "      <td>0.28</td>\n",
       "      <td>0.357553</td>\n",
       "      <td>0.152</td>\n",
       "      <td>NaN</td>\n",
       "    </tr>\n",
       "    <tr>\n",
       "      <th>3</th>\n",
       "      <td>GC_content_mrna</td>\n",
       "      <td>MFE</td>\n",
       "      <td>100</td>\n",
       "      <td>spearman</td>\n",
       "      <td>0.085</td>\n",
       "      <td>0.007</td>\n",
       "      <td>-0.013</td>\n",
       "      <td>-0.11</td>\n",
       "      <td>0.28</td>\n",
       "      <td>0.402649</td>\n",
       "      <td>0.134</td>\n",
       "      <td>NaN</td>\n",
       "    </tr>\n",
       "    <tr>\n",
       "      <th>4</th>\n",
       "      <td>GC_content_mrna</td>\n",
       "      <td>MFE_win10</td>\n",
       "      <td>100</td>\n",
       "      <td>spearman</td>\n",
       "      <td>-0.224</td>\n",
       "      <td>0.050</td>\n",
       "      <td>0.031</td>\n",
       "      <td>-0.40</td>\n",
       "      <td>-0.03</td>\n",
       "      <td>0.025008</td>\n",
       "      <td>0.616</td>\n",
       "      <td>NaN</td>\n",
       "    </tr>\n",
       "  </tbody>\n",
       "</table>\n",
       "</div>"
      ],
      "text/plain": [
       "                 x                 y    n    method      r     r2  adj_r2  \\\n",
       "0  GC_content_mrna   GC_content_mrna  100  spearman  1.000  1.000   1.000   \n",
       "1  GC_content_mrna   length_prop_cds  100  spearman  0.271  0.073   0.054   \n",
       "2  GC_content_mrna  length_prop_utr5  100  spearman  0.093  0.009  -0.012   \n",
       "3  GC_content_mrna               MFE  100  spearman  0.085  0.007  -0.013   \n",
       "4  GC_content_mrna         MFE_win10  100  spearman -0.224  0.050   0.031   \n",
       "\n",
       "   CI95_lower  CI95_upper     p_val  power  outliers  \n",
       "0        1.00        1.00  0.000000  1.000       NaN  \n",
       "1        0.08        0.44  0.006481  0.784       NaN  \n",
       "2       -0.11        0.28  0.357553  0.152       NaN  \n",
       "3       -0.11        0.28  0.402649  0.134       NaN  \n",
       "4       -0.40       -0.03  0.025008  0.616       NaN  "
      ]
     },
     "execution_count": 12,
     "metadata": {},
     "output_type": "execute_result"
    }
   ],
   "source": [
    "corr.head()"
   ]
  },
  {
   "cell_type": "markdown",
   "metadata": {
    "pycharm": {
     "name": "#%% md\n"
    }
   },
   "source": [
    "What we see is a list of correlation experiments, given column $x$ and $y$, we get the method used,\n",
    "confidence intervals, $r$ and $r^2$, $n$, p-values and estimated power.\n",
    "\n",
    "## Obtaining a correlation matrix\n",
    "\n",
    "From these sets of rows, it is common to want to convert this into matrix-form using either $r$, $r^2$, or some other parameter."
   ]
  },
  {
   "cell_type": "code",
   "execution_count": 13,
   "metadata": {},
   "outputs": [],
   "source": [
    "M = turb.corr.row_to_matrix(corr)"
   ]
  },
  {
   "cell_type": "code",
   "execution_count": 14,
   "metadata": {},
   "outputs": [
    {
     "data": {
      "image/png": "[encoded data removed]",
      "text/plain": [
       "<Figure size 432x288 with 2 Axes>"
      ]
     },
     "metadata": {
      "needs_background": "light"
     },
     "output_type": "display_data"
    }
   ],
   "source": [
    "plt.pcolormesh(M, cmap=\"seismic\")\n",
    "plt.colorbar()\n",
    "plt.show()"
   ]
  },
  {
   "cell_type": "markdown",
   "metadata": {
    "pycharm": {
     "name": "#%% md\n"
    }
   },
   "source": [
    "## Calculating a simple bi-correlation\n",
    "\n",
    "We also can handle simple use cases of bi-correlation between two vectors, which\n",
    "determines automatically which correlation method is the most appropriate to use, if requested.\n",
    "\n",
    "To achieve this, we implement the `bicorr` method, where in this case as both columns are integers,\n",
    "we use Spearman-rank correlation:"
   ]
  },
  {
   "cell_type": "code",
   "execution_count": 17,
   "metadata": {
    "pycharm": {
     "name": "#%%\n"
    }
   },
   "outputs": [
    {
     "data": {
      "text/plain": [
       "0.501"
      ]
     },
     "execution_count": 17,
     "metadata": {},
     "output_type": "execute_result"
    }
   ],
   "source": [
    "turb.corr.bicorr(g['length_mrna'], g['length_cds'])"
   ]
  },
  {
   "cell_type": "markdown",
   "metadata": {
    "pycharm": {
     "name": "#%% md\n"
    }
   },
   "source": [
    "We can also return a fuller output if we so choose:"
   ]
  },
  {
   "cell_type": "code",
   "execution_count": 23,
   "metadata": {
    "pycharm": {
     "name": "#%%\n"
    }
   },
   "outputs": [
    {
     "data": {
      "text/plain": [
       "{'x': 'length_mrna',\n",
       " 'y': 'length_cds',\n",
       " 'n': 100,\n",
       " 'method': 'spearman',\n",
       " 'r': 0.501,\n",
       " 'r2': 0.251,\n",
       " 'adj_r2': 0.235,\n",
       " 'CI95_lower': 0.34,\n",
       " 'CI95_upper': 0.63,\n",
       " 'p_val': 1.1150527602741492e-07,\n",
       " 'power': 1.0,\n",
       " 'outliers': nan}"
      ]
     },
     "execution_count": 23,
     "metadata": {},
     "output_type": "execute_result"
    }
   ],
   "source": [
    "turb.corr.bicorr(g['length_mrna'], g['length_cds'], output='full')"
   ]
  },
  {
   "cell_type": "markdown",
   "metadata": {
    "pycharm": {
     "name": "#%% md\n"
    }
   },
   "source": [
    "### Controlling for other factors: Partial correlation\n",
    "\n",
    "We can control for a vector or matrix of confounding factors using `partial_bicorr`\n",
    "which we pass the full matrix, with string names of `x`, `y` and `covar` which represents\n",
    "a string or list of str names as confounding factors. Note that in this example all variables must be\n",
    "continuous as under-the-hood a linear model is developed for both x and y, and key assumptions\n",
    "are broken regarding the residuals if this is not the case."
   ]
  },
  {
   "cell_type": "code",
   "execution_count": 22,
   "metadata": {
    "pycharm": {
     "name": "#%%\n"
    }
   },
   "outputs": [
    {
     "name": "stdout",
     "output_type": "stream",
     "text": [
      "Normal corr: 0.164, Partial corr: 0.115\n"
     ]
    }
   ],
   "source": [
    "print(\"Normal corr: %.3f, Partial corr: %.3f\" % (\n",
    "    turb.corr.bicorr(g['RCBS'], g['CAI']),\n",
    "    turb.corr.partial_bicorr(g.df_, \"RCBS\", \"CAI\", \"length_prop_cds\")\n",
    "))\n",
    "# here we see controlling for proportion length, 5% of the correlation is removed."
   ]
  },
  {
   "cell_type": "markdown",
   "metadata": {
    "pycharm": {
     "name": "#%% md\n"
    }
   },
   "source": [
    "## Plotting the correlation matrix using Hinton\n",
    "\n",
    "As of version 0.2.8, the `hinton` method within plotting receives a Pandas DataFrame\n",
    "which is a symmetric correlation matrix, along with other parameters, and plots\n",
    "a more sophisticated hinton-esque heatmap. This is nice as it emphasises important correlations\n",
    "by square size as well as colour."
   ]
  },
  {
   "cell_type": "code",
   "execution_count": 16,
   "metadata": {
    "pycharm": {
     "name": "#%%\n"
    }
   },
   "outputs": [
    {
     "data": {
      "image/png": "[encoded data removed]",
      "text/plain": [
       "<Figure size 864x720 with 2 Axes>"
      ]
     },
     "metadata": {
      "needs_background": "light"
     },
     "output_type": "display_data"
    }
   ],
   "source": [
    "ax = turb.plot.hinton(M, pad=0.02)\n",
    "ax.tick_params(labelsize=15)"
   ]
  },
  {
   "cell_type": "markdown",
   "metadata": {
    "pycharm": {
     "name": "#%% md\n"
    }
   },
   "source": []
  }
 ],
 "metadata": {
  "kernelspec": {
   "display_name": "Python 3",
   "language": "python",
   "name": "python3"
  },
  "language_info": {
   "codemirror_mode": {
    "name": "ipython",
    "version": 3
   },
   "file_extension": ".py",
   "mimetype": "text/x-python",
   "name": "python",
   "nbconvert_exporter": "python",
   "pygments_lexer": "ipython3",
   "version": "3.8.8"
  }
 },
 "nbformat": 4,
 "nbformat_minor": 4
}
