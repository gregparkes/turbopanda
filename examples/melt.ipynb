{
 "cells": [
  {
   "cell_type": "markdown",
   "metadata": {},
   "source": [
    "# Upgrading `pandas.melt` with more functionality\n",
    "\n",
    "Turbopanda aims here to provide a more flexible version of the `melt` function to allow regex-selection of columns, automatic incorporation of index values, and so on."
   ]
  },
  {
   "cell_type": "code",
   "execution_count": 1,
   "metadata": {},
   "outputs": [
    {
     "name": "stdout",
     "output_type": "stream",
     "text": [
      "turbopanda: 0.2.7\n"
     ]
    }
   ],
   "source": [
    "import sys\n",
    "import numpy as np\n",
    "import pandas as pd\n",
    "sys.path.insert(0,\"../\")\n",
    "# our main import\n",
    "import turbopanda as turb\n",
    "\n",
    "import matplotlib.pyplot as plt\n",
    "%matplotlib inline\n",
    "\n",
    "print(\"turbopanda: %s\" % turb.__version__)"
   ]
  },
  {
   "cell_type": "markdown",
   "metadata": {},
   "source": [
    "## Use cases\n",
    "\n",
    "These are the following use cases between `pd.melt` and `turb.melt`:\n",
    "\n",
    "| Use case input | `pandas` response | `turbopanda` response |\n",
    "| --------------------- | ----------------- | --------------- |\n",
    "| DataFrame has no index, no id | Collapses all value columns | Collapses all value columns |\n",
    "| DataFrame has no index, has id | Keeps ID columns, collapses all other columns | Keeps ID columns, collapses all other columns |\n",
    "| DataFrame has index, no id | Collapses all value columns, drops index | Keeps index columns, collapses all value columns |\n",
    "| DataFrame has index, has id | Keeps ID, collapses all value columns, drops index | Keeps ID, collapses all value columns, keeps index |"
   ]
  },
  {
   "cell_type": "code",
   "execution_count": 3,
   "metadata": {},
   "outputs": [],
   "source": [
    "from turbopanda import melt"
   ]
  },
  {
   "cell_type": "markdown",
   "metadata": {},
   "source": [
    "## Example 1: DataFrame without ID"
   ]
  },
  {
   "cell_type": "code",
   "execution_count": 2,
   "metadata": {},
   "outputs": [],
   "source": []
  },
  {
   "cell_type": "code",
   "execution_count": null,
   "metadata": {},
   "outputs": [],
   "source": []
  }
 ],
 "metadata": {
  "kernelspec": {
   "display_name": "Python 3",
   "language": "python",
   "name": "python3"
  },
  "language_info": {
   "codemirror_mode": {
    "name": "ipython",
    "version": 3
   },
   "file_extension": ".py",
   "mimetype": "text/x-python",
   "name": "python",
   "nbconvert_exporter": "python",
   "pygments_lexer": "ipython3",
   "version": "3.7.5"
  }
 },
 "nbformat": 4,
 "nbformat_minor": 2
}
