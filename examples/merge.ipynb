{
 "cells": [
  {
   "cell_type": "markdown",
   "metadata": {},
   "source": [
    "# Merging datasets together\n",
    "\n",
    "Turbopanda has even more to offer when it provides robust and flexible column-wise merging of $k$ datasets together seemlessly on the best index."
   ]
  },
  {
   "cell_type": "code",
   "execution_count": 1,
   "metadata": {},
   "outputs": [
    {
     "name": "stdout",
     "output_type": "stream",
     "text": [
      "0.2.4\n"
     ]
    }
   ],
   "source": [
    "import sys\n",
    "import numpy as np\n",
    "import pandas as pd\n",
    "sys.path.insert(0,\"../\")\n",
    "# our main import\n",
    "import turbopanda as turb\n",
    "\n",
    "import matplotlib.pyplot as plt\n",
    "%matplotlib inline\n",
    "\n",
    "print(\"turbopanda: %s\" % turb.__version__)\n"
   ]
  },
  {
   "cell_type": "markdown",
   "metadata": {},
   "source": [
    "## Use cases\n",
    "\n",
    "These are the following use cases between `pd.merge` and `turb.merge`:\n",
    "\n",
    "| Use case input | `pandas` response | `turbopanda` response |\n",
    "| --------------------- | ----------------- | --------------- |\n",
    "| DataFrame $X$ with itself | Joins on label with suffixes (Must specify `on` label) | Concatenates the DataFrames together along the columns (using `pd.concat`) |\n",
    "\n",
    "## Example: Merging together RNA and protein\n",
    "\n",
    "Given that I work with biological datasets, you will see the majority of my examples use such."
   ]
  },
  {
   "cell_type": "code",
   "execution_count": 10,
   "metadata": {},
   "outputs": [
    {
     "name": "stdout",
     "output_type": "stream",
     "text": [
      "MetaPanda(hgnc(n=200, p=15, mem=0.046MB, options=[])) MetaPanda(rna(n=100, p=117, mem=0.060MB, options=[])) MetaPanda(prot(n=100, p=78, mem=0.035MB, options=[]))\n"
     ]
    }
   ],
   "source": [
    "hgnc = turb.read(\"../data/hgnc.csv\")\n",
    "rna = turb.read(\"../data/rna.csv\")\n",
    "prot = turb.read(\"../data/prot.csv\")\n",
    "print(hgnc, rna, prot)"
   ]
  },
  {
   "cell_type": "markdown",
   "metadata": {},
   "source": [
    "### Joining together loaded datasets..\n",
    "\n",
    "Here datasets are joined in a chain-like fashion, beginning with the first one. By default, only the intersection of terms is what is kept, and non-overlaps are dropped."
   ]
  },
  {
   "cell_type": "code",
   "execution_count": 8,
   "metadata": {},
   "outputs": [
    {
     "data": {
      "text/plain": [
       "MetaPanda(hgnc(n=200, p=15, mem=0.046MB, options=[]))"
      ]
     },
     "execution_count": 8,
     "metadata": {},
     "output_type": "execute_result"
    }
   ],
   "source": [
    "hgnc"
   ]
  },
  {
   "cell_type": "code",
   "execution_count": 6,
   "metadata": {},
   "outputs": [
    {
     "data": {
      "text/plain": [
       "MetaPanda(hgnc__rna__prot(n=100, p=207, mem=0.115MB, options=[]))"
      ]
     },
     "execution_count": 6,
     "metadata": {},
     "output_type": "execute_result"
    }
   ],
   "source": [
    "m1 = turb.merge([hgnc, rna, prot])\n",
    "m1"
   ]
  },
  {
   "cell_type": "markdown",
   "metadata": {},
   "source": [
    "Note in the above example that the indices on which the merge occurs are not required as arguments; this is automatically determined by the algorithm as to which two columns are the best in terms of overlapping. An error is raised if None of the columns overlap with each other.\n",
    "\n",
    "As we can see the three datasets are merged together, and the names have also been glued together, separated by `\"__\"`. The name can be overrided with a custom one if so desired:"
   ]
  },
  {
   "cell_type": "code",
   "execution_count": 12,
   "metadata": {},
   "outputs": [
    {
     "data": {
      "text/plain": [
       "MetaPanda(combined_DNA(n=100, p=207, mem=0.115MB, options=[]))"
      ]
     },
     "execution_count": 12,
     "metadata": {},
     "output_type": "execute_result"
    }
   ],
   "source": [
    "m2 = turb.merge([hgnc, rna, prot], name='combined_DNA')\n",
    "m2"
   ]
  },
  {
   "cell_type": "markdown",
   "metadata": {},
   "source": [
    "Further to this, we can modify *how* the datasets are joined, for example using `outer`:"
   ]
  },
  {
   "cell_type": "code",
   "execution_count": 14,
   "metadata": {
    "scrolled": true
   },
   "outputs": [
    {
     "data": {
      "text/plain": [
       "MetaPanda(combined_DNA(n=200, p=207, mem=0.660MB, options=[]))"
      ]
     },
     "execution_count": 14,
     "metadata": {},
     "output_type": "execute_result"
    }
   ],
   "source": [
    "m3 = turb.merge([hgnc, rna, prot], name='combined_DNA', how='outer')\n",
    "m3"
   ]
  },
  {
   "cell_type": "markdown",
   "metadata": {},
   "source": [
    "In this case, where there aren't overlaps, those rows are kept.\n",
    "\n",
    "## Load and merge\n",
    "\n",
    "Often we have situations where we'd like to import a file and merge it straight away into a dataset we like. In this case, we merely give the direction to the file by passing a `str` or list of strings as an argument to `merge` rather than the loaded object."
   ]
  },
  {
   "cell_type": "code",
   "execution_count": 17,
   "metadata": {},
   "outputs": [
    {
     "data": {
      "text/plain": [
       "MetaPanda(hgnc__rna__prot(n=100, p=207, mem=0.115MB, options=[]))"
      ]
     },
     "execution_count": 17,
     "metadata": {},
     "output_type": "execute_result"
    }
   ],
   "source": [
    "m4 = turb.merge([\"../data/hgnc.csv\", \"../data/rna.csv\", \"../data/prot.csv\"])\n",
    "m4"
   ]
  },
  {
   "cell_type": "markdown",
   "metadata": {},
   "source": [
    "In addition, this method draws on `turb.read` and as such has glob-like compliance, such that similarly-named files can be imported in alphabetical order and merged automatically with one string input."
   ]
  },
  {
   "cell_type": "code",
   "execution_count": null,
   "metadata": {},
   "outputs": [],
   "source": []
  }
 ],
 "metadata": {
  "kernelspec": {
   "display_name": "Python 3",
   "language": "python",
   "name": "python3"
  },
  "language_info": {
   "codemirror_mode": {
    "name": "ipython",
    "version": 3
   },
   "file_extension": ".py",
   "mimetype": "text/x-python",
   "name": "python",
   "nbconvert_exporter": "python",
   "pygments_lexer": "ipython3",
   "version": "3.7.6"
  },
  "pycharm": {
   "stem_cell": {
    "cell_type": "raw",
    "source": [],
    "metadata": {
     "collapsed": false
    }
   }
  }
 },
 "nbformat": 4,
 "nbformat_minor": 2
}