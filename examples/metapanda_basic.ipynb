{
 "cells": [
  {
   "cell_type": "markdown",
   "source": [
    "# Basics to the `MetaPanda` object\n",
    "\n",
    "Here we will introduce a basic example of how **TurboPanda** works and can be of benefit to you.\n",
    "\n",
    "### Requirements:\n",
    "\n",
    "- `numpy`\n",
    "- `pandas`\n",
    "- `scipy.stats`\n",
    "- `matplotlib.pyplot`\n",
    "- `jupyter`\n",
    "\n",
    "See `environment.yml` file for Python requirements."
   ],
   "metadata": {
    "collapsed": false
   }
  },
  {
   "cell_type": "code",
   "execution_count": 84,
   "outputs": [],
   "source": [
    "import sys\n",
    "import numpy as np\n",
    "import pandas as pd\n",
    "sys.path.insert(0,\"../\")\n",
    "# our main import\n",
    "import turbopanda as turb"
   ],
   "metadata": {
    "collapsed": false,
    "pycharm": {
     "name": "#%%\n",
     "is_executing": false
    }
   }
  },
  {
   "cell_type": "markdown",
   "source": [
    "### Version last run:"
   ],
   "metadata": {
    "collapsed": false
   }
  },
  {
   "cell_type": "code",
   "execution_count": 1,
   "outputs": [
    {
     "ename": "NameError",
     "evalue": "name 'turb' is not defined",
     "output_type": "error",
     "traceback": [
      "\u001B[1;31m---------------------------------------------------------------------------\u001B[0m",
      "\u001B[1;31mNameError\u001B[0m                                 Traceback (most recent call last)",
      "\u001B[1;32m<ipython-input-1-57601a85e125>\u001B[0m in \u001B[0;36m<module>\u001B[1;34m\u001B[0m\n\u001B[1;32m----> 1\u001B[1;33m \u001B[0mprint\u001B[0m\u001B[1;33m(\u001B[0m\u001B[1;34m\"turbopanda: %s\"\u001B[0m \u001B[1;33m%\u001B[0m \u001B[0mturb\u001B[0m\u001B[1;33m.\u001B[0m\u001B[0m__version__\u001B[0m\u001B[1;33m)\u001B[0m\u001B[1;33m\u001B[0m\u001B[1;33m\u001B[0m\u001B[0m\n\u001B[0m\u001B[0;32m      2\u001B[0m \u001B[1;33m\u001B[0m\u001B[0m\n",
      "\u001B[1;31mNameError\u001B[0m: name 'turb' is not defined"
     ]
    }
   ],
   "source": [
    "print(\"turbopanda: %s\" % turb.__version__)"
   ],
   "metadata": {
    "collapsed": false,
    "pycharm": {
     "name": "#%%\n"
    }
   }
  },
  {
   "cell_type": "markdown",
   "source": [
    "# The bedrock of `turbopanda`: The MetaPanda object.\n",
    "\n",
    "You can think of a `MetaPanda` as an object that sits on top of the raw dataset\n",
    " which is itself a `pandas.DataFrame` object, in addition to certain meta\n",
    "  information associated to the columns.\n",
    "\n",
    "<img src=\"../extras/readme.svg\" width =\"500\" height=500> </img>\n",
    "\n",
    "where `df_` is the raw dataset and `meta_` is a meta information accessor.\n",
    "\n",
    "## Creating a `MetaPanda` object\n",
    "\n",
    "A `pandas.DataFrame` must be passed to the MetaPanda constructor. "
   ],
   "metadata": {
    "collapsed": false
   }
  },
  {
   "cell_type": "code",
   "execution_count": 86,
   "outputs": [],
   "source": [
    "f1 = turb.MetaPanda(\n",
    "    pd.DataFrame({\n",
    "        \"a\": [1, 2, 3],\n",
    "        \"b\": ['Ha', 'Ho', 'He'],\n",
    "        \"c\": [True, False, True],\n",
    "        \"d\": np.random.rand(3),\n",
    "    })\n",
    ")"
   ],
   "metadata": {
    "collapsed": false,
    "pycharm": {
     "name": "#%%\n",
     "is_executing": false
    }
   }
  },
  {
   "cell_type": "markdown",
   "source": [
    "### Printed output\n",
    "\n",
    "We see the `name` of the MetaPanda, along with `n`: the number of rows, and `p`: the number of columns, memory usage, and some additional boolean flags denoted as `options`."
   ],
   "metadata": {
    "collapsed": false
   }
  },
  {
   "cell_type": "code",
   "execution_count": 87,
   "outputs": [
    {
     "data": {
      "text/plain": "MetaPanda(DataSet(n=3, p=4, mem=0.000MB, options=[]))"
     },
     "metadata": {},
     "output_type": "execute_result",
     "execution_count": 87
    }
   ],
   "source": [
    "f1"
   ],
   "metadata": {
    "collapsed": false,
    "pycharm": {
     "name": "#%%\n",
     "is_executing": false
    }
   }
  },
  {
   "cell_type": "markdown",
   "source": [
    "## Reading a `MetaPanda` object\n",
    "\n",
    "Additionally, the `__repr__` object represents the dataset in terms of dimensions and the memory usage. Future versions will aim to encapsulate multiple `pandas.DataFrames`.\n",
    "\n",
    "By default, if there isa **metadata** file also present, this will be read in.\n",
    "\n",
    "`MetaPanda` can be given a name to have, or alternatively it will just adopt the name of the file."
   ],
   "metadata": {
    "collapsed": false
   }
  },
  {
   "cell_type": "code",
   "execution_count": 88,
   "outputs": [
    {
     "data": {
      "text/plain": "MetaPanda(trl(n=5216, p=11, mem=0.918MB, options=[]))"
     },
     "metadata": {},
     "output_type": "execute_result",
     "execution_count": 88
    }
   ],
   "source": [
    "g = turb.read(\"../data/SDF.json\", name=\"trl\")\n",
    "g"
   ],
   "metadata": {
    "collapsed": false,
    "pycharm": {
     "name": "#%%\n",
     "is_executing": false
    }
   }
  },
  {
   "cell_type": "markdown",
   "source": [
    "By default data types are automatically tuned down to the smallest integer, if possible. Errors are ignored.\n",
    "\n",
    "Here are the arguments shown in the `__repr__` attribute:\n",
    "\n",
    "1. **MetaPanda**: this tells you it's a MetaPanda object\n",
    "2. *trl*: The name of the dataset\n",
    "3. $n$, $p$ and *mem*: the number of samples, dimensions and memory usage in megabtypes, respectively\n",
    "4. *options*: Additional information about variables stored internally\n",
    "\n",
    "## Viewing the Dataset\n",
    "\n",
    "**NOTE**: The column names `colnames` and `counter` are reserved for the column/index reference and this is maintained in `MetaPanda`.\n",
    "\n",
    "We can access the pandas object using the `df_` attribute:"
   ],
   "metadata": {
    "collapsed": false
   }
  },
  {
   "cell_type": "code",
   "execution_count": 90,
   "outputs": [
    {
     "data": {
      "text/plain": "colnames                              prot_IDs  \\\ncounter                                          \n0         Q96IC2;Q96IC2-2;H3BM72;H3BV93;H3BSC5   \n1                  H0YGH4;P01023;H0YGH6;F8W7L3   \n\ncolnames                       prot_names Gene_names  translation_G1_1  \\\ncounter                                                                  \n0         Putative RNA exonuclease NEF-sp     44M2.3          21.26058   \n1                   Alpha-2-macroglobulin        A2M          22.62015   \n\ncolnames  translation_G1_2  translation_G2M_1  translation_G2M_2  \\\ncounter                                                            \n0                 20.47467           21.01794           20.14569   \n1                 22.26825           24.94606           24.21645   \n\ncolnames  translation_MG1_1  translation_MG1_2  translation_S_1  \\\ncounter                                                           \n0                  21.11775           20.71892         20.58628   \n1                  23.56139           23.46051         22.87688   \n\ncolnames  translation_S_2  \ncounter                    \n0                20.27662  \n1                23.35703  ",
      "text/html": "<div>\n<style scoped>\n    .dataframe tbody tr th:only-of-type {\n        vertical-align: middle;\n    }\n\n    .dataframe tbody tr th {\n        vertical-align: top;\n    }\n\n    .dataframe thead th {\n        text-align: right;\n    }\n</style>\n<table border=\"1\" class=\"dataframe\">\n  <thead>\n    <tr style=\"text-align: right;\">\n      <th>colnames</th>\n      <th>prot_IDs</th>\n      <th>prot_names</th>\n      <th>Gene_names</th>\n      <th>translation_G1_1</th>\n      <th>translation_G1_2</th>\n      <th>translation_G2M_1</th>\n      <th>translation_G2M_2</th>\n      <th>translation_MG1_1</th>\n      <th>translation_MG1_2</th>\n      <th>translation_S_1</th>\n      <th>translation_S_2</th>\n    </tr>\n    <tr>\n      <th>counter</th>\n      <th></th>\n      <th></th>\n      <th></th>\n      <th></th>\n      <th></th>\n      <th></th>\n      <th></th>\n      <th></th>\n      <th></th>\n      <th></th>\n      <th></th>\n    </tr>\n  </thead>\n  <tbody>\n    <tr>\n      <th>0</th>\n      <td>Q96IC2;Q96IC2-2;H3BM72;H3BV93;H3BSC5</td>\n      <td>Putative RNA exonuclease NEF-sp</td>\n      <td>44M2.3</td>\n      <td>21.26058</td>\n      <td>20.47467</td>\n      <td>21.01794</td>\n      <td>20.14569</td>\n      <td>21.11775</td>\n      <td>20.71892</td>\n      <td>20.58628</td>\n      <td>20.27662</td>\n    </tr>\n    <tr>\n      <th>1</th>\n      <td>H0YGH4;P01023;H0YGH6;F8W7L3</td>\n      <td>Alpha-2-macroglobulin</td>\n      <td>A2M</td>\n      <td>22.62015</td>\n      <td>22.26825</td>\n      <td>24.94606</td>\n      <td>24.21645</td>\n      <td>23.56139</td>\n      <td>23.46051</td>\n      <td>22.87688</td>\n      <td>23.35703</td>\n    </tr>\n  </tbody>\n</table>\n</div>"
     },
     "metadata": {},
     "output_type": "execute_result",
     "execution_count": 90
    }
   ],
   "source": [
    "g.head(2)"
   ],
   "metadata": {
    "collapsed": false,
    "pycharm": {
     "name": "#%%\n",
     "is_executing": false
    }
   }
  },
  {
   "cell_type": "markdown",
   "source": [
    "### Some important modifications...\n",
    "\n",
    "`MetaPanda` does **not** accept MultiIndex for columns, this is primarily because many complex pandas operations\n",
    "do not work properly on multi-indexed datasets, and keeping track of all these states would make the project\n",
    "unviable. It will also do some nicety cleaning of your column names to remove spaces, \n",
    "tabs etc for your coding.\n",
    "\n",
    "Categorization is when the data columns are assigned to their correct type. \n",
    "We spend some time trying to find whether a column should be a `pd.Category` or\n",
    " `bool`, `int` or `float` for maximum efficiency.\n",
    "\n",
    "## Meta-information on the columns\n",
    "\n",
    "This can be accessed with the `meta_` attribute:"
   ],
   "metadata": {
    "collapsed": false
   }
  },
  {
   "cell_type": "code",
   "execution_count": 91,
   "outputs": [
    {
     "data": {
      "text/plain": "                 true_type  is_mixed_type  is_unique_id\nprot_IDs            object          False         False\nprot_names          object           True         False\nGene_names          object           True         False\ntranslation_G1_1   float64          False         False\ntranslation_G1_2   float64          False         False",
      "text/html": "<div>\n<style scoped>\n    .dataframe tbody tr th:only-of-type {\n        vertical-align: middle;\n    }\n\n    .dataframe tbody tr th {\n        vertical-align: top;\n    }\n\n    .dataframe thead th {\n        text-align: right;\n    }\n</style>\n<table border=\"1\" class=\"dataframe\">\n  <thead>\n    <tr style=\"text-align: right;\">\n      <th></th>\n      <th>true_type</th>\n      <th>is_mixed_type</th>\n      <th>is_unique_id</th>\n    </tr>\n  </thead>\n  <tbody>\n    <tr>\n      <th>prot_IDs</th>\n      <td>object</td>\n      <td>False</td>\n      <td>False</td>\n    </tr>\n    <tr>\n      <th>prot_names</th>\n      <td>object</td>\n      <td>True</td>\n      <td>False</td>\n    </tr>\n    <tr>\n      <th>Gene_names</th>\n      <td>object</td>\n      <td>True</td>\n      <td>False</td>\n    </tr>\n    <tr>\n      <th>translation_G1_1</th>\n      <td>float64</td>\n      <td>False</td>\n      <td>False</td>\n    </tr>\n    <tr>\n      <th>translation_G1_2</th>\n      <td>float64</td>\n      <td>False</td>\n      <td>False</td>\n    </tr>\n  </tbody>\n</table>\n</div>"
     },
     "metadata": {},
     "output_type": "execute_result",
     "execution_count": 91
    }
   ],
   "source": [
    "g.meta_.head()"
   ],
   "metadata": {
    "collapsed": false,
    "pycharm": {
     "name": "#%%\n",
     "is_executing": false
    }
   }
  },
  {
   "cell_type": "markdown",
   "source": [
    "## MetaPanda properties\n",
    "\n",
    "`MetaPanda` makes extensive use of `@property` attributes to give an interface\n",
    " to the object. Nearly all properties in TurboPanda end with an underscore\n",
    " (`_`). Note that some of these properties *can be modified*, if done so carefully,\n",
    "  whilst others are only for viewing and not modifiable.\n",
    "\n",
    "We have already covered the two most important properties:\n",
    "\n",
    "* `df_` : accessing the raw DataFrame\n",
    "* `meta_` : accessing meta-information of the dataset\n",
    "\n",
    "In addition to this, we have quick-and-easy ways of assessing the size of\n",
    " the dataset, in `n` (the number of rows, samples) and `p` (the number of columns,\n",
    " dimensions) following machine-learning nomenclature:"
   ],
   "metadata": {
    "collapsed": false
   }
  },
  {
   "cell_type": "code",
   "execution_count": 92,
   "outputs": [
    {
     "data": {
      "text/plain": "5216"
     },
     "metadata": {},
     "output_type": "execute_result",
     "execution_count": 92
    }
   ],
   "source": [
    "g.n"
   ],
   "metadata": {
    "collapsed": false,
    "pycharm": {
     "name": "#%%\n",
     "is_executing": false
    }
   }
  },
  {
   "cell_type": "code",
   "execution_count": null,
   "outputs": [],
   "source": [
    "g.p"
   ],
   "metadata": {
    "collapsed": false,
    "pycharm": {
     "name": "#%%\n"
    }
   }
  },
  {
   "cell_type": "markdown",
   "source": [
    "Other important properties (which we explore later) are the `selectors_` and `pipe_` attributes:\n",
    "\n",
    "NOTE: `pipe_` is deprecated and will be removed in v0.3."
   ],
   "metadata": {
    "collapsed": false
   }
  },
  {
   "cell_type": "code",
   "execution_count": 94,
   "outputs": [
    {
     "data": {
      "text/plain": "{}"
     },
     "metadata": {},
     "output_type": "execute_result",
     "execution_count": 94
    }
   ],
   "source": [
    "g.selectors_"
   ],
   "metadata": {
    "collapsed": false,
    "pycharm": {
     "name": "#%%\n",
     "is_executing": false
    }
   }
  },
  {
   "cell_type": "markdown",
   "source": [
    "## Renaming columns using rules\n",
    "\n",
    "Often we want to chain together a bunch of changes to our naming of columns that either increase brevity, or make the dataframe *pretty* in preparation for graphs.\n",
    "\n",
    "A `MetaPanda` object can chain together a series of *string replacements* to proactively apply to the column names to aid this process.\n",
    "\n",
    "* Note that from version 0.2.2 onwards renaming columns is used using `rename_axis` instead of `rename`.\n"
   ],
   "metadata": {
    "collapsed": false
   }
  },
  {
   "cell_type": "code",
   "execution_count": 96,
   "outputs": [
    {
     "data": {
      "text/plain": "MetaPanda(trl(n=5216, p=11, mem=0.918MB, options=[]))"
     },
     "metadata": {},
     "output_type": "execute_result",
     "execution_count": 96
    }
   ],
   "source": [
    "g.rename_axis([(\"Protein|protein\",\"prot\"),(\"Intensity\",\"translation\"),(\"Gene\",\"gene\"),\n",
    "          (\"IDs\",\"ids\")])"
   ],
   "metadata": {
    "collapsed": false,
    "pycharm": {
     "name": "#%%\n",
     "is_executing": false
    }
   }
  },
  {
   "cell_type": "code",
   "execution_count": 97,
   "outputs": [
    {
     "data": {
      "text/plain": "Index(['prot_ids', 'prot_names', 'gene_names', 'translation_G1_1',\n       'translation_G1_2', 'translation_G2M_1', 'translation_G2M_2',\n       'translation_MG1_1', 'translation_MG1_2', 'translation_S_1',\n       'translation_S_2'],\n      dtype='object', name='colnames')"
     },
     "metadata": {},
     "output_type": "execute_result",
     "execution_count": 97
    }
   ],
   "source": [
    "g.columns"
   ],
   "metadata": {
    "collapsed": false,
    "pycharm": {
     "name": "#%%\n",
     "is_executing": false
    }
   }
  },
  {
   "cell_type": "markdown",
   "source": [
    "Further to this, the renaming process can be further specified by using a selector to reduce the search space."
   ],
   "metadata": {
    "collapsed": false
   }
  },
  {
   "cell_type": "code",
   "execution_count": 98,
   "outputs": [
    {
     "data": {
      "text/plain": "MetaPanda(trl(n=5216, p=11, mem=0.918MB, options=[]))"
     },
     "metadata": {},
     "output_type": "execute_result",
     "execution_count": 98
    }
   ],
   "source": [
    "g.rename_axis([('prot_', 'prot')], selector=object)"
   ],
   "metadata": {
    "collapsed": false,
    "pycharm": {
     "name": "#%%\n",
     "is_executing": false
    }
   }
  },
  {
   "cell_type": "markdown",
   "source": [
    "## Caching selections using `cache`\n",
    "\n",
    "We may wish to save our 'selected columns' using the `cache` function, particularly if it is a complicated or long selection criterion.\n",
    "\n",
    "This also allows us to reference this cached selection using a *meaningful name* further down the line.\n",
    "\n",
    "**NOTE**: Selections are *not* pre-computed, the selection itself is cached and **executed at runtime**. This means that if you have different columns present further down the line, a *different result* will emerge."
   ],
   "metadata": {
    "collapsed": false
   }
  },
  {
   "cell_type": "code",
   "execution_count": 99,
   "outputs": [
    {
     "data": {
      "text/plain": "MetaPanda(trl(n=5216, p=11, mem=0.918MB, options=[S]))"
     },
     "metadata": {},
     "output_type": "execute_result",
     "execution_count": 99
    }
   ],
   "source": [
    "g.cache(\"ids\", object)"
   ],
   "metadata": {
    "collapsed": false,
    "pycharm": {
     "name": "#%%\n",
     "is_executing": false
    }
   }
  },
  {
   "cell_type": "markdown",
   "source": [
    "Our cached columns now sit in a hidden object called `self.selectors_`:"
   ],
   "metadata": {
    "collapsed": false
   }
  },
  {
   "cell_type": "code",
   "execution_count": 100,
   "outputs": [
    {
     "data": {
      "text/plain": "{'ids': ['object']}"
     },
     "metadata": {},
     "output_type": "execute_result",
     "execution_count": 100
    }
   ],
   "source": [
    "g.selectors_"
   ],
   "metadata": {
    "collapsed": false,
    "pycharm": {
     "name": "#%%\n",
     "is_executing": false
    }
   }
  },
  {
   "cell_type": "markdown",
   "source": [
    "They can now be summoned by using `view`, `view_not`, or any\n",
    " of the other inspection functions that use *selectors*:"
   ],
   "metadata": {
    "collapsed": false
   }
  },
  {
   "cell_type": "code",
   "execution_count": 101,
   "outputs": [
    {
     "data": {
      "text/plain": "Index(['protids', 'protnames', 'gene_names'], dtype='object', name='colnames')"
     },
     "metadata": {},
     "output_type": "execute_result",
     "execution_count": 101
    }
   ],
   "source": [
    "g.view(\"ids\")"
   ],
   "metadata": {
    "collapsed": false,
    "pycharm": {
     "name": "#%%\n",
     "is_executing": false
    }
   }
  },
  {
   "cell_type": "markdown",
   "source": [
    "### Multi-cache\n",
    "\n",
    "This is an extension to `cache`, where multiple things can be cached at once:"
   ],
   "metadata": {
    "collapsed": false
   }
  },
  {
   "cell_type": "code",
   "execution_count": 102,
   "outputs": [
    {
     "data": {
      "text/plain": "MetaPanda(trl(n=5216, p=11, mem=0.918MB, options=[S]))"
     },
     "metadata": {},
     "output_type": "execute_result",
     "execution_count": 102
    }
   ],
   "source": [
    "import numpy as np\n",
    "g.cache_k(hello=\"_s$\", hello2=np.square)"
   ],
   "metadata": {
    "collapsed": false,
    "pycharm": {
     "name": "#%%\n",
     "is_executing": false
    }
   }
  },
  {
   "cell_type": "code",
   "execution_count": 103,
   "outputs": [
    {
     "data": {
      "text/plain": "{'ids': ['object'], 'hello': ['_s$'], 'hello2': [<ufunc 'square'>]}"
     },
     "metadata": {},
     "output_type": "execute_result",
     "execution_count": 103
    }
   ],
   "source": [
    "g.selectors_"
   ],
   "metadata": {
    "collapsed": false,
    "pycharm": {
     "name": "#%%\n",
     "is_executing": false
    }
   }
  },
  {
   "cell_type": "markdown",
   "source": [
    "## Mapping meta-information to column groups\n",
    "\n",
    "One of the easiest ways is to **cache** the groups and then create a `meta_map` \n",
    "from the cached elements."
   ],
   "metadata": {
    "collapsed": false
   }
  },
  {
   "cell_type": "code",
   "execution_count": 104,
   "outputs": [
    {
     "data": {
      "text/plain": "MetaPanda(trl(n=5216, p=11, mem=0.918MB, options=[S]))"
     },
     "metadata": {},
     "output_type": "execute_result",
     "execution_count": 104
    }
   ],
   "source": [
    "g.cache_k(numerical_f=\"translation\", identifs=(\"ids?$\",\"_names$\"))"
   ],
   "metadata": {
    "collapsed": false,
    "pycharm": {
     "name": "#%%\n",
     "is_executing": false
    }
   }
  },
  {
   "cell_type": "markdown",
   "source": [
    "With `meta_map` we specify the name of the meta column, and then give selectors as to identify each subgroup. In this case we reference the name of the cached elements we are interested in, and use the dictionary name we specified to name it."
   ],
   "metadata": {
    "collapsed": false
   }
  },
  {
   "cell_type": "code",
   "execution_count": 105,
   "outputs": [
    {
     "data": {
      "text/plain": "MetaPanda(trl(n=5216, p=11, mem=0.918MB, options=[SM]))"
     },
     "metadata": {},
     "output_type": "execute_result",
     "execution_count": 105
    }
   ],
   "source": [
    "g.meta_map(\"feature_types\", [\"numerical_f\",\"identifs\"])"
   ],
   "metadata": {
    "collapsed": false,
    "pycharm": {
     "name": "#%%\n",
     "is_executing": false
    }
   }
  },
  {
   "cell_type": "markdown",
   "source": [
    "Note that duplicate column names **cannot** occur in different subgroups as we are trying to *uniquely* label each feature type."
   ],
   "metadata": {
    "collapsed": false
   }
  },
  {
   "cell_type": "code",
   "execution_count": 106,
   "outputs": [],
   "source": [
    "import pytest\n",
    "\n",
    "with pytest.raises(ValueError):\n",
    "    g.meta_map(\"identifiers\", [\"identifs\",\"identifs\"])"
   ],
   "metadata": {
    "collapsed": false,
    "pycharm": {
     "name": "#%%\n",
     "is_executing": false
    }
   }
  },
  {
   "cell_type": "markdown",
   "source": [
    "These columns now appear in `meta_`:"
   ],
   "metadata": {
    "collapsed": false
   }
  },
  {
   "cell_type": "code",
   "execution_count": 107,
   "outputs": [
    {
     "data": {
      "text/plain": "                 true_type  is_mixed_type  is_unique_id feature_types\nprotids             object          False         False      identifs\nprotnames           object           True         False           NaN\ngene_names          object           True         False      identifs\ntranslation_G1_1   float64          False         False   numerical_f\ntranslation_G1_2   float64          False         False   numerical_f",
      "text/html": "<div>\n<style scoped>\n    .dataframe tbody tr th:only-of-type {\n        vertical-align: middle;\n    }\n\n    .dataframe tbody tr th {\n        vertical-align: top;\n    }\n\n    .dataframe thead th {\n        text-align: right;\n    }\n</style>\n<table border=\"1\" class=\"dataframe\">\n  <thead>\n    <tr style=\"text-align: right;\">\n      <th></th>\n      <th>true_type</th>\n      <th>is_mixed_type</th>\n      <th>is_unique_id</th>\n      <th>feature_types</th>\n    </tr>\n  </thead>\n  <tbody>\n    <tr>\n      <th>protids</th>\n      <td>object</td>\n      <td>False</td>\n      <td>False</td>\n      <td>identifs</td>\n    </tr>\n    <tr>\n      <th>protnames</th>\n      <td>object</td>\n      <td>True</td>\n      <td>False</td>\n      <td>NaN</td>\n    </tr>\n    <tr>\n      <th>gene_names</th>\n      <td>object</td>\n      <td>True</td>\n      <td>False</td>\n      <td>identifs</td>\n    </tr>\n    <tr>\n      <th>translation_G1_1</th>\n      <td>float64</td>\n      <td>False</td>\n      <td>False</td>\n      <td>numerical_f</td>\n    </tr>\n    <tr>\n      <th>translation_G1_2</th>\n      <td>float64</td>\n      <td>False</td>\n      <td>False</td>\n      <td>numerical_f</td>\n    </tr>\n  </tbody>\n</table>\n</div>"
     },
     "metadata": {},
     "output_type": "execute_result",
     "execution_count": 107
    }
   ],
   "source": [
    "g.meta_.head()"
   ],
   "metadata": {
    "collapsed": false,
    "pycharm": {
     "name": "#%%\n",
     "is_executing": false
    }
   }
  },
  {
   "cell_type": "markdown",
   "source": [
    "## Applying transformations to selector data\n",
    "\n",
    "With these selector groups, we can apply a function to the columns of this data using `g.transform`.\n",
    "\n",
    "Transformations happen inplace and thus will change the underlying dataframe:"
   ],
   "metadata": {
    "collapsed": false
   }
  },
  {
   "cell_type": "code",
   "execution_count": 108,
   "outputs": [
    {
     "data": {
      "text/plain": "MetaPanda(trl(n=5216, p=11, mem=0.918MB, options=[SM]))"
     },
     "metadata": {},
     "output_type": "execute_result",
     "execution_count": 108
    }
   ],
   "source": [
    "g.transform(lambda x:x**2, \"numerical_f\")"
   ],
   "metadata": {
    "collapsed": false,
    "pycharm": {
     "name": "#%%\n",
     "is_executing": false
    }
   }
  },
  {
   "cell_type": "markdown",
   "source": [
    "Note that if the `selector` parameter is empty, it will attempt to transform *every column* in the dataset. `pandas.DataFrame.transform` is used, so aggregations are not permitted. "
   ],
   "metadata": {
    "collapsed": false
   }
  },
  {
   "cell_type": "code",
   "execution_count": 109,
   "outputs": [
    {
     "data": {
      "text/plain": "Index(['translation_G1_1', 'translation_G1_2', 'translation_G2M_1',\n       'translation_G2M_2', 'translation_MG1_1', 'translation_MG1_2',\n       'translation_S_1', 'translation_S_2'],\n      dtype='object', name='colnames')"
     },
     "metadata": {},
     "output_type": "execute_result",
     "execution_count": 109
    }
   ],
   "source": [
    "g.view(\"numerical_f\")"
   ],
   "metadata": {
    "collapsed": false,
    "pycharm": {
     "name": "#%%\n",
     "is_executing": false
    }
   }
  },
  {
   "cell_type": "markdown",
   "source": [
    "## Dropping columns through `del` or using the `drop` function\n",
    "\n",
    "Using the powerful selection methods for columns above, we can also remove or drop columns we aren't interested in:"
   ],
   "metadata": {
    "collapsed": false
   }
  },
  {
   "cell_type": "code",
   "execution_count": 110,
   "outputs": [
    {
     "data": {
      "text/plain": "MetaPanda(trl(n=5216, p=8, mem=0.668MB, options=[SM]))"
     },
     "metadata": {},
     "output_type": "execute_result",
     "execution_count": 110
    }
   ],
   "source": [
    "g.drop(object)"
   ],
   "metadata": {
    "collapsed": false,
    "pycharm": {
     "name": "#%%\n",
     "is_executing": false
    }
   }
  },
  {
   "cell_type": "markdown",
   "source": [
    "We could also select columns that we want to keep using the `keep` method."
   ],
   "metadata": {
    "collapsed": false
   }
  },
  {
   "cell_type": "markdown",
   "source": [
    "## Writing files\n",
    "\n",
    "We can write our `MetaPanda` object to file with or without the associated metadata.\n",
    "\n",
    "Note that from version 0.1.6, the default save type is `JSON`, as\n",
    " this allows us to store the metainformation *with* the raw dataset, plus any\n",
    "  selectors and pipes.\n",
    "  \n",
    "At the current patch, we can handle `csv`, `xls` and `json` files, with plans \n",
    "to extend to `hdf` formats also."
   ],
   "metadata": {
    "collapsed": false
   }
  },
  {
   "cell_type": "code",
   "execution_count": 111,
   "outputs": [],
   "source": [
    "# g.write(\"translation2.json\")"
   ],
   "metadata": {
    "collapsed": false,
    "pycharm": {
     "name": "#%%\n",
     "is_executing": false
    }
   }
  },
  {
   "cell_type": "markdown",
   "source": [
    "### But this leaves us with an interesting question...\n",
    "\n",
    "Can I 'rollback' changes I made to a dataframe, or follow step-by-step what's actually happening to it?\n",
    "\n",
    "This means we need to create something like a **task graph** as we go along and perform **meta-changes** to the DataFrame."
   ],
   "metadata": {
    "collapsed": false
   }
  }
 ],
 "metadata": {
  "kernelspec": {
   "name": "python3",
   "language": "python",
   "display_name": "Python 3"
  },
  "language_info": {
   "codemirror_mode": {
    "name": "ipython",
    "version": 3
   },
   "file_extension": ".py",
   "mimetype": "text/x-python",
   "name": "python",
   "nbconvert_exporter": "python",
   "pygments_lexer": "ipython3",
   "version": "3.7.5"
  }
 },
 "nbformat": 4,
 "nbformat_minor": 4
}