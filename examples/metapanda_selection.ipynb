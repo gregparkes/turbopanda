{
 "cells": [
  {
   "cell_type": "markdown",
   "metadata": {},
   "source": [
    "# Selecting Columns with `MetaPanda`"
   ]
  },
  {
   "cell_type": "code",
   "execution_count": 1,
   "metadata": {},
   "outputs": [
    {
     "name": "stdout",
     "output_type": "stream",
     "text": [
      "turbopanda version: 0.2.4\n"
     ]
    }
   ],
   "source": [
    "import sys\n",
    "import numpy as np\n",
    "import pandas as pd\n",
    "sys.path.insert(0,\"../\")\n",
    "# our main import\n",
    "import turbopanda as turb\n",
    "\n",
    "print(\"turbopanda version: %s\" % turb.__version__)"
   ]
  },
  {
   "cell_type": "markdown",
   "metadata": {},
   "source": [
    "## Importing some data"
   ]
  },
  {
   "cell_type": "code",
   "execution_count": 2,
   "metadata": {},
   "outputs": [
    {
     "data": {
      "text/plain": [
       "MetaPanda(trl(n=5216, p=11, mem=0.918MB, options=[]))"
      ]
     },
     "execution_count": 2,
     "metadata": {},
     "output_type": "execute_result"
    }
   ],
   "source": [
    "g = turb.read(\"../data/translation.csv\", name=\"trl\")\n",
    "g"
   ]
  },
  {
   "cell_type": "markdown",
   "metadata": {},
   "source": [
    "## Selectors\n",
    "\n",
    "Unlike traditional `pandas` which is incredibly difficult to access subsets of a DataFrame with ease, we allow the use of `regex` **and** typing (such as `float`) to specify subgroups that contain that capture pattern or data type.\n",
    "\n",
    "**NOTE**: Using the `__getitem__` attribute of `MetaPanda` **does not alter the underlying `DataFrame`**! The same super-object remains, allowing you to very quickly view dataframe subsets using a selection method of your choice.\n",
    "\n",
    "The **order of selection** if:\n",
    "\n",
    "1. selection is `None`: return \\[\\]\n",
    "2. selection is of type `pandas.Index`: return those columns\n",
    "3. selection is an accepted `dtype`: return columns of that dtype\n",
    "4. selection is callable (i.e function): return columns associated with boolean series\n",
    "5. selection is of type `str`:\n",
    "    1. selection is found as `meta_` column and column is of type `bool`\n",
    "    2. selection is found in `selectors_`\n",
    "    3. not in `df` column names: use regular expressions (regex)\n",
    "    4. otherwise selector is column name: return single `Series`\n",
    "\n",
    "## Viewing\n",
    "\n",
    "An ability to access the column names you wish to view is an advantage as a pre-stage to selecting the full columns you want.\n",
    "\n",
    "This is achieved using the `view` command;"
   ]
  },
  {
   "cell_type": "code",
   "execution_count": 3,
   "metadata": {},
   "outputs": [
    {
     "data": {
      "text/plain": [
       "Index(['translation_G1_1', 'translation_G1_2', 'translation_G2M_1',\n",
       "       'translation_G2M_2', 'translation_MG1_1', 'translation_MG1_2',\n",
       "       'translation_S_1', 'translation_S_2'],\n",
       "      dtype='object', name='colnames')"
      ]
     },
     "execution_count": 3,
     "metadata": {},
     "output_type": "execute_result"
    }
   ],
   "source": [
    "g.view(\"float\")"
   ]
  },
  {
   "cell_type": "markdown",
   "metadata": {},
   "source": [
    "Note in the above example we select by a data type; in this instance, every column with a `dtype=float`, or more specifically, with a `dtype.kind='f'`, when referencing NumPy arrays.\n",
    "\n",
    "We can also select directly a column of interest:"
   ]
  },
  {
   "cell_type": "code",
   "execution_count": 4,
   "metadata": {},
   "outputs": [
    {
     "data": {
      "text/plain": [
       "Index(['prot_IDs', 'prot_names', 'Gene_names', 'translation_G1_1',\n",
       "       'translation_G1_2', 'translation_G2M_1', 'translation_G2M_2',\n",
       "       'translation_MG1_1', 'translation_MG1_2', 'translation_S_1',\n",
       "       'translation_S_2'],\n",
       "      dtype='object', name='colnames')"
      ]
     },
     "execution_count": 4,
     "metadata": {},
     "output_type": "execute_result"
    }
   ],
   "source": [
    "g.columns"
   ]
  },
  {
   "cell_type": "code",
   "execution_count": 5,
   "metadata": {},
   "outputs": [
    {
     "data": {
      "text/plain": [
       "Index(['prot_names'], dtype='object', name='colnames')"
      ]
     },
     "execution_count": 5,
     "metadata": {},
     "output_type": "execute_result"
    }
   ],
   "source": [
    "g.view(\"prot_names\")"
   ]
  },
  {
   "cell_type": "markdown",
   "metadata": {},
   "source": [
    "`turbopanda` also supports regex pattern matching and so attempts to find the next best match if one is not available:"
   ]
  },
  {
   "cell_type": "code",
   "execution_count": 6,
   "metadata": {},
   "outputs": [
    {
     "data": {
      "text/plain": [
       "Index(['prot_names'], dtype='object', name='colnames')"
      ]
     },
     "execution_count": 6,
     "metadata": {},
     "output_type": "execute_result"
    }
   ],
   "source": [
    "g.view(\"prot_na\")"
   ]
  },
  {
   "cell_type": "code",
   "execution_count": 7,
   "metadata": {},
   "outputs": [
    {
     "data": {
      "text/plain": [
       "Index(['translation_G1_1', 'translation_G1_2', 'translation_G2M_1',\n",
       "       'translation_G2M_2', 'translation_MG1_1', 'translation_MG1_2',\n",
       "       'translation_S_1', 'translation_S_2'],\n",
       "      dtype='object', name='colnames')"
      ]
     },
     "execution_count": 7,
     "metadata": {},
     "output_type": "execute_result"
    }
   ],
   "source": [
    "g.view(\"translation\")"
   ]
  },
  {
   "cell_type": "code",
   "execution_count": 8,
   "metadata": {},
   "outputs": [],
   "source": [
    "import itertools as it"
   ]
  },
  {
   "cell_type": "code",
   "execution_count": 9,
   "metadata": {},
   "outputs": [
    {
     "data": {
      "text/html": [
       "<div>\n",
       "<style scoped>\n",
       "    .dataframe tbody tr th:only-of-type {\n",
       "        vertical-align: middle;\n",
       "    }\n",
       "\n",
       "    .dataframe tbody tr th {\n",
       "        vertical-align: top;\n",
       "    }\n",
       "\n",
       "    .dataframe thead th {\n",
       "        text-align: right;\n",
       "    }\n",
       "</style>\n",
       "<table border=\"1\" class=\"dataframe\">\n",
       "  <thead>\n",
       "    <tr style=\"text-align: right;\">\n",
       "      <th></th>\n",
       "      <th>0</th>\n",
       "      <th>1</th>\n",
       "    </tr>\n",
       "  </thead>\n",
       "  <tbody>\n",
       "    <tr>\n",
       "      <th>0</th>\n",
       "      <td>a</td>\n",
       "      <td>d</td>\n",
       "    </tr>\n",
       "    <tr>\n",
       "      <th>1</th>\n",
       "      <td>b</td>\n",
       "      <td>d</td>\n",
       "    </tr>\n",
       "    <tr>\n",
       "      <th>2</th>\n",
       "      <td>c</td>\n",
       "      <td>d</td>\n",
       "    </tr>\n",
       "  </tbody>\n",
       "</table>\n",
       "</div>"
      ],
      "text/plain": [
       "   0  1\n",
       "0  a  d\n",
       "1  b  d\n",
       "2  c  d"
      ]
     },
     "execution_count": 9,
     "metadata": {},
     "output_type": "execute_result"
    }
   ],
   "source": [
    "pd.DataFrame(tuple(it.product(('a', 'b', 'c'), ('d'))))"
   ]
  },
  {
   "cell_type": "markdown",
   "metadata": {},
   "source": [
    "NOTE: `g.view` will ALWAYS return a `pandas.Index` object, whether empty or full; thus you can be guaranteed to chain this to other commands related to pandas if you so wish.\n",
    "\n",
    "Null is also returned:"
   ]
  },
  {
   "cell_type": "code",
   "execution_count": 10,
   "metadata": {},
   "outputs": [
    {
     "data": {
      "text/plain": [
       "Index([], dtype='object', name='colnames')"
      ]
     },
     "execution_count": 10,
     "metadata": {},
     "output_type": "execute_result"
    }
   ],
   "source": [
    "g.view(None)"
   ]
  },
  {
   "cell_type": "markdown",
   "metadata": {},
   "source": [
    "Using the meta information, boolean-type columns in the meta information can also act as selectors:"
   ]
  },
  {
   "cell_type": "code",
   "execution_count": 11,
   "metadata": {},
   "outputs": [
    {
     "data": {
      "text/plain": [
       "Index(['prot_names', 'Gene_names'], dtype='object', name='colnames')"
      ]
     },
     "execution_count": 11,
     "metadata": {},
     "output_type": "execute_result"
    }
   ],
   "source": [
    "g.view(\"is_mixed_type\")"
   ]
  },
  {
   "cell_type": "markdown",
   "metadata": {},
   "source": [
    "Viewing every available option as a coded selector can be found in the `options_` attribute:"
   ]
  },
  {
   "cell_type": "code",
   "execution_count": 12,
   "metadata": {},
   "outputs": [
    {
     "data": {
      "text/plain": [
       "('is_mixed_type', 'is_unique_id')"
      ]
     },
     "execution_count": 12,
     "metadata": {},
     "output_type": "execute_result"
    }
   ],
   "source": [
    "g.options_"
   ]
  },
  {
   "cell_type": "markdown",
   "metadata": {},
   "source": [
    "And finally a more complex example using regex to get exactly the combination of columns you want:"
   ]
  },
  {
   "cell_type": "code",
   "execution_count": 13,
   "metadata": {},
   "outputs": [
    {
     "data": {
      "text/plain": [
       "Index(['translation_G1_1', 'translation_G2M_1', 'translation_MG1_1',\n",
       "       'translation_S_1'],\n",
       "      dtype='object', name='colnames')"
      ]
     },
     "execution_count": 13,
     "metadata": {},
     "output_type": "execute_result"
    }
   ],
   "source": [
    "g.view(\"translation_[G1SM2]+_1\")"
   ]
  },
  {
   "cell_type": "markdown",
   "metadata": {},
   "source": [
    "Or alternatively viewing by a custom function that calls to `DataFrame.apply`.\n",
    "\n",
    "Here we show any columns whereby the ratio between the number of non-missing values and the full length is the same: i.e the column has no missing values."
   ]
  },
  {
   "cell_type": "code",
   "execution_count": 14,
   "metadata": {},
   "outputs": [
    {
     "data": {
      "text/plain": [
       "Index(['prot_IDs'], dtype='object', name='colnames')"
      ]
     },
     "execution_count": 14,
     "metadata": {},
     "output_type": "execute_result"
    }
   ],
   "source": [
    "g.view(lambda x: x.count()==x.shape[0])"
   ]
  },
  {
   "cell_type": "markdown",
   "metadata": {},
   "source": [
    "### Inverse viewing\n",
    "\n",
    "Similarly, we have the `view_not` function for options which we wish to NOT select for, i.e getting all columns that do not comply with some criterion:"
   ]
  },
  {
   "cell_type": "code",
   "execution_count": 15,
   "metadata": {},
   "outputs": [
    {
     "data": {
      "text/plain": [
       "Index(['prot_IDs', 'prot_names', 'Gene_names'], dtype='object', name='colnames')"
      ]
     },
     "execution_count": 15,
     "metadata": {},
     "output_type": "execute_result"
    }
   ],
   "source": [
    "g.view_not(float)"
   ]
  },
  {
   "cell_type": "markdown",
   "metadata": {},
   "source": [
    "The same sorts of inputs are applicable in this case also."
   ]
  },
  {
   "cell_type": "markdown",
   "metadata": {},
   "source": [
    "## Creating multi-views\n",
    "\n",
    "By using multiple selection criteria, by default `view` only keeps the **union** of the terms provided:\n",
    "\n",
    "$$\n",
    "S=\\bigcup_i t_i\n",
    "$$\n",
    "\n",
    "This means that if you select for `object` and for \"Intensity\", you will get all of the column names of type `object` **OR** containing the string \"Intensity\" within it.\n",
    "\n",
    "This is contrary to a **intersection** of terms, where you would get the column names of type `object` **AND** they contain the string \"Intensity\".\n",
    "\n",
    "In addition, *the order of the elements is maintained*, even across multiple selectors, such that any sorting/order is preserved in future operations."
   ]
  },
  {
   "cell_type": "code",
   "execution_count": 16,
   "metadata": {},
   "outputs": [
    {
     "data": {
      "text/plain": [
       "Index(['translation_G1_1', 'translation_G1_2', 'translation_G2M_1',\n",
       "       'translation_G2M_2', 'translation_MG1_1', 'translation_MG1_2',\n",
       "       'translation_S_1', 'translation_S_2'],\n",
       "      dtype='object', name='colnames')"
      ]
     },
     "execution_count": 16,
     "metadata": {},
     "output_type": "execute_result"
    }
   ],
   "source": [
    "g.view(float, \"_1\", \"G1\")"
   ]
  },
  {
   "cell_type": "markdown",
   "metadata": {},
   "source": [
    "In the above case, we're selecting columns that are of type float, OR contain `_1`, OR contain `G1` string. \n",
    "\n",
    "### Using the intersection\n",
    "\n",
    "To find the intersect rather than the union of terms, you can use `search`.\n",
    "\n",
    "**NOTE**: `search` is deprecated and will be removed in version 0.2.7, use `select` instead."
   ]
  },
  {
   "cell_type": "code",
   "execution_count": 17,
   "metadata": {},
   "outputs": [
    {
     "name": "stderr",
     "output_type": "stream",
     "text": [
      "..\\turbopanda\\_deprecator.py:42: FutureWarning: search is deprecated since version 0.2.6, to be removed in version 0.2.8, use function '`MetaPanda.select`' instead, (redundancy with view, view_not.)\n",
      "  warnings.warn(\"\".join(segments), FutureWarning)\n"
     ]
    },
    {
     "data": {
      "text/plain": [
       "Index(['translation_G1_1', 'translation_G2M_1', 'translation_MG1_1',\n",
       "       'translation_S_1'],\n",
       "      dtype='object', name='colnames')"
      ]
     },
     "execution_count": 17,
     "metadata": {},
     "output_type": "execute_result"
    }
   ],
   "source": [
    "g.search(float, \"_1\")"
   ]
  },
  {
   "cell_type": "markdown",
   "metadata": {},
   "source": [
    "## Using `eval`-like string operations\n",
    "\n",
    "Any stringable command from the previous calls to `view` and `view_not`, etc can be stacked into a single string and parsed, much like the `pd.eval` function. This can be achieved using the `select` function. \n",
    "\n",
    "**WARNING**: Whitespaces are removed and hence no input strings/column names can have spaces in them."
   ]
  },
  {
   "cell_type": "code",
   "execution_count": 20,
   "metadata": {},
   "outputs": [
    {
     "data": {
      "text/plain": [
       "Index(['translation_G1_1', 'translation_G2M_1', 'translation_MG1_1',\n",
       "       'translation_S_1'],\n",
       "      dtype='object', name='colnames')"
      ]
     },
     "execution_count": 20,
     "metadata": {},
     "output_type": "execute_result"
    }
   ],
   "source": [
    "g.select(\"float & _1$\")"
   ]
  },
  {
   "cell_type": "code",
   "execution_count": 28,
   "metadata": {},
   "outputs": [
    {
     "data": {
      "text/plain": [
       "Index(['translation_G1_1', 'translation_G1_2', 'translation_G2M_1',\n",
       "       'translation_G2M_2', 'translation_MG1_1', 'translation_MG1_2',\n",
       "       'translation_S_1', 'translation_S_2'],\n",
       "      dtype='object', name='colnames')"
      ]
     },
     "execution_count": 28,
     "metadata": {},
     "output_type": "execute_result"
    }
   ],
   "source": [
    "g.select(\"float | _1$ | G1\")"
   ]
  }
 ],
 "metadata": {
  "kernelspec": {
   "display_name": "Python 3",
   "language": "python",
   "name": "python3"
  },
  "language_info": {
   "codemirror_mode": {
    "name": "ipython",
    "version": 3
   },
   "file_extension": ".py",
   "mimetype": "text/x-python",
   "name": "python",
   "nbconvert_exporter": "python",
   "pygments_lexer": "ipython3",
   "version": "3.7.5"
  }
 },
 "nbformat": 4,
 "nbformat_minor": 4
}
