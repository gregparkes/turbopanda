{
 "cells": [
  {
   "cell_type": "markdown",
   "metadata": {},
   "source": [
    "# Selecting Columns with `MetaPanda`"
   ]
  },
  {
   "cell_type": "code",
   "execution_count": 4,
   "metadata": {},
   "outputs": [
    {
     "name": "stdout",
     "output_type": "stream",
     "text": [
      "turbopanda version: 0.2.9\n"
     ]
    }
   ],
   "source": [
    "import sys\n",
    "import numpy as np\n",
    "import pandas as pd\n",
    "sys.path.insert(0,\"../\")\n",
    "# our main import\n",
    "import turbopanda as turb\n",
    "\n",
    "print(f\"turbopanda version: {turb.__version__}\")"
   ]
  },
  {
   "cell_type": "markdown",
   "metadata": {},
   "source": [
    "## Importing some data"
   ]
  },
  {
   "cell_type": "code",
   "execution_count": 3,
   "metadata": {},
   "outputs": [
    {
     "data": {
      "text/plain": "MetaPanda(mRNA(n=100, p=117, mem=0.187MB, options=[]))"
     },
     "execution_count": 3,
     "metadata": {},
     "output_type": "execute_result"
    }
   ],
   "source": [
    "g = turb.read(\"../data/rna.csv\", name=\"mRNA\")\n",
    "g"
   ]
  },
  {
   "cell_type": "markdown",
   "metadata": {},
   "source": [
    "## Selectors\n",
    "\n",
    "Unlike traditional `pandas` which is incredibly difficult to access subsets of a DataFrame with ease, we allow the use of `regex` **and** typing (such as `float`) to specify subgroups that contain that capture pattern or data type.\n",
    "\n",
    "**NOTE**: Using the `__getitem__` attribute of `MetaPanda` **does not alter the underlying `DataFrame`**! The same super-object remains, allowing you to very quickly view dataframe subsets using a selection method of your choice.\n",
    "\n",
    "The **order of selection** if:\n",
    "\n",
    "1. selection is `None`: return \\[\\]\n",
    "2. selection is of type `pandas.Index`: return those columns\n",
    "3. selection is an accepted `dtype`: return columns of that dtype\n",
    "4. selection is callable (i.e function): return columns associated with boolean series\n",
    "5. selection is of type `str`:\n",
    "    1. selection is found as `meta_` column and column is of type `bool`\n",
    "    2. selection is found in `selectors_`\n",
    "    3. not in `df` column names: use regular expressions (regex)\n",
    "    4. otherwise selector is column name: return single `Series`\n",
    "\n",
    "## Viewing\n",
    "\n",
    "An ability to access the column names you wish to view is an advantage as a pre-stage to selecting the full columns you want.\n",
    "\n",
    "This is achieved using the `view` command;"
   ]
  },
  {
   "cell_type": "code",
   "execution_count": 5,
   "metadata": {},
   "outputs": [
    {
     "data": {
      "text/plain": "Index(['GC_content_mrna', 'length_prop_cds', 'length_prop_utr5', 'MFE',\n       'MFE_win10', 'MFE_win20', 'MFE_win30', 'MFE_win40', 'MFE_win60',\n       'MFE_win80', 'length_prop_utr3', 'signal_polya', 'CAI', 'tAI', 'RCBS',\n       'RCBS_PC'],\n      dtype='object', name='colnames')"
     },
     "execution_count": 5,
     "metadata": {},
     "output_type": "execute_result"
    }
   ],
   "source": [
    "g.view(\"float\")"
   ]
  },
  {
   "cell_type": "markdown",
   "metadata": {},
   "source": [
    "Note in the above example we select by a data type; in this instance, every column with a `dtype=float`, or more specifically, with a `dtype.kind='f'`, when referencing NumPy arrays.\n",
    "\n",
    "We can also select directly a column of interest:"
   ]
  },
  {
   "cell_type": "code",
   "execution_count": 6,
   "metadata": {},
   "outputs": [
    {
     "data": {
      "text/plain": "Index(['counter', 'refseq_id', 'G_mrna', 'A_mrna', 'C_mrna', 'T_mrna',\n       'length_mrna', 'GC_content_mrna', 'length_cds', 'length_prop_cds',\n       ...\n       'ncRNA_fc', 'precursor_RNA_bs', 'misc_feature_fc', 'sig_peptide_fc',\n       'STS_fc', 'regulatory_fc', 'mat_peptide_fc', 'exon_fc', 'proprotein_bs',\n       'transit_peptide_fc'],\n      dtype='object', name='colnames', length=117)"
     },
     "execution_count": 6,
     "metadata": {},
     "output_type": "execute_result"
    }
   ],
   "source": [
    "g.columns"
   ]
  },
  {
   "cell_type": "code",
   "execution_count": 7,
   "metadata": {},
   "outputs": [
    {
     "data": {
      "text/plain": "Index(['G_mrna'], dtype='object', name='colnames')"
     },
     "execution_count": 7,
     "metadata": {},
     "output_type": "execute_result"
    }
   ],
   "source": [
    "g.view(\"G_mrna\")"
   ]
  },
  {
   "cell_type": "markdown",
   "metadata": {},
   "source": [
    "`turbopanda` also supports regex pattern matching and so attempts to find the next best match if one is not available:"
   ]
  },
  {
   "cell_type": "code",
   "execution_count": 11,
   "metadata": {},
   "outputs": [
    {
     "data": {
      "text/plain": "Index(['G_mrna', 'A_mrna', 'C_mrna', 'T_mrna', 'length_mrna',\n       'GC_content_mrna', 'AA_mrna', 'AC_mrna', 'AG_mrna', 'AT_mrna',\n       'CA_mrna', 'CC_mrna', 'CG_mrna', 'CT_mrna', 'GA_mrna', 'GC_mrna',\n       'GG_mrna', 'GT_mrna', 'TA_mrna', 'TC_mrna', 'TG_mrna', 'TT_mrna'],\n      dtype='object', name='colnames')"
     },
     "execution_count": 11,
     "metadata": {},
     "output_type": "execute_result"
    }
   ],
   "source": [
    "g.view(\".*_mrna$\")"
   ]
  },
  {
   "cell_type": "code",
   "execution_count": 12,
   "metadata": {},
   "outputs": [
    {
     "data": {
      "text/plain": "Index(['precursor_RNA_bs', 'proprotein_bs'], dtype='object', name='colnames')"
     },
     "execution_count": 12,
     "metadata": {},
     "output_type": "execute_result"
    }
   ],
   "source": [
    "g.view(\"_bs$\")\n"
   ]
  },
  {
   "cell_type": "markdown",
   "metadata": {},
   "source": [
    "NOTE: `g.view` will ALWAYS return a `pandas.Index` object, whether empty or full; thus you can be guaranteed to chain this to other commands related to pandas if you so wish.\n",
    "\n",
    "Null is also returned:"
   ]
  },
  {
   "cell_type": "code",
   "execution_count": 15,
   "metadata": {},
   "outputs": [
    {
     "data": {
      "text/plain": "Index([], dtype='object', name='colnames')"
     },
     "execution_count": 15,
     "metadata": {},
     "output_type": "execute_result"
    }
   ],
   "source": [
    "g.view(None)"
   ]
  },
  {
   "cell_type": "markdown",
   "metadata": {},
   "source": [
    "Using the meta information, boolean-type columns in the meta information can also act as selectors:"
   ]
  },
  {
   "cell_type": "code",
   "execution_count": 18,
   "metadata": {},
   "outputs": [
    {
     "data": {
      "text/plain": "Index(['counter', 'length_mrna'], dtype='object', name='colnames')"
     },
     "execution_count": 18,
     "metadata": {},
     "output_type": "execute_result"
    }
   ],
   "source": [
    "g.view(\"is_unique_id\")"
   ]
  },
  {
   "cell_type": "markdown",
   "metadata": {},
   "source": [
    "Viewing every available option as a coded selector can be found in the `options_` attribute:"
   ]
  },
  {
   "cell_type": "code",
   "execution_count": 19,
   "metadata": {},
   "outputs": [
    {
     "data": {
      "text/plain": "('is_mixed_type', 'is_unique_id')"
     },
     "execution_count": 19,
     "metadata": {},
     "output_type": "execute_result"
    }
   ],
   "source": [
    "g.options_"
   ]
  },
  {
   "cell_type": "markdown",
   "metadata": {},
   "source": [
    "And finally a more complex example using regex to get exactly the combination of columns you want:"
   ]
  },
  {
   "cell_type": "code",
   "execution_count": 20,
   "metadata": {},
   "outputs": [
    {
     "data": {
      "text/plain": "Index(['G_mrna', 'C_mrna', 'AC_mrna', 'AG_mrna', 'CC_mrna', 'CG_mrna',\n       'GC_mrna', 'GG_mrna', 'TC_mrna', 'TG_mrna'],\n      dtype='object', name='colnames')"
     },
     "execution_count": 20,
     "metadata": {},
     "output_type": "execute_result"
    }
   ],
   "source": [
    "g.view(\"[GC]{1,2}_mrna\")"
   ]
  },
  {
   "cell_type": "markdown",
   "metadata": {},
   "source": [
    "Or alternatively viewing by a custom function that accesses `DataFrame.apply` under the hood.\n",
    "\n",
    "Here we show any columns whereby the ratio between the number of non-missing values and the full length is the same: i.e the column has no missing values."
   ]
  },
  {
   "cell_type": "code",
   "execution_count": 21,
   "metadata": {},
   "outputs": [
    {
     "data": {
      "text/plain": "Index(['counter', 'refseq_id', 'G_mrna', 'A_mrna', 'C_mrna', 'T_mrna',\n       'length_mrna', 'GC_content_mrna', 'length_cds', 'length_prop_cds',\n       ...\n       'ncRNA_fc', 'precursor_RNA_bs', 'misc_feature_fc', 'sig_peptide_fc',\n       'STS_fc', 'regulatory_fc', 'mat_peptide_fc', 'exon_fc', 'proprotein_bs',\n       'transit_peptide_fc'],\n      dtype='object', name='colnames', length=115)"
     },
     "execution_count": 21,
     "metadata": {},
     "output_type": "execute_result"
    }
   ],
   "source": [
    "g.view(lambda x: x.count()==x.shape[0])"
   ]
  },
  {
   "cell_type": "markdown",
   "metadata": {},
   "source": [
    "### Inverse viewing\n",
    "\n",
    "Similarly, we have the `view_not` function for options which we wish to NOT select for, i.e getting all columns that do not comply with some criterion:"
   ]
  },
  {
   "cell_type": "code",
   "execution_count": 22,
   "metadata": {},
   "outputs": [
    {
     "data": {
      "text/plain": "Index(['counter', 'refseq_id', 'G_mrna', 'A_mrna', 'C_mrna', 'T_mrna',\n       'length_mrna', 'length_cds', 'A_cds', 'C_cds',\n       ...\n       'ncRNA_fc', 'precursor_RNA_bs', 'misc_feature_fc', 'sig_peptide_fc',\n       'STS_fc', 'regulatory_fc', 'mat_peptide_fc', 'exon_fc', 'proprotein_bs',\n       'transit_peptide_fc'],\n      dtype='object', name='colnames', length=101)"
     },
     "execution_count": 22,
     "metadata": {},
     "output_type": "execute_result"
    }
   ],
   "source": [
    "g.view_not(float)"
   ]
  },
  {
   "cell_type": "markdown",
   "metadata": {},
   "source": [
    "The same sorts of inputs are applicable in this case also."
   ]
  },
  {
   "cell_type": "markdown",
   "metadata": {},
   "source": [
    "## Creating multi-views\n",
    "\n",
    "By using multiple selection criteria, by default `view` only keeps the **union** of the terms provided:\n",
    "\n",
    "\\begin{align}\n",
    "S=\\bigcup_i t_i\n",
    "\\end{align}\n",
    "\n",
    "This means that if you select for `object` and for \"Intensity\", you will get all of the column names of type `object` **OR** containing the string \"Intensity\" within it.\n",
    "\n",
    "This is contrary to a **intersection** of terms, where you would get the column names of type `object` **AND** they contain the string \"Intensity\".\n",
    "\n",
    "In addition, *the order of the elements is maintained*, even across multiple selectors, such that any sorting/order is preserved in future operations."
   ]
  },
  {
   "cell_type": "code",
   "execution_count": 24,
   "metadata": {},
   "outputs": [
    {
     "data": {
      "text/plain": "Index(['G_mrna', 'A_mrna', 'C_mrna', 'T_mrna', 'length_mrna',\n       'GC_content_mrna', 'length_prop_cds', 'length_prop_utr5', 'MFE',\n       'MFE_win10', 'MFE_win20', 'MFE_win30', 'MFE_win40', 'MFE_win60',\n       'MFE_win80', 'length_prop_utr3', 'AA_mrna', 'AC_mrna', 'AG_mrna',\n       'AT_mrna', 'CA_mrna', 'CC_mrna', 'CG_mrna', 'CT_mrna', 'GA_mrna',\n       'GC_mrna', 'GG_mrna', 'GT_mrna', 'TA_mrna', 'TC_mrna', 'TG_mrna',\n       'TT_mrna', 'signal_polya', 'CAI', 'tAI', 'RCBS', 'RCBS_PC'],\n      dtype='object', name='colnames')"
     },
     "execution_count": 24,
     "metadata": {},
     "output_type": "execute_result"
    }
   ],
   "source": [
    "g.view(float, \"mrna\")"
   ]
  },
  {
   "cell_type": "markdown",
   "metadata": {},
   "source": [
    "### Using the intersection\n",
    "\n",
    "To find the intersect rather than the union of terms, you can use `select`. See below.\n",
    "\n",
    "## Using `eval`-like string operations\n",
    "\n",
    "Any stringable command from the previous calls to `view` and `view_not`, etc can be \n",
    "stacked into a single string and parsed, much like the `pd.eval` function.\n",
    "This can be achieved using the `select` function. \n",
    "\n",
    "This operation allows you to combine the operations:\n",
    "\n",
    "* intersection: $\\&$\n",
    "* union: $|$\n",
    "\n",
    "into a single string. Note that whitespaces are removed and hence this may present aberrant behaviour for column names\n",
    "that contain whitespace within them. For instance, let's say we wanted to select all feature\n",
    "counts OR binary selectors:"
   ]
  },
  {
   "cell_type": "code",
   "execution_count": 28,
   "metadata": {},
   "outputs": [
    {
     "data": {
      "text/plain": "Index(['STS_fc', 'exon_fc', 'mat_peptide_fc', 'misc_RNA_fc', 'misc_feature_fc',\n       'ncRNA_fc', 'precursor_RNA_bs', 'proprotein_bs', 'regulatory_fc',\n       'sig_peptide_fc', 'transit_peptide_fc', 'variation_fc'],\n      dtype='object', name='colnames')"
     },
     "execution_count": 28,
     "metadata": {},
     "output_type": "execute_result"
    }
   ],
   "source": [
    "g.select(\"_bs | _fc\")"
   ]
  },
  {
   "cell_type": "markdown",
   "source": [
    "Alternatively we can quickly write out some defining features of a small subgroup that we want\n",
    "using the intersection operators:"
   ],
   "metadata": {
    "collapsed": false,
    "pycharm": {
     "name": "#%% md\n"
    }
   }
  },
  {
   "cell_type": "code",
   "execution_count": 33,
   "metadata": {},
   "outputs": [
    {
     "data": {
      "text/plain": "Index(['T_mrna', 'AT_mrna', 'CT_mrna', 'GT_mrna', 'TA_mrna', 'TC_mrna',\n       'TG_mrna', 'TT_mrna'],\n      dtype='object', name='colnames')"
     },
     "execution_count": 33,
     "metadata": {},
     "output_type": "execute_result"
    }
   ],
   "source": [
    "g.select(\"_mrna & T\")"
   ]
  },
  {
   "cell_type": "markdown",
   "source": [
    "This should make it substantially easier when iterating through subgroups. We can also use\n",
    "the `not` operator to reject certain selections within a regex chain, hence for instance by selecting\n",
    "all mRNA features, but not the mRNA length or GC 'content':"
   ],
   "metadata": {
    "collapsed": false,
    "pycharm": {
     "name": "#%% md\n"
    }
   }
  },
  {
   "cell_type": "code",
   "execution_count": 37,
   "outputs": [
    {
     "data": {
      "text/plain": "Index(['G_mrna', 'A_mrna', 'C_mrna', 'T_mrna', 'AA_mrna', 'AC_mrna', 'AG_mrna',\n       'AT_mrna', 'CA_mrna', 'CC_mrna', 'CG_mrna', 'CT_mrna', 'GA_mrna',\n       'GC_mrna', 'GG_mrna', 'GT_mrna', 'TA_mrna', 'TC_mrna', 'TG_mrna',\n       'TT_mrna'],\n      dtype='object', name='colnames')"
     },
     "execution_count": 37,
     "metadata": {},
     "output_type": "execute_result"
    }
   ],
   "source": [
    "g.select(\"_mrna & ~length & ~content\")"
   ],
   "metadata": {
    "collapsed": false,
    "pycharm": {
     "name": "#%%\n"
    }
   }
  }
 ],
 "metadata": {
  "kernelspec": {
   "display_name": "Python 3",
   "language": "python",
   "name": "python3"
  },
  "language_info": {
   "codemirror_mode": {
    "name": "ipython",
    "version": 3
   },
   "file_extension": ".py",
   "mimetype": "text/x-python",
   "name": "python",
   "nbconvert_exporter": "python",
   "pygments_lexer": "ipython3",
   "version": "3.7.5"
  }
 },
 "nbformat": 4,
 "nbformat_minor": 4
}