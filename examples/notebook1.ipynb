{
 "cells": [
  {
   "cell_type": "markdown",
   "metadata": {},
   "source": [
    "# Notebook 1: Basic Example\n",
    "\n",
    "Here we will introduce a basic example of how **TurboPanda** works and can be of benefit to you.\n",
    "\n",
    "### Requirements:\n",
    "\n",
    "- `numpy`\n",
    "- `pandas`\n",
    "- `scipy.stats`\n",
    "- `matplotlib.pyplot`\n",
    "- `jupyter`\n",
    "\n",
    "See `environment.yml` file for Python requirements."
   ]
  },
  {
   "cell_type": "code",
   "execution_count": 9,
   "metadata": {
    "pycharm": {
     "is_executing": false
    }
   },
   "outputs": [],
   "source": [
    "import sys\n",
    "import numpy as np\n",
    "import pandas as pd\n",
    "sys.path.insert(0,\"../\")\n",
    "# our main import\n",
    "import turbopanda as turb"
   ]
  },
  {
   "cell_type": "markdown",
   "metadata": {},
   "source": [
    "### Version last run:"
   ]
  },
  {
   "cell_type": "code",
   "execution_count": 10,
   "metadata": {
    "pycharm": {
     "is_executing": false
    }
   },
   "outputs": [
    {
     "data": {
      "text/plain": [
       "'0.2.2'"
      ]
     },
     "execution_count": 10,
     "metadata": {},
     "output_type": "execute_result"
    }
   ],
   "source": [
    "turb.__version__"
   ]
  },
  {
   "cell_type": "markdown",
   "metadata": {},
   "source": [
    "# The bedrock of `turbopanda`: The `MetaPanda` object.\n",
    "\n",
    "You can think of a `MetaPanda` as an object that sits on top of the raw dataset which is itself a `pandas.DataFrame` object, in addition to certain meta information associated to the columns.\n",
    "\n",
    "<img src=\"../extras/readme.svg\" width =\"500\" height=500> </img>\n",
    "\n",
    "where `df_` is the raw dataset and `meta_` is a meta information accessor.\n",
    "\n",
    "## Creating a `MetaPanda` object\n",
    "\n",
    "A `pandas.DataFrame` must be passed to the MetaPanda constructor. "
   ]
  },
  {
   "cell_type": "code",
   "execution_count": 11,
   "metadata": {
    "pycharm": {
     "is_executing": false
    }
   },
   "outputs": [],
   "source": [
    "f1 = turb.MetaPanda(\n",
    "    pd.DataFrame({\n",
    "        \"a\": [1, 2, 3],\n",
    "        \"b\": ['Ha', 'Ho', 'He'],\n",
    "        \"c\": [True, False, True],\n",
    "        \"d\": np.random.rand(3),\n",
    "    })\n",
    ")"
   ]
  },
  {
   "cell_type": "markdown",
   "metadata": {},
   "source": [
    "### Printed output\n",
    "\n",
    "We see the `name` of the MetaPanda, along with `n`: the number of rows, and `p`: the number of columns, memory usage, and some additional boolean flags denoted as `options`."
   ]
  },
  {
   "cell_type": "code",
   "execution_count": 12,
   "metadata": {
    "pycharm": {
     "is_executing": false
    }
   },
   "outputs": [
    {
     "data": {
      "text/plain": [
       "MetaPanda(DataSet(n=3, p=4, mem=0.000MB, options=[]))"
      ]
     },
     "execution_count": 12,
     "metadata": {},
     "output_type": "execute_result"
    }
   ],
   "source": [
    "f1"
   ]
  },
  {
   "cell_type": "markdown",
   "metadata": {},
   "source": [
    "## Reading a `MetaPanda` object\n",
    "\n",
    "Additionally, the `__repr__` object represents the dataset in terms of dimensions and the memory usage. Future versions will aim to encapsulate multiple `pandas.DataFrames`.\n",
    "\n",
    "By default, if there isa **metadata** file also present, this will be read in.\n",
    "\n",
    "`MetaPanda` can be given a name to have, or alternatively it will just adopt the name of the file."
   ]
  },
  {
   "cell_type": "code",
   "execution_count": 13,
   "metadata": {
    "pycharm": {
     "is_executing": false
    }
   },
   "outputs": [
    {
     "data": {
      "text/plain": [
       "MetaPanda(trl(n=5216, p=14, mem=1.169MB, options=[]))"
      ]
     },
     "execution_count": 13,
     "metadata": {},
     "output_type": "execute_result"
    }
   ],
   "source": [
    "g = turb.read(\"../data/translation.csv\", name=\"trl\")\n",
    "g"
   ]
  },
  {
   "cell_type": "markdown",
   "metadata": {},
   "source": [
    "By default data types are automatically tuned down to the smallest integer, if possible. Errors are ignored.\n",
    "\n",
    "Here are the arguments shown in the `__repr__` attribute:\n",
    "\n",
    "1. **MetaPanda**: this tells you it's a MetaPanda object\n",
    "2. *Translation*: The name of the dataset\n",
    "3. $n$, $p$ and *mem*: the number of samples, dimensions and memory usage in megabtypes, respectively\n",
    "4. *mode*: either 'instant' or 'delay', we'll cover this later"
   ]
  },
  {
   "cell_type": "code",
   "execution_count": 14,
   "metadata": {
    "pycharm": {
     "is_executing": false
    }
   },
   "outputs": [
    {
     "data": {
      "text/plain": [
       "MetaPanda(trl(n=5216, p=14, mem=1.169MB, options=[]))"
      ]
     },
     "execution_count": 14,
     "metadata": {},
     "output_type": "execute_result"
    }
   ],
   "source": [
    "g"
   ]
  },
  {
   "cell_type": "markdown",
   "metadata": {},
   "source": [
    "## Viewing the Dataset\n",
    "\n",
    "**NOTE**: The column names `colnames` and `counter` are reserved for the column/index reference and this is maintained in `MetaPanda`.\n",
    "\n",
    "We can access the pandas object using the `df_` attribute:"
   ]
  },
  {
   "cell_type": "code",
   "execution_count": 15,
   "metadata": {
    "pycharm": {
     "is_executing": false
    }
   },
   "outputs": [
    {
     "data": {
      "text/html": [
       "<div>\n",
       "<style scoped>\n",
       "    .dataframe tbody tr th:only-of-type {\n",
       "        vertical-align: middle;\n",
       "    }\n",
       "\n",
       "    .dataframe tbody tr th {\n",
       "        vertical-align: top;\n",
       "    }\n",
       "\n",
       "    .dataframe thead th {\n",
       "        text-align: right;\n",
       "    }\n",
       "</style>\n",
       "<table border=\"1\" class=\"dataframe\">\n",
       "  <thead>\n",
       "    <tr style=\"text-align: right;\">\n",
       "      <th>colnames</th>\n",
       "      <th>prot_IDs</th>\n",
       "      <th>prot_names</th>\n",
       "      <th>Gene_names</th>\n",
       "      <th>translation_G1_1</th>\n",
       "      <th>translation_G1_2</th>\n",
       "      <th>translation_G1_3</th>\n",
       "      <th>translation_G2M_1</th>\n",
       "      <th>translation_G2M_2</th>\n",
       "      <th>translation_G2M_3</th>\n",
       "      <th>translation_MG1_1</th>\n",
       "      <th>translation_MG1_2</th>\n",
       "      <th>translation_MG1_3</th>\n",
       "      <th>translation_S_1</th>\n",
       "      <th>translation_S_2</th>\n",
       "    </tr>\n",
       "    <tr>\n",
       "      <th>counter</th>\n",
       "      <th></th>\n",
       "      <th></th>\n",
       "      <th></th>\n",
       "      <th></th>\n",
       "      <th></th>\n",
       "      <th></th>\n",
       "      <th></th>\n",
       "      <th></th>\n",
       "      <th></th>\n",
       "      <th></th>\n",
       "      <th></th>\n",
       "      <th></th>\n",
       "      <th></th>\n",
       "      <th></th>\n",
       "    </tr>\n",
       "  </thead>\n",
       "  <tbody>\n",
       "    <tr>\n",
       "      <th>0</th>\n",
       "      <td>Q96IC2;Q96IC2-2;H3BM72;H3BV93;H3BSC5</td>\n",
       "      <td>Putative RNA exonuclease NEF-sp</td>\n",
       "      <td>44M2.3</td>\n",
       "      <td>21.26058</td>\n",
       "      <td>20.47467</td>\n",
       "      <td>20.48905</td>\n",
       "      <td>21.01794</td>\n",
       "      <td>20.14569</td>\n",
       "      <td>22.29011</td>\n",
       "      <td>21.11775</td>\n",
       "      <td>20.71892</td>\n",
       "      <td>20.25788</td>\n",
       "      <td>20.58628</td>\n",
       "      <td>20.27662</td>\n",
       "    </tr>\n",
       "    <tr>\n",
       "      <th>1</th>\n",
       "      <td>H0YGH4;P01023;H0YGH6;F8W7L3</td>\n",
       "      <td>Alpha-2-macroglobulin</td>\n",
       "      <td>A2M</td>\n",
       "      <td>22.62015</td>\n",
       "      <td>22.26825</td>\n",
       "      <td>23.11786</td>\n",
       "      <td>24.94606</td>\n",
       "      <td>24.21645</td>\n",
       "      <td>25.26399</td>\n",
       "      <td>23.56139</td>\n",
       "      <td>23.46051</td>\n",
       "      <td>22.21951</td>\n",
       "      <td>22.87688</td>\n",
       "      <td>23.35703</td>\n",
       "    </tr>\n",
       "    <tr>\n",
       "      <th>2</th>\n",
       "      <td>A8K2U0;F5H2W3;H0YGG5;F5H2Z2;F5GXP1</td>\n",
       "      <td>Alpha-2-macroglobulin-like protein 1</td>\n",
       "      <td>A2ML1</td>\n",
       "      <td>NaN</td>\n",
       "      <td>NaN</td>\n",
       "      <td>NaN</td>\n",
       "      <td>NaN</td>\n",
       "      <td>NaN</td>\n",
       "      <td>25.11629</td>\n",
       "      <td>NaN</td>\n",
       "      <td>NaN</td>\n",
       "      <td>NaN</td>\n",
       "      <td>NaN</td>\n",
       "      <td>NaN</td>\n",
       "    </tr>\n",
       "    <tr>\n",
       "      <th>3</th>\n",
       "      <td>Q9NRG9;Q9NRG9-2;F8VZ44;H3BU82;F8VUB6</td>\n",
       "      <td>Aladin</td>\n",
       "      <td>AAAS</td>\n",
       "      <td>25.48382</td>\n",
       "      <td>24.42746</td>\n",
       "      <td>25.22645</td>\n",
       "      <td>24.44556</td>\n",
       "      <td>23.93706</td>\n",
       "      <td>25.30966</td>\n",
       "      <td>25.61462</td>\n",
       "      <td>25.45923</td>\n",
       "      <td>24.48253</td>\n",
       "      <td>24.31645</td>\n",
       "      <td>23.92143</td>\n",
       "    </tr>\n",
       "    <tr>\n",
       "      <th>4</th>\n",
       "      <td>Q86V21;Q86V21-2;E7EW25;F5H790;F8W8B5;Q86V21-3;...</td>\n",
       "      <td>Acetoacetyl-CoA synthetase</td>\n",
       "      <td>AACS</td>\n",
       "      <td>24.18177</td>\n",
       "      <td>24.51533</td>\n",
       "      <td>24.32766</td>\n",
       "      <td>24.15993</td>\n",
       "      <td>24.05001</td>\n",
       "      <td>24.95797</td>\n",
       "      <td>24.11656</td>\n",
       "      <td>24.22523</td>\n",
       "      <td>23.96446</td>\n",
       "      <td>23.89440</td>\n",
       "      <td>23.78107</td>\n",
       "    </tr>\n",
       "  </tbody>\n",
       "</table>\n",
       "</div>"
      ],
      "text/plain": [
       "colnames                                           prot_IDs  \\\n",
       "counter                                                       \n",
       "0                      Q96IC2;Q96IC2-2;H3BM72;H3BV93;H3BSC5   \n",
       "1                               H0YGH4;P01023;H0YGH6;F8W7L3   \n",
       "2                        A8K2U0;F5H2W3;H0YGG5;F5H2Z2;F5GXP1   \n",
       "3                      Q9NRG9;Q9NRG9-2;F8VZ44;H3BU82;F8VUB6   \n",
       "4         Q86V21;Q86V21-2;E7EW25;F5H790;F8W8B5;Q86V21-3;...   \n",
       "\n",
       "colnames                            prot_names Gene_names  translation_G1_1  \\\n",
       "counter                                                                       \n",
       "0              Putative RNA exonuclease NEF-sp     44M2.3          21.26058   \n",
       "1                        Alpha-2-macroglobulin        A2M          22.62015   \n",
       "2         Alpha-2-macroglobulin-like protein 1      A2ML1               NaN   \n",
       "3                                       Aladin       AAAS          25.48382   \n",
       "4                   Acetoacetyl-CoA synthetase       AACS          24.18177   \n",
       "\n",
       "colnames  translation_G1_2  translation_G1_3  translation_G2M_1  \\\n",
       "counter                                                           \n",
       "0                 20.47467          20.48905           21.01794   \n",
       "1                 22.26825          23.11786           24.94606   \n",
       "2                      NaN               NaN                NaN   \n",
       "3                 24.42746          25.22645           24.44556   \n",
       "4                 24.51533          24.32766           24.15993   \n",
       "\n",
       "colnames  translation_G2M_2  translation_G2M_3  translation_MG1_1  \\\n",
       "counter                                                             \n",
       "0                  20.14569           22.29011           21.11775   \n",
       "1                  24.21645           25.26399           23.56139   \n",
       "2                       NaN           25.11629                NaN   \n",
       "3                  23.93706           25.30966           25.61462   \n",
       "4                  24.05001           24.95797           24.11656   \n",
       "\n",
       "colnames  translation_MG1_2  translation_MG1_3  translation_S_1  \\\n",
       "counter                                                           \n",
       "0                  20.71892           20.25788         20.58628   \n",
       "1                  23.46051           22.21951         22.87688   \n",
       "2                       NaN                NaN              NaN   \n",
       "3                  25.45923           24.48253         24.31645   \n",
       "4                  24.22523           23.96446         23.89440   \n",
       "\n",
       "colnames  translation_S_2  \n",
       "counter                    \n",
       "0                20.27662  \n",
       "1                23.35703  \n",
       "2                     NaN  \n",
       "3                23.92143  \n",
       "4                23.78107  "
      ]
     },
     "execution_count": 15,
     "metadata": {},
     "output_type": "execute_result"
    }
   ],
   "source": [
    "g.head()"
   ]
  },
  {
   "cell_type": "markdown",
   "metadata": {},
   "source": [
    "### Some important modifications...\n",
    "\n",
    "`MetaPanda` does **not** accept MultiIndex for columns, these will be concatenated together. It will also do some nicety cleaning of your column names to remove spaces, tabs etc for your coding.\n",
    "\n",
    "Categorization is when the data columns are assigned to their correct type. We spend some time trying to find whether a column should be a `pd.Category` or `bool`, `int` or `float` for maximum efficiency.\n",
    "\n",
    "## Meta-information on the columns\n",
    "\n",
    "This can be accessed with the `meta_` attribute:"
   ]
  },
  {
   "cell_type": "code",
   "execution_count": 20,
   "metadata": {
    "pycharm": {
     "is_executing": false
    }
   },
   "outputs": [
    {
     "data": {
      "text/html": [
       "<div>\n",
       "<style scoped>\n",
       "    .dataframe tbody tr th:only-of-type {\n",
       "        vertical-align: middle;\n",
       "    }\n",
       "\n",
       "    .dataframe tbody tr th {\n",
       "        vertical-align: top;\n",
       "    }\n",
       "\n",
       "    .dataframe thead th {\n",
       "        text-align: right;\n",
       "    }\n",
       "</style>\n",
       "<table border=\"1\" class=\"dataframe\">\n",
       "  <thead>\n",
       "    <tr style=\"text-align: right;\">\n",
       "      <th></th>\n",
       "      <th>true_type</th>\n",
       "      <th>is_mixed_type</th>\n",
       "      <th>is_unique_id</th>\n",
       "    </tr>\n",
       "  </thead>\n",
       "  <tbody>\n",
       "    <tr>\n",
       "      <th>prot_IDs</th>\n",
       "      <td>object</td>\n",
       "      <td>False</td>\n",
       "      <td>False</td>\n",
       "    </tr>\n",
       "    <tr>\n",
       "      <th>prot_names</th>\n",
       "      <td>object</td>\n",
       "      <td>True</td>\n",
       "      <td>False</td>\n",
       "    </tr>\n",
       "    <tr>\n",
       "      <th>Gene_names</th>\n",
       "      <td>object</td>\n",
       "      <td>True</td>\n",
       "      <td>False</td>\n",
       "    </tr>\n",
       "    <tr>\n",
       "      <th>translation_G1_1</th>\n",
       "      <td>float64</td>\n",
       "      <td>False</td>\n",
       "      <td>False</td>\n",
       "    </tr>\n",
       "    <tr>\n",
       "      <th>translation_G1_2</th>\n",
       "      <td>float64</td>\n",
       "      <td>False</td>\n",
       "      <td>False</td>\n",
       "    </tr>\n",
       "  </tbody>\n",
       "</table>\n",
       "</div>"
      ],
      "text/plain": [
       "                 true_type  is_mixed_type  is_unique_id\n",
       "prot_IDs            object          False         False\n",
       "prot_names          object           True         False\n",
       "Gene_names          object           True         False\n",
       "translation_G1_1   float64          False         False\n",
       "translation_G1_2   float64          False         False"
      ]
     },
     "execution_count": 20,
     "metadata": {},
     "output_type": "execute_result"
    }
   ],
   "source": [
    "g.meta_.head()"
   ]
  },
  {
   "cell_type": "markdown",
   "metadata": {},
   "source": [
    "## MetaPanda properties\n",
    "\n",
    "`MetaPanda` makes extensive use of `@property` attributes to give an interface to the object. All properties in TurboPanda end with an underscore (`_`). Note that some of these properties *can be modified*, if done so carefully, whilst others are only for viewing and not modifiable.\n",
    "\n",
    "We have already covered the two most important properties:\n",
    "\n",
    "* `df_` : accessing the raw DataFrame\n",
    "* `meta_` : accessing meta-information of the dataset\n",
    "\n",
    "In addition to this, we have quick-and-easy ways of assessing the size of the dataset, in `n_` (the number of rows, samples) and `p_` (the number of columns, dimensions) following machine-learning nomenclature:"
   ]
  },
  {
   "cell_type": "code",
   "execution_count": 16,
   "metadata": {
    "pycharm": {
     "is_executing": false
    }
   },
   "outputs": [
    {
     "data": {
      "text/plain": [
       "5216"
      ]
     },
     "execution_count": 16,
     "metadata": {},
     "output_type": "execute_result"
    }
   ],
   "source": [
    "g.n_"
   ]
  },
  {
   "cell_type": "code",
   "execution_count": 17,
   "metadata": {
    "pycharm": {
     "is_executing": false
    }
   },
   "outputs": [
    {
     "data": {
      "text/plain": [
       "14"
      ]
     },
     "execution_count": 17,
     "metadata": {},
     "output_type": "execute_result"
    }
   ],
   "source": [
    "g.p_"
   ]
  },
  {
   "cell_type": "markdown",
   "metadata": {},
   "source": [
    "Other important properties (which we explore later) are the `selectors_` and `pipe_` attributes:"
   ]
  },
  {
   "cell_type": "code",
   "execution_count": 18,
   "metadata": {
    "pycharm": {
     "is_executing": false
    }
   },
   "outputs": [
    {
     "data": {
      "text/plain": [
       "{}"
      ]
     },
     "execution_count": 18,
     "metadata": {},
     "output_type": "execute_result"
    }
   ],
   "source": [
    "g.selectors_"
   ]
  },
  {
   "cell_type": "code",
   "execution_count": 19,
   "metadata": {
    "pycharm": {
     "is_executing": false
    }
   },
   "outputs": [
    {
     "data": {
      "text/plain": [
       "{'current': []}"
      ]
     },
     "execution_count": 19,
     "metadata": {},
     "output_type": "execute_result"
    }
   ],
   "source": [
    "g.pipe_"
   ]
  },
  {
   "cell_type": "markdown",
   "metadata": {},
   "source": [
    "## Selectors\n",
    "\n",
    "Unlike traditional `pandas` which is incredibly difficult to access subsets of a DataFrame with ease, we allow the use of `regex` **and** typing (such as `float`) to specify subgroups that contain that capture pattern or data type.\n",
    "\n",
    "**NOTE**: Using the `__getitem__` attribute of `MetaPanda` **does not alter the underlying `DataFrame`**! The same super-object remains, allowing you to very quickly view dataframe subsets using a selection method of your choice.\n",
    "\n",
    "The **order of selection** if:\n",
    "\n",
    "1. selection is `None`: return \\[\\]\n",
    "2. selection is of type `pandas.Index`: return those columns\n",
    "3. selection is an accepted `dtype`: return columns of that dtype\n",
    "4. selection is callable (i.e function): return columns associated with boolean series\n",
    "5. selection is of type `str`:\n",
    "    1. selection is found as `meta_` column and column is of type `bool`\n",
    "    2. selection is found in `selectors_`\n",
    "    3. not in `df` column names: use regular expressions (regex)\n",
    "    4. otherwise selector is column name: return single `Series`\n",
    "    \n",
    "### Using regular expressions"
   ]
  },
  {
   "cell_type": "code",
   "execution_count": 21,
   "metadata": {
    "pycharm": {
     "is_executing": false
    }
   },
   "outputs": [
    {
     "data": {
      "text/html": [
       "<div>\n",
       "<style scoped>\n",
       "    .dataframe tbody tr th:only-of-type {\n",
       "        vertical-align: middle;\n",
       "    }\n",
       "\n",
       "    .dataframe tbody tr th {\n",
       "        vertical-align: top;\n",
       "    }\n",
       "\n",
       "    .dataframe thead th {\n",
       "        text-align: right;\n",
       "    }\n",
       "</style>\n",
       "<table border=\"1\" class=\"dataframe\">\n",
       "  <thead>\n",
       "    <tr style=\"text-align: right;\">\n",
       "      <th>colnames</th>\n",
       "      <th>translation_G1_1</th>\n",
       "      <th>translation_G2M_1</th>\n",
       "      <th>translation_MG1_1</th>\n",
       "      <th>translation_S_1</th>\n",
       "    </tr>\n",
       "    <tr>\n",
       "      <th>counter</th>\n",
       "      <th></th>\n",
       "      <th></th>\n",
       "      <th></th>\n",
       "      <th></th>\n",
       "    </tr>\n",
       "  </thead>\n",
       "  <tbody>\n",
       "    <tr>\n",
       "      <th>0</th>\n",
       "      <td>21.26058</td>\n",
       "      <td>21.01794</td>\n",
       "      <td>21.11775</td>\n",
       "      <td>20.58628</td>\n",
       "    </tr>\n",
       "    <tr>\n",
       "      <th>1</th>\n",
       "      <td>22.62015</td>\n",
       "      <td>24.94606</td>\n",
       "      <td>23.56139</td>\n",
       "      <td>22.87688</td>\n",
       "    </tr>\n",
       "    <tr>\n",
       "      <th>2</th>\n",
       "      <td>NaN</td>\n",
       "      <td>NaN</td>\n",
       "      <td>NaN</td>\n",
       "      <td>NaN</td>\n",
       "    </tr>\n",
       "    <tr>\n",
       "      <th>3</th>\n",
       "      <td>25.48382</td>\n",
       "      <td>24.44556</td>\n",
       "      <td>25.61462</td>\n",
       "      <td>24.31645</td>\n",
       "    </tr>\n",
       "    <tr>\n",
       "      <th>4</th>\n",
       "      <td>24.18177</td>\n",
       "      <td>24.15993</td>\n",
       "      <td>24.11656</td>\n",
       "      <td>23.89440</td>\n",
       "    </tr>\n",
       "  </tbody>\n",
       "</table>\n",
       "</div>"
      ],
      "text/plain": [
       "colnames  translation_G1_1  translation_G2M_1  translation_MG1_1  \\\n",
       "counter                                                            \n",
       "0                 21.26058           21.01794           21.11775   \n",
       "1                 22.62015           24.94606           23.56139   \n",
       "2                      NaN                NaN                NaN   \n",
       "3                 25.48382           24.44556           25.61462   \n",
       "4                 24.18177           24.15993           24.11656   \n",
       "\n",
       "colnames  translation_S_1  \n",
       "counter                    \n",
       "0                20.58628  \n",
       "1                22.87688  \n",
       "2                     NaN  \n",
       "3                24.31645  \n",
       "4                23.89440  "
      ]
     },
     "execution_count": 21,
     "metadata": {},
     "output_type": "execute_result"
    }
   ],
   "source": [
    "g[\"translation_[MG12S]*_1\"].head()"
   ]
  },
  {
   "cell_type": "markdown",
   "metadata": {},
   "source": [
    "### Using data types\n",
    "\n",
    "Or using type:"
   ]
  },
  {
   "cell_type": "code",
   "execution_count": 27,
   "metadata": {},
   "outputs": [
    {
     "data": {
      "text/html": [
       "<div>\n",
       "<style scoped>\n",
       "    .dataframe tbody tr th:only-of-type {\n",
       "        vertical-align: middle;\n",
       "    }\n",
       "\n",
       "    .dataframe tbody tr th {\n",
       "        vertical-align: top;\n",
       "    }\n",
       "\n",
       "    .dataframe thead th {\n",
       "        text-align: right;\n",
       "    }\n",
       "</style>\n",
       "<table border=\"1\" class=\"dataframe\">\n",
       "  <thead>\n",
       "    <tr style=\"text-align: right;\">\n",
       "      <th>colnames</th>\n",
       "      <th>prot_IDs</th>\n",
       "      <th>prot_names</th>\n",
       "      <th>Gene_names</th>\n",
       "    </tr>\n",
       "    <tr>\n",
       "      <th>counter</th>\n",
       "      <th></th>\n",
       "      <th></th>\n",
       "      <th></th>\n",
       "    </tr>\n",
       "  </thead>\n",
       "  <tbody>\n",
       "    <tr>\n",
       "      <th>0</th>\n",
       "      <td>Q96IC2;Q96IC2-2;H3BM72;H3BV93;H3BSC5</td>\n",
       "      <td>Putative RNA exonuclease NEF-sp</td>\n",
       "      <td>44M2.3</td>\n",
       "    </tr>\n",
       "    <tr>\n",
       "      <th>1</th>\n",
       "      <td>H0YGH4;P01023;H0YGH6;F8W7L3</td>\n",
       "      <td>Alpha-2-macroglobulin</td>\n",
       "      <td>A2M</td>\n",
       "    </tr>\n",
       "    <tr>\n",
       "      <th>2</th>\n",
       "      <td>A8K2U0;F5H2W3;H0YGG5;F5H2Z2;F5GXP1</td>\n",
       "      <td>Alpha-2-macroglobulin-like protein 1</td>\n",
       "      <td>A2ML1</td>\n",
       "    </tr>\n",
       "    <tr>\n",
       "      <th>3</th>\n",
       "      <td>Q9NRG9;Q9NRG9-2;F8VZ44;H3BU82;F8VUB6</td>\n",
       "      <td>Aladin</td>\n",
       "      <td>AAAS</td>\n",
       "    </tr>\n",
       "    <tr>\n",
       "      <th>4</th>\n",
       "      <td>Q86V21;Q86V21-2;E7EW25;F5H790;F8W8B5;Q86V21-3;...</td>\n",
       "      <td>Acetoacetyl-CoA synthetase</td>\n",
       "      <td>AACS</td>\n",
       "    </tr>\n",
       "  </tbody>\n",
       "</table>\n",
       "</div>"
      ],
      "text/plain": [
       "colnames                                           prot_IDs  \\\n",
       "counter                                                       \n",
       "0                      Q96IC2;Q96IC2-2;H3BM72;H3BV93;H3BSC5   \n",
       "1                               H0YGH4;P01023;H0YGH6;F8W7L3   \n",
       "2                        A8K2U0;F5H2W3;H0YGG5;F5H2Z2;F5GXP1   \n",
       "3                      Q9NRG9;Q9NRG9-2;F8VZ44;H3BU82;F8VUB6   \n",
       "4         Q86V21;Q86V21-2;E7EW25;F5H790;F8W8B5;Q86V21-3;...   \n",
       "\n",
       "colnames                            prot_names Gene_names  \n",
       "counter                                                    \n",
       "0              Putative RNA exonuclease NEF-sp     44M2.3  \n",
       "1                        Alpha-2-macroglobulin        A2M  \n",
       "2         Alpha-2-macroglobulin-like protein 1      A2ML1  \n",
       "3                                       Aladin       AAAS  \n",
       "4                   Acetoacetyl-CoA synthetase       AACS  "
      ]
     },
     "execution_count": 27,
     "metadata": {},
     "output_type": "execute_result"
    }
   ],
   "source": [
    "g[object].head()"
   ]
  },
  {
   "cell_type": "markdown",
   "metadata": {},
   "source": [
    "### Using meta columns\n",
    "\n",
    "Or using the `meta_` attribute columns as a selector:"
   ]
  },
  {
   "cell_type": "code",
   "execution_count": 22,
   "metadata": {
    "pycharm": {
     "is_executing": false
    }
   },
   "outputs": [
    {
     "data": {
      "text/html": [
       "<div>\n",
       "<style scoped>\n",
       "    .dataframe tbody tr th:only-of-type {\n",
       "        vertical-align: middle;\n",
       "    }\n",
       "\n",
       "    .dataframe tbody tr th {\n",
       "        vertical-align: top;\n",
       "    }\n",
       "\n",
       "    .dataframe thead th {\n",
       "        text-align: right;\n",
       "    }\n",
       "</style>\n",
       "<table border=\"1\" class=\"dataframe\">\n",
       "  <thead>\n",
       "    <tr style=\"text-align: right;\">\n",
       "      <th>colnames</th>\n",
       "      <th>prot_names</th>\n",
       "      <th>Gene_names</th>\n",
       "    </tr>\n",
       "    <tr>\n",
       "      <th>counter</th>\n",
       "      <th></th>\n",
       "      <th></th>\n",
       "    </tr>\n",
       "  </thead>\n",
       "  <tbody>\n",
       "    <tr>\n",
       "      <th>0</th>\n",
       "      <td>Putative RNA exonuclease NEF-sp</td>\n",
       "      <td>44M2.3</td>\n",
       "    </tr>\n",
       "    <tr>\n",
       "      <th>1</th>\n",
       "      <td>Alpha-2-macroglobulin</td>\n",
       "      <td>A2M</td>\n",
       "    </tr>\n",
       "    <tr>\n",
       "      <th>2</th>\n",
       "      <td>Alpha-2-macroglobulin-like protein 1</td>\n",
       "      <td>A2ML1</td>\n",
       "    </tr>\n",
       "    <tr>\n",
       "      <th>3</th>\n",
       "      <td>Aladin</td>\n",
       "      <td>AAAS</td>\n",
       "    </tr>\n",
       "    <tr>\n",
       "      <th>4</th>\n",
       "      <td>Acetoacetyl-CoA synthetase</td>\n",
       "      <td>AACS</td>\n",
       "    </tr>\n",
       "  </tbody>\n",
       "</table>\n",
       "</div>"
      ],
      "text/plain": [
       "colnames                            prot_names Gene_names\n",
       "counter                                                  \n",
       "0              Putative RNA exonuclease NEF-sp     44M2.3\n",
       "1                        Alpha-2-macroglobulin        A2M\n",
       "2         Alpha-2-macroglobulin-like protein 1      A2ML1\n",
       "3                                       Aladin       AAAS\n",
       "4                   Acetoacetyl-CoA synthetase       AACS"
      ]
     },
     "execution_count": 22,
     "metadata": {},
     "output_type": "execute_result"
    }
   ],
   "source": [
    "g[\"is_mixed_type\"].head()"
   ]
  },
  {
   "cell_type": "markdown",
   "metadata": {},
   "source": [
    "## Viewing selections\n",
    "\n",
    "Whereas above we use a *selector* to get a subgroup of columns, what if we want to view those column names for ourselves before we do anything?\n",
    "\n",
    "Here we `view` by a meta-data column:"
   ]
  },
  {
   "cell_type": "code",
   "execution_count": 29,
   "metadata": {},
   "outputs": [
    {
     "data": {
      "text/plain": [
       "Index(['prot_names', 'Gene_names'], dtype='object', name='colnames')"
      ]
     },
     "execution_count": 29,
     "metadata": {},
     "output_type": "execute_result"
    }
   ],
   "source": [
    "g.view(\"is_mixed_type\")"
   ]
  },
  {
   "cell_type": "markdown",
   "metadata": {},
   "source": [
    "Or by using the direct column name (as pandas does):"
   ]
  },
  {
   "cell_type": "code",
   "execution_count": 30,
   "metadata": {},
   "outputs": [
    {
     "data": {
      "text/plain": [
       "Index(['prot_IDs'], dtype='object', name='colnames')"
      ]
     },
     "execution_count": 30,
     "metadata": {},
     "output_type": "execute_result"
    }
   ],
   "source": [
    "g.view(\"prot_IDs\")"
   ]
  },
  {
   "cell_type": "markdown",
   "metadata": {},
   "source": [
    "Or viewing by common regular expression, regex:"
   ]
  },
  {
   "cell_type": "code",
   "execution_count": 31,
   "metadata": {},
   "outputs": [
    {
     "data": {
      "text/plain": [
       "Index(['translation_G1_1', 'translation_G2M_1', 'translation_MG1_1',\n",
       "       'translation_S_1'],\n",
       "      dtype='object', name='colnames')"
      ]
     },
     "execution_count": 31,
     "metadata": {},
     "output_type": "execute_result"
    }
   ],
   "source": [
    "g.view(\"translation_[G1SM2]+_1\")"
   ]
  },
  {
   "cell_type": "markdown",
   "metadata": {},
   "source": [
    "Or by a data type selection:"
   ]
  },
  {
   "cell_type": "code",
   "execution_count": 32,
   "metadata": {},
   "outputs": [
    {
     "data": {
      "text/plain": [
       "Index(['prot_IDs', 'prot_names', 'Gene_names'], dtype='object', name='colnames')"
      ]
     },
     "execution_count": 32,
     "metadata": {},
     "output_type": "execute_result"
    }
   ],
   "source": [
    "g.view(object)"
   ]
  },
  {
   "cell_type": "markdown",
   "metadata": {},
   "source": [
    "Or by a custom function, which takes the whole dataframe and creating a boolean selection based on some threshold with respect to the variance, for instance, or sample size.\n",
    "\n",
    "This should allow us to use `pandas.DataFrame.aggregate` for better performance."
   ]
  },
  {
   "cell_type": "code",
   "execution_count": 33,
   "metadata": {},
   "outputs": [
    {
     "data": {
      "text/plain": [
       "Index(['prot_IDs'], dtype='object', name='colnames')"
      ]
     },
     "execution_count": 33,
     "metadata": {},
     "output_type": "execute_result"
    }
   ],
   "source": [
    "g.view(lambda x: x.count()==x.shape[0])"
   ]
  },
  {
   "cell_type": "markdown",
   "metadata": {},
   "source": [
    "Note that `view` and `view_not` functions return the selected columns **in the order they appear in the DataFrame**. This is important if you wish to retain a particular sorting of the data."
   ]
  },
  {
   "cell_type": "markdown",
   "metadata": {},
   "source": [
    "## Viewing *not* selected columns\n",
    "\n",
    "We can find which columns *remain* using `view_not` with our selection. This can be very useful if we wish to isolate some specific group or trait."
   ]
  },
  {
   "cell_type": "code",
   "execution_count": 34,
   "metadata": {},
   "outputs": [
    {
     "data": {
      "text/plain": [
       "Index(['translation_G1_1', 'translation_G1_2', 'translation_G1_3',\n",
       "       'translation_G2M_1', 'translation_G2M_2', 'translation_G2M_3',\n",
       "       'translation_MG1_1', 'translation_MG1_2', 'translation_MG1_3',\n",
       "       'translation_S_1', 'translation_S_2'],\n",
       "      dtype='object', name='colnames')"
      ]
     },
     "execution_count": 34,
     "metadata": {},
     "output_type": "execute_result"
    }
   ],
   "source": [
    "g.view_not(object)\n"
   ]
  },
  {
   "cell_type": "markdown",
   "metadata": {},
   "source": [
    "## Creating multi-views\n",
    "\n",
    "By using multiple selection criteria, by default `turbopanda` only keeps the **union** of the terms provided:\n",
    "\n",
    "$$\n",
    "S=\\bigcup_i t_i\n",
    "$$\n",
    "\n",
    "This means that if you select for `object` and for \"Intensity\", you will get all of the column names of type `object` **OR** containing the string \"Intensity\" within it.\n",
    "\n",
    "This is contrary to a **intersection** of terms, where you would get the column names of type `object` **AND** they contain the string \"Intensity\".\n",
    "\n",
    "In addition, *the order of the elements is maintained*, even across multiple selectors, such that any sorting/order is preserved in future operations."
   ]
  },
  {
   "cell_type": "code",
   "execution_count": 35,
   "metadata": {},
   "outputs": [
    {
     "data": {
      "text/plain": [
       "Index(['translation_G1_1', 'translation_G1_2', 'translation_G1_3',\n",
       "       'translation_G2M_1', 'translation_G2M_2', 'translation_G2M_3',\n",
       "       'translation_MG1_1', 'translation_MG1_2', 'translation_MG1_3',\n",
       "       'translation_S_1', 'translation_S_2'],\n",
       "      dtype='object', name='colnames')"
      ]
     },
     "execution_count": 35,
     "metadata": {},
     "output_type": "execute_result"
    }
   ],
   "source": [
    "g.view(float, \"_1\", \"G1\")"
   ]
  },
  {
   "cell_type": "code",
   "execution_count": 36,
   "metadata": {},
   "outputs": [
    {
     "data": {
      "text/plain": [
       "(Index(['translation_G1_1', 'translation_G1_2', 'translation_G1_3',\n",
       "        'translation_G2M_1', 'translation_G2M_2', 'translation_G2M_3',\n",
       "        'translation_MG1_1', 'translation_MG1_2', 'translation_MG1_3',\n",
       "        'translation_S_1', 'translation_S_2'],\n",
       "       dtype='object', name='colnames'),\n",
       " Index(['translation_G1_1', 'translation_G2M_1', 'translation_MG1_1',\n",
       "        'translation_S_1'],\n",
       "       dtype='object', name='colnames'),\n",
       " Index(['translation_G1_1', 'translation_G1_2', 'translation_G1_3',\n",
       "        'translation_MG1_1', 'translation_MG1_2', 'translation_MG1_3'],\n",
       "       dtype='object', name='colnames'))"
      ]
     },
     "execution_count": 36,
     "metadata": {},
     "output_type": "execute_result"
    }
   ],
   "source": [
    "g.view(float), g.view(\"_1\"), g.view(\"G1\")"
   ]
  },
  {
   "cell_type": "markdown",
   "metadata": {
    "pycharm": {
     "name": "#%% md\n"
    }
   },
   "source": [
    "### Using `search` to get intersection of terms"
   ]
  },
  {
   "cell_type": "code",
   "execution_count": 24,
   "metadata": {
    "collapsed": false,
    "jupyter": {
     "outputs_hidden": false
    },
    "pycharm": {
     "is_executing": false,
     "name": "#%% \n"
    }
   },
   "outputs": [
    {
     "data": {
      "text/plain": [
       "Index(['translation_G1_1', 'translation_MG1_1'], dtype='object', name='colnames')"
      ]
     },
     "execution_count": 24,
     "metadata": {},
     "output_type": "execute_result"
    }
   ],
   "source": [
    "# finds all terms of type float AND contain '_1' AND contain 'G1'\n",
    "g.search(float, \"_1\", \"G1\")"
   ]
  },
  {
   "cell_type": "markdown",
   "metadata": {},
   "source": [
    "## Renaming columns using rules\n",
    "\n",
    "Often we want to chain together a bunch of changes to our naming of columns that either increase brevity, or make the dataframe *pretty* in preparation for graphs.\n",
    "\n",
    "A `MetaPanda` object can chain together a series of *string replacements* to proactively apply to the column names to aid this process.\n",
    "\n",
    "* Note that from version 0.2.2 onwards renaming columns is used using `rename_axis` instead of `rename`.\n"
   ]
  },
  {
   "cell_type": "code",
   "execution_count": 25,
   "metadata": {
    "pycharm": {
     "is_executing": false
    }
   },
   "outputs": [
    {
     "data": {
      "text/plain": [
       "MetaPanda(trl(n=5216, p=14, mem=1.169MB, options=[]))"
      ]
     },
     "execution_count": 25,
     "metadata": {},
     "output_type": "execute_result"
    }
   ],
   "source": [
    "g.rename_axis([(\"Protein|protein\",\"prot\"),(\"Intensity\",\"translation\"),(\"Gene\",\"gene\"),\n",
    "          (\"IDs\",\"ids\")])"
   ]
  },
  {
   "cell_type": "code",
   "execution_count": 26,
   "metadata": {
    "pycharm": {
     "is_executing": false
    }
   },
   "outputs": [
    {
     "data": {
      "text/plain": [
       "Index(['prot_ids', 'prot_names', 'gene_names', 'translation_G1_1',\n",
       "       'translation_G1_2', 'translation_G1_3', 'translation_G2M_1',\n",
       "       'translation_G2M_2', 'translation_G2M_3', 'translation_MG1_1',\n",
       "       'translation_MG1_2', 'translation_MG1_3', 'translation_S_1',\n",
       "       'translation_S_2'],\n",
       "      dtype='object', name='colnames')"
      ]
     },
     "execution_count": 26,
     "metadata": {},
     "output_type": "execute_result"
    }
   ],
   "source": [
    "g.columns"
   ]
  },
  {
   "cell_type": "markdown",
   "metadata": {},
   "source": [
    "Further to this, the renaming process can be further specified by using a selector to reduce the search space."
   ]
  },
  {
   "cell_type": "code",
   "execution_count": 34,
   "metadata": {
    "collapsed": false,
    "jupyter": {
     "outputs_hidden": false
    },
    "pycharm": {
     "is_executing": false,
     "name": "#%%\n"
    }
   },
   "outputs": [
    {
     "data": {
      "text/plain": [
       "MetaPanda(trl(n=5216, p=14, mem=1.169MB, options=[]))"
      ]
     },
     "execution_count": 34,
     "metadata": {},
     "output_type": "execute_result"
    }
   ],
   "source": [
    "g.rename_axis([('prot_', 'prot')], selector=object)"
   ]
  },
  {
   "cell_type": "markdown",
   "metadata": {},
   "source": [
    "## Caching selections using `cache`\n",
    "\n",
    "We may wish to save our 'selected columns' using the `cache` function, particularly if it is a complicated or long selection criterion.\n",
    "\n",
    "This also allows us to reference this cached selection using a *meaningful name* further down the line.\n",
    "\n",
    "**NOTE**: Selections are *not* pre-computed, the selection itself is cached and **executed at runtime**. This means that if you have different columns present further down the line, a *different result* will emerge."
   ]
  },
  {
   "cell_type": "code",
   "execution_count": 35,
   "metadata": {
    "pycharm": {
     "is_executing": false
    }
   },
   "outputs": [
    {
     "data": {
      "text/plain": [
       "MetaPanda(trl(n=5216, p=14, mem=1.169MB, options=[S]))"
      ]
     },
     "execution_count": 35,
     "metadata": {},
     "output_type": "execute_result"
    }
   ],
   "source": [
    "g.cache(\"ids\", object)"
   ]
  },
  {
   "cell_type": "markdown",
   "metadata": {},
   "source": [
    "Our cached columns now sit in a hidden object called `self.selectors_`:"
   ]
  },
  {
   "cell_type": "code",
   "execution_count": 36,
   "metadata": {
    "pycharm": {
     "is_executing": false
    }
   },
   "outputs": [
    {
     "data": {
      "text/plain": [
       "{'ids': ['object']}"
      ]
     },
     "execution_count": 36,
     "metadata": {},
     "output_type": "execute_result"
    }
   ],
   "source": [
    "g.selectors_"
   ]
  },
  {
   "cell_type": "markdown",
   "metadata": {},
   "source": [
    "They can now be summoned by using `view`, `view_not`, or any\n",
    " of the other inspection functions that use *selectors*:"
   ]
  },
  {
   "cell_type": "code",
   "execution_count": null,
   "metadata": {
    "collapsed": false,
    "jupyter": {
     "outputs_hidden": false
    },
    "pycharm": {
     "name": "#%%\n"
    }
   },
   "outputs": [],
   "source": [
    "g.view(\"ids\")"
   ]
  },
  {
   "cell_type": "markdown",
   "metadata": {},
   "source": [
    "### Multi-cache\n",
    "\n",
    "This is an extension to `cache`, where multiple things can be cached at once:"
   ]
  },
  {
   "cell_type": "code",
   "execution_count": 41,
   "metadata": {
    "pycharm": {
     "is_executing": false
    }
   },
   "outputs": [
    {
     "data": {
      "text/plain": [
       "MetaPanda(trl(n=5216, p=14, mem=1.169MB, options=[S]))"
      ]
     },
     "execution_count": 41,
     "metadata": {},
     "output_type": "execute_result"
    }
   ],
   "source": [
    "import numpy as np\n",
    "g.cache_k(hello=\"_s$\", hello2=np.square)"
   ]
  },
  {
   "cell_type": "code",
   "execution_count": 42,
   "metadata": {
    "pycharm": {
     "is_executing": false
    }
   },
   "outputs": [
    {
     "data": {
      "text/plain": [
       "{'ids': ['object'], 'hello': ['_s$'], 'hello2': [<ufunc 'square'>]}"
      ]
     },
     "execution_count": 42,
     "metadata": {},
     "output_type": "execute_result"
    }
   ],
   "source": [
    "g.selectors_"
   ]
  },
  {
   "cell_type": "markdown",
   "metadata": {},
   "source": [
    "## Mapping meta-information to column groups\n",
    "\n",
    "One of the easiest ways is to **cache** the groups and then create a `meta_map` \n",
    "from the cached elements."
   ]
  },
  {
   "cell_type": "code",
   "execution_count": 43,
   "metadata": {
    "pycharm": {
     "is_executing": false
    }
   },
   "outputs": [
    {
     "data": {
      "text/plain": [
       "MetaPanda(trl(n=5216, p=14, mem=1.169MB, options=[S]))"
      ]
     },
     "execution_count": 43,
     "metadata": {},
     "output_type": "execute_result"
    }
   ],
   "source": [
    "g.cache_k(numerical_f=\"translation\", identifs=(\"ids?$\",\"_names$\"))"
   ]
  },
  {
   "cell_type": "markdown",
   "metadata": {},
   "source": [
    "With `meta_map` we specify the name of the meta column, and then give selectors as to identify each subgroup. In this case we reference the name of the cached elements we are interested in, and use the dictionary name we specified to name it."
   ]
  },
  {
   "cell_type": "code",
   "execution_count": 44,
   "metadata": {
    "pycharm": {
     "is_executing": false
    }
   },
   "outputs": [
    {
     "name": "stderr",
     "output_type": "stream",
     "text": [
      "../turbopanda/utils/_sets.py:90: UserWarning: in `join`, length of arguments was < 2.\n",
      "  warnings.warn(\"in `join`, length of arguments was < 2.\", UserWarning)\n"
     ]
    },
    {
     "data": {
      "text/plain": [
       "MetaPanda(trl(n=5216, p=14, mem=1.169MB, options=[SM]))"
      ]
     },
     "execution_count": 44,
     "metadata": {},
     "output_type": "execute_result"
    }
   ],
   "source": [
    "g.meta_map(\"feature_types\", [\"numerical_f\",\"identifs\"])"
   ]
  },
  {
   "cell_type": "markdown",
   "metadata": {},
   "source": [
    "Note that duplicate column names **cannot** occur in different subgroups as we are trying to *uniquely* label each feature type."
   ]
  },
  {
   "cell_type": "code",
   "execution_count": 45,
   "metadata": {
    "pycharm": {
     "is_executing": false
    }
   },
   "outputs": [],
   "source": [
    "import pytest\n",
    "\n",
    "with pytest.raises(ValueError):\n",
    "    g.meta_map(\"identifiers\", [\"identifs\",\"identifs\"])"
   ]
  },
  {
   "cell_type": "markdown",
   "metadata": {},
   "source": [
    "These columns now appear in `meta_`:"
   ]
  },
  {
   "cell_type": "code",
   "execution_count": 46,
   "metadata": {
    "pycharm": {
     "is_executing": false
    }
   },
   "outputs": [
    {
     "data": {
      "text/html": [
       "<div>\n",
       "<style scoped>\n",
       "    .dataframe tbody tr th:only-of-type {\n",
       "        vertical-align: middle;\n",
       "    }\n",
       "\n",
       "    .dataframe tbody tr th {\n",
       "        vertical-align: top;\n",
       "    }\n",
       "\n",
       "    .dataframe thead th {\n",
       "        text-align: right;\n",
       "    }\n",
       "</style>\n",
       "<table border=\"1\" class=\"dataframe\">\n",
       "  <thead>\n",
       "    <tr style=\"text-align: right;\">\n",
       "      <th></th>\n",
       "      <th>true_type</th>\n",
       "      <th>is_mixed_type</th>\n",
       "      <th>is_unique_id</th>\n",
       "    </tr>\n",
       "  </thead>\n",
       "  <tbody>\n",
       "    <tr>\n",
       "      <th>protids</th>\n",
       "      <td>object</td>\n",
       "      <td>False</td>\n",
       "      <td>False</td>\n",
       "    </tr>\n",
       "    <tr>\n",
       "      <th>protnames</th>\n",
       "      <td>object</td>\n",
       "      <td>True</td>\n",
       "      <td>False</td>\n",
       "    </tr>\n",
       "    <tr>\n",
       "      <th>gene_names</th>\n",
       "      <td>object</td>\n",
       "      <td>True</td>\n",
       "      <td>False</td>\n",
       "    </tr>\n",
       "    <tr>\n",
       "      <th>translation_G1_1</th>\n",
       "      <td>float64</td>\n",
       "      <td>False</td>\n",
       "      <td>False</td>\n",
       "    </tr>\n",
       "    <tr>\n",
       "      <th>translation_G1_2</th>\n",
       "      <td>float64</td>\n",
       "      <td>False</td>\n",
       "      <td>False</td>\n",
       "    </tr>\n",
       "  </tbody>\n",
       "</table>\n",
       "</div>"
      ],
      "text/plain": [
       "                 true_type  is_mixed_type  is_unique_id\n",
       "protids             object          False         False\n",
       "protnames           object           True         False\n",
       "gene_names          object           True         False\n",
       "translation_G1_1   float64          False         False\n",
       "translation_G1_2   float64          False         False"
      ]
     },
     "execution_count": 46,
     "metadata": {},
     "output_type": "execute_result"
    }
   ],
   "source": [
    "g.meta_.head()"
   ]
  },
  {
   "cell_type": "markdown",
   "metadata": {},
   "source": [
    "## Applying transformations to selector data\n",
    "\n",
    "With these selector groups, we can apply a function to the columns of this data using `g.transform`.\n",
    "\n",
    "Transformations happen inplace and thus will change the underlying dataframe:"
   ]
  },
  {
   "cell_type": "code",
   "execution_count": 47,
   "metadata": {
    "pycharm": {
     "is_executing": false
    }
   },
   "outputs": [
    {
     "data": {
      "text/plain": [
       "MetaPanda(trl(n=5216, p=14, mem=1.169MB, options=[SM]))"
      ]
     },
     "execution_count": 47,
     "metadata": {},
     "output_type": "execute_result"
    }
   ],
   "source": [
    "g.transform(lambda x:x**2, \"numerical_f\")"
   ]
  },
  {
   "cell_type": "markdown",
   "metadata": {},
   "source": [
    "Note that if the `selector` parameter is empty, it will attempt to transform *every column* in the dataset. `pandas.DataFrame.transform` is used, so aggregations are not permitted. "
   ]
  },
  {
   "cell_type": "code",
   "execution_count": 48,
   "metadata": {
    "pycharm": {
     "is_executing": false
    }
   },
   "outputs": [
    {
     "data": {
      "text/plain": [
       "Index(['translation_G1_1', 'translation_G1_2', 'translation_G1_3',\n",
       "       'translation_G2M_1', 'translation_G2M_2', 'translation_G2M_3',\n",
       "       'translation_MG1_1', 'translation_MG1_2', 'translation_MG1_3',\n",
       "       'translation_S_1', 'translation_S_2'],\n",
       "      dtype='object', name='colnames')"
      ]
     },
     "execution_count": 48,
     "metadata": {},
     "output_type": "execute_result"
    }
   ],
   "source": [
    "g.view(\"numerical_f\")"
   ]
  },
  {
   "cell_type": "markdown",
   "metadata": {},
   "source": [
    "## Dropping columns through `del` or using the `drop` function\n",
    "\n",
    "Using the powerful selection methods for columns above, we can also remove or drop columns we aren't interested in:"
   ]
  },
  {
   "cell_type": "code",
   "execution_count": 49,
   "metadata": {
    "pycharm": {
     "is_executing": false
    }
   },
   "outputs": [
    {
     "data": {
      "text/plain": [
       "MetaPanda(trl(n=5216, p=11, mem=0.918MB, options=[SM]))"
      ]
     },
     "execution_count": 49,
     "metadata": {},
     "output_type": "execute_result"
    }
   ],
   "source": [
    "g.drop(object)"
   ]
  },
  {
   "cell_type": "markdown",
   "metadata": {
    "pycharm": {
     "name": "#%% md\n"
    }
   },
   "source": [
    "We could also select columns that we want to keep using the `keep` method."
   ]
  },
  {
   "cell_type": "markdown",
   "metadata": {},
   "source": [
    "## Writing files\n",
    "\n",
    "We can write our `MetaPanda` object to file with or without the associated metadata.\n",
    "\n",
    "Note that from version 0.1.6, the default save type is `JSON`, as\n",
    " this allows us to store the metainformation *with* the raw dataset, plus any\n",
    "  selectors and pipes.\n",
    "  \n",
    "At the current patch, we can handle `csv`, `xls` and `json` files, with plans \n",
    "to extend to `hdf` formats also."
   ]
  },
  {
   "cell_type": "code",
   "execution_count": 54,
   "metadata": {},
   "outputs": [],
   "source": [
    "# g.write(\"translation2.json\")"
   ]
  },
  {
   "cell_type": "markdown",
   "metadata": {},
   "source": [
    "### But this leaves us with an interesting question...\n",
    "\n",
    "Can I 'rollback' changes I made to a dataframe, or follow step-by-step what's actually happening to it?\n",
    "\n",
    "This means we need to create something like a **task graph** as we go along and perform **meta-changes** to the DataFrame."
   ]
  }
 ],
 "metadata": {
  "kernelspec": {
   "display_name": "Python 3",
   "language": "python",
   "name": "python3"
  },
  "language_info": {
   "codemirror_mode": {
    "name": "ipython",
    "version": 3
   },
   "file_extension": ".py",
   "mimetype": "text/x-python",
   "name": "python",
   "nbconvert_exporter": "python",
   "pygments_lexer": "ipython3",
   "version": "3.7.5"
  },
  "pycharm": {
   "stem_cell": {
    "cell_type": "raw",
    "metadata": {
     "collapsed": false
    },
    "source": []
   }
  }
 },
 "nbformat": 4,
 "nbformat_minor": 4
}
