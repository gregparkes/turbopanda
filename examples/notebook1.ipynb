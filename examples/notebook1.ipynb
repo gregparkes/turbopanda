{
 "cells": [
  {
   "cell_type": "markdown",
   "metadata": {},
   "source": [
    "# Notebook 1: Basic Example\n",
    "\n",
    "Here we will introduce a basic example of how **TurboPanda** works and can be of benefit to you.\n",
    "\n",
    "### Requirements:\n",
    "\n",
    "- `numpy`\n",
    "- `pandas`\n",
    "- `scipy.stats`\n",
    "- `matplotlib.pyplot`\n",
    "- `jupyter`\n",
    "\n",
    "See `environment.yml` file for Python requirements."
   ]
  },
  {
   "cell_type": "code",
   "execution_count": 1,
   "metadata": {},
   "outputs": [],
   "source": [
    "import sys\n",
    "import pandas as pd\n",
    "sys.path.insert(0,\"../\")\n",
    "# our main import\n",
    "import turbopanda as turb"
   ]
  },
  {
   "cell_type": "markdown",
   "metadata": {},
   "source": [
    "## Reading a `MetaPanda` object\n",
    "\n",
    "Additionally, the `__repr__` object represents the dataset in terms of dimensions and the memory usage. Future versions will aim to encapsulate multiple `pandas.DataFrames`.\n",
    "\n",
    "By default, if there isa **metadata** file also present, this will be read in.\n",
    "\n",
    "`MetaPanda` can be given a name to have, or alternatively it will just adopt the name of the file."
   ]
  },
  {
   "cell_type": "code",
   "execution_count": 2,
   "metadata": {},
   "outputs": [],
   "source": [
    "g = turb.read(\"translation.csv\")"
   ]
  },
  {
   "cell_type": "markdown",
   "metadata": {},
   "source": [
    "By default data types are automatically tuned down to the smallest integer, if possible. Errors are ignored.\n",
    "\n",
    "Here are the arguments shown in the `__repr__` attribute:\n",
    "\n",
    "1. **MetaPanda**: this tells you it's a MetaPanda object\n",
    "2. *Translation*: The name of the dataset\n",
    "3. $n$, $p$ and *mem*: the number of samples, dimensions and memory usage in megabtypes, respectively\n",
    "4. *mode*: either 'instant' or 'delay', we'll cover this later"
   ]
  },
  {
   "cell_type": "code",
   "execution_count": 3,
   "metadata": {},
   "outputs": [
    {
     "data": {
      "text/plain": [
       "MetaPanda(translation(n=5216, p=14, mem=0.585MB, key='None'), mode='instant')"
      ]
     },
     "execution_count": 3,
     "metadata": {},
     "output_type": "execute_result"
    }
   ],
   "source": [
    "g"
   ]
  },
  {
   "cell_type": "markdown",
   "metadata": {},
   "source": [
    "## Viewing the Dataset\n",
    "\n",
    "**NOTE**: The column names `colnames` and `counter` are reserved for the column/index reference and this is maintained in `MetaPanda`.\n",
    "\n",
    "We can access the pandas object using the `df_` attribute:"
   ]
  },
  {
   "cell_type": "code",
   "execution_count": 4,
   "metadata": {},
   "outputs": [
    {
     "data": {
      "text/html": [
       "<div>\n",
       "<style scoped>\n",
       "    .dataframe tbody tr th:only-of-type {\n",
       "        vertical-align: middle;\n",
       "    }\n",
       "\n",
       "    .dataframe tbody tr th {\n",
       "        vertical-align: top;\n",
       "    }\n",
       "\n",
       "    .dataframe thead th {\n",
       "        text-align: right;\n",
       "    }\n",
       "</style>\n",
       "<table border=\"1\" class=\"dataframe\">\n",
       "  <thead>\n",
       "    <tr style=\"text-align: right;\">\n",
       "      <th>colnames</th>\n",
       "      <th>prot_IDs</th>\n",
       "      <th>prot_names</th>\n",
       "      <th>Gene_names</th>\n",
       "      <th>translation_G1_1</th>\n",
       "      <th>translation_G1_2</th>\n",
       "      <th>translation_G1_3</th>\n",
       "      <th>translation_G2M_1</th>\n",
       "      <th>translation_G2M_2</th>\n",
       "      <th>translation_G2M_3</th>\n",
       "      <th>translation_MG1_1</th>\n",
       "      <th>translation_MG1_2</th>\n",
       "      <th>translation_MG1_3</th>\n",
       "      <th>translation_S_1</th>\n",
       "      <th>translation_S_2</th>\n",
       "    </tr>\n",
       "    <tr>\n",
       "      <th>counter</th>\n",
       "      <th></th>\n",
       "      <th></th>\n",
       "      <th></th>\n",
       "      <th></th>\n",
       "      <th></th>\n",
       "      <th></th>\n",
       "      <th></th>\n",
       "      <th></th>\n",
       "      <th></th>\n",
       "      <th></th>\n",
       "      <th></th>\n",
       "      <th></th>\n",
       "      <th></th>\n",
       "      <th></th>\n",
       "    </tr>\n",
       "  </thead>\n",
       "  <tbody>\n",
       "    <tr>\n",
       "      <th>0</th>\n",
       "      <td>Q96IC2;Q96IC2-2;H3BM72;H3BV93;H3BSC5</td>\n",
       "      <td>Putative RNA exonuclease NEF-sp</td>\n",
       "      <td>44M2.3</td>\n",
       "      <td>21.26058</td>\n",
       "      <td>20.47467</td>\n",
       "      <td>20.48905</td>\n",
       "      <td>21.01794</td>\n",
       "      <td>20.14569</td>\n",
       "      <td>22.29011</td>\n",
       "      <td>21.11775</td>\n",
       "      <td>20.71892</td>\n",
       "      <td>20.25788</td>\n",
       "      <td>20.58628</td>\n",
       "      <td>20.27662</td>\n",
       "    </tr>\n",
       "    <tr>\n",
       "      <th>1</th>\n",
       "      <td>H0YGH4;P01023;H0YGH6;F8W7L3</td>\n",
       "      <td>Alpha-2-macroglobulin</td>\n",
       "      <td>A2M</td>\n",
       "      <td>22.62015</td>\n",
       "      <td>22.26825</td>\n",
       "      <td>23.11786</td>\n",
       "      <td>24.94606</td>\n",
       "      <td>24.21645</td>\n",
       "      <td>25.26399</td>\n",
       "      <td>23.56139</td>\n",
       "      <td>23.46051</td>\n",
       "      <td>22.21951</td>\n",
       "      <td>22.87688</td>\n",
       "      <td>23.35703</td>\n",
       "    </tr>\n",
       "    <tr>\n",
       "      <th>2</th>\n",
       "      <td>A8K2U0;F5H2W3;H0YGG5;F5H2Z2;F5GXP1</td>\n",
       "      <td>Alpha-2-macroglobulin-like protein 1</td>\n",
       "      <td>A2ML1</td>\n",
       "      <td>NaN</td>\n",
       "      <td>NaN</td>\n",
       "      <td>NaN</td>\n",
       "      <td>NaN</td>\n",
       "      <td>NaN</td>\n",
       "      <td>25.11629</td>\n",
       "      <td>NaN</td>\n",
       "      <td>NaN</td>\n",
       "      <td>NaN</td>\n",
       "      <td>NaN</td>\n",
       "      <td>NaN</td>\n",
       "    </tr>\n",
       "    <tr>\n",
       "      <th>3</th>\n",
       "      <td>Q9NRG9;Q9NRG9-2;F8VZ44;H3BU82;F8VUB6</td>\n",
       "      <td>Aladin</td>\n",
       "      <td>AAAS</td>\n",
       "      <td>25.48382</td>\n",
       "      <td>24.42746</td>\n",
       "      <td>25.22645</td>\n",
       "      <td>24.44556</td>\n",
       "      <td>23.93706</td>\n",
       "      <td>25.30966</td>\n",
       "      <td>25.61462</td>\n",
       "      <td>25.45923</td>\n",
       "      <td>24.48253</td>\n",
       "      <td>24.31645</td>\n",
       "      <td>23.92143</td>\n",
       "    </tr>\n",
       "    <tr>\n",
       "      <th>4</th>\n",
       "      <td>Q86V21;Q86V21-2;E7EW25;F5H790;F8W8B5;Q86V21-3;...</td>\n",
       "      <td>Acetoacetyl-CoA synthetase</td>\n",
       "      <td>AACS</td>\n",
       "      <td>24.18177</td>\n",
       "      <td>24.51533</td>\n",
       "      <td>24.32766</td>\n",
       "      <td>24.15993</td>\n",
       "      <td>24.05001</td>\n",
       "      <td>24.95797</td>\n",
       "      <td>24.11656</td>\n",
       "      <td>24.22523</td>\n",
       "      <td>23.96446</td>\n",
       "      <td>23.89440</td>\n",
       "      <td>23.78107</td>\n",
       "    </tr>\n",
       "  </tbody>\n",
       "</table>\n",
       "</div>"
      ],
      "text/plain": [
       "colnames                                           prot_IDs  \\\n",
       "counter                                                       \n",
       "0                      Q96IC2;Q96IC2-2;H3BM72;H3BV93;H3BSC5   \n",
       "1                               H0YGH4;P01023;H0YGH6;F8W7L3   \n",
       "2                        A8K2U0;F5H2W3;H0YGG5;F5H2Z2;F5GXP1   \n",
       "3                      Q9NRG9;Q9NRG9-2;F8VZ44;H3BU82;F8VUB6   \n",
       "4         Q86V21;Q86V21-2;E7EW25;F5H790;F8W8B5;Q86V21-3;...   \n",
       "\n",
       "colnames                            prot_names Gene_names  translation_G1_1  \\\n",
       "counter                                                                       \n",
       "0              Putative RNA exonuclease NEF-sp     44M2.3          21.26058   \n",
       "1                        Alpha-2-macroglobulin        A2M          22.62015   \n",
       "2         Alpha-2-macroglobulin-like protein 1      A2ML1               NaN   \n",
       "3                                       Aladin       AAAS          25.48382   \n",
       "4                   Acetoacetyl-CoA synthetase       AACS          24.18177   \n",
       "\n",
       "colnames  translation_G1_2  translation_G1_3  translation_G2M_1  \\\n",
       "counter                                                           \n",
       "0                 20.47467          20.48905           21.01794   \n",
       "1                 22.26825          23.11786           24.94606   \n",
       "2                      NaN               NaN                NaN   \n",
       "3                 24.42746          25.22645           24.44556   \n",
       "4                 24.51533          24.32766           24.15993   \n",
       "\n",
       "colnames  translation_G2M_2  translation_G2M_3  translation_MG1_1  \\\n",
       "counter                                                             \n",
       "0                  20.14569           22.29011           21.11775   \n",
       "1                  24.21645           25.26399           23.56139   \n",
       "2                       NaN           25.11629                NaN   \n",
       "3                  23.93706           25.30966           25.61462   \n",
       "4                  24.05001           24.95797           24.11656   \n",
       "\n",
       "colnames  translation_MG1_2  translation_MG1_3  translation_S_1  \\\n",
       "counter                                                           \n",
       "0                  20.71892           20.25788         20.58628   \n",
       "1                  23.46051           22.21951         22.87688   \n",
       "2                       NaN                NaN              NaN   \n",
       "3                  25.45923           24.48253         24.31645   \n",
       "4                  24.22523           23.96446         23.89440   \n",
       "\n",
       "colnames  translation_S_2  \n",
       "counter                    \n",
       "0                20.27662  \n",
       "1                23.35703  \n",
       "2                     NaN  \n",
       "3                23.92143  \n",
       "4                23.78107  "
      ]
     },
     "execution_count": 4,
     "metadata": {},
     "output_type": "execute_result"
    }
   ],
   "source": [
    "g.head()"
   ]
  },
  {
   "cell_type": "markdown",
   "metadata": {},
   "source": [
    "### Some important modifications...\n",
    "\n",
    "`MetaPanda` does **not** accept MultiIndex for columns, these will be concatenated together. It will also do some nicety cleaning of your column names to remove spaces, tabs etc for your coding.\n",
    "\n",
    "Categorization is when the data columns are assigned to their correct type. We spend some time trying to find whether a column should be a `pd.Category` or `bool`, `int` or `float` for maximum efficiency.\n",
    "\n",
    "## Meta-information on the columns\n",
    "\n",
    "This can be accessed with the `meta_` attribute:"
   ]
  },
  {
   "cell_type": "code",
   "execution_count": 5,
   "metadata": {},
   "outputs": [
    {
     "data": {
      "text/html": [
       "<div>\n",
       "<style scoped>\n",
       "    .dataframe tbody tr th:only-of-type {\n",
       "        vertical-align: middle;\n",
       "    }\n",
       "\n",
       "    .dataframe tbody tr th {\n",
       "        vertical-align: top;\n",
       "    }\n",
       "\n",
       "    .dataframe thead th {\n",
       "        text-align: right;\n",
       "    }\n",
       "</style>\n",
       "<table border=\"1\" class=\"dataframe\">\n",
       "  <thead>\n",
       "    <tr style=\"text-align: right;\">\n",
       "      <th></th>\n",
       "      <th>e_types</th>\n",
       "      <th>is_unique</th>\n",
       "      <th>is_potential_id</th>\n",
       "      <th>is_potential_stacker</th>\n",
       "      <th>is_missing</th>\n",
       "      <th>n_uniques</th>\n",
       "    </tr>\n",
       "    <tr>\n",
       "      <th>colnames</th>\n",
       "      <th></th>\n",
       "      <th></th>\n",
       "      <th></th>\n",
       "      <th></th>\n",
       "      <th></th>\n",
       "      <th></th>\n",
       "    </tr>\n",
       "  </thead>\n",
       "  <tbody>\n",
       "    <tr>\n",
       "      <th>prot_IDs</th>\n",
       "      <td>object</td>\n",
       "      <td>False</td>\n",
       "      <td>False</td>\n",
       "      <td>True</td>\n",
       "      <td>False</td>\n",
       "      <td>5216</td>\n",
       "    </tr>\n",
       "    <tr>\n",
       "      <th>prot_names</th>\n",
       "      <td>object</td>\n",
       "      <td>False</td>\n",
       "      <td>False</td>\n",
       "      <td>True</td>\n",
       "      <td>True</td>\n",
       "      <td>5140</td>\n",
       "    </tr>\n",
       "    <tr>\n",
       "      <th>Gene_names</th>\n",
       "      <td>object</td>\n",
       "      <td>False</td>\n",
       "      <td>False</td>\n",
       "      <td>True</td>\n",
       "      <td>True</td>\n",
       "      <td>5155</td>\n",
       "    </tr>\n",
       "    <tr>\n",
       "      <th>translation_G1_1</th>\n",
       "      <td>float64</td>\n",
       "      <td>False</td>\n",
       "      <td>False</td>\n",
       "      <td>False</td>\n",
       "      <td>True</td>\n",
       "      <td>-1</td>\n",
       "    </tr>\n",
       "    <tr>\n",
       "      <th>translation_G1_2</th>\n",
       "      <td>float64</td>\n",
       "      <td>False</td>\n",
       "      <td>False</td>\n",
       "      <td>False</td>\n",
       "      <td>True</td>\n",
       "      <td>-1</td>\n",
       "    </tr>\n",
       "  </tbody>\n",
       "</table>\n",
       "</div>"
      ],
      "text/plain": [
       "                  e_types  is_unique  is_potential_id  is_potential_stacker  \\\n",
       "colnames                                                                      \n",
       "prot_IDs           object      False            False                  True   \n",
       "prot_names         object      False            False                  True   \n",
       "Gene_names         object      False            False                  True   \n",
       "translation_G1_1  float64      False            False                 False   \n",
       "translation_G1_2  float64      False            False                 False   \n",
       "\n",
       "                  is_missing  n_uniques  \n",
       "colnames                                 \n",
       "prot_IDs               False       5216  \n",
       "prot_names              True       5140  \n",
       "Gene_names              True       5155  \n",
       "translation_G1_1        True         -1  \n",
       "translation_G1_2        True         -1  "
      ]
     },
     "execution_count": 5,
     "metadata": {},
     "output_type": "execute_result"
    }
   ],
   "source": [
    "g.meta_.head()"
   ]
  },
  {
   "cell_type": "markdown",
   "metadata": {},
   "source": [
    "## MetaPanda properties\n",
    "\n",
    "`MetaPanda` makes extensive use of `@property` attributes to give an interface to the object. All properties in TurboPanda end with an underscore (`_`). Note that some of these properties *can be modified*, if done so carefully, whilst others are only for viewing and not modifiable.\n",
    "\n",
    "We have already covered the two most important properties:\n",
    "\n",
    "* `df_` : accessing the raw DataFrame\n",
    "* `meta_` : accessing meta-information of the dataset\n",
    "\n",
    "In addition to this, we have quick-and-easy ways of assessing the size of the dataset, in `n_` (the number of rows, samples) and `p_` (the number of columns, dimensions) following machine-learning nomenclature:"
   ]
  },
  {
   "cell_type": "code",
   "execution_count": 44,
   "metadata": {},
   "outputs": [
    {
     "data": {
      "text/plain": [
       "5216"
      ]
     },
     "execution_count": 44,
     "metadata": {},
     "output_type": "execute_result"
    }
   ],
   "source": [
    "g.n_"
   ]
  },
  {
   "cell_type": "code",
   "execution_count": 45,
   "metadata": {},
   "outputs": [
    {
     "data": {
      "text/plain": [
       "11"
      ]
     },
     "execution_count": 45,
     "metadata": {},
     "output_type": "execute_result"
    }
   ],
   "source": [
    "g.p_"
   ]
  },
  {
   "cell_type": "markdown",
   "metadata": {},
   "source": [
    "Other important properties (which we explore later) are the `selectors_` and `pipe_` attributes:"
   ]
  },
  {
   "cell_type": "code",
   "execution_count": 50,
   "metadata": {},
   "outputs": [
    {
     "data": {
      "text/plain": [
       "{'ids': ['object'],\n",
       " 'hello': ['_s$'],\n",
       " 'hello2': [<function __main__.<lambda>(x)>],\n",
       " 'numerical_f': ['translation'],\n",
       " 'identifs': ['ids?$', '_names$']}"
      ]
     },
     "execution_count": 50,
     "metadata": {},
     "output_type": "execute_result"
    }
   ],
   "source": [
    "g.selectors_"
   ]
  },
  {
   "cell_type": "code",
   "execution_count": 51,
   "metadata": {},
   "outputs": [
    {
     "data": {
      "text/plain": [
       "[]"
      ]
     },
     "execution_count": 51,
     "metadata": {},
     "output_type": "execute_result"
    }
   ],
   "source": [
    "g.pipe_"
   ]
  },
  {
   "cell_type": "markdown",
   "metadata": {},
   "source": [
    "### Boolean properties\n",
    "\n",
    "Since TurboPanda often handles matrix-like datasets, there are a number of powerful operations you might wish to perform to check the viability of the matrix. Note that this doesn't always work in heterogenous-type datasets.\n",
    "\n",
    "These properties do **NOT** end in `_`, as they are more like functions just wrapped as properties.\n",
    "\n",
    "For example, it can be nice to know if the matrix is square:"
   ]
  },
  {
   "cell_type": "code",
   "execution_count": 52,
   "metadata": {},
   "outputs": [
    {
     "data": {
      "text/plain": [
       "False"
      ]
     },
     "execution_count": 52,
     "metadata": {},
     "output_type": "execute_result"
    }
   ],
   "source": [
    "g.is_square"
   ]
  },
  {
   "cell_type": "markdown",
   "metadata": {},
   "source": [
    "Or is mathematically orthogonal:"
   ]
  },
  {
   "cell_type": "code",
   "execution_count": 53,
   "metadata": {},
   "outputs": [
    {
     "data": {
      "text/plain": [
       "False"
      ]
     },
     "execution_count": 53,
     "metadata": {},
     "output_type": "execute_result"
    }
   ],
   "source": [
    "g.is_orthogonal"
   ]
  },
  {
   "cell_type": "markdown",
   "metadata": {},
   "source": [
    "Or is invertible:"
   ]
  },
  {
   "cell_type": "code",
   "execution_count": 54,
   "metadata": {},
   "outputs": [
    {
     "data": {
      "text/plain": [
       "False"
      ]
     },
     "execution_count": 54,
     "metadata": {},
     "output_type": "execute_result"
    }
   ],
   "source": [
    "g.is_singular"
   ]
  },
  {
   "cell_type": "markdown",
   "metadata": {},
   "source": [
    "# TurboPanda *Selectors*\n",
    "\n",
    "Unlike traditional `pandas` which is incredibly difficult to access subsets of a DataFrame with ease, we allow the use of `regex` **and** typing (such as `float`) to specify subgroups that contain that capture pattern or data type.\n",
    "\n",
    "**NOTE**: Using the `__getitem__` attribute of `MetaPanda` **does not alter the underlying `DataFrame`**! The same super-object remains, allowing you to very quickly view dataframe subsets using a selection method of your choice.\n",
    "\n",
    "The **order of selection** if:\n",
    "\n",
    "1. selection is `None`: return \\[\\]\n",
    "2. selection is of type `pandas.Index`: return those columns\n",
    "3. selection is an accepted `dtype`: return columns of that dtype\n",
    "4. selection is callable (i.e function): return columns associated with boolean series\n",
    "5. selection is of type `str`:\n",
    "    1. selection is found as `meta_` column and column is of type `bool`\n",
    "    2. selection is found in `selectors_`\n",
    "    3. not in `df` column names: use regular expressions (regex)\n",
    "    4. otherwise selector is column name: return single `Series`\n",
    "    \n",
    "for example:"
   ]
  },
  {
   "cell_type": "code",
   "execution_count": 6,
   "metadata": {},
   "outputs": [
    {
     "data": {
      "text/html": [
       "<div>\n",
       "<style scoped>\n",
       "    .dataframe tbody tr th:only-of-type {\n",
       "        vertical-align: middle;\n",
       "    }\n",
       "\n",
       "    .dataframe tbody tr th {\n",
       "        vertical-align: top;\n",
       "    }\n",
       "\n",
       "    .dataframe thead th {\n",
       "        text-align: right;\n",
       "    }\n",
       "</style>\n",
       "<table border=\"1\" class=\"dataframe\">\n",
       "  <thead>\n",
       "    <tr style=\"text-align: right;\">\n",
       "      <th>colnames</th>\n",
       "      <th>translation_G1_1</th>\n",
       "      <th>translation_G2M_1</th>\n",
       "      <th>translation_MG1_1</th>\n",
       "      <th>translation_S_1</th>\n",
       "    </tr>\n",
       "    <tr>\n",
       "      <th>counter</th>\n",
       "      <th></th>\n",
       "      <th></th>\n",
       "      <th></th>\n",
       "      <th></th>\n",
       "    </tr>\n",
       "  </thead>\n",
       "  <tbody>\n",
       "    <tr>\n",
       "      <th>0</th>\n",
       "      <td>21.26058</td>\n",
       "      <td>21.01794</td>\n",
       "      <td>21.11775</td>\n",
       "      <td>20.58628</td>\n",
       "    </tr>\n",
       "    <tr>\n",
       "      <th>1</th>\n",
       "      <td>22.62015</td>\n",
       "      <td>24.94606</td>\n",
       "      <td>23.56139</td>\n",
       "      <td>22.87688</td>\n",
       "    </tr>\n",
       "    <tr>\n",
       "      <th>2</th>\n",
       "      <td>NaN</td>\n",
       "      <td>NaN</td>\n",
       "      <td>NaN</td>\n",
       "      <td>NaN</td>\n",
       "    </tr>\n",
       "    <tr>\n",
       "      <th>3</th>\n",
       "      <td>25.48382</td>\n",
       "      <td>24.44556</td>\n",
       "      <td>25.61462</td>\n",
       "      <td>24.31645</td>\n",
       "    </tr>\n",
       "    <tr>\n",
       "      <th>4</th>\n",
       "      <td>24.18177</td>\n",
       "      <td>24.15993</td>\n",
       "      <td>24.11656</td>\n",
       "      <td>23.89440</td>\n",
       "    </tr>\n",
       "  </tbody>\n",
       "</table>\n",
       "</div>"
      ],
      "text/plain": [
       "colnames  translation_G1_1  translation_G2M_1  translation_MG1_1  \\\n",
       "counter                                                            \n",
       "0                 21.26058           21.01794           21.11775   \n",
       "1                 22.62015           24.94606           23.56139   \n",
       "2                      NaN                NaN                NaN   \n",
       "3                 25.48382           24.44556           25.61462   \n",
       "4                 24.18177           24.15993           24.11656   \n",
       "\n",
       "colnames  translation_S_1  \n",
       "counter                    \n",
       "0                20.58628  \n",
       "1                22.87688  \n",
       "2                     NaN  \n",
       "3                24.31645  \n",
       "4                23.89440  "
      ]
     },
     "execution_count": 6,
     "metadata": {},
     "output_type": "execute_result"
    }
   ],
   "source": [
    "g[\"translation_[MG12S]*_1\"].head()"
   ]
  },
  {
   "cell_type": "markdown",
   "metadata": {},
   "source": [
    "Or using type:"
   ]
  },
  {
   "cell_type": "code",
   "execution_count": 7,
   "metadata": {},
   "outputs": [
    {
     "data": {
      "text/html": [
       "<div>\n",
       "<style scoped>\n",
       "    .dataframe tbody tr th:only-of-type {\n",
       "        vertical-align: middle;\n",
       "    }\n",
       "\n",
       "    .dataframe tbody tr th {\n",
       "        vertical-align: top;\n",
       "    }\n",
       "\n",
       "    .dataframe thead th {\n",
       "        text-align: right;\n",
       "    }\n",
       "</style>\n",
       "<table border=\"1\" class=\"dataframe\">\n",
       "  <thead>\n",
       "    <tr style=\"text-align: right;\">\n",
       "      <th>colnames</th>\n",
       "      <th>prot_IDs</th>\n",
       "      <th>prot_names</th>\n",
       "      <th>Gene_names</th>\n",
       "    </tr>\n",
       "    <tr>\n",
       "      <th>counter</th>\n",
       "      <th></th>\n",
       "      <th></th>\n",
       "      <th></th>\n",
       "    </tr>\n",
       "  </thead>\n",
       "  <tbody>\n",
       "    <tr>\n",
       "      <th>0</th>\n",
       "      <td>Q96IC2;Q96IC2-2;H3BM72;H3BV93;H3BSC5</td>\n",
       "      <td>Putative RNA exonuclease NEF-sp</td>\n",
       "      <td>44M2.3</td>\n",
       "    </tr>\n",
       "    <tr>\n",
       "      <th>1</th>\n",
       "      <td>H0YGH4;P01023;H0YGH6;F8W7L3</td>\n",
       "      <td>Alpha-2-macroglobulin</td>\n",
       "      <td>A2M</td>\n",
       "    </tr>\n",
       "    <tr>\n",
       "      <th>2</th>\n",
       "      <td>A8K2U0;F5H2W3;H0YGG5;F5H2Z2;F5GXP1</td>\n",
       "      <td>Alpha-2-macroglobulin-like protein 1</td>\n",
       "      <td>A2ML1</td>\n",
       "    </tr>\n",
       "    <tr>\n",
       "      <th>3</th>\n",
       "      <td>Q9NRG9;Q9NRG9-2;F8VZ44;H3BU82;F8VUB6</td>\n",
       "      <td>Aladin</td>\n",
       "      <td>AAAS</td>\n",
       "    </tr>\n",
       "    <tr>\n",
       "      <th>4</th>\n",
       "      <td>Q86V21;Q86V21-2;E7EW25;F5H790;F8W8B5;Q86V21-3;...</td>\n",
       "      <td>Acetoacetyl-CoA synthetase</td>\n",
       "      <td>AACS</td>\n",
       "    </tr>\n",
       "  </tbody>\n",
       "</table>\n",
       "</div>"
      ],
      "text/plain": [
       "colnames                                           prot_IDs  \\\n",
       "counter                                                       \n",
       "0                      Q96IC2;Q96IC2-2;H3BM72;H3BV93;H3BSC5   \n",
       "1                               H0YGH4;P01023;H0YGH6;F8W7L3   \n",
       "2                        A8K2U0;F5H2W3;H0YGG5;F5H2Z2;F5GXP1   \n",
       "3                      Q9NRG9;Q9NRG9-2;F8VZ44;H3BU82;F8VUB6   \n",
       "4         Q86V21;Q86V21-2;E7EW25;F5H790;F8W8B5;Q86V21-3;...   \n",
       "\n",
       "colnames                            prot_names Gene_names  \n",
       "counter                                                    \n",
       "0              Putative RNA exonuclease NEF-sp     44M2.3  \n",
       "1                        Alpha-2-macroglobulin        A2M  \n",
       "2         Alpha-2-macroglobulin-like protein 1      A2ML1  \n",
       "3                                       Aladin       AAAS  \n",
       "4                   Acetoacetyl-CoA synthetase       AACS  "
      ]
     },
     "execution_count": 7,
     "metadata": {},
     "output_type": "execute_result"
    }
   ],
   "source": [
    "g[object].head()"
   ]
  },
  {
   "cell_type": "markdown",
   "metadata": {},
   "source": [
    "Or using the `meta_` attribute columns as a selector:"
   ]
  },
  {
   "cell_type": "code",
   "execution_count": 19,
   "metadata": {},
   "outputs": [],
   "source": [
    "g[\"is_potential_id\"]"
   ]
  },
  {
   "cell_type": "markdown",
   "metadata": {},
   "source": [
    "## Viewing selections by `view` function\n",
    "\n",
    "Whereas above we use a *selector* to get a subgroup of columns, what if we want to view those column names for ourselves before we do anything?\n",
    "\n",
    "Here we *view* by a meta-data column:"
   ]
  },
  {
   "cell_type": "code",
   "execution_count": 20,
   "metadata": {},
   "outputs": [
    {
     "data": {
      "text/plain": [
       "Index([], dtype='object', name='colnames')"
      ]
     },
     "execution_count": 20,
     "metadata": {},
     "output_type": "execute_result"
    }
   ],
   "source": [
    "g.view(\"is_unique\")"
   ]
  },
  {
   "cell_type": "markdown",
   "metadata": {},
   "source": [
    "Or viewing by common regular expression, regex:"
   ]
  },
  {
   "cell_type": "code",
   "execution_count": 21,
   "metadata": {},
   "outputs": [
    {
     "data": {
      "text/plain": [
       "Index(['translation_G1_1', 'translation_G2M_1', 'translation_MG1_1',\n",
       "       'translation_S_1'],\n",
       "      dtype='object', name='colnames')"
      ]
     },
     "execution_count": 21,
     "metadata": {},
     "output_type": "execute_result"
    }
   ],
   "source": [
    "g.view(\"translation_[G1SM2]+_1\")"
   ]
  },
  {
   "cell_type": "markdown",
   "metadata": {},
   "source": [
    "Or by a data type selection:"
   ]
  },
  {
   "cell_type": "code",
   "execution_count": 22,
   "metadata": {},
   "outputs": [
    {
     "data": {
      "text/plain": [
       "Index(['prot_IDs', 'prot_names', 'Gene_names'], dtype='object', name='colnames')"
      ]
     },
     "execution_count": 22,
     "metadata": {},
     "output_type": "execute_result"
    }
   ],
   "source": [
    "g.view(object)"
   ]
  },
  {
   "cell_type": "markdown",
   "metadata": {},
   "source": [
    "Or by a custom function, which takes the whole dataframe and creating a boolean selection based on some threshold with respect to the variance, for instance, or sample size.\n",
    "\n",
    "This should allow us to use `pandas.DataFrame.aggregate` for better performance."
   ]
  },
  {
   "cell_type": "code",
   "execution_count": 23,
   "metadata": {},
   "outputs": [
    {
     "data": {
      "text/plain": [
       "Index(['prot_IDs'], dtype='object', name='colnames')"
      ]
     },
     "execution_count": 23,
     "metadata": {},
     "output_type": "execute_result"
    }
   ],
   "source": [
    "g.view(lambda x: x.count()==x.shape[0])"
   ]
  },
  {
   "cell_type": "markdown",
   "metadata": {},
   "source": [
    "Note that `view` and `view_not` functions return the selected columns **in the order they appear in the DataFrame**. This is important if you wish to retain a particular sorting of the data."
   ]
  },
  {
   "cell_type": "markdown",
   "metadata": {},
   "source": [
    "## Viewing *not* selected columns\n",
    "\n",
    "We can find which columns *remain* using `view_not` with our selection. This can be very useful if we wish to isolate some specific group or trait."
   ]
  },
  {
   "cell_type": "code",
   "execution_count": 24,
   "metadata": {},
   "outputs": [
    {
     "data": {
      "text/plain": [
       "Index(['translation_G1_1', 'translation_G1_2', 'translation_G1_3',\n",
       "       'translation_G2M_1', 'translation_G2M_2', 'translation_G2M_3',\n",
       "       'translation_MG1_1', 'translation_MG1_2', 'translation_MG1_3',\n",
       "       'translation_S_1', 'translation_S_2'],\n",
       "      dtype='object', name='colnames')"
      ]
     },
     "execution_count": 24,
     "metadata": {},
     "output_type": "execute_result"
    }
   ],
   "source": [
    "g.view_not(object)"
   ]
  },
  {
   "cell_type": "markdown",
   "metadata": {},
   "source": [
    "## Creating multi-views\n",
    "\n",
    "By using multiple selection criteria, by default `turbopanda` only keeps the **union** of the terms provided:\n",
    "\n",
    "$$\n",
    "S=\\bigcup_i t_i\n",
    "$$\n",
    "\n",
    "This means that if you select for `object` and for \"Intensity\", you will get all of the column names of type `object` **OR** containing the string \"Intensity\" within it.\n",
    "\n",
    "This is contrary to a **intersection** of terms, where you would get the column names of type `object` **AND** they contain the string \"Intensity\".\n",
    "\n",
    "In addition, *the order of the elements is maintained*, even across multiple selectors, such that any sorting/order is preserved in future operations."
   ]
  },
  {
   "cell_type": "code",
   "execution_count": 25,
   "metadata": {},
   "outputs": [
    {
     "data": {
      "text/plain": [
       "Index(['translation_G1_1', 'translation_G1_2', 'translation_G1_3',\n",
       "       'translation_G2M_1', 'translation_G2M_2', 'translation_G2M_3',\n",
       "       'translation_MG1_1', 'translation_MG1_2', 'translation_MG1_3',\n",
       "       'translation_S_1', 'translation_S_2'],\n",
       "      dtype='object', name='colnames')"
      ]
     },
     "execution_count": 25,
     "metadata": {},
     "output_type": "execute_result"
    }
   ],
   "source": [
    "g.view(float, \"_1\", \"G1\")"
   ]
  },
  {
   "cell_type": "code",
   "execution_count": 26,
   "metadata": {},
   "outputs": [
    {
     "data": {
      "text/plain": [
       "(Index(['translation_G1_1', 'translation_G1_2', 'translation_G1_3',\n",
       "        'translation_G2M_1', 'translation_G2M_2', 'translation_G2M_3',\n",
       "        'translation_MG1_1', 'translation_MG1_2', 'translation_MG1_3',\n",
       "        'translation_S_1', 'translation_S_2'],\n",
       "       dtype='object', name='colnames'),\n",
       " Index(['translation_G1_1', 'translation_G2M_1', 'translation_MG1_1',\n",
       "        'translation_S_1'],\n",
       "       dtype='object', name='colnames'),\n",
       " Index(['translation_G1_1', 'translation_G1_2', 'translation_G1_3',\n",
       "        'translation_MG1_1', 'translation_MG1_2', 'translation_MG1_3'],\n",
       "       dtype='object', name='colnames'))"
      ]
     },
     "execution_count": 26,
     "metadata": {},
     "output_type": "execute_result"
    }
   ],
   "source": [
    "g.view(float), g.view(\"_1\"), g.view(\"G1\")"
   ]
  },
  {
   "cell_type": "markdown",
   "metadata": {},
   "source": [
    "## Renaming columns using rules\n",
    "\n",
    "Often we want to chain together a bunch of changes to our naming of columns that either increase brevity, or make the dataframe *pretty* in preparation for graphs.\n",
    "\n",
    "A `MetaPanda` object can chain together a series of *string replacements* to proactively apply to the column names to aid this process."
   ]
  },
  {
   "cell_type": "code",
   "execution_count": 27,
   "metadata": {},
   "outputs": [
    {
     "data": {
      "text/plain": [
       "MetaPanda(translation(n=5216, p=14, mem=0.585MB, key='None'), mode='instant')"
      ]
     },
     "execution_count": 27,
     "metadata": {},
     "output_type": "execute_result"
    }
   ],
   "source": [
    "g.rename([(\"Protein|protein\",\"prot\"),(\"Intensity\",\"translation\"),(\"Gene\",\"gene\"),\n",
    "          (\"IDs\",\"ids\")])"
   ]
  },
  {
   "cell_type": "code",
   "execution_count": 28,
   "metadata": {},
   "outputs": [
    {
     "data": {
      "text/plain": [
       "Index(['prot_ids', 'prot_names', 'gene_names', 'translation_G1_1',\n",
       "       'translation_G1_2', 'translation_G1_3', 'translation_G2M_1',\n",
       "       'translation_G2M_2', 'translation_G2M_3', 'translation_MG1_1',\n",
       "       'translation_MG1_2', 'translation_MG1_3', 'translation_S_1',\n",
       "       'translation_S_2'],\n",
       "      dtype='object', name='colnames')"
      ]
     },
     "execution_count": 28,
     "metadata": {},
     "output_type": "execute_result"
    }
   ],
   "source": [
    "g.df_.columns"
   ]
  },
  {
   "cell_type": "markdown",
   "metadata": {},
   "source": [
    "Further to this, the renaming process can be further specified by using a selector to reduce the search space."
   ]
  },
  {
   "cell_type": "markdown",
   "metadata": {},
   "source": [
    "## Caching selections using `cache`\n",
    "\n",
    "We may wish to save our 'selected columns' using the `cache` function, particularly if it is a complicated or long selection criterion.\n",
    "\n",
    "This also allows us to reference this cached selection using a *meaningful name* further down the line.\n",
    "\n",
    "**NOTE**: Selections are *not* pre-computed, the selection itself is cached and **executed at runtime**. This means that if you have different columns present further down the line, a *different result* will emerge."
   ]
  },
  {
   "cell_type": "code",
   "execution_count": 29,
   "metadata": {},
   "outputs": [
    {
     "data": {
      "text/plain": [
       "MetaPanda(translation(n=5216, p=14, mem=0.585MB, key='None'), mode='instant')"
      ]
     },
     "execution_count": 29,
     "metadata": {},
     "output_type": "execute_result"
    }
   ],
   "source": [
    "g.cache(\"ids\", object)"
   ]
  },
  {
   "cell_type": "markdown",
   "metadata": {},
   "source": [
    "Our cached columns now sit in a hidden object called `self.selectors_`:"
   ]
  },
  {
   "cell_type": "code",
   "execution_count": 42,
   "metadata": {},
   "outputs": [
    {
     "data": {
      "text/plain": [
       "{'ids': ['object'],\n",
       " 'hello': ['_s$'],\n",
       " 'hello2': [<function __main__.<lambda>(x)>],\n",
       " 'numerical_f': ['translation'],\n",
       " 'identifs': ['ids?$', '_names$']}"
      ]
     },
     "execution_count": 42,
     "metadata": {},
     "output_type": "execute_result"
    }
   ],
   "source": [
    "g.selectors_"
   ]
  },
  {
   "cell_type": "markdown",
   "metadata": {},
   "source": [
    "They can now be summoned by using the name we passed to the dictionary:"
   ]
  },
  {
   "cell_type": "code",
   "execution_count": 31,
   "metadata": {},
   "outputs": [
    {
     "data": {
      "text/plain": [
       "Index(['prot_ids', 'prot_names', 'gene_names'], dtype='object', name='colnames')"
      ]
     },
     "execution_count": 31,
     "metadata": {},
     "output_type": "execute_result"
    }
   ],
   "source": [
    "g.view(\"ids\")"
   ]
  },
  {
   "cell_type": "markdown",
   "metadata": {},
   "source": [
    "### Multi-cache\n",
    "\n",
    "This is an extension to `cache`, where multiple things can be cached at once:"
   ]
  },
  {
   "cell_type": "code",
   "execution_count": 32,
   "metadata": {},
   "outputs": [
    {
     "data": {
      "text/plain": [
       "MetaPanda(translation(n=5216, p=14, mem=0.585MB, key='None'), mode='instant')"
      ]
     },
     "execution_count": 32,
     "metadata": {},
     "output_type": "execute_result"
    }
   ],
   "source": [
    "g.multi_cache(hello=\"_s$\", hello2=lambda x:x)"
   ]
  },
  {
   "cell_type": "code",
   "execution_count": 43,
   "metadata": {},
   "outputs": [
    {
     "data": {
      "text/plain": [
       "{'ids': ['object'],\n",
       " 'hello': ['_s$'],\n",
       " 'hello2': [<function __main__.<lambda>(x)>],\n",
       " 'numerical_f': ['translation'],\n",
       " 'identifs': ['ids?$', '_names$']}"
      ]
     },
     "execution_count": 43,
     "metadata": {},
     "output_type": "execute_result"
    }
   ],
   "source": [
    "g.selectors_"
   ]
  },
  {
   "cell_type": "markdown",
   "metadata": {},
   "source": [
    "## Mapping meta-information to column groups\n",
    "\n",
    "One of the easiest ways is to **cache** the groups and then create a `meta_map` from the cached elements."
   ]
  },
  {
   "cell_type": "code",
   "execution_count": 34,
   "metadata": {},
   "outputs": [
    {
     "data": {
      "text/plain": [
       "MetaPanda(translation(n=5216, p=14, mem=0.585MB, key='None'), mode='instant')"
      ]
     },
     "execution_count": 34,
     "metadata": {},
     "output_type": "execute_result"
    }
   ],
   "source": [
    "g.multi_cache(numerical_f=\"translation\", identifs=(\"ids?$\",\"_names$\"))"
   ]
  },
  {
   "cell_type": "markdown",
   "metadata": {},
   "source": [
    "With `meta_map` we specify the name of the meta column, and then give selectors as to identify each subgroup. In this case we reference the name of the cached elements we are interested in, and use the dictionary name we specified to name it."
   ]
  },
  {
   "cell_type": "code",
   "execution_count": 35,
   "metadata": {},
   "outputs": [
    {
     "data": {
      "text/plain": [
       "MetaPanda(translation(n=5216, p=14, mem=0.585MB, key='None'), mode='instant')"
      ]
     },
     "execution_count": 35,
     "metadata": {},
     "output_type": "execute_result"
    }
   ],
   "source": [
    "g.meta_map(\"feature_types\", [\"numerical_f\",\"identifs\"])"
   ]
  },
  {
   "cell_type": "markdown",
   "metadata": {},
   "source": [
    "Note that duplicate column names **cannot** occur in different subgroups as we are trying to *uniquely* label each feature type."
   ]
  },
  {
   "cell_type": "code",
   "execution_count": 36,
   "metadata": {},
   "outputs": [
    {
     "ename": "ValueError",
     "evalue": "shared terms: Index(['prot_ids', 'prot_names', 'gene_names'], dtype='object', name='colnames') discovered for meta_map.",
     "output_type": "error",
     "traceback": [
      "\u001b[0;31m---------------------------------------------------------------------------\u001b[0m",
      "\u001b[0;31mValueError\u001b[0m                                Traceback (most recent call last)",
      "\u001b[0;32m<ipython-input-36-c7fe3cc215b9>\u001b[0m in \u001b[0;36m<module>\u001b[0;34m\u001b[0m\n\u001b[0;32m----> 1\u001b[0;31m \u001b[0mg\u001b[0m\u001b[0;34m.\u001b[0m\u001b[0mmeta_map\u001b[0m\u001b[0;34m(\u001b[0m\u001b[0;34m\"identifiers\"\u001b[0m\u001b[0;34m,\u001b[0m \u001b[0;34m[\u001b[0m\u001b[0;34m\"identifs\"\u001b[0m\u001b[0;34m,\u001b[0m\u001b[0;34m\"identifs\"\u001b[0m\u001b[0;34m]\u001b[0m\u001b[0;34m)\u001b[0m\u001b[0;34m\u001b[0m\u001b[0;34m\u001b[0m\u001b[0m\n\u001b[0m",
      "\u001b[0;32m~/Documents/turbopanda/turbopanda/metapanda.py\u001b[0m in \u001b[0;36mnew_function\u001b[0;34m(self, *args, **kwargs)\u001b[0m\n\u001b[1;32m     97\u001b[0m                 \u001b[0mself\u001b[0m\u001b[0;34m.\u001b[0m\u001b[0m_pipe\u001b[0m\u001b[0;34m.\u001b[0m\u001b[0mappend\u001b[0m\u001b[0;34m(\u001b[0m\u001b[0;34m(\u001b[0m\u001b[0mfunction\u001b[0m\u001b[0;34m.\u001b[0m\u001b[0m__name__\u001b[0m\u001b[0;34m,\u001b[0m \u001b[0margs\u001b[0m\u001b[0;34m,\u001b[0m \u001b[0mkwargs\u001b[0m\u001b[0;34m)\u001b[0m\u001b[0;34m)\u001b[0m\u001b[0;34m\u001b[0m\u001b[0;34m\u001b[0m\u001b[0m\n\u001b[1;32m     98\u001b[0m             \u001b[0;32melse\u001b[0m\u001b[0;34m:\u001b[0m\u001b[0;34m\u001b[0m\u001b[0;34m\u001b[0m\u001b[0m\n\u001b[0;32m---> 99\u001b[0;31m                 \u001b[0;32mreturn\u001b[0m \u001b[0mfunction\u001b[0m\u001b[0;34m(\u001b[0m\u001b[0mself\u001b[0m\u001b[0;34m,\u001b[0m \u001b[0;34m*\u001b[0m\u001b[0margs\u001b[0m\u001b[0;34m,\u001b[0m \u001b[0;34m**\u001b[0m\u001b[0mkwargs\u001b[0m\u001b[0;34m)\u001b[0m\u001b[0;34m\u001b[0m\u001b[0;34m\u001b[0m\u001b[0m\n\u001b[0m\u001b[1;32m    100\u001b[0m \u001b[0;34m\u001b[0m\u001b[0m\n\u001b[1;32m    101\u001b[0m         \u001b[0;32mreturn\u001b[0m \u001b[0mnew_function\u001b[0m\u001b[0;34m\u001b[0m\u001b[0;34m\u001b[0m\u001b[0m\n",
      "\u001b[0;32m~/Documents/turbopanda/turbopanda/metapanda.py\u001b[0m in \u001b[0;36mmeta_map\u001b[0;34m(self, name, selectors)\u001b[0m\n\u001b[1;32m    989\u001b[0m             \u001b[0mnew_grid\u001b[0m\u001b[0;34m.\u001b[0m\u001b[0mname\u001b[0m \u001b[0;34m=\u001b[0m \u001b[0mname\u001b[0m\u001b[0;34m\u001b[0m\u001b[0;34m\u001b[0m\u001b[0m\n\u001b[1;32m    990\u001b[0m         \u001b[0;32melse\u001b[0m\u001b[0;34m:\u001b[0m\u001b[0;34m\u001b[0m\u001b[0;34m\u001b[0m\u001b[0m\n\u001b[0;32m--> 991\u001b[0;31m             \u001b[0;32mraise\u001b[0m \u001b[0mValueError\u001b[0m\u001b[0;34m(\u001b[0m\u001b[0;34m\"shared terms: {} discovered for meta_map.\"\u001b[0m\u001b[0;34m.\u001b[0m\u001b[0mformat\u001b[0m\u001b[0;34m(\u001b[0m\u001b[0migrid\u001b[0m\u001b[0;34m)\u001b[0m\u001b[0;34m)\u001b[0m\u001b[0;34m\u001b[0m\u001b[0;34m\u001b[0m\u001b[0m\n\u001b[0m\u001b[1;32m    992\u001b[0m         \u001b[0;31m# merge into meta\u001b[0m\u001b[0;34m\u001b[0m\u001b[0;34m\u001b[0m\u001b[0;34m\u001b[0m\u001b[0m\n\u001b[1;32m    993\u001b[0m         \u001b[0mself\u001b[0m\u001b[0;34m.\u001b[0m\u001b[0mmeta_\u001b[0m\u001b[0;34m[\u001b[0m\u001b[0mname\u001b[0m\u001b[0;34m]\u001b[0m \u001b[0;34m=\u001b[0m \u001b[0mobject_to_categorical\u001b[0m\u001b[0;34m(\u001b[0m\u001b[0mnew_grid\u001b[0m\u001b[0;34m)\u001b[0m\u001b[0;34m\u001b[0m\u001b[0;34m\u001b[0m\u001b[0m\n",
      "\u001b[0;31mValueError\u001b[0m: shared terms: Index(['prot_ids', 'prot_names', 'gene_names'], dtype='object', name='colnames') discovered for meta_map."
     ]
    }
   ],
   "source": [
    "g.meta_map(\"identifiers\", [\"identifs\",\"identifs\"])"
   ]
  },
  {
   "cell_type": "markdown",
   "metadata": {},
   "source": [
    "These columns now appear in `g.meta_`:"
   ]
  },
  {
   "cell_type": "code",
   "execution_count": 37,
   "metadata": {},
   "outputs": [
    {
     "data": {
      "text/html": [
       "<div>\n",
       "<style scoped>\n",
       "    .dataframe tbody tr th:only-of-type {\n",
       "        vertical-align: middle;\n",
       "    }\n",
       "\n",
       "    .dataframe tbody tr th {\n",
       "        vertical-align: top;\n",
       "    }\n",
       "\n",
       "    .dataframe thead th {\n",
       "        text-align: right;\n",
       "    }\n",
       "</style>\n",
       "<table border=\"1\" class=\"dataframe\">\n",
       "  <thead>\n",
       "    <tr style=\"text-align: right;\">\n",
       "      <th></th>\n",
       "      <th>e_types</th>\n",
       "      <th>is_unique</th>\n",
       "      <th>is_potential_id</th>\n",
       "      <th>is_potential_stacker</th>\n",
       "      <th>is_missing</th>\n",
       "      <th>n_uniques</th>\n",
       "      <th>feature_types</th>\n",
       "    </tr>\n",
       "    <tr>\n",
       "      <th>colnames</th>\n",
       "      <th></th>\n",
       "      <th></th>\n",
       "      <th></th>\n",
       "      <th></th>\n",
       "      <th></th>\n",
       "      <th></th>\n",
       "      <th></th>\n",
       "    </tr>\n",
       "  </thead>\n",
       "  <tbody>\n",
       "    <tr>\n",
       "      <th>prot_ids</th>\n",
       "      <td>object</td>\n",
       "      <td>False</td>\n",
       "      <td>False</td>\n",
       "      <td>True</td>\n",
       "      <td>False</td>\n",
       "      <td>5216</td>\n",
       "      <td>identifs</td>\n",
       "    </tr>\n",
       "    <tr>\n",
       "      <th>prot_names</th>\n",
       "      <td>object</td>\n",
       "      <td>False</td>\n",
       "      <td>False</td>\n",
       "      <td>True</td>\n",
       "      <td>True</td>\n",
       "      <td>5140</td>\n",
       "      <td>identifs</td>\n",
       "    </tr>\n",
       "    <tr>\n",
       "      <th>gene_names</th>\n",
       "      <td>object</td>\n",
       "      <td>False</td>\n",
       "      <td>False</td>\n",
       "      <td>True</td>\n",
       "      <td>True</td>\n",
       "      <td>5155</td>\n",
       "      <td>identifs</td>\n",
       "    </tr>\n",
       "    <tr>\n",
       "      <th>translation_G1_1</th>\n",
       "      <td>float64</td>\n",
       "      <td>False</td>\n",
       "      <td>False</td>\n",
       "      <td>False</td>\n",
       "      <td>True</td>\n",
       "      <td>-1</td>\n",
       "      <td>numerical_f</td>\n",
       "    </tr>\n",
       "    <tr>\n",
       "      <th>translation_G1_2</th>\n",
       "      <td>float64</td>\n",
       "      <td>False</td>\n",
       "      <td>False</td>\n",
       "      <td>False</td>\n",
       "      <td>True</td>\n",
       "      <td>-1</td>\n",
       "      <td>numerical_f</td>\n",
       "    </tr>\n",
       "  </tbody>\n",
       "</table>\n",
       "</div>"
      ],
      "text/plain": [
       "                  e_types  is_unique  is_potential_id  is_potential_stacker  \\\n",
       "colnames                                                                      \n",
       "prot_ids           object      False            False                  True   \n",
       "prot_names         object      False            False                  True   \n",
       "gene_names         object      False            False                  True   \n",
       "translation_G1_1  float64      False            False                 False   \n",
       "translation_G1_2  float64      False            False                 False   \n",
       "\n",
       "                  is_missing  n_uniques feature_types  \n",
       "colnames                                               \n",
       "prot_ids               False       5216      identifs  \n",
       "prot_names              True       5140      identifs  \n",
       "gene_names              True       5155      identifs  \n",
       "translation_G1_1        True         -1   numerical_f  \n",
       "translation_G1_2        True         -1   numerical_f  "
      ]
     },
     "execution_count": 37,
     "metadata": {},
     "output_type": "execute_result"
    }
   ],
   "source": [
    "g.meta_.head()"
   ]
  },
  {
   "cell_type": "markdown",
   "metadata": {},
   "source": [
    "## Applying transformations to selector data\n",
    "\n",
    "With these selector groups, we can apply a function to the columns of this data using `g.transform`:"
   ]
  },
  {
   "cell_type": "code",
   "execution_count": 38,
   "metadata": {},
   "outputs": [
    {
     "data": {
      "text/plain": [
       "MetaPanda(translation(n=5216, p=14, mem=0.585MB, key='None'), mode='instant')"
      ]
     },
     "execution_count": 38,
     "metadata": {},
     "output_type": "execute_result"
    }
   ],
   "source": [
    "g.transform(lambda x:x**2, \"numerical_f\")"
   ]
  },
  {
   "cell_type": "markdown",
   "metadata": {},
   "source": [
    "Note that if the `selector` parameter is empty, it will attempt to transform *every column* in the dataset. `pandas.DataFrame.transform` is used, so aggregations are not permitted. "
   ]
  },
  {
   "cell_type": "code",
   "execution_count": 39,
   "metadata": {},
   "outputs": [
    {
     "data": {
      "text/html": [
       "<div>\n",
       "<style scoped>\n",
       "    .dataframe tbody tr th:only-of-type {\n",
       "        vertical-align: middle;\n",
       "    }\n",
       "\n",
       "    .dataframe tbody tr th {\n",
       "        vertical-align: top;\n",
       "    }\n",
       "\n",
       "    .dataframe thead th {\n",
       "        text-align: right;\n",
       "    }\n",
       "</style>\n",
       "<table border=\"1\" class=\"dataframe\">\n",
       "  <thead>\n",
       "    <tr style=\"text-align: right;\">\n",
       "      <th>colnames</th>\n",
       "      <th>translation_G1_1</th>\n",
       "      <th>translation_G1_2</th>\n",
       "      <th>translation_G1_3</th>\n",
       "      <th>translation_G2M_1</th>\n",
       "      <th>translation_G2M_2</th>\n",
       "      <th>translation_G2M_3</th>\n",
       "      <th>translation_MG1_1</th>\n",
       "      <th>translation_MG1_2</th>\n",
       "      <th>translation_MG1_3</th>\n",
       "      <th>translation_S_1</th>\n",
       "      <th>translation_S_2</th>\n",
       "    </tr>\n",
       "    <tr>\n",
       "      <th>counter</th>\n",
       "      <th></th>\n",
       "      <th></th>\n",
       "      <th></th>\n",
       "      <th></th>\n",
       "      <th></th>\n",
       "      <th></th>\n",
       "      <th></th>\n",
       "      <th></th>\n",
       "      <th></th>\n",
       "      <th></th>\n",
       "      <th></th>\n",
       "    </tr>\n",
       "  </thead>\n",
       "  <tbody>\n",
       "    <tr>\n",
       "      <th>0</th>\n",
       "      <td>452.012262</td>\n",
       "      <td>419.212112</td>\n",
       "      <td>419.801170</td>\n",
       "      <td>441.753802</td>\n",
       "      <td>405.848826</td>\n",
       "      <td>496.849004</td>\n",
       "      <td>445.959365</td>\n",
       "      <td>429.273646</td>\n",
       "      <td>410.381702</td>\n",
       "      <td>423.794924</td>\n",
       "      <td>411.141319</td>\n",
       "    </tr>\n",
       "    <tr>\n",
       "      <th>1</th>\n",
       "      <td>511.671186</td>\n",
       "      <td>495.874958</td>\n",
       "      <td>534.435451</td>\n",
       "      <td>622.305910</td>\n",
       "      <td>586.436451</td>\n",
       "      <td>638.269191</td>\n",
       "      <td>555.139099</td>\n",
       "      <td>550.395529</td>\n",
       "      <td>493.706625</td>\n",
       "      <td>523.351639</td>\n",
       "      <td>545.550850</td>\n",
       "    </tr>\n",
       "    <tr>\n",
       "      <th>2</th>\n",
       "      <td>NaN</td>\n",
       "      <td>NaN</td>\n",
       "      <td>NaN</td>\n",
       "      <td>NaN</td>\n",
       "      <td>NaN</td>\n",
       "      <td>630.828023</td>\n",
       "      <td>NaN</td>\n",
       "      <td>NaN</td>\n",
       "      <td>NaN</td>\n",
       "      <td>NaN</td>\n",
       "      <td>NaN</td>\n",
       "    </tr>\n",
       "    <tr>\n",
       "      <th>3</th>\n",
       "      <td>649.425082</td>\n",
       "      <td>596.700802</td>\n",
       "      <td>636.373780</td>\n",
       "      <td>597.585404</td>\n",
       "      <td>572.982841</td>\n",
       "      <td>640.578889</td>\n",
       "      <td>656.108758</td>\n",
       "      <td>648.172392</td>\n",
       "      <td>599.394275</td>\n",
       "      <td>591.289741</td>\n",
       "      <td>572.234813</td>\n",
       "    </tr>\n",
       "    <tr>\n",
       "      <th>4</th>\n",
       "      <td>584.758000</td>\n",
       "      <td>601.001405</td>\n",
       "      <td>591.835041</td>\n",
       "      <td>583.702218</td>\n",
       "      <td>578.402981</td>\n",
       "      <td>622.900267</td>\n",
       "      <td>581.608466</td>\n",
       "      <td>586.861769</td>\n",
       "      <td>574.295343</td>\n",
       "      <td>570.942351</td>\n",
       "      <td>565.539290</td>\n",
       "    </tr>\n",
       "  </tbody>\n",
       "</table>\n",
       "</div>"
      ],
      "text/plain": [
       "colnames  translation_G1_1  translation_G1_2  translation_G1_3  \\\n",
       "counter                                                          \n",
       "0               452.012262        419.212112        419.801170   \n",
       "1               511.671186        495.874958        534.435451   \n",
       "2                      NaN               NaN               NaN   \n",
       "3               649.425082        596.700802        636.373780   \n",
       "4               584.758000        601.001405        591.835041   \n",
       "\n",
       "colnames  translation_G2M_1  translation_G2M_2  translation_G2M_3  \\\n",
       "counter                                                             \n",
       "0                441.753802         405.848826         496.849004   \n",
       "1                622.305910         586.436451         638.269191   \n",
       "2                       NaN                NaN         630.828023   \n",
       "3                597.585404         572.982841         640.578889   \n",
       "4                583.702218         578.402981         622.900267   \n",
       "\n",
       "colnames  translation_MG1_1  translation_MG1_2  translation_MG1_3  \\\n",
       "counter                                                             \n",
       "0                445.959365         429.273646         410.381702   \n",
       "1                555.139099         550.395529         493.706625   \n",
       "2                       NaN                NaN                NaN   \n",
       "3                656.108758         648.172392         599.394275   \n",
       "4                581.608466         586.861769         574.295343   \n",
       "\n",
       "colnames  translation_S_1  translation_S_2  \n",
       "counter                                     \n",
       "0              423.794924       411.141319  \n",
       "1              523.351639       545.550850  \n",
       "2                     NaN              NaN  \n",
       "3              591.289741       572.234813  \n",
       "4              570.942351       565.539290  "
      ]
     },
     "execution_count": 39,
     "metadata": {},
     "output_type": "execute_result"
    }
   ],
   "source": [
    "g[\"numerical_f\"].head()"
   ]
  },
  {
   "cell_type": "markdown",
   "metadata": {},
   "source": [
    "## Dropping columns through `del` or using the `drop` function\n",
    "\n",
    "Using the powerful selection methods for columns above, we can also remove or drop columns we aren't interested in:"
   ]
  },
  {
   "cell_type": "code",
   "execution_count": 40,
   "metadata": {},
   "outputs": [
    {
     "data": {
      "text/plain": [
       "MetaPanda(translation(n=5216, p=11, mem=0.460MB, key='None'), mode='instant')"
      ]
     },
     "execution_count": 40,
     "metadata": {},
     "output_type": "execute_result"
    }
   ],
   "source": [
    "g.drop(object)"
   ]
  },
  {
   "cell_type": "markdown",
   "metadata": {},
   "source": [
    "## Writing files\n",
    "\n",
    "We can write our `MetaPanda` object to file with or without the associated metadata.\n",
    "\n",
    "Note that from version 0.1.6, the default save type is `JSON`, as this allows us to store the metainformation *with* the raw dataset, plus any selectors and pipes."
   ]
  },
  {
   "cell_type": "code",
   "execution_count": 41,
   "metadata": {},
   "outputs": [],
   "source": [
    "# g.write(\"translation2.json\")"
   ]
  },
  {
   "cell_type": "markdown",
   "metadata": {},
   "source": [
    "### But this leaves us with an interesting question...\n",
    "\n",
    "Can I 'rollback' changes I made to a dataframe, or follow step-by-step what's actually happening to it?\n",
    "\n",
    "This means we need to create something like a **task graph** as we go along and perform **meta-changes** to the DataFrame."
   ]
  }
 ],
 "metadata": {
  "kernelspec": {
   "display_name": "Python 3",
   "language": "python",
   "name": "python3"
  },
  "language_info": {
   "codemirror_mode": {
    "name": "ipython",
    "version": 3
   },
   "file_extension": ".py",
   "mimetype": "text/x-python",
   "name": "python",
   "nbconvert_exporter": "python",
   "pygments_lexer": "ipython3",
   "version": "3.7.5"
  }
 },
 "nbformat": 4,
 "nbformat_minor": 4
}
