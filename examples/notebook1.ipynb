{
 "cells": [
  {
   "cell_type": "markdown",
   "metadata": {},
   "source": [
    "# Notebook 1: Basic Example\n",
    "\n",
    "Here we will introduce a basic example of how **TurboPanda** works and can be of benefit to you.\n",
    "\n",
    "### Requirements:\n",
    "\n",
    "- `numpy`\n",
    "- `pandas`\n",
    "- `matplotlib`\n",
    "- `seaborn`\n",
    "- `scipy.stats`\n",
    "- `sklearn`"
   ]
  },
  {
   "cell_type": "code",
   "execution_count": 1,
   "metadata": {},
   "outputs": [],
   "source": [
    "import sys\n",
    "import pandas as pd\n",
    "# map path back to the directory above battlesim/\n",
    "sys.path.insert(0,\"../\")\n",
    "# our main import\n",
    "import turbopanda as trb"
   ]
  },
  {
   "cell_type": "markdown",
   "metadata": {},
   "source": [
    "## Create a `MetaPanda` object\n",
    "\n",
    "Additionally, the `__repr__` object represents the dataset in terms of dimensions and the memory usage. Future versions will aim to encapsulate multiple `pandas.DataFrames`."
   ]
  },
  {
   "cell_type": "code",
   "execution_count": 2,
   "metadata": {},
   "outputs": [],
   "source": [
    "# download a dataset\n",
    "dd = pd.read_csv(\"../../Research Data/datasets/aviner_translation.csv\")\n",
    "g = trb.MetaPanda(dd, name=\"translation\")"
   ]
  },
  {
   "cell_type": "markdown",
   "metadata": {},
   "source": [
    "## Viewing the Dataset\n",
    "\n",
    "We can access the pandas object using the `df_` attribute:"
   ]
  },
  {
   "cell_type": "code",
   "execution_count": 3,
   "metadata": {},
   "outputs": [
    {
     "data": {
      "text/html": [
       "<div>\n",
       "<style scoped>\n",
       "    .dataframe tbody tr th:only-of-type {\n",
       "        vertical-align: middle;\n",
       "    }\n",
       "\n",
       "    .dataframe tbody tr th {\n",
       "        vertical-align: top;\n",
       "    }\n",
       "\n",
       "    .dataframe thead th {\n",
       "        text-align: right;\n",
       "    }\n",
       "</style>\n",
       "<table border=\"1\" class=\"dataframe\">\n",
       "  <thead>\n",
       "    <tr style=\"text-align: right;\">\n",
       "      <th></th>\n",
       "      <th>Protein_IDs</th>\n",
       "      <th>Majority_protein_IDs</th>\n",
       "      <th>Protein_names</th>\n",
       "      <th>Gene_names</th>\n",
       "      <th>Intensity_G1_1</th>\n",
       "      <th>Intensity_G1_2</th>\n",
       "      <th>Intensity_G1_3</th>\n",
       "      <th>Intensity_G2M_1</th>\n",
       "      <th>Intensity_G2M_2</th>\n",
       "      <th>Intensity_G2M_3</th>\n",
       "      <th>Intensity_MG1_1</th>\n",
       "      <th>Intensity_MG1_2</th>\n",
       "      <th>Intensity_MG1_3</th>\n",
       "      <th>Intensity_S_1</th>\n",
       "      <th>Intensity_S_2</th>\n",
       "      <th>Intensity_S_3</th>\n",
       "    </tr>\n",
       "  </thead>\n",
       "  <tbody>\n",
       "    <tr>\n",
       "      <td>0</td>\n",
       "      <td>Q96IC2;Q96IC2-2;H3BM72;H3BV93;H3BSC5</td>\n",
       "      <td>Q96IC2;Q96IC2-2;H3BM72;H3BV93;H3BSC5</td>\n",
       "      <td>Putative RNA exonuclease NEF-sp</td>\n",
       "      <td>44M2.3</td>\n",
       "      <td>21.26058</td>\n",
       "      <td>20.47467</td>\n",
       "      <td>20.48905</td>\n",
       "      <td>21.01794</td>\n",
       "      <td>20.14569</td>\n",
       "      <td>22.29011</td>\n",
       "      <td>21.11775</td>\n",
       "      <td>20.71892</td>\n",
       "      <td>20.25788</td>\n",
       "      <td>20.58628</td>\n",
       "      <td>20.27662</td>\n",
       "      <td>21.05682</td>\n",
       "    </tr>\n",
       "    <tr>\n",
       "      <td>1</td>\n",
       "      <td>H0YGH4;P01023;H0YGH6;F8W7L3</td>\n",
       "      <td>H0YGH4;P01023</td>\n",
       "      <td>Alpha-2-macroglobulin</td>\n",
       "      <td>A2M</td>\n",
       "      <td>22.62015</td>\n",
       "      <td>22.26825</td>\n",
       "      <td>23.11786</td>\n",
       "      <td>24.94606</td>\n",
       "      <td>24.21645</td>\n",
       "      <td>25.26399</td>\n",
       "      <td>23.56139</td>\n",
       "      <td>23.46051</td>\n",
       "      <td>22.21951</td>\n",
       "      <td>22.87688</td>\n",
       "      <td>23.35703</td>\n",
       "      <td>23.25724</td>\n",
       "    </tr>\n",
       "    <tr>\n",
       "      <td>2</td>\n",
       "      <td>A8K2U0;F5H2W3;H0YGG5;F5H2Z2;F5GXP1</td>\n",
       "      <td>A8K2U0;F5H2W3;H0YGG5;F5H2Z2</td>\n",
       "      <td>Alpha-2-macroglobulin-like protein 1</td>\n",
       "      <td>A2ML1</td>\n",
       "      <td>NaN</td>\n",
       "      <td>NaN</td>\n",
       "      <td>NaN</td>\n",
       "      <td>NaN</td>\n",
       "      <td>NaN</td>\n",
       "      <td>25.11629</td>\n",
       "      <td>NaN</td>\n",
       "      <td>NaN</td>\n",
       "      <td>NaN</td>\n",
       "      <td>NaN</td>\n",
       "      <td>NaN</td>\n",
       "      <td>NaN</td>\n",
       "    </tr>\n",
       "    <tr>\n",
       "      <td>3</td>\n",
       "      <td>Q9NRG9;Q9NRG9-2;F8VZ44;H3BU82;F8VUB6</td>\n",
       "      <td>Q9NRG9;Q9NRG9-2;F8VZ44;H3BU82</td>\n",
       "      <td>Aladin</td>\n",
       "      <td>AAAS</td>\n",
       "      <td>25.48382</td>\n",
       "      <td>24.42746</td>\n",
       "      <td>25.22645</td>\n",
       "      <td>24.44556</td>\n",
       "      <td>23.93706</td>\n",
       "      <td>25.30966</td>\n",
       "      <td>25.61462</td>\n",
       "      <td>25.45923</td>\n",
       "      <td>24.48253</td>\n",
       "      <td>24.31645</td>\n",
       "      <td>23.92143</td>\n",
       "      <td>25.21838</td>\n",
       "    </tr>\n",
       "    <tr>\n",
       "      <td>4</td>\n",
       "      <td>Q86V21;Q86V21-2;E7EW25;F5H790;F8W8B5;Q86V21-3;...</td>\n",
       "      <td>Q86V21;Q86V21-2;E7EW25;F5H790</td>\n",
       "      <td>Acetoacetyl-CoA synthetase</td>\n",
       "      <td>AACS</td>\n",
       "      <td>24.18177</td>\n",
       "      <td>24.51533</td>\n",
       "      <td>24.32766</td>\n",
       "      <td>24.15993</td>\n",
       "      <td>24.05001</td>\n",
       "      <td>24.95797</td>\n",
       "      <td>24.11656</td>\n",
       "      <td>24.22523</td>\n",
       "      <td>23.96446</td>\n",
       "      <td>23.89440</td>\n",
       "      <td>23.78107</td>\n",
       "      <td>24.32629</td>\n",
       "    </tr>\n",
       "  </tbody>\n",
       "</table>\n",
       "</div>"
      ],
      "text/plain": [
       "                                         Protein_IDs  \\\n",
       "0               Q96IC2;Q96IC2-2;H3BM72;H3BV93;H3BSC5   \n",
       "1                        H0YGH4;P01023;H0YGH6;F8W7L3   \n",
       "2                 A8K2U0;F5H2W3;H0YGG5;F5H2Z2;F5GXP1   \n",
       "3               Q9NRG9;Q9NRG9-2;F8VZ44;H3BU82;F8VUB6   \n",
       "4  Q86V21;Q86V21-2;E7EW25;F5H790;F8W8B5;Q86V21-3;...   \n",
       "\n",
       "                   Majority_protein_IDs                         Protein_names  \\\n",
       "0  Q96IC2;Q96IC2-2;H3BM72;H3BV93;H3BSC5       Putative RNA exonuclease NEF-sp   \n",
       "1                         H0YGH4;P01023                 Alpha-2-macroglobulin   \n",
       "2           A8K2U0;F5H2W3;H0YGG5;F5H2Z2  Alpha-2-macroglobulin-like protein 1   \n",
       "3         Q9NRG9;Q9NRG9-2;F8VZ44;H3BU82                                Aladin   \n",
       "4         Q86V21;Q86V21-2;E7EW25;F5H790            Acetoacetyl-CoA synthetase   \n",
       "\n",
       "  Gene_names  Intensity_G1_1  Intensity_G1_2  Intensity_G1_3  Intensity_G2M_1  \\\n",
       "0     44M2.3        21.26058        20.47467        20.48905         21.01794   \n",
       "1        A2M        22.62015        22.26825        23.11786         24.94606   \n",
       "2      A2ML1             NaN             NaN             NaN              NaN   \n",
       "3       AAAS        25.48382        24.42746        25.22645         24.44556   \n",
       "4       AACS        24.18177        24.51533        24.32766         24.15993   \n",
       "\n",
       "   Intensity_G2M_2  Intensity_G2M_3  Intensity_MG1_1  Intensity_MG1_2  \\\n",
       "0         20.14569         22.29011         21.11775         20.71892   \n",
       "1         24.21645         25.26399         23.56139         23.46051   \n",
       "2              NaN         25.11629              NaN              NaN   \n",
       "3         23.93706         25.30966         25.61462         25.45923   \n",
       "4         24.05001         24.95797         24.11656         24.22523   \n",
       "\n",
       "   Intensity_MG1_3  Intensity_S_1  Intensity_S_2  Intensity_S_3  \n",
       "0         20.25788       20.58628       20.27662       21.05682  \n",
       "1         22.21951       22.87688       23.35703       23.25724  \n",
       "2              NaN            NaN            NaN            NaN  \n",
       "3         24.48253       24.31645       23.92143       25.21838  \n",
       "4         23.96446       23.89440       23.78107       24.32629  "
      ]
     },
     "execution_count": 3,
     "metadata": {},
     "output_type": "execute_result"
    }
   ],
   "source": [
    "g.df_.head()"
   ]
  },
  {
   "cell_type": "markdown",
   "metadata": {},
   "source": [
    "### Some important modifications...\n",
    "\n",
    "`MetaPanda` does **not** accept MultiIndex for columns, these will be concatenated together. It will also do some nicety cleaning of your column names to remove spaces, tabs etc for your coding.\n",
    "\n",
    "Categorization is when the data columns are assigned to their correct type. We spend some time trying to find whether a column should be a `pd.Category` or `bool`, `int` or `float` for maximum efficiency.\n",
    "\n",
    "## Meta-information on the columns\n",
    "\n",
    "This can be accessed with the `meta_` attribute:"
   ]
  },
  {
   "cell_type": "code",
   "execution_count": 4,
   "metadata": {},
   "outputs": [
    {
     "data": {
      "text/html": [
       "<div>\n",
       "<style scoped>\n",
       "    .dataframe tbody tr th:only-of-type {\n",
       "        vertical-align: middle;\n",
       "    }\n",
       "\n",
       "    .dataframe tbody tr th {\n",
       "        vertical-align: top;\n",
       "    }\n",
       "\n",
       "    .dataframe thead th {\n",
       "        text-align: right;\n",
       "    }\n",
       "</style>\n",
       "<table border=\"1\" class=\"dataframe\">\n",
       "  <thead>\n",
       "    <tr style=\"text-align: right;\">\n",
       "      <th></th>\n",
       "      <th>is_unique</th>\n",
       "      <th>potential_id</th>\n",
       "      <th>potential_stacker</th>\n",
       "      <th>is_norm</th>\n",
       "    </tr>\n",
       "  </thead>\n",
       "  <tbody>\n",
       "    <tr>\n",
       "      <td>Protein_IDs</td>\n",
       "      <td>True</td>\n",
       "      <td>True</td>\n",
       "      <td>True</td>\n",
       "      <td>False</td>\n",
       "    </tr>\n",
       "    <tr>\n",
       "      <td>Majority_protein_IDs</td>\n",
       "      <td>True</td>\n",
       "      <td>True</td>\n",
       "      <td>True</td>\n",
       "      <td>False</td>\n",
       "    </tr>\n",
       "    <tr>\n",
       "      <td>Protein_names</td>\n",
       "      <td>False</td>\n",
       "      <td>True</td>\n",
       "      <td>True</td>\n",
       "      <td>False</td>\n",
       "    </tr>\n",
       "    <tr>\n",
       "      <td>Gene_names</td>\n",
       "      <td>False</td>\n",
       "      <td>True</td>\n",
       "      <td>True</td>\n",
       "      <td>False</td>\n",
       "    </tr>\n",
       "    <tr>\n",
       "      <td>Intensity_G1_1</td>\n",
       "      <td>False</td>\n",
       "      <td>False</td>\n",
       "      <td>False</td>\n",
       "      <td>True</td>\n",
       "    </tr>\n",
       "  </tbody>\n",
       "</table>\n",
       "</div>"
      ],
      "text/plain": [
       "                      is_unique  potential_id  potential_stacker  is_norm\n",
       "Protein_IDs                True          True               True    False\n",
       "Majority_protein_IDs       True          True               True    False\n",
       "Protein_names             False          True               True    False\n",
       "Gene_names                False          True               True    False\n",
       "Intensity_G1_1            False         False              False     True"
      ]
     },
     "execution_count": 4,
     "metadata": {},
     "output_type": "execute_result"
    }
   ],
   "source": [
    "g.meta_.head()"
   ]
  },
  {
   "cell_type": "markdown",
   "metadata": {},
   "source": [
    "## Accessing column subsets using a vast variety of methods\n",
    "\n",
    "Unlike traditional `pandas` which is incredibly difficult to access subsets of a DataFrame with ease, we allow the use of `regex` **and** typing (such as `float`) to specify subgroups that contain that capture pattern or data type, for example:"
   ]
  },
  {
   "cell_type": "code",
   "execution_count": 5,
   "metadata": {},
   "outputs": [
    {
     "data": {
      "text/html": [
       "<div>\n",
       "<style scoped>\n",
       "    .dataframe tbody tr th:only-of-type {\n",
       "        vertical-align: middle;\n",
       "    }\n",
       "\n",
       "    .dataframe tbody tr th {\n",
       "        vertical-align: top;\n",
       "    }\n",
       "\n",
       "    .dataframe thead th {\n",
       "        text-align: right;\n",
       "    }\n",
       "</style>\n",
       "<table border=\"1\" class=\"dataframe\">\n",
       "  <thead>\n",
       "    <tr style=\"text-align: right;\">\n",
       "      <th></th>\n",
       "      <th>Intensity_G1_1</th>\n",
       "      <th>Intensity_G2M_1</th>\n",
       "      <th>Intensity_MG1_1</th>\n",
       "      <th>Intensity_S_1</th>\n",
       "    </tr>\n",
       "  </thead>\n",
       "  <tbody>\n",
       "    <tr>\n",
       "      <td>0</td>\n",
       "      <td>21.26058</td>\n",
       "      <td>21.01794</td>\n",
       "      <td>21.11775</td>\n",
       "      <td>20.58628</td>\n",
       "    </tr>\n",
       "    <tr>\n",
       "      <td>1</td>\n",
       "      <td>22.62015</td>\n",
       "      <td>24.94606</td>\n",
       "      <td>23.56139</td>\n",
       "      <td>22.87688</td>\n",
       "    </tr>\n",
       "    <tr>\n",
       "      <td>2</td>\n",
       "      <td>NaN</td>\n",
       "      <td>NaN</td>\n",
       "      <td>NaN</td>\n",
       "      <td>NaN</td>\n",
       "    </tr>\n",
       "    <tr>\n",
       "      <td>3</td>\n",
       "      <td>25.48382</td>\n",
       "      <td>24.44556</td>\n",
       "      <td>25.61462</td>\n",
       "      <td>24.31645</td>\n",
       "    </tr>\n",
       "    <tr>\n",
       "      <td>4</td>\n",
       "      <td>24.18177</td>\n",
       "      <td>24.15993</td>\n",
       "      <td>24.11656</td>\n",
       "      <td>23.89440</td>\n",
       "    </tr>\n",
       "  </tbody>\n",
       "</table>\n",
       "</div>"
      ],
      "text/plain": [
       "   Intensity_G1_1  Intensity_G2M_1  Intensity_MG1_1  Intensity_S_1\n",
       "0        21.26058         21.01794         21.11775       20.58628\n",
       "1        22.62015         24.94606         23.56139       22.87688\n",
       "2             NaN              NaN              NaN            NaN\n",
       "3        25.48382         24.44556         25.61462       24.31645\n",
       "4        24.18177         24.15993         24.11656       23.89440"
      ]
     },
     "execution_count": 5,
     "metadata": {},
     "output_type": "execute_result"
    }
   ],
   "source": [
    "g[\"Intensity_[MG12S]*_1\"].head()"
   ]
  },
  {
   "cell_type": "markdown",
   "metadata": {},
   "source": [
    "Or using type:"
   ]
  },
  {
   "cell_type": "code",
   "execution_count": 6,
   "metadata": {},
   "outputs": [
    {
     "data": {
      "text/html": [
       "<div>\n",
       "<style scoped>\n",
       "    .dataframe tbody tr th:only-of-type {\n",
       "        vertical-align: middle;\n",
       "    }\n",
       "\n",
       "    .dataframe tbody tr th {\n",
       "        vertical-align: top;\n",
       "    }\n",
       "\n",
       "    .dataframe thead th {\n",
       "        text-align: right;\n",
       "    }\n",
       "</style>\n",
       "<table border=\"1\" class=\"dataframe\">\n",
       "  <thead>\n",
       "    <tr style=\"text-align: right;\">\n",
       "      <th></th>\n",
       "      <th>Protein_IDs</th>\n",
       "      <th>Majority_protein_IDs</th>\n",
       "      <th>Protein_names</th>\n",
       "      <th>Gene_names</th>\n",
       "    </tr>\n",
       "  </thead>\n",
       "  <tbody>\n",
       "    <tr>\n",
       "      <td>0</td>\n",
       "      <td>Q96IC2;Q96IC2-2;H3BM72;H3BV93;H3BSC5</td>\n",
       "      <td>Q96IC2;Q96IC2-2;H3BM72;H3BV93;H3BSC5</td>\n",
       "      <td>Putative RNA exonuclease NEF-sp</td>\n",
       "      <td>44M2.3</td>\n",
       "    </tr>\n",
       "    <tr>\n",
       "      <td>1</td>\n",
       "      <td>H0YGH4;P01023;H0YGH6;F8W7L3</td>\n",
       "      <td>H0YGH4;P01023</td>\n",
       "      <td>Alpha-2-macroglobulin</td>\n",
       "      <td>A2M</td>\n",
       "    </tr>\n",
       "    <tr>\n",
       "      <td>2</td>\n",
       "      <td>A8K2U0;F5H2W3;H0YGG5;F5H2Z2;F5GXP1</td>\n",
       "      <td>A8K2U0;F5H2W3;H0YGG5;F5H2Z2</td>\n",
       "      <td>Alpha-2-macroglobulin-like protein 1</td>\n",
       "      <td>A2ML1</td>\n",
       "    </tr>\n",
       "    <tr>\n",
       "      <td>3</td>\n",
       "      <td>Q9NRG9;Q9NRG9-2;F8VZ44;H3BU82;F8VUB6</td>\n",
       "      <td>Q9NRG9;Q9NRG9-2;F8VZ44;H3BU82</td>\n",
       "      <td>Aladin</td>\n",
       "      <td>AAAS</td>\n",
       "    </tr>\n",
       "    <tr>\n",
       "      <td>4</td>\n",
       "      <td>Q86V21;Q86V21-2;E7EW25;F5H790;F8W8B5;Q86V21-3;...</td>\n",
       "      <td>Q86V21;Q86V21-2;E7EW25;F5H790</td>\n",
       "      <td>Acetoacetyl-CoA synthetase</td>\n",
       "      <td>AACS</td>\n",
       "    </tr>\n",
       "  </tbody>\n",
       "</table>\n",
       "</div>"
      ],
      "text/plain": [
       "                                         Protein_IDs  \\\n",
       "0               Q96IC2;Q96IC2-2;H3BM72;H3BV93;H3BSC5   \n",
       "1                        H0YGH4;P01023;H0YGH6;F8W7L3   \n",
       "2                 A8K2U0;F5H2W3;H0YGG5;F5H2Z2;F5GXP1   \n",
       "3               Q9NRG9;Q9NRG9-2;F8VZ44;H3BU82;F8VUB6   \n",
       "4  Q86V21;Q86V21-2;E7EW25;F5H790;F8W8B5;Q86V21-3;...   \n",
       "\n",
       "                   Majority_protein_IDs                         Protein_names  \\\n",
       "0  Q96IC2;Q96IC2-2;H3BM72;H3BV93;H3BSC5       Putative RNA exonuclease NEF-sp   \n",
       "1                         H0YGH4;P01023                 Alpha-2-macroglobulin   \n",
       "2           A8K2U0;F5H2W3;H0YGG5;F5H2Z2  Alpha-2-macroglobulin-like protein 1   \n",
       "3         Q9NRG9;Q9NRG9-2;F8VZ44;H3BU82                                Aladin   \n",
       "4         Q86V21;Q86V21-2;E7EW25;F5H790            Acetoacetyl-CoA synthetase   \n",
       "\n",
       "  Gene_names  \n",
       "0     44M2.3  \n",
       "1        A2M  \n",
       "2      A2ML1  \n",
       "3       AAAS  \n",
       "4       AACS  "
      ]
     },
     "execution_count": 6,
     "metadata": {},
     "output_type": "execute_result"
    }
   ],
   "source": [
    "g[object].head()"
   ]
  },
  {
   "cell_type": "markdown",
   "metadata": {},
   "source": [
    "Or using the `meta_` attribute columns as a selector:"
   ]
  },
  {
   "cell_type": "code",
   "execution_count": 7,
   "metadata": {},
   "outputs": [
    {
     "data": {
      "text/html": [
       "<div>\n",
       "<style scoped>\n",
       "    .dataframe tbody tr th:only-of-type {\n",
       "        vertical-align: middle;\n",
       "    }\n",
       "\n",
       "    .dataframe tbody tr th {\n",
       "        vertical-align: top;\n",
       "    }\n",
       "\n",
       "    .dataframe thead th {\n",
       "        text-align: right;\n",
       "    }\n",
       "</style>\n",
       "<table border=\"1\" class=\"dataframe\">\n",
       "  <thead>\n",
       "    <tr style=\"text-align: right;\">\n",
       "      <th></th>\n",
       "      <th>Intensity_G1_1</th>\n",
       "      <th>Intensity_G1_2</th>\n",
       "      <th>Intensity_G1_3</th>\n",
       "      <th>Intensity_G2M_1</th>\n",
       "      <th>Intensity_G2M_2</th>\n",
       "      <th>Intensity_G2M_3</th>\n",
       "      <th>Intensity_MG1_1</th>\n",
       "      <th>Intensity_MG1_2</th>\n",
       "      <th>Intensity_MG1_3</th>\n",
       "      <th>Intensity_S_1</th>\n",
       "      <th>Intensity_S_2</th>\n",
       "      <th>Intensity_S_3</th>\n",
       "    </tr>\n",
       "  </thead>\n",
       "  <tbody>\n",
       "    <tr>\n",
       "      <td>0</td>\n",
       "      <td>21.26058</td>\n",
       "      <td>20.47467</td>\n",
       "      <td>20.48905</td>\n",
       "      <td>21.01794</td>\n",
       "      <td>20.14569</td>\n",
       "      <td>22.29011</td>\n",
       "      <td>21.11775</td>\n",
       "      <td>20.71892</td>\n",
       "      <td>20.25788</td>\n",
       "      <td>20.58628</td>\n",
       "      <td>20.27662</td>\n",
       "      <td>21.05682</td>\n",
       "    </tr>\n",
       "    <tr>\n",
       "      <td>1</td>\n",
       "      <td>22.62015</td>\n",
       "      <td>22.26825</td>\n",
       "      <td>23.11786</td>\n",
       "      <td>24.94606</td>\n",
       "      <td>24.21645</td>\n",
       "      <td>25.26399</td>\n",
       "      <td>23.56139</td>\n",
       "      <td>23.46051</td>\n",
       "      <td>22.21951</td>\n",
       "      <td>22.87688</td>\n",
       "      <td>23.35703</td>\n",
       "      <td>23.25724</td>\n",
       "    </tr>\n",
       "    <tr>\n",
       "      <td>2</td>\n",
       "      <td>NaN</td>\n",
       "      <td>NaN</td>\n",
       "      <td>NaN</td>\n",
       "      <td>NaN</td>\n",
       "      <td>NaN</td>\n",
       "      <td>25.11629</td>\n",
       "      <td>NaN</td>\n",
       "      <td>NaN</td>\n",
       "      <td>NaN</td>\n",
       "      <td>NaN</td>\n",
       "      <td>NaN</td>\n",
       "      <td>NaN</td>\n",
       "    </tr>\n",
       "    <tr>\n",
       "      <td>3</td>\n",
       "      <td>25.48382</td>\n",
       "      <td>24.42746</td>\n",
       "      <td>25.22645</td>\n",
       "      <td>24.44556</td>\n",
       "      <td>23.93706</td>\n",
       "      <td>25.30966</td>\n",
       "      <td>25.61462</td>\n",
       "      <td>25.45923</td>\n",
       "      <td>24.48253</td>\n",
       "      <td>24.31645</td>\n",
       "      <td>23.92143</td>\n",
       "      <td>25.21838</td>\n",
       "    </tr>\n",
       "    <tr>\n",
       "      <td>4</td>\n",
       "      <td>24.18177</td>\n",
       "      <td>24.51533</td>\n",
       "      <td>24.32766</td>\n",
       "      <td>24.15993</td>\n",
       "      <td>24.05001</td>\n",
       "      <td>24.95797</td>\n",
       "      <td>24.11656</td>\n",
       "      <td>24.22523</td>\n",
       "      <td>23.96446</td>\n",
       "      <td>23.89440</td>\n",
       "      <td>23.78107</td>\n",
       "      <td>24.32629</td>\n",
       "    </tr>\n",
       "  </tbody>\n",
       "</table>\n",
       "</div>"
      ],
      "text/plain": [
       "   Intensity_G1_1  Intensity_G1_2  Intensity_G1_3  Intensity_G2M_1  \\\n",
       "0        21.26058        20.47467        20.48905         21.01794   \n",
       "1        22.62015        22.26825        23.11786         24.94606   \n",
       "2             NaN             NaN             NaN              NaN   \n",
       "3        25.48382        24.42746        25.22645         24.44556   \n",
       "4        24.18177        24.51533        24.32766         24.15993   \n",
       "\n",
       "   Intensity_G2M_2  Intensity_G2M_3  Intensity_MG1_1  Intensity_MG1_2  \\\n",
       "0         20.14569         22.29011         21.11775         20.71892   \n",
       "1         24.21645         25.26399         23.56139         23.46051   \n",
       "2              NaN         25.11629              NaN              NaN   \n",
       "3         23.93706         25.30966         25.61462         25.45923   \n",
       "4         24.05001         24.95797         24.11656         24.22523   \n",
       "\n",
       "   Intensity_MG1_3  Intensity_S_1  Intensity_S_2  Intensity_S_3  \n",
       "0         20.25788       20.58628       20.27662       21.05682  \n",
       "1         22.21951       22.87688       23.35703       23.25724  \n",
       "2              NaN            NaN            NaN            NaN  \n",
       "3         24.48253       24.31645       23.92143       25.21838  \n",
       "4         23.96446       23.89440       23.78107       24.32629  "
      ]
     },
     "execution_count": 7,
     "metadata": {},
     "output_type": "execute_result"
    }
   ],
   "source": [
    "g[\"is_norm\"].head()"
   ]
  },
  {
   "cell_type": "markdown",
   "metadata": {},
   "source": [
    "Priority is selected as follows:\n",
    "\n",
    "1. If key belongs to a type, use the type\n",
    "2. Elif key belongs to a column name in `meta_`, use this\n",
    "3. Elif key not found in `df_` columns, use regex\n",
    "4. Else, map to pandas to use a direct column name"
   ]
  },
  {
   "cell_type": "markdown",
   "metadata": {},
   "source": [
    "## Viewing selections by `view` function\n",
    "\n",
    "Whereas above we use a *selector* to get a subgroup of columns, what if we want to view those column names for ourselves before we do anything?\n",
    "\n",
    "Here we *view* by a meta-data column:"
   ]
  },
  {
   "cell_type": "code",
   "execution_count": 8,
   "metadata": {},
   "outputs": [
    {
     "data": {
      "text/plain": [
       "Index(['Intensity_G1_1', 'Intensity_G1_2', 'Intensity_G1_3', 'Intensity_G2M_1',\n",
       "       'Intensity_G2M_2', 'Intensity_G2M_3', 'Intensity_MG1_1',\n",
       "       'Intensity_MG1_2', 'Intensity_MG1_3', 'Intensity_S_1', 'Intensity_S_2',\n",
       "       'Intensity_S_3'],\n",
       "      dtype='object')"
      ]
     },
     "execution_count": 8,
     "metadata": {},
     "output_type": "execute_result"
    }
   ],
   "source": [
    "g.view(\"is_norm\")"
   ]
  },
  {
   "cell_type": "markdown",
   "metadata": {},
   "source": [
    "Or viewing by common regular expression, regex:"
   ]
  },
  {
   "cell_type": "code",
   "execution_count": 9,
   "metadata": {},
   "outputs": [
    {
     "data": {
      "text/plain": [
       "Index(['Intensity_G1_1', 'Intensity_G2M_1', 'Intensity_MG1_1',\n",
       "       'Intensity_S_1'],\n",
       "      dtype='object')"
      ]
     },
     "execution_count": 9,
     "metadata": {},
     "output_type": "execute_result"
    }
   ],
   "source": [
    "g.view(\"Intensity_[G1SM2]+_1\")"
   ]
  },
  {
   "cell_type": "markdown",
   "metadata": {},
   "source": [
    "Or by a data type selection:"
   ]
  },
  {
   "cell_type": "code",
   "execution_count": 10,
   "metadata": {},
   "outputs": [
    {
     "data": {
      "text/plain": [
       "Index(['Protein_IDs', 'Majority_protein_IDs', 'Protein_names', 'Gene_names'], dtype='object')"
      ]
     },
     "execution_count": 10,
     "metadata": {},
     "output_type": "execute_result"
    }
   ],
   "source": [
    "g.view(object)"
   ]
  },
  {
   "cell_type": "markdown",
   "metadata": {},
   "source": [
    "Or by a custom function, which takes the whole dataframe and creating a boolean selection based on some threshold with respect to the variance, for instance, or sample size:"
   ]
  },
  {
   "cell_type": "code",
   "execution_count": 11,
   "metadata": {},
   "outputs": [
    {
     "data": {
      "text/plain": [
       "Index(['Protein_IDs', 'Majority_protein_IDs', 'Protein_names', 'Gene_names',\n",
       "       'Intensity_G1_3', 'Intensity_MG1_3'],\n",
       "      dtype='object')"
      ]
     },
     "execution_count": 11,
     "metadata": {},
     "output_type": "execute_result"
    }
   ],
   "source": [
    "g.view(lambda df: df.var().gt(5.3))"
   ]
  },
  {
   "cell_type": "markdown",
   "metadata": {},
   "source": [
    "## Viewing *not* selected columns\n",
    "\n",
    "We can find which columns *remain* using `view_not` with our selection. This can be very useful if we wish to isolate some specific group or trait."
   ]
  },
  {
   "cell_type": "code",
   "execution_count": 12,
   "metadata": {},
   "outputs": [
    {
     "data": {
      "text/plain": [
       "Index(['Intensity_G1_1', 'Intensity_G1_2', 'Intensity_G1_3', 'Intensity_G2M_1',\n",
       "       'Intensity_G2M_2', 'Intensity_G2M_3', 'Intensity_MG1_1',\n",
       "       'Intensity_MG1_2', 'Intensity_MG1_3', 'Intensity_S_1', 'Intensity_S_2',\n",
       "       'Intensity_S_3'],\n",
       "      dtype='object')"
      ]
     },
     "execution_count": 12,
     "metadata": {},
     "output_type": "execute_result"
    }
   ],
   "source": [
    "g.view_not(object)"
   ]
  },
  {
   "cell_type": "markdown",
   "metadata": {},
   "source": [
    "## Creating multi-views\n",
    "\n",
    "By using multiple selection criteria, by default `turbopanda` only keeps the **union** of the terms provided:\n",
    "\n",
    "$$\n",
    "S=\\bigcup_i t_i\n",
    "$$\n",
    "\n",
    "This means that if you select for `object` and for \"Intensity\", you will get all of the column names of type `object` **OR** containing the string \"Intensity\" within it.\n",
    "\n",
    "This is contrary to a **intersection** of terms, where you would get the column names of type `object` **AND** they contain the string \"Intensity\"."
   ]
  },
  {
   "cell_type": "code",
   "execution_count": 13,
   "metadata": {},
   "outputs": [
    {
     "data": {
      "text/plain": [
       "Index(['Intensity_G1_1', 'Intensity_G1_2', 'Intensity_G1_3', 'Intensity_G2M_1',\n",
       "       'Intensity_G2M_2', 'Intensity_G2M_3', 'Intensity_MG1_1',\n",
       "       'Intensity_MG1_2', 'Intensity_MG1_3', 'Intensity_S_1', 'Intensity_S_2',\n",
       "       'Intensity_S_3'],\n",
       "      dtype='object')"
      ]
     },
     "execution_count": 13,
     "metadata": {},
     "output_type": "execute_result"
    }
   ],
   "source": [
    "g.view(float, \"_1\", \"G1\")"
   ]
  },
  {
   "cell_type": "code",
   "execution_count": 14,
   "metadata": {},
   "outputs": [
    {
     "data": {
      "text/plain": [
       "(Index(['Intensity_G1_1', 'Intensity_G1_2', 'Intensity_G1_3', 'Intensity_G2M_1',\n",
       "        'Intensity_G2M_2', 'Intensity_G2M_3', 'Intensity_MG1_1',\n",
       "        'Intensity_MG1_2', 'Intensity_MG1_3', 'Intensity_S_1', 'Intensity_S_2',\n",
       "        'Intensity_S_3'],\n",
       "       dtype='object'),\n",
       " Index(['Intensity_G1_1', 'Intensity_G2M_1', 'Intensity_MG1_1',\n",
       "        'Intensity_S_1'],\n",
       "       dtype='object'),\n",
       " Index(['Intensity_G1_1', 'Intensity_G1_2', 'Intensity_G1_3', 'Intensity_MG1_1',\n",
       "        'Intensity_MG1_2', 'Intensity_MG1_3'],\n",
       "       dtype='object'))"
      ]
     },
     "execution_count": 14,
     "metadata": {},
     "output_type": "execute_result"
    }
   ],
   "source": [
    "g.view(float), g.view(\"_1\"), g.view(\"G1\")"
   ]
  },
  {
   "cell_type": "markdown",
   "metadata": {},
   "source": [
    "## Renaming columns using rules\n",
    "\n",
    "Often we want to chain together a bunch of changes to our naming of columns that either increase brevity, or make the dataframe *pretty* in preparation for graphs.\n",
    "\n",
    "A `MetaPanda` object can chain together a series of *string replacements* to proactively apply to the column names to aid this process."
   ]
  },
  {
   "cell_type": "code",
   "execution_count": 15,
   "metadata": {},
   "outputs": [
    {
     "data": {
      "text/plain": [
       "Index(['prot_ids', 'maj_prot_ids', 'prot_names', 'gene_names',\n",
       "       'translation_G1_1', 'translation_G1_2', 'translation_G1_3',\n",
       "       'translation_G2M_1', 'translation_G2M_2', 'translation_G2M_3',\n",
       "       'translation_MG1_1', 'translation_MG1_2', 'translation_MG1_3',\n",
       "       'translation_S_1', 'translation_S_2', 'translation_S_3'],\n",
       "      dtype='object')"
      ]
     },
     "execution_count": 15,
     "metadata": {},
     "output_type": "execute_result"
    }
   ],
   "source": [
    "g.rename([(\"Protein|protein\",\"prot\"),(\"Intensity\",\"translation\"),(\"Gene\",\"gene\"),\n",
    "          (\"Majority\",\"maj\"), (\"IDs\",\"ids\")], apply=False)"
   ]
  },
  {
   "cell_type": "markdown",
   "metadata": {},
   "source": [
    "Traditionally, we set `apply=True` to make the changes immediately, but you can prototype how the columns will look using `False`, then set to `True` when you are happy:"
   ]
  },
  {
   "cell_type": "code",
   "execution_count": 16,
   "metadata": {},
   "outputs": [
    {
     "data": {
      "text/plain": [
       "MetaPanda(translation(n=5216, p=16, mem=0.668MB))"
      ]
     },
     "execution_count": 16,
     "metadata": {},
     "output_type": "execute_result"
    }
   ],
   "source": [
    "g.rename([(\"Protein|protein\",\"prot\"),(\"Intensity\",\"translation\"),(\"Gene\",\"gene\"),\n",
    "          (\"Majority\",\"maj\"), (\"IDs\",\"ids\")], apply=True)"
   ]
  },
  {
   "cell_type": "code",
   "execution_count": 17,
   "metadata": {},
   "outputs": [
    {
     "data": {
      "text/plain": [
       "Index(['prot_ids', 'maj_prot_ids', 'prot_names', 'gene_names',\n",
       "       'translation_G1_1', 'translation_G1_2', 'translation_G1_3',\n",
       "       'translation_G2M_1', 'translation_G2M_2', 'translation_G2M_3',\n",
       "       'translation_MG1_1', 'translation_MG1_2', 'translation_MG1_3',\n",
       "       'translation_S_1', 'translation_S_2', 'translation_S_3'],\n",
       "      dtype='object')"
      ]
     },
     "execution_count": 17,
     "metadata": {},
     "output_type": "execute_result"
    }
   ],
   "source": [
    "g.meta_.index"
   ]
  },
  {
   "cell_type": "markdown",
   "metadata": {},
   "source": [
    "## Caching selections using `cache`\n",
    "\n",
    "We may wish to save our 'selected columns' using the `cache` function, particularly if it is a complicated or long selection criterion.\n",
    "\n",
    "This also allows us to reference this cached selection using a *meaningful name* further down the line.\n",
    "\n",
    "**NOTE**: Selections are *not* pre-computed, the selection itself is cached and **executed at runtime**. This means that if you have different columns present further down the line, a *different result* will emerge."
   ]
  },
  {
   "cell_type": "code",
   "execution_count": 18,
   "metadata": {},
   "outputs": [
    {
     "data": {
      "text/plain": [
       "MetaPanda(translation(n=5216, p=16, mem=0.668MB))"
      ]
     },
     "execution_count": 18,
     "metadata": {},
     "output_type": "execute_result"
    }
   ],
   "source": [
    "g.cache(\"ids\", object)"
   ]
  },
  {
   "cell_type": "markdown",
   "metadata": {},
   "source": [
    "Our cached columns now sit in a hidden object called `self._select`:"
   ]
  },
  {
   "cell_type": "code",
   "execution_count": 19,
   "metadata": {},
   "outputs": [
    {
     "data": {
      "text/plain": [
       "{'ids': (object,)}"
      ]
     },
     "execution_count": 19,
     "metadata": {},
     "output_type": "execute_result"
    }
   ],
   "source": [
    "g._select"
   ]
  },
  {
   "cell_type": "markdown",
   "metadata": {},
   "source": [
    "They can now be summoned by using the name we passed to the dictionary:"
   ]
  },
  {
   "cell_type": "code",
   "execution_count": 20,
   "metadata": {},
   "outputs": [
    {
     "data": {
      "text/plain": [
       "Index(['prot_ids', 'maj_prot_ids', 'prot_names', 'gene_names'], dtype='object')"
      ]
     },
     "execution_count": 20,
     "metadata": {},
     "output_type": "execute_result"
    }
   ],
   "source": [
    "g.view(\"ids\")"
   ]
  },
  {
   "cell_type": "markdown",
   "metadata": {},
   "source": [
    "### Multi-cache\n",
    "\n",
    "This is an extension to `cache`, where multiple things can be cached at once:"
   ]
  },
  {
   "cell_type": "code",
   "execution_count": 21,
   "metadata": {},
   "outputs": [
    {
     "data": {
      "text/plain": [
       "MetaPanda(translation(n=5216, p=16, mem=0.668MB))"
      ]
     },
     "execution_count": 21,
     "metadata": {},
     "output_type": "execute_result"
    }
   ],
   "source": [
    "g.multi_cache(hello=\"_s$\", hello2=lambda x:x)"
   ]
  },
  {
   "cell_type": "code",
   "execution_count": 22,
   "metadata": {},
   "outputs": [
    {
     "data": {
      "text/plain": [
       "{'ids': (object,),\n",
       " 'hello': ('_s$',),\n",
       " 'hello2': (<function __main__.<lambda>(x)>,)}"
      ]
     },
     "execution_count": 22,
     "metadata": {},
     "output_type": "execute_result"
    }
   ],
   "source": [
    "g._select"
   ]
  },
  {
   "cell_type": "markdown",
   "metadata": {},
   "source": [
    "## Performing basic meta-analysis\n",
    "\n",
    "We have condensed this down into a single `analyze` function, where subfunctions can be selected. For now, we just have the `agglomerate` function which performs edit-distance analysis on the column names to determine how similar they might be."
   ]
  },
  {
   "cell_type": "code",
   "execution_count": 23,
   "metadata": {},
   "outputs": [
    {
     "data": {
      "text/plain": [
       "MetaPanda(translation(n=5216, p=16, mem=0.668MB))"
      ]
     },
     "execution_count": 23,
     "metadata": {},
     "output_type": "execute_result"
    }
   ],
   "source": [
    "g.analyze(functions=[\"agglomerate\"])"
   ]
  },
  {
   "cell_type": "code",
   "execution_count": 24,
   "metadata": {},
   "outputs": [
    {
     "data": {
      "text/html": [
       "<div>\n",
       "<style scoped>\n",
       "    .dataframe tbody tr th:only-of-type {\n",
       "        vertical-align: middle;\n",
       "    }\n",
       "\n",
       "    .dataframe tbody tr th {\n",
       "        vertical-align: top;\n",
       "    }\n",
       "\n",
       "    .dataframe thead th {\n",
       "        text-align: right;\n",
       "    }\n",
       "</style>\n",
       "<table border=\"1\" class=\"dataframe\">\n",
       "  <thead>\n",
       "    <tr style=\"text-align: right;\">\n",
       "      <th></th>\n",
       "      <th>is_unique</th>\n",
       "      <th>potential_id</th>\n",
       "      <th>potential_stacker</th>\n",
       "      <th>is_norm</th>\n",
       "      <th>agglomerate</th>\n",
       "    </tr>\n",
       "  </thead>\n",
       "  <tbody>\n",
       "    <tr>\n",
       "      <td>prot_ids</td>\n",
       "      <td>True</td>\n",
       "      <td>True</td>\n",
       "      <td>True</td>\n",
       "      <td>False</td>\n",
       "      <td>0</td>\n",
       "    </tr>\n",
       "    <tr>\n",
       "      <td>maj_prot_ids</td>\n",
       "      <td>True</td>\n",
       "      <td>True</td>\n",
       "      <td>True</td>\n",
       "      <td>False</td>\n",
       "      <td>0</td>\n",
       "    </tr>\n",
       "    <tr>\n",
       "      <td>prot_names</td>\n",
       "      <td>False</td>\n",
       "      <td>True</td>\n",
       "      <td>True</td>\n",
       "      <td>False</td>\n",
       "      <td>0</td>\n",
       "    </tr>\n",
       "    <tr>\n",
       "      <td>gene_names</td>\n",
       "      <td>False</td>\n",
       "      <td>True</td>\n",
       "      <td>True</td>\n",
       "      <td>False</td>\n",
       "      <td>0</td>\n",
       "    </tr>\n",
       "    <tr>\n",
       "      <td>translation_G1_1</td>\n",
       "      <td>False</td>\n",
       "      <td>False</td>\n",
       "      <td>False</td>\n",
       "      <td>True</td>\n",
       "      <td>1</td>\n",
       "    </tr>\n",
       "  </tbody>\n",
       "</table>\n",
       "</div>"
      ],
      "text/plain": [
       "                  is_unique  potential_id  potential_stacker  is_norm  \\\n",
       "prot_ids               True          True               True    False   \n",
       "maj_prot_ids           True          True               True    False   \n",
       "prot_names            False          True               True    False   \n",
       "gene_names            False          True               True    False   \n",
       "translation_G1_1      False         False              False     True   \n",
       "\n",
       "                  agglomerate  \n",
       "prot_ids                    0  \n",
       "maj_prot_ids                0  \n",
       "prot_names                  0  \n",
       "gene_names                  0  \n",
       "translation_G1_1            1  "
      ]
     },
     "execution_count": 24,
     "metadata": {},
     "output_type": "execute_result"
    }
   ],
   "source": [
    "g.meta_.head()"
   ]
  },
  {
   "cell_type": "markdown",
   "metadata": {},
   "source": [
    "## Dropping columns through `del` or using the `drop` function\n",
    "\n",
    "Using the powerful selection methods for columns above, we can also remove or drop columns we aren't interested in:"
   ]
  },
  {
   "cell_type": "code",
   "execution_count": 28,
   "metadata": {},
   "outputs": [],
   "source": [
    "del g[\"translation\"]"
   ]
  },
  {
   "cell_type": "code",
   "execution_count": 29,
   "metadata": {},
   "outputs": [
    {
     "data": {
      "text/plain": [
       "MetaPanda(translation(n=5216, p=0, mem=0.000MB))"
      ]
     },
     "execution_count": 29,
     "metadata": {},
     "output_type": "execute_result"
    }
   ],
   "source": [
    "g.drop(object)"
   ]
  },
  {
   "cell_type": "code",
   "execution_count": 30,
   "metadata": {},
   "outputs": [
    {
     "data": {
      "text/plain": [
       "MetaPanda(translation(n=5216, p=0, mem=0.000MB))"
      ]
     },
     "execution_count": 30,
     "metadata": {},
     "output_type": "execute_result"
    }
   ],
   "source": [
    "g"
   ]
  },
  {
   "cell_type": "markdown",
   "metadata": {},
   "source": [
    "### But this leaves us with an interesting question...\n",
    "\n",
    "Can I 'rollback' changes I made to a dataframe, or follow step-by-step what's actually happening to it?\n",
    "\n",
    "This means we need to create something like a **task graph** as we go along and perform **meta-changes** to the DataFrame."
   ]
  },
  {
   "cell_type": "code",
   "execution_count": null,
   "metadata": {},
   "outputs": [],
   "source": []
  }
 ],
 "metadata": {
  "kernelspec": {
   "display_name": "Python 3",
   "language": "python",
   "name": "python3"
  },
  "language_info": {
   "codemirror_mode": {
    "name": "ipython",
    "version": 3
   },
   "file_extension": ".py",
   "mimetype": "text/x-python",
   "name": "python",
   "nbconvert_exporter": "python",
   "pygments_lexer": "ipython3",
   "version": "3.7.4"
  }
 },
 "nbformat": 4,
 "nbformat_minor": 2
}
