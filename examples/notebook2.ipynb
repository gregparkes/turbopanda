{
 "cells": [
  {
   "cell_type": "markdown",
   "metadata": {},
   "source": [
    "# Notebook 2: Going Deeper\n",
    "\n",
    "**TurboPanda** has a lot of interesting functionality to do with manipulating columns and groups of columns that `pandas` so often lacks."
   ]
  },
  {
   "cell_type": "code",
   "execution_count": 1,
   "metadata": {},
   "outputs": [],
   "source": [
    "import sys\n",
    "import numpy as np\n",
    "import pandas as pd\n",
    "sys.path.insert(0,\"../\")\n",
    "# our main import\n",
    "import turbopanda as turb"
   ]
  },
  {
   "cell_type": "markdown",
   "metadata": {},
   "source": [
    "## Reading in our dataset"
   ]
  },
  {
   "cell_type": "code",
   "execution_count": 2,
   "metadata": {},
   "outputs": [
    {
     "name": "stderr",
     "output_type": "stream",
     "text": [
      "../turbopanda/_deprecator.py:74: FutureWarning: Parameter(s) ['mode'] deprecated since version 0.2.1, to be removed in version 0.2.4; `delay` state no longer needed with compute()\n",
      "  warnings.warn(\"\".join(segments), FutureWarning)\n"
     ]
    },
    {
     "data": {
      "text/plain": [
       "MetaPanda(Translation(n=5216, p=14, mem=1.169MB, options=[]))"
      ]
     },
     "execution_count": 2,
     "metadata": {},
     "output_type": "execute_result"
    }
   ],
   "source": [
    "g = turb.read(\"../data/translation.csv\", name=\"Translation\")\n",
    "g"
   ]
  },
  {
   "cell_type": "markdown",
   "metadata": {},
   "source": [
    "## Accessing with `head`\n",
    "\n",
    "Normally copying over features from `pandas.DataFrame` was a forbidden fruit, but we decided in this case that `head` so useful that we would break tradition:"
   ]
  },
  {
   "cell_type": "code",
   "execution_count": 3,
   "metadata": {},
   "outputs": [
    {
     "data": {
      "text/html": [
       "<div>\n",
       "<style scoped>\n",
       "    .dataframe tbody tr th:only-of-type {\n",
       "        vertical-align: middle;\n",
       "    }\n",
       "\n",
       "    .dataframe tbody tr th {\n",
       "        vertical-align: top;\n",
       "    }\n",
       "\n",
       "    .dataframe thead th {\n",
       "        text-align: right;\n",
       "    }\n",
       "</style>\n",
       "<table border=\"1\" class=\"dataframe\">\n",
       "  <thead>\n",
       "    <tr style=\"text-align: right;\">\n",
       "      <th>colnames</th>\n",
       "      <th>prot_IDs</th>\n",
       "      <th>prot_names</th>\n",
       "      <th>Gene_names</th>\n",
       "      <th>translation_G1_1</th>\n",
       "      <th>translation_G1_2</th>\n",
       "      <th>translation_G1_3</th>\n",
       "      <th>translation_G2M_1</th>\n",
       "      <th>translation_G2M_2</th>\n",
       "      <th>translation_G2M_3</th>\n",
       "      <th>translation_MG1_1</th>\n",
       "      <th>translation_MG1_2</th>\n",
       "      <th>translation_MG1_3</th>\n",
       "      <th>translation_S_1</th>\n",
       "      <th>translation_S_2</th>\n",
       "    </tr>\n",
       "    <tr>\n",
       "      <th>counter</th>\n",
       "      <th></th>\n",
       "      <th></th>\n",
       "      <th></th>\n",
       "      <th></th>\n",
       "      <th></th>\n",
       "      <th></th>\n",
       "      <th></th>\n",
       "      <th></th>\n",
       "      <th></th>\n",
       "      <th></th>\n",
       "      <th></th>\n",
       "      <th></th>\n",
       "      <th></th>\n",
       "      <th></th>\n",
       "    </tr>\n",
       "  </thead>\n",
       "  <tbody>\n",
       "    <tr>\n",
       "      <th>0</th>\n",
       "      <td>Q96IC2;Q96IC2-2;H3BM72;H3BV93;H3BSC5</td>\n",
       "      <td>Putative RNA exonuclease NEF-sp</td>\n",
       "      <td>44M2.3</td>\n",
       "      <td>21.26058</td>\n",
       "      <td>20.47467</td>\n",
       "      <td>20.48905</td>\n",
       "      <td>21.01794</td>\n",
       "      <td>20.14569</td>\n",
       "      <td>22.29011</td>\n",
       "      <td>21.11775</td>\n",
       "      <td>20.71892</td>\n",
       "      <td>20.25788</td>\n",
       "      <td>20.58628</td>\n",
       "      <td>20.27662</td>\n",
       "    </tr>\n",
       "    <tr>\n",
       "      <th>1</th>\n",
       "      <td>H0YGH4;P01023;H0YGH6;F8W7L3</td>\n",
       "      <td>Alpha-2-macroglobulin</td>\n",
       "      <td>A2M</td>\n",
       "      <td>22.62015</td>\n",
       "      <td>22.26825</td>\n",
       "      <td>23.11786</td>\n",
       "      <td>24.94606</td>\n",
       "      <td>24.21645</td>\n",
       "      <td>25.26399</td>\n",
       "      <td>23.56139</td>\n",
       "      <td>23.46051</td>\n",
       "      <td>22.21951</td>\n",
       "      <td>22.87688</td>\n",
       "      <td>23.35703</td>\n",
       "    </tr>\n",
       "    <tr>\n",
       "      <th>2</th>\n",
       "      <td>A8K2U0;F5H2W3;H0YGG5;F5H2Z2;F5GXP1</td>\n",
       "      <td>Alpha-2-macroglobulin-like protein 1</td>\n",
       "      <td>A2ML1</td>\n",
       "      <td>NaN</td>\n",
       "      <td>NaN</td>\n",
       "      <td>NaN</td>\n",
       "      <td>NaN</td>\n",
       "      <td>NaN</td>\n",
       "      <td>25.11629</td>\n",
       "      <td>NaN</td>\n",
       "      <td>NaN</td>\n",
       "      <td>NaN</td>\n",
       "      <td>NaN</td>\n",
       "      <td>NaN</td>\n",
       "    </tr>\n",
       "  </tbody>\n",
       "</table>\n",
       "</div>"
      ],
      "text/plain": [
       "colnames                              prot_IDs  \\\n",
       "counter                                          \n",
       "0         Q96IC2;Q96IC2-2;H3BM72;H3BV93;H3BSC5   \n",
       "1                  H0YGH4;P01023;H0YGH6;F8W7L3   \n",
       "2           A8K2U0;F5H2W3;H0YGG5;F5H2Z2;F5GXP1   \n",
       "\n",
       "colnames                            prot_names Gene_names  translation_G1_1  \\\n",
       "counter                                                                       \n",
       "0              Putative RNA exonuclease NEF-sp     44M2.3          21.26058   \n",
       "1                        Alpha-2-macroglobulin        A2M          22.62015   \n",
       "2         Alpha-2-macroglobulin-like protein 1      A2ML1               NaN   \n",
       "\n",
       "colnames  translation_G1_2  translation_G1_3  translation_G2M_1  \\\n",
       "counter                                                           \n",
       "0                 20.47467          20.48905           21.01794   \n",
       "1                 22.26825          23.11786           24.94606   \n",
       "2                      NaN               NaN                NaN   \n",
       "\n",
       "colnames  translation_G2M_2  translation_G2M_3  translation_MG1_1  \\\n",
       "counter                                                             \n",
       "0                  20.14569           22.29011           21.11775   \n",
       "1                  24.21645           25.26399           23.56139   \n",
       "2                       NaN           25.11629                NaN   \n",
       "\n",
       "colnames  translation_MG1_2  translation_MG1_3  translation_S_1  \\\n",
       "counter                                                           \n",
       "0                  20.71892           20.25788         20.58628   \n",
       "1                  23.46051           22.21951         22.87688   \n",
       "2                       NaN                NaN              NaN   \n",
       "\n",
       "colnames  translation_S_2  \n",
       "counter                    \n",
       "0                20.27662  \n",
       "1                23.35703  \n",
       "2                     NaN  "
      ]
     },
     "execution_count": 3,
     "metadata": {},
     "output_type": "execute_result"
    }
   ],
   "source": [
    "g.head(3)"
   ]
  },
  {
   "cell_type": "markdown",
   "metadata": {},
   "source": [
    "## Generic `apply` to the underlying DataFrame\n",
    "\n",
    "For the thousands of instances where we simply want to apply a `pandas.DataFrame.*` function to the underlying dataset, but retain the consistency between `df_` and `meta_` attributes in particular, our solution is to provide an `apply` function which is performed on the entire\n",
    "dataset.\n",
    "\n",
    "This is similar to the `transform` function we have, however `apply` only looks for functions within `pandas.DataFrame.*` API, and it does not allow for pre-subset selection (using the `selector` parameter) beforehand.\n",
    "\n",
    "For instance, let's say we want to fill all the `NaN` values in dataset with a value. We could do this easily with `pandas.DataFrame.fillna` but to use `MetaPanda` we'd have to call the `transform` function with a custom lambda etc."
   ]
  },
  {
   "cell_type": "code",
   "execution_count": 4,
   "metadata": {},
   "outputs": [
    {
     "data": {
      "text/plain": [
       "MetaPanda(Translation(n=5216, p=14, mem=1.169MB, options=[]))"
      ]
     },
     "execution_count": 4,
     "metadata": {},
     "output_type": "execute_result"
    }
   ],
   "source": [
    "g.apply(\"fillna\", 0)"
   ]
  },
  {
   "cell_type": "markdown",
   "metadata": {},
   "source": [
    "It's that easy.\n",
    "\n",
    "`apply` also works on any basic `.str` accessor methods in addition to ones found in `pandas.DataFrame.*` API."
   ]
  },
  {
   "cell_type": "code",
   "execution_count": 5,
   "metadata": {},
   "outputs": [
    {
     "data": {
      "text/html": [
       "<div>\n",
       "<style scoped>\n",
       "    .dataframe tbody tr th:only-of-type {\n",
       "        vertical-align: middle;\n",
       "    }\n",
       "\n",
       "    .dataframe tbody tr th {\n",
       "        vertical-align: top;\n",
       "    }\n",
       "\n",
       "    .dataframe thead th {\n",
       "        text-align: right;\n",
       "    }\n",
       "</style>\n",
       "<table border=\"1\" class=\"dataframe\">\n",
       "  <thead>\n",
       "    <tr style=\"text-align: right;\">\n",
       "      <th>colnames</th>\n",
       "      <th>prot_IDs</th>\n",
       "      <th>prot_names</th>\n",
       "      <th>Gene_names</th>\n",
       "      <th>translation_G1_1</th>\n",
       "      <th>translation_G1_2</th>\n",
       "      <th>translation_G1_3</th>\n",
       "      <th>translation_G2M_1</th>\n",
       "      <th>translation_G2M_2</th>\n",
       "      <th>translation_G2M_3</th>\n",
       "      <th>translation_MG1_1</th>\n",
       "      <th>translation_MG1_2</th>\n",
       "      <th>translation_MG1_3</th>\n",
       "      <th>translation_S_1</th>\n",
       "      <th>translation_S_2</th>\n",
       "    </tr>\n",
       "    <tr>\n",
       "      <th>counter</th>\n",
       "      <th></th>\n",
       "      <th></th>\n",
       "      <th></th>\n",
       "      <th></th>\n",
       "      <th></th>\n",
       "      <th></th>\n",
       "      <th></th>\n",
       "      <th></th>\n",
       "      <th></th>\n",
       "      <th></th>\n",
       "      <th></th>\n",
       "      <th></th>\n",
       "      <th></th>\n",
       "      <th></th>\n",
       "    </tr>\n",
       "  </thead>\n",
       "  <tbody>\n",
       "    <tr>\n",
       "      <th>0</th>\n",
       "      <td>Q96IC2;Q96IC2-2;H3BM72;H3BV93;H3BSC5</td>\n",
       "      <td>Putative RNA exonuclease NEF-sp</td>\n",
       "      <td>44M2.3</td>\n",
       "      <td>21.26058</td>\n",
       "      <td>20.47467</td>\n",
       "      <td>20.48905</td>\n",
       "      <td>21.01794</td>\n",
       "      <td>20.14569</td>\n",
       "      <td>22.29011</td>\n",
       "      <td>21.11775</td>\n",
       "      <td>20.71892</td>\n",
       "      <td>20.25788</td>\n",
       "      <td>20.58628</td>\n",
       "      <td>20.27662</td>\n",
       "    </tr>\n",
       "    <tr>\n",
       "      <th>1</th>\n",
       "      <td>H0YGH4;P01023;H0YGH6;F8W7L3</td>\n",
       "      <td>Alpha-2-macroglobulin</td>\n",
       "      <td>A2M</td>\n",
       "      <td>22.62015</td>\n",
       "      <td>22.26825</td>\n",
       "      <td>23.11786</td>\n",
       "      <td>24.94606</td>\n",
       "      <td>24.21645</td>\n",
       "      <td>25.26399</td>\n",
       "      <td>23.56139</td>\n",
       "      <td>23.46051</td>\n",
       "      <td>22.21951</td>\n",
       "      <td>22.87688</td>\n",
       "      <td>23.35703</td>\n",
       "    </tr>\n",
       "    <tr>\n",
       "      <th>2</th>\n",
       "      <td>A8K2U0;F5H2W3;H0YGG5;F5H2Z2;F5GXP1</td>\n",
       "      <td>Alpha-2-macroglobulin-like protein 1</td>\n",
       "      <td>A2ML1</td>\n",
       "      <td>0.00000</td>\n",
       "      <td>0.00000</td>\n",
       "      <td>0.00000</td>\n",
       "      <td>0.00000</td>\n",
       "      <td>0.00000</td>\n",
       "      <td>25.11629</td>\n",
       "      <td>0.00000</td>\n",
       "      <td>0.00000</td>\n",
       "      <td>0.00000</td>\n",
       "      <td>0.00000</td>\n",
       "      <td>0.00000</td>\n",
       "    </tr>\n",
       "  </tbody>\n",
       "</table>\n",
       "</div>"
      ],
      "text/plain": [
       "colnames                              prot_IDs  \\\n",
       "counter                                          \n",
       "0         Q96IC2;Q96IC2-2;H3BM72;H3BV93;H3BSC5   \n",
       "1                  H0YGH4;P01023;H0YGH6;F8W7L3   \n",
       "2           A8K2U0;F5H2W3;H0YGG5;F5H2Z2;F5GXP1   \n",
       "\n",
       "colnames                            prot_names Gene_names  translation_G1_1  \\\n",
       "counter                                                                       \n",
       "0              Putative RNA exonuclease NEF-sp     44M2.3          21.26058   \n",
       "1                        Alpha-2-macroglobulin        A2M          22.62015   \n",
       "2         Alpha-2-macroglobulin-like protein 1      A2ML1           0.00000   \n",
       "\n",
       "colnames  translation_G1_2  translation_G1_3  translation_G2M_1  \\\n",
       "counter                                                           \n",
       "0                 20.47467          20.48905           21.01794   \n",
       "1                 22.26825          23.11786           24.94606   \n",
       "2                  0.00000           0.00000            0.00000   \n",
       "\n",
       "colnames  translation_G2M_2  translation_G2M_3  translation_MG1_1  \\\n",
       "counter                                                             \n",
       "0                  20.14569           22.29011           21.11775   \n",
       "1                  24.21645           25.26399           23.56139   \n",
       "2                   0.00000           25.11629            0.00000   \n",
       "\n",
       "colnames  translation_MG1_2  translation_MG1_3  translation_S_1  \\\n",
       "counter                                                           \n",
       "0                  20.71892           20.25788         20.58628   \n",
       "1                  23.46051           22.21951         22.87688   \n",
       "2                   0.00000            0.00000          0.00000   \n",
       "\n",
       "colnames  translation_S_2  \n",
       "counter                    \n",
       "0                20.27662  \n",
       "1                23.35703  \n",
       "2                 0.00000  "
      ]
     },
     "execution_count": 5,
     "metadata": {},
     "output_type": "execute_result"
    }
   ],
   "source": [
    "g.head(3)"
   ]
  },
  {
   "cell_type": "markdown",
   "metadata": {},
   "source": [
    "## String manipulation of ID columns\n",
    "\n",
    "Often datasets can have numerical/quantitative data coupled with IDs that help to identify rows based on your problem domain. In this case, we have some identifiers from **Uniprot**, one of the main databases managing protein sequences.\n",
    "\n",
    "There is a slight problem though, each of these expression values has a *stack of protein IDs* associated with it. So we're going to have to untangle this somehow by **expanding** the ID columns to something we can then perform **set theory** operations on.\n",
    "\n",
    "`MetaPanda` comes with an `expand` function which does exactly this:"
   ]
  },
  {
   "cell_type": "code",
   "execution_count": 6,
   "metadata": {},
   "outputs": [
    {
     "data": {
      "text/plain": [
       "MetaPanda(Translation(n=26318, p=14, mem=6.316MB, options=[]))"
      ]
     },
     "execution_count": 6,
     "metadata": {},
     "output_type": "execute_result"
    }
   ],
   "source": [
    "g.expand(\"prot_IDs\", sep=\";\")"
   ]
  },
  {
   "cell_type": "markdown",
   "metadata": {},
   "source": [
    "We can see in this instance that $n$ has increased significantly, as has the memory usage."
   ]
  },
  {
   "cell_type": "code",
   "execution_count": 9,
   "metadata": {},
   "outputs": [
    {
     "data": {
      "text/html": [
       "<div>\n",
       "<style scoped>\n",
       "    .dataframe tbody tr th:only-of-type {\n",
       "        vertical-align: middle;\n",
       "    }\n",
       "\n",
       "    .dataframe tbody tr th {\n",
       "        vertical-align: top;\n",
       "    }\n",
       "\n",
       "    .dataframe thead th {\n",
       "        text-align: right;\n",
       "    }\n",
       "</style>\n",
       "<table border=\"1\" class=\"dataframe\">\n",
       "  <thead>\n",
       "    <tr style=\"text-align: right;\">\n",
       "      <th>colnames</th>\n",
       "      <th>prot_IDs</th>\n",
       "      <th>prot_names</th>\n",
       "      <th>Gene_names</th>\n",
       "      <th>translation_G1_1</th>\n",
       "      <th>translation_G1_2</th>\n",
       "      <th>translation_G1_3</th>\n",
       "      <th>translation_G2M_1</th>\n",
       "      <th>translation_G2M_2</th>\n",
       "      <th>translation_G2M_3</th>\n",
       "      <th>translation_MG1_1</th>\n",
       "      <th>translation_MG1_2</th>\n",
       "      <th>translation_MG1_3</th>\n",
       "      <th>translation_S_1</th>\n",
       "      <th>translation_S_2</th>\n",
       "    </tr>\n",
       "    <tr>\n",
       "      <th>counter</th>\n",
       "      <th></th>\n",
       "      <th></th>\n",
       "      <th></th>\n",
       "      <th></th>\n",
       "      <th></th>\n",
       "      <th></th>\n",
       "      <th></th>\n",
       "      <th></th>\n",
       "      <th></th>\n",
       "      <th></th>\n",
       "      <th></th>\n",
       "      <th></th>\n",
       "      <th></th>\n",
       "      <th></th>\n",
       "    </tr>\n",
       "  </thead>\n",
       "  <tbody>\n",
       "    <tr>\n",
       "      <th>0</th>\n",
       "      <td>Q96IC2</td>\n",
       "      <td>Putative RNA exonuclease NEF-sp</td>\n",
       "      <td>44M2.3</td>\n",
       "      <td>21.26058</td>\n",
       "      <td>20.47467</td>\n",
       "      <td>20.48905</td>\n",
       "      <td>21.01794</td>\n",
       "      <td>20.14569</td>\n",
       "      <td>22.29011</td>\n",
       "      <td>21.11775</td>\n",
       "      <td>20.71892</td>\n",
       "      <td>20.25788</td>\n",
       "      <td>20.58628</td>\n",
       "      <td>20.27662</td>\n",
       "    </tr>\n",
       "    <tr>\n",
       "      <th>0</th>\n",
       "      <td>Q96IC2-2</td>\n",
       "      <td>Putative RNA exonuclease NEF-sp</td>\n",
       "      <td>44M2.3</td>\n",
       "      <td>21.26058</td>\n",
       "      <td>20.47467</td>\n",
       "      <td>20.48905</td>\n",
       "      <td>21.01794</td>\n",
       "      <td>20.14569</td>\n",
       "      <td>22.29011</td>\n",
       "      <td>21.11775</td>\n",
       "      <td>20.71892</td>\n",
       "      <td>20.25788</td>\n",
       "      <td>20.58628</td>\n",
       "      <td>20.27662</td>\n",
       "    </tr>\n",
       "  </tbody>\n",
       "</table>\n",
       "</div>"
      ],
      "text/plain": [
       "colnames  prot_IDs                       prot_names Gene_names  \\\n",
       "counter                                                          \n",
       "0           Q96IC2  Putative RNA exonuclease NEF-sp     44M2.3   \n",
       "0         Q96IC2-2  Putative RNA exonuclease NEF-sp     44M2.3   \n",
       "\n",
       "colnames  translation_G1_1  translation_G1_2  translation_G1_3  \\\n",
       "counter                                                          \n",
       "0                 21.26058          20.47467          20.48905   \n",
       "0                 21.26058          20.47467          20.48905   \n",
       "\n",
       "colnames  translation_G2M_1  translation_G2M_2  translation_G2M_3  \\\n",
       "counter                                                             \n",
       "0                  21.01794           20.14569           22.29011   \n",
       "0                  21.01794           20.14569           22.29011   \n",
       "\n",
       "colnames  translation_MG1_1  translation_MG1_2  translation_MG1_3  \\\n",
       "counter                                                             \n",
       "0                  21.11775           20.71892           20.25788   \n",
       "0                  21.11775           20.71892           20.25788   \n",
       "\n",
       "colnames  translation_S_1  translation_S_2  \n",
       "counter                                     \n",
       "0                20.58628         20.27662  \n",
       "0                20.58628         20.27662  "
      ]
     },
     "execution_count": 9,
     "metadata": {},
     "output_type": "execute_result"
    }
   ],
   "source": [
    "g.head(2)"
   ]
  },
  {
   "cell_type": "markdown",
   "metadata": {},
   "source": [
    "## Applying a transformation to eliminate duplicates\n",
    "\n",
    "Here we see that there are labels that are *sort of* duplicated in the sense that they are appended with `-[0-9]`. We will split these off and keep the left-hand part, then apply a function which drops duplicates."
   ]
  },
  {
   "cell_type": "code",
   "execution_count": 10,
   "metadata": {},
   "outputs": [
    {
     "data": {
      "text/plain": [
       "MetaPanda(Translation(n=26318, p=14, mem=6.316MB, options=[]))"
      ]
     },
     "execution_count": 10,
     "metadata": {},
     "output_type": "execute_result"
    }
   ],
   "source": [
    "g.transform(lambda x: x.str.split(\"-\",expand=True)[0], \"prot_IDs\")"
   ]
  },
  {
   "cell_type": "markdown",
   "metadata": {},
   "source": [
    "Now use `pandas.DataFrame.drop_duplicates`, with the subset just on Protein IDs"
   ]
  },
  {
   "cell_type": "code",
   "execution_count": 11,
   "metadata": {},
   "outputs": [
    {
     "data": {
      "text/plain": [
       "MetaPanda(Translation(n=21050, p=14, mem=5.052MB, options=[]))"
      ]
     },
     "execution_count": 11,
     "metadata": {},
     "output_type": "execute_result"
    }
   ],
   "source": [
    "g.apply(\"drop_duplicates\", subset=[\"prot_IDs\"])"
   ]
  },
  {
   "cell_type": "code",
   "execution_count": 12,
   "metadata": {},
   "outputs": [
    {
     "data": {
      "text/html": [
       "<div>\n",
       "<style scoped>\n",
       "    .dataframe tbody tr th:only-of-type {\n",
       "        vertical-align: middle;\n",
       "    }\n",
       "\n",
       "    .dataframe tbody tr th {\n",
       "        vertical-align: top;\n",
       "    }\n",
       "\n",
       "    .dataframe thead th {\n",
       "        text-align: right;\n",
       "    }\n",
       "</style>\n",
       "<table border=\"1\" class=\"dataframe\">\n",
       "  <thead>\n",
       "    <tr style=\"text-align: right;\">\n",
       "      <th>colnames</th>\n",
       "      <th>prot_IDs</th>\n",
       "      <th>prot_names</th>\n",
       "      <th>Gene_names</th>\n",
       "      <th>translation_G1_1</th>\n",
       "      <th>translation_G1_2</th>\n",
       "      <th>translation_G1_3</th>\n",
       "      <th>translation_G2M_1</th>\n",
       "      <th>translation_G2M_2</th>\n",
       "      <th>translation_G2M_3</th>\n",
       "      <th>translation_MG1_1</th>\n",
       "      <th>translation_MG1_2</th>\n",
       "      <th>translation_MG1_3</th>\n",
       "      <th>translation_S_1</th>\n",
       "      <th>translation_S_2</th>\n",
       "    </tr>\n",
       "    <tr>\n",
       "      <th>counter</th>\n",
       "      <th></th>\n",
       "      <th></th>\n",
       "      <th></th>\n",
       "      <th></th>\n",
       "      <th></th>\n",
       "      <th></th>\n",
       "      <th></th>\n",
       "      <th></th>\n",
       "      <th></th>\n",
       "      <th></th>\n",
       "      <th></th>\n",
       "      <th></th>\n",
       "      <th></th>\n",
       "      <th></th>\n",
       "    </tr>\n",
       "  </thead>\n",
       "  <tbody>\n",
       "    <tr>\n",
       "      <th>0</th>\n",
       "      <td>Q96IC2</td>\n",
       "      <td>Putative RNA exonuclease NEF-sp</td>\n",
       "      <td>44M2.3</td>\n",
       "      <td>21.26058</td>\n",
       "      <td>20.47467</td>\n",
       "      <td>20.48905</td>\n",
       "      <td>21.01794</td>\n",
       "      <td>20.14569</td>\n",
       "      <td>22.29011</td>\n",
       "      <td>21.11775</td>\n",
       "      <td>20.71892</td>\n",
       "      <td>20.25788</td>\n",
       "      <td>20.58628</td>\n",
       "      <td>20.27662</td>\n",
       "    </tr>\n",
       "    <tr>\n",
       "      <th>0</th>\n",
       "      <td>H3BM72</td>\n",
       "      <td>Putative RNA exonuclease NEF-sp</td>\n",
       "      <td>44M2.3</td>\n",
       "      <td>21.26058</td>\n",
       "      <td>20.47467</td>\n",
       "      <td>20.48905</td>\n",
       "      <td>21.01794</td>\n",
       "      <td>20.14569</td>\n",
       "      <td>22.29011</td>\n",
       "      <td>21.11775</td>\n",
       "      <td>20.71892</td>\n",
       "      <td>20.25788</td>\n",
       "      <td>20.58628</td>\n",
       "      <td>20.27662</td>\n",
       "    </tr>\n",
       "    <tr>\n",
       "      <th>0</th>\n",
       "      <td>H3BV93</td>\n",
       "      <td>Putative RNA exonuclease NEF-sp</td>\n",
       "      <td>44M2.3</td>\n",
       "      <td>21.26058</td>\n",
       "      <td>20.47467</td>\n",
       "      <td>20.48905</td>\n",
       "      <td>21.01794</td>\n",
       "      <td>20.14569</td>\n",
       "      <td>22.29011</td>\n",
       "      <td>21.11775</td>\n",
       "      <td>20.71892</td>\n",
       "      <td>20.25788</td>\n",
       "      <td>20.58628</td>\n",
       "      <td>20.27662</td>\n",
       "    </tr>\n",
       "  </tbody>\n",
       "</table>\n",
       "</div>"
      ],
      "text/plain": [
       "colnames prot_IDs                       prot_names Gene_names  \\\n",
       "counter                                                         \n",
       "0          Q96IC2  Putative RNA exonuclease NEF-sp     44M2.3   \n",
       "0          H3BM72  Putative RNA exonuclease NEF-sp     44M2.3   \n",
       "0          H3BV93  Putative RNA exonuclease NEF-sp     44M2.3   \n",
       "\n",
       "colnames  translation_G1_1  translation_G1_2  translation_G1_3  \\\n",
       "counter                                                          \n",
       "0                 21.26058          20.47467          20.48905   \n",
       "0                 21.26058          20.47467          20.48905   \n",
       "0                 21.26058          20.47467          20.48905   \n",
       "\n",
       "colnames  translation_G2M_1  translation_G2M_2  translation_G2M_3  \\\n",
       "counter                                                             \n",
       "0                  21.01794           20.14569           22.29011   \n",
       "0                  21.01794           20.14569           22.29011   \n",
       "0                  21.01794           20.14569           22.29011   \n",
       "\n",
       "colnames  translation_MG1_1  translation_MG1_2  translation_MG1_3  \\\n",
       "counter                                                             \n",
       "0                  21.11775           20.71892           20.25788   \n",
       "0                  21.11775           20.71892           20.25788   \n",
       "0                  21.11775           20.71892           20.25788   \n",
       "\n",
       "colnames  translation_S_1  translation_S_2  \n",
       "counter                                     \n",
       "0                20.58628         20.27662  \n",
       "0                20.58628         20.27662  \n",
       "0                20.58628         20.27662  "
      ]
     },
     "execution_count": 12,
     "metadata": {},
     "output_type": "execute_result"
    }
   ],
   "source": [
    "g.head(3)"
   ]
  },
  {
   "cell_type": "markdown",
   "metadata": {},
   "source": [
    "## Using `mode=delay`: Delaying actions to make a task graph\n",
    "\n",
    "**NOW DEPRECATED from version 0.2.4 onwards**\n",
    "\n",
    "You may have noticed that the representation of the object shows `mode='instant'`.\n",
    "\n",
    "Using the current approach, all of our operations apply instantly and inplace. This can be nice but if you make a mistake, it can be difficult to backtrack.\n",
    "\n",
    "Fortunately, `MetaPanda` has a `mode` parameter during initialization and `mode_` attribute that can be set at any point. When set to `delay`, many functions that apply changes immediately to the data are instead *cached* in a `pipe_` attribute.\n",
    "\n",
    "This attribute is then emptied when a call to `compute()` is made, and all of the operations within the `pipe_` are executed with their parameters, in order."
   ]
  },
  {
   "cell_type": "markdown",
   "metadata": {},
   "source": [
    "### Creating a series of operations to perform..."
   ]
  },
  {
   "cell_type": "code",
   "execution_count": 11,
   "metadata": {},
   "outputs": [],
   "source": [
    "g.mode_=\"delay\""
   ]
  },
  {
   "cell_type": "code",
   "execution_count": 12,
   "metadata": {},
   "outputs": [],
   "source": [
    "g.drop(\"prot_name\")\n",
    "g.apply(\"groupby\", [\"counter\",\"Gene_names\"])\n",
    "g.apply(\"mean\")\n",
    "g.rename([(\"translation\",\"trans\")])"
   ]
  },
  {
   "cell_type": "markdown",
   "metadata": {},
   "source": [
    "We can see that values have been entered into a `pipe_` attribute instead, with no changes to the underlying dataset."
   ]
  },
  {
   "cell_type": "markdown",
   "metadata": {},
   "source": [
    "## Pipelines\n",
    "\n",
    "Pipes in TurboPanda allow you to chain together operations which are performed on the raw dataset and potentially the metadata information also. \n",
    "\n",
    "Pipe elements come in the following format:\n",
    "\n",
    "    (<function name in MetaPanda, str>, <function arguments, tuple>, <function keyword arguments, dict>) \n",
    "\n",
    "For example if we wish to drop all columns containing `prot_name`:\n",
    "\n",
    "```python\n",
    "('drop', ('prot_name',), {})\n",
    "```\n",
    "\n",
    "Alternatively the *clean* version allows us just to pass the arguments as a list, with keywords as strings including an `=`:\n",
    "\n",
    "```python\n",
    "('drop', 'prot_name')\n",
    "```\n",
    "\n"
   ]
  },
  {
   "cell_type": "code",
   "execution_count": 14,
   "metadata": {},
   "outputs": [
    {
     "data": {
      "text/plain": [
       "{'current': []}"
      ]
     },
     "execution_count": 14,
     "metadata": {},
     "output_type": "execute_result"
    }
   ],
   "source": [
    "g.pipe_"
   ]
  },
  {
   "cell_type": "markdown",
   "metadata": {},
   "source": [
    "### Defining a pipe\n",
    "\n",
    "We have a `Pipe` class for defining pipes:"
   ]
  },
  {
   "cell_type": "code",
   "execution_count": 17,
   "metadata": {},
   "outputs": [
    {
     "data": {
      "text/plain": [
       "Pipe(n_elements=0)"
      ]
     },
     "execution_count": 17,
     "metadata": {},
     "output_type": "execute_result"
    }
   ],
   "source": [
    "turb.Pipe()"
   ]
  },
  {
   "cell_type": "markdown",
   "metadata": {},
   "source": [
    "### Adding pipe steps\n",
    "\n",
    "Pipe operations can be chained together one after another, assuming each step returns a `pandas.DataFrame` of some kind, the main exception to this is `pandas.DataFrame.groupby`.\n",
    "\n",
    "But if we check the `pipe_` attribute, all of the operations have been saved:"
   ]
  },
  {
   "cell_type": "code",
   "execution_count": 21,
   "metadata": {},
   "outputs": [
    {
     "data": {
      "text/plain": [
       "(('drop', ('prot_name',), {}),)"
      ]
     },
     "execution_count": 21,
     "metadata": {},
     "output_type": "execute_result"
    }
   ],
   "source": [
    "turb.Pipe(['drop', 'prot_name']).p"
   ]
  },
  {
   "cell_type": "markdown",
   "metadata": {},
   "source": [
    "### Using `compute()`\n",
    "\n",
    "By default, `compute()` accepts `pipe` and `inplace` as optional arguments, if `pipe is None` then it will automatically execute whatever is in the `pipe_` attribute and empty it. If `inplace` is set to False, a copy of the MetaPanda is returned instead of acting inplace.\n",
    "\n",
    "Note that by default `inplace=False`, so it needs to be set to `True` to immediately update.\n",
    "\n",
    "There is also a `multi_compute()` function which joins together different pipes before using regular `compute()`."
   ]
  },
  {
   "cell_type": "code",
   "execution_count": 14,
   "metadata": {},
   "outputs": [
    {
     "data": {
      "text/plain": [
       "MetaPanda(Translation(n=5201, p=11, mem=0.562MB, key='None'), mode='instant')"
      ]
     },
     "execution_count": 14,
     "metadata": {},
     "output_type": "execute_result"
    }
   ],
   "source": [
    "g.compute(inplace=True)"
   ]
  },
  {
   "cell_type": "markdown",
   "metadata": {},
   "source": [
    "### Functions that are affected by `delay` (accessed in `turb.metapanda.__delay_functions__`) include:\n"
   ]
  },
  {
   "cell_type": "code",
   "execution_count": 15,
   "metadata": {},
   "outputs": [
    {
     "data": {
      "text/plain": [
       "['drop',\n",
       " 'keep',\n",
       " 'apply',\n",
       " 'apply_index',\n",
       " 'apply_columns',\n",
       " 'transform',\n",
       " 'multi_transform',\n",
       " 'rename',\n",
       " 'add_prefix',\n",
       " 'add_suffix',\n",
       " 'meta_map',\n",
       " 'expand',\n",
       " 'shrink',\n",
       " 'sort_columns',\n",
       " 'split_categories',\n",
       " 'melt',\n",
       " 'filter_rows']"
      ]
     },
     "execution_count": 15,
     "metadata": {},
     "output_type": "execute_result"
    }
   ],
   "source": [
    "turb.metapanda.__delay_functions__"
   ]
  },
  {
   "cell_type": "markdown",
   "metadata": {},
   "source": [
    "#### Non delay functions - always instant"
   ]
  },
  {
   "cell_type": "code",
   "execution_count": 16,
   "metadata": {},
   "outputs": [
    {
     "data": {
      "text/plain": [
       "['head',\n",
       " 'cache',\n",
       " 'multi_cache',\n",
       " 'view',\n",
       " 'view_not',\n",
       " 'analyze',\n",
       " 'compute',\n",
       " 'multi_compute',\n",
       " 'write',\n",
       " 'write_json']"
      ]
     },
     "execution_count": 16,
     "metadata": {},
     "output_type": "execute_result"
    }
   ],
   "source": [
    "turb.metapanda.__nondelay_functions__"
   ]
  },
  {
   "cell_type": "markdown",
   "metadata": {},
   "source": [
    "## Computing external pipelines\n",
    "\n",
    "Often we want to have standardized pipelines that we can apply to many different `pandas.DataFrames`, for example we may have a similar system for **standardizing a dataset** in preparation of Machine Learning algorithms.\n",
    "\n",
    "`turbopanda` provides one of these presets, called `ml_pipe`:"
   ]
  },
  {
   "cell_type": "code",
   "execution_count": 17,
   "metadata": {},
   "outputs": [
    {
     "data": {
      "text/plain": [
       "<function turbopanda.pipes.ml_regression_pipe(mp, x_s, y_s, preprocessor='scale')>"
      ]
     },
     "execution_count": 17,
     "metadata": {},
     "output_type": "execute_result"
    }
   ],
   "source": [
    "turb.pipes.ml_regression_pipe"
   ]
  },
  {
   "cell_type": "markdown",
   "metadata": {},
   "source": [
    "This function takes a `MetaPanda`, with the input columns as a selector and output column(s) as a selector, with optional arguments, and returns a pipeline list which can be passed directly into `compute()`:"
   ]
  },
  {
   "cell_type": "code",
   "execution_count": 18,
   "metadata": {},
   "outputs": [
    {
     "data": {
      "text/plain": [
       "[('drop', (object, '_id$', '_ID$', '^counter'), {}),\n",
       " ('apply', ('drop', Index([], dtype='object', name='colnames')), {'axis': 1}),\n",
       " ('apply',\n",
       "  ('dropna',),\n",
       "  {'axis': 0,\n",
       "   'subset': Index(['trans_G2M_1', 'trans_G2M_2', 'trans_G2M_3'], dtype='object', name='colnames')}),\n",
       " ('transform',\n",
       "  (<function turbopanda.pipes.ml_regression_pipe.<locals>.<lambda>(x)>,\n",
       "   'trans_G1_[1-3]'),\n",
       "  {}),\n",
       " ('transform',\n",
       "  (<function sklearn.preprocessing._data.scale(X, axis=0, with_mean=True, with_std=True, copy=True)>,),\n",
       "  {'selector': 'trans_G1_[1-3]', 'whole': True})]"
      ]
     },
     "execution_count": 18,
     "metadata": {},
     "output_type": "execute_result"
    }
   ],
   "source": [
    "npipe = turb.ml_regression_pipe(g, \"trans_G1_[1-3]\", \"trans_G2M_[1-3]\")\n",
    "npipe"
   ]
  },
  {
   "cell_type": "markdown",
   "metadata": {},
   "source": [
    "By default `compute(inplace=False)` so a copy is returned."
   ]
  },
  {
   "cell_type": "code",
   "execution_count": 19,
   "metadata": {},
   "outputs": [
    {
     "data": {
      "text/plain": [
       "MetaPanda(Translation(n=5201, p=11, mem=0.726MB, key='None'), mode='instant')"
      ]
     },
     "execution_count": 19,
     "metadata": {},
     "output_type": "execute_result"
    }
   ],
   "source": [
    "ng = g.compute(npipe)\n",
    "ng"
   ]
  },
  {
   "cell_type": "markdown",
   "metadata": {},
   "source": [
    "## Creating your own pipeline\n",
    "\n",
    "Creating your own pipelines is incredibly useful for performing coherent stage-wise actions on a DataFrame, such as cleaning all of the column names, or preparing a dataset for Machine-Learning applications, or doing extensive preprocessing on a subset of columns.\n",
    "\n",
    "Remember the three key parts of a pipeline argument:\n",
    "\n",
    "    (<function name>, <function args>, <function kwargs>)"
   ]
  },
  {
   "cell_type": "code",
   "execution_count": 20,
   "metadata": {},
   "outputs": [
    {
     "data": {
      "text/plain": [
       "(('apply_columns', ('lower',), {}), ('apply_index', ('lower',), {'axis': 0}))"
      ]
     },
     "execution_count": 20,
     "metadata": {},
     "output_type": "execute_result"
    }
   ],
   "source": [
    "(\n",
    "    # operation one, lower strings in df.columns\n",
    "    (\"apply_columns\", (\"lower\",), {}),\n",
    "    # operation two, lower strings in df.index, axis is redundant\n",
    "    (\"apply_index\", (\"lower\",), {\"axis\": 0})\n",
    ")"
   ]
  },
  {
   "cell_type": "markdown",
   "metadata": {},
   "source": [
    "Instead of writing out all of that code, there is a relative shorthand using `turb.pipe`.\n",
    "\n",
    "This allows you to write out all of the *arguments* in a single list and then the hardwork is done by the algorithm of preparing it into the normal *pipeline* format."
   ]
  },
  {
   "cell_type": "code",
   "execution_count": 21,
   "metadata": {},
   "outputs": [
    {
     "data": {
      "text/plain": [
       "[('apply_columns', ('lower',), {}), ('apply_index', ('lower',), {})]"
      ]
     },
     "execution_count": 21,
     "metadata": {},
     "output_type": "execute_result"
    }
   ],
   "source": [
    "turb.pipe([[\"apply_columns\",\"lower\"],[\"apply_index\",\"lower\"]])"
   ]
  },
  {
   "cell_type": "markdown",
   "metadata": {},
   "source": [
    "Keywords can be written as string and then automatically converted into objects/types downstream. For example the keyword `\"axis=0\"` in string converts the `\"0\"` into `0` integer.\n",
    "\n",
    "Note that this shorthand does NOT accept non-basic arguments as keywords. For example, `lambda` expressions, functions and `dtypes` cannot be passed as keyword arguments. However strings, ints, booleans and floats are accepted."
   ]
  },
  {
   "cell_type": "code",
   "execution_count": 22,
   "metadata": {},
   "outputs": [
    {
     "data": {
      "text/plain": [
       "[('apply_columns', ('lower',), {'axis': 0})]"
      ]
     },
     "execution_count": 22,
     "metadata": {},
     "output_type": "execute_result"
    }
   ],
   "source": [
    "turb.pipe([[\"apply_columns\", \"lower\", \"axis=0\"]])"
   ]
  },
  {
   "cell_type": "markdown",
   "metadata": {},
   "source": [
    "### Example: Using the operations above\n",
    "\n",
    "Rather than setting `mode=delay`, we can simply create a pipe of the operations and then call `compute()` to either create a copy or operate inplace.\n",
    "\n",
    "Here we will create several pipelines:\n",
    "\n",
    "1. Pipeline one: expand prot IDs and drop duplicates, this is to *clean the labels*\n",
    "2. Pipeline two: clean, groupby counters and gene names, and rename the columns ready for display."
   ]
  },
  {
   "cell_type": "code",
   "execution_count": 85,
   "metadata": {},
   "outputs": [
    {
     "data": {
      "text/plain": [
       "MetaPanda(Translation(n=5216, p=14, mem=0.585MB, key='None'), mode='instant')"
      ]
     },
     "execution_count": 85,
     "metadata": {},
     "output_type": "execute_result"
    }
   ],
   "source": [
    "g2 = turb.read(\"translation.csv\", name=\"Translation\")\n",
    "g2"
   ]
  },
  {
   "cell_type": "markdown",
   "metadata": {},
   "source": [
    "#### Pipe 1\n",
    "\n",
    "- uses MetaPanda `expand` function to split on `;` characters\n",
    "- transforms that column to drop `\"-\"` end\n",
    "- filter rows to keep all non-duplicates\n",
    "\n",
    "#### Pipe 2\n",
    "\n",
    "- Drops protein name\n",
    "- Groupby the counter, Gene_names and calculate the mean\n",
    "- Rename column information\n",
    "\n",
    "Note that normally `groupby` and `mean` are separate functions in `pandas`, but in TurboPanda you can specify a built-in aggregator (such as `sum`, `mean`, `std`, `min`, `max`) by separating `groupby` with a double-underscore `__`:\n",
    "\n",
    "Examples:\n",
    "\n",
    "* `\"groupby__mean\"`, `\"groupby__std\"`, `\"groupby__sum\"`, `\"groupby__count\"`"
   ]
  },
  {
   "cell_type": "code",
   "execution_count": 90,
   "metadata": {},
   "outputs": [],
   "source": [
    "pipe1 = turb.pipe([\n",
    "    # expand on protein IDs\n",
    "    [\"expand\", \"prot_IDs\", \"sep=;\"],\n",
    "    # split of the -2,-3 etc to get duplicates\n",
    "    [\"transform\", lambda x: x.str.split(\"-\",expand=True)[0], \"^prot_ID\"],\n",
    "    # filter out duplicates\n",
    "    [\"filter_rows\", lambda x: ~x.duplicated(), \"^prot_ID\"],\n",
    "])\n",
    "\n",
    "pipe2 = turb.pipe([\n",
    "    # drop protein name\n",
    "    [\"drop\", \"prot_name\"],\n",
    "    # groupby counter,gene names and then aggregate on mean\n",
    "    [\"apply\", \"groupby__mean\", [\"counter\",\"Gene_names\"]],\n",
    "    # rename\n",
    "    [\"rename\", [(\"translation\",\"trans\")]]\n",
    "])"
   ]
  },
  {
   "cell_type": "markdown",
   "metadata": {},
   "source": [
    "### Using `multi_compute()`\n",
    "\n",
    "This provides yet another shorthand for executing multiple pipelines in a row."
   ]
  },
  {
   "cell_type": "code",
   "execution_count": 94,
   "metadata": {},
   "outputs": [
    {
     "data": {
      "text/plain": [
       "MetaPanda(Translation(n=5190, p=11, mem=0.561MB, key='None'), mode='instant')"
      ]
     },
     "execution_count": 94,
     "metadata": {},
     "output_type": "execute_result"
    }
   ],
   "source": [
    "g2_refreshed = g2.multi_compute([pipe1, pipe2])\n",
    "g2_refreshed"
   ]
  },
  {
   "cell_type": "code",
   "execution_count": 95,
   "metadata": {},
   "outputs": [
    {
     "data": {
      "text/html": [
       "<div>\n",
       "<style scoped>\n",
       "    .dataframe tbody tr th:only-of-type {\n",
       "        vertical-align: middle;\n",
       "    }\n",
       "\n",
       "    .dataframe tbody tr th {\n",
       "        vertical-align: top;\n",
       "    }\n",
       "\n",
       "    .dataframe thead th {\n",
       "        text-align: right;\n",
       "    }\n",
       "</style>\n",
       "<table border=\"1\" class=\"dataframe\">\n",
       "  <thead>\n",
       "    <tr style=\"text-align: right;\">\n",
       "      <th></th>\n",
       "      <th>colnames</th>\n",
       "      <th>trans_G1_1</th>\n",
       "      <th>trans_G1_2</th>\n",
       "      <th>trans_G1_3</th>\n",
       "      <th>trans_G2M_1</th>\n",
       "      <th>trans_G2M_2</th>\n",
       "      <th>trans_G2M_3</th>\n",
       "      <th>trans_MG1_1</th>\n",
       "      <th>trans_MG1_2</th>\n",
       "      <th>trans_MG1_3</th>\n",
       "      <th>trans_S_1</th>\n",
       "      <th>trans_S_2</th>\n",
       "    </tr>\n",
       "    <tr>\n",
       "      <th>counter</th>\n",
       "      <th>Gene_names</th>\n",
       "      <th></th>\n",
       "      <th></th>\n",
       "      <th></th>\n",
       "      <th></th>\n",
       "      <th></th>\n",
       "      <th></th>\n",
       "      <th></th>\n",
       "      <th></th>\n",
       "      <th></th>\n",
       "      <th></th>\n",
       "      <th></th>\n",
       "    </tr>\n",
       "  </thead>\n",
       "  <tbody>\n",
       "    <tr>\n",
       "      <th>0</th>\n",
       "      <th>44M2.3</th>\n",
       "      <td>21.26058</td>\n",
       "      <td>20.47467</td>\n",
       "      <td>20.48905</td>\n",
       "      <td>21.01794</td>\n",
       "      <td>20.14569</td>\n",
       "      <td>22.29011</td>\n",
       "      <td>21.11775</td>\n",
       "      <td>20.71892</td>\n",
       "      <td>20.25788</td>\n",
       "      <td>20.58628</td>\n",
       "      <td>20.27662</td>\n",
       "    </tr>\n",
       "    <tr>\n",
       "      <th>1</th>\n",
       "      <th>A2M</th>\n",
       "      <td>22.62015</td>\n",
       "      <td>22.26825</td>\n",
       "      <td>23.11786</td>\n",
       "      <td>24.94606</td>\n",
       "      <td>24.21645</td>\n",
       "      <td>25.26399</td>\n",
       "      <td>23.56139</td>\n",
       "      <td>23.46051</td>\n",
       "      <td>22.21951</td>\n",
       "      <td>22.87688</td>\n",
       "      <td>23.35703</td>\n",
       "    </tr>\n",
       "    <tr>\n",
       "      <th>2</th>\n",
       "      <th>A2ML1</th>\n",
       "      <td>NaN</td>\n",
       "      <td>NaN</td>\n",
       "      <td>NaN</td>\n",
       "      <td>NaN</td>\n",
       "      <td>NaN</td>\n",
       "      <td>25.11629</td>\n",
       "      <td>NaN</td>\n",
       "      <td>NaN</td>\n",
       "      <td>NaN</td>\n",
       "      <td>NaN</td>\n",
       "      <td>NaN</td>\n",
       "    </tr>\n",
       "    <tr>\n",
       "      <th>3</th>\n",
       "      <th>AAAS</th>\n",
       "      <td>25.48382</td>\n",
       "      <td>24.42746</td>\n",
       "      <td>25.22645</td>\n",
       "      <td>24.44556</td>\n",
       "      <td>23.93706</td>\n",
       "      <td>25.30966</td>\n",
       "      <td>25.61462</td>\n",
       "      <td>25.45923</td>\n",
       "      <td>24.48253</td>\n",
       "      <td>24.31645</td>\n",
       "      <td>23.92143</td>\n",
       "    </tr>\n",
       "    <tr>\n",
       "      <th>4</th>\n",
       "      <th>AACS</th>\n",
       "      <td>24.18177</td>\n",
       "      <td>24.51533</td>\n",
       "      <td>24.32766</td>\n",
       "      <td>24.15993</td>\n",
       "      <td>24.05001</td>\n",
       "      <td>24.95797</td>\n",
       "      <td>24.11656</td>\n",
       "      <td>24.22523</td>\n",
       "      <td>23.96446</td>\n",
       "      <td>23.89440</td>\n",
       "      <td>23.78107</td>\n",
       "    </tr>\n",
       "  </tbody>\n",
       "</table>\n",
       "</div>"
      ],
      "text/plain": [
       "colnames            trans_G1_1  trans_G1_2  trans_G1_3  trans_G2M_1  \\\n",
       "counter Gene_names                                                    \n",
       "0       44M2.3        21.26058    20.47467    20.48905     21.01794   \n",
       "1       A2M           22.62015    22.26825    23.11786     24.94606   \n",
       "2       A2ML1              NaN         NaN         NaN          NaN   \n",
       "3       AAAS          25.48382    24.42746    25.22645     24.44556   \n",
       "4       AACS          24.18177    24.51533    24.32766     24.15993   \n",
       "\n",
       "colnames            trans_G2M_2  trans_G2M_3  trans_MG1_1  trans_MG1_2  \\\n",
       "counter Gene_names                                                       \n",
       "0       44M2.3         20.14569     22.29011     21.11775     20.71892   \n",
       "1       A2M            24.21645     25.26399     23.56139     23.46051   \n",
       "2       A2ML1               NaN     25.11629          NaN          NaN   \n",
       "3       AAAS           23.93706     25.30966     25.61462     25.45923   \n",
       "4       AACS           24.05001     24.95797     24.11656     24.22523   \n",
       "\n",
       "colnames            trans_MG1_3  trans_S_1  trans_S_2  \n",
       "counter Gene_names                                     \n",
       "0       44M2.3         20.25788   20.58628   20.27662  \n",
       "1       A2M            22.21951   22.87688   23.35703  \n",
       "2       A2ML1               NaN        NaN        NaN  \n",
       "3       AAAS           24.48253   24.31645   23.92143  \n",
       "4       AACS           23.96446   23.89440   23.78107  "
      ]
     },
     "execution_count": 95,
     "metadata": {},
     "output_type": "execute_result"
    }
   ],
   "source": [
    "g2_refreshed.head()"
   ]
  },
  {
   "cell_type": "code",
   "execution_count": null,
   "metadata": {},
   "outputs": [],
   "source": []
  }
 ],
 "metadata": {
  "kernelspec": {
   "display_name": "Python 3",
   "language": "python",
   "name": "python3"
  },
  "language_info": {
   "codemirror_mode": {
    "name": "ipython",
    "version": 3
   },
   "file_extension": ".py",
   "mimetype": "text/x-python",
   "name": "python",
   "nbconvert_exporter": "python",
   "pygments_lexer": "ipython3",
   "version": "3.7.5"
  }
 },
 "nbformat": 4,
 "nbformat_minor": 4
}
