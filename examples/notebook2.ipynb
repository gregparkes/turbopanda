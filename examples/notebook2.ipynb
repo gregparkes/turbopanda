{
 "cells": [
  {
   "cell_type": "markdown",
   "metadata": {},
   "source": [
    "# Notebook 2: Going Deeper\n",
    "\n",
    "**TurboPanda** has a lot of interesting functionality to do with manipulating columns and groups of columns that `pandas` so often lacks."
   ]
  },
  {
   "cell_type": "code",
   "execution_count": 1,
   "metadata": {},
   "outputs": [],
   "source": [
    "import sys\n",
    "import numpy as np\n",
    "import pandas as pd\n",
    "sys.path.insert(0,\"../\")\n",
    "# our main import\n",
    "import turbopanda as turb"
   ]
  },
  {
   "cell_type": "markdown",
   "metadata": {},
   "source": [
    "## Reading in our dataset"
   ]
  },
  {
   "cell_type": "code",
   "execution_count": 2,
   "metadata": {},
   "outputs": [
    {
     "data": {
      "text/plain": [
       "MetaPanda(Translation(n=5216, p=14, mem=0.585MB), mode='instant')"
      ]
     },
     "execution_count": 2,
     "metadata": {},
     "output_type": "execute_result"
    }
   ],
   "source": [
    "g = turb.read(\"translation.csv\", name=\"Translation\")\n",
    "g"
   ]
  },
  {
   "cell_type": "markdown",
   "metadata": {},
   "source": [
    "## Accessing with `head`\n",
    "\n",
    "Normally copying over features from `pandas.DataFrame` was a forbidden fruit, but we decided in this case that `head` so useful that we would break tradition:"
   ]
  },
  {
   "cell_type": "code",
   "execution_count": 3,
   "metadata": {},
   "outputs": [
    {
     "data": {
      "text/html": [
       "<div>\n",
       "<style scoped>\n",
       "    .dataframe tbody tr th:only-of-type {\n",
       "        vertical-align: middle;\n",
       "    }\n",
       "\n",
       "    .dataframe tbody tr th {\n",
       "        vertical-align: top;\n",
       "    }\n",
       "\n",
       "    .dataframe thead th {\n",
       "        text-align: right;\n",
       "    }\n",
       "</style>\n",
       "<table border=\"1\" class=\"dataframe\">\n",
       "  <thead>\n",
       "    <tr style=\"text-align: right;\">\n",
       "      <th>colnames</th>\n",
       "      <th>prot_IDs</th>\n",
       "      <th>prot_names</th>\n",
       "      <th>Gene_names</th>\n",
       "      <th>translation_G1_1</th>\n",
       "      <th>translation_G1_2</th>\n",
       "      <th>translation_G1_3</th>\n",
       "      <th>translation_G2M_1</th>\n",
       "      <th>translation_G2M_2</th>\n",
       "      <th>translation_G2M_3</th>\n",
       "      <th>translation_MG1_1</th>\n",
       "      <th>translation_MG1_2</th>\n",
       "      <th>translation_MG1_3</th>\n",
       "      <th>translation_S_1</th>\n",
       "      <th>translation_S_2</th>\n",
       "    </tr>\n",
       "    <tr>\n",
       "      <th>counter</th>\n",
       "      <th></th>\n",
       "      <th></th>\n",
       "      <th></th>\n",
       "      <th></th>\n",
       "      <th></th>\n",
       "      <th></th>\n",
       "      <th></th>\n",
       "      <th></th>\n",
       "      <th></th>\n",
       "      <th></th>\n",
       "      <th></th>\n",
       "      <th></th>\n",
       "      <th></th>\n",
       "      <th></th>\n",
       "    </tr>\n",
       "  </thead>\n",
       "  <tbody>\n",
       "    <tr>\n",
       "      <td>0</td>\n",
       "      <td>Q96IC2;Q96IC2-2;H3BM72;H3BV93;H3BSC5</td>\n",
       "      <td>Putative RNA exonuclease NEF-sp</td>\n",
       "      <td>44M2.3</td>\n",
       "      <td>21.26058</td>\n",
       "      <td>20.47467</td>\n",
       "      <td>20.48905</td>\n",
       "      <td>21.01794</td>\n",
       "      <td>20.14569</td>\n",
       "      <td>22.29011</td>\n",
       "      <td>21.11775</td>\n",
       "      <td>20.71892</td>\n",
       "      <td>20.25788</td>\n",
       "      <td>20.58628</td>\n",
       "      <td>20.27662</td>\n",
       "    </tr>\n",
       "    <tr>\n",
       "      <td>1</td>\n",
       "      <td>H0YGH4;P01023;H0YGH6;F8W7L3</td>\n",
       "      <td>Alpha-2-macroglobulin</td>\n",
       "      <td>A2M</td>\n",
       "      <td>22.62015</td>\n",
       "      <td>22.26825</td>\n",
       "      <td>23.11786</td>\n",
       "      <td>24.94606</td>\n",
       "      <td>24.21645</td>\n",
       "      <td>25.26399</td>\n",
       "      <td>23.56139</td>\n",
       "      <td>23.46051</td>\n",
       "      <td>22.21951</td>\n",
       "      <td>22.87688</td>\n",
       "      <td>23.35703</td>\n",
       "    </tr>\n",
       "    <tr>\n",
       "      <td>2</td>\n",
       "      <td>A8K2U0;F5H2W3;H0YGG5;F5H2Z2;F5GXP1</td>\n",
       "      <td>Alpha-2-macroglobulin-like protein 1</td>\n",
       "      <td>A2ML1</td>\n",
       "      <td>NaN</td>\n",
       "      <td>NaN</td>\n",
       "      <td>NaN</td>\n",
       "      <td>NaN</td>\n",
       "      <td>NaN</td>\n",
       "      <td>25.11629</td>\n",
       "      <td>NaN</td>\n",
       "      <td>NaN</td>\n",
       "      <td>NaN</td>\n",
       "      <td>NaN</td>\n",
       "      <td>NaN</td>\n",
       "    </tr>\n",
       "  </tbody>\n",
       "</table>\n",
       "</div>"
      ],
      "text/plain": [
       "colnames                              prot_IDs  \\\n",
       "counter                                          \n",
       "0         Q96IC2;Q96IC2-2;H3BM72;H3BV93;H3BSC5   \n",
       "1                  H0YGH4;P01023;H0YGH6;F8W7L3   \n",
       "2           A8K2U0;F5H2W3;H0YGG5;F5H2Z2;F5GXP1   \n",
       "\n",
       "colnames                            prot_names Gene_names  translation_G1_1  \\\n",
       "counter                                                                       \n",
       "0              Putative RNA exonuclease NEF-sp     44M2.3          21.26058   \n",
       "1                        Alpha-2-macroglobulin        A2M          22.62015   \n",
       "2         Alpha-2-macroglobulin-like protein 1      A2ML1               NaN   \n",
       "\n",
       "colnames  translation_G1_2  translation_G1_3  translation_G2M_1  \\\n",
       "counter                                                           \n",
       "0                 20.47467          20.48905           21.01794   \n",
       "1                 22.26825          23.11786           24.94606   \n",
       "2                      NaN               NaN                NaN   \n",
       "\n",
       "colnames  translation_G2M_2  translation_G2M_3  translation_MG1_1  \\\n",
       "counter                                                             \n",
       "0                  20.14569           22.29011           21.11775   \n",
       "1                  24.21645           25.26399           23.56139   \n",
       "2                       NaN           25.11629                NaN   \n",
       "\n",
       "colnames  translation_MG1_2  translation_MG1_3  translation_S_1  \\\n",
       "counter                                                           \n",
       "0                  20.71892           20.25788         20.58628   \n",
       "1                  23.46051           22.21951         22.87688   \n",
       "2                       NaN                NaN              NaN   \n",
       "\n",
       "colnames  translation_S_2  \n",
       "counter                    \n",
       "0                20.27662  \n",
       "1                23.35703  \n",
       "2                     NaN  "
      ]
     },
     "execution_count": 3,
     "metadata": {},
     "output_type": "execute_result"
    }
   ],
   "source": [
    "g.head(3)"
   ]
  },
  {
   "cell_type": "markdown",
   "metadata": {},
   "source": [
    "## Generic `apply` to the underlying DataFrame\n",
    "\n",
    "For the thousands of instances where we simply want to apply a `pandas.DataFrame.*` function to the underlying dataset, but retain the consistency between `df_` and `meta_` attributes in particular, our solution is to provide an `apply` function which is performed on the entire\n",
    "dataset.\n",
    "\n",
    "This is similar to the `transform` function we have, however `apply` only looks for functions within `pandas.DataFrame.*` API, and it does not allow for pre-subset selection (using the `selector` parameter) beforehand.\n",
    "\n",
    "For instance, let's say we want to fill all the `NaN` values in dataset with a value. We could do this easily with `pandas.DataFrame.fillna` but to use `MetaPanda` we'd have to call the `transform` function with a custom lambda etc."
   ]
  },
  {
   "cell_type": "code",
   "execution_count": 4,
   "metadata": {},
   "outputs": [
    {
     "data": {
      "text/plain": [
       "MetaPanda(Translation(n=5216, p=14, mem=0.585MB), mode='instant')"
      ]
     },
     "execution_count": 4,
     "metadata": {},
     "output_type": "execute_result"
    }
   ],
   "source": [
    "g.apply(\"fillna\", 0)"
   ]
  },
  {
   "cell_type": "markdown",
   "metadata": {},
   "source": [
    "It's that easy."
   ]
  },
  {
   "cell_type": "code",
   "execution_count": 5,
   "metadata": {},
   "outputs": [
    {
     "data": {
      "text/html": [
       "<div>\n",
       "<style scoped>\n",
       "    .dataframe tbody tr th:only-of-type {\n",
       "        vertical-align: middle;\n",
       "    }\n",
       "\n",
       "    .dataframe tbody tr th {\n",
       "        vertical-align: top;\n",
       "    }\n",
       "\n",
       "    .dataframe thead th {\n",
       "        text-align: right;\n",
       "    }\n",
       "</style>\n",
       "<table border=\"1\" class=\"dataframe\">\n",
       "  <thead>\n",
       "    <tr style=\"text-align: right;\">\n",
       "      <th>colnames</th>\n",
       "      <th>prot_IDs</th>\n",
       "      <th>prot_names</th>\n",
       "      <th>Gene_names</th>\n",
       "      <th>translation_G1_1</th>\n",
       "      <th>translation_G1_2</th>\n",
       "      <th>translation_G1_3</th>\n",
       "      <th>translation_G2M_1</th>\n",
       "      <th>translation_G2M_2</th>\n",
       "      <th>translation_G2M_3</th>\n",
       "      <th>translation_MG1_1</th>\n",
       "      <th>translation_MG1_2</th>\n",
       "      <th>translation_MG1_3</th>\n",
       "      <th>translation_S_1</th>\n",
       "      <th>translation_S_2</th>\n",
       "    </tr>\n",
       "    <tr>\n",
       "      <th>counter</th>\n",
       "      <th></th>\n",
       "      <th></th>\n",
       "      <th></th>\n",
       "      <th></th>\n",
       "      <th></th>\n",
       "      <th></th>\n",
       "      <th></th>\n",
       "      <th></th>\n",
       "      <th></th>\n",
       "      <th></th>\n",
       "      <th></th>\n",
       "      <th></th>\n",
       "      <th></th>\n",
       "      <th></th>\n",
       "    </tr>\n",
       "  </thead>\n",
       "  <tbody>\n",
       "    <tr>\n",
       "      <td>0</td>\n",
       "      <td>Q96IC2;Q96IC2-2;H3BM72;H3BV93;H3BSC5</td>\n",
       "      <td>Putative RNA exonuclease NEF-sp</td>\n",
       "      <td>44M2.3</td>\n",
       "      <td>21.26058</td>\n",
       "      <td>20.47467</td>\n",
       "      <td>20.48905</td>\n",
       "      <td>21.01794</td>\n",
       "      <td>20.14569</td>\n",
       "      <td>22.29011</td>\n",
       "      <td>21.11775</td>\n",
       "      <td>20.71892</td>\n",
       "      <td>20.25788</td>\n",
       "      <td>20.58628</td>\n",
       "      <td>20.27662</td>\n",
       "    </tr>\n",
       "    <tr>\n",
       "      <td>1</td>\n",
       "      <td>H0YGH4;P01023;H0YGH6;F8W7L3</td>\n",
       "      <td>Alpha-2-macroglobulin</td>\n",
       "      <td>A2M</td>\n",
       "      <td>22.62015</td>\n",
       "      <td>22.26825</td>\n",
       "      <td>23.11786</td>\n",
       "      <td>24.94606</td>\n",
       "      <td>24.21645</td>\n",
       "      <td>25.26399</td>\n",
       "      <td>23.56139</td>\n",
       "      <td>23.46051</td>\n",
       "      <td>22.21951</td>\n",
       "      <td>22.87688</td>\n",
       "      <td>23.35703</td>\n",
       "    </tr>\n",
       "    <tr>\n",
       "      <td>2</td>\n",
       "      <td>A8K2U0;F5H2W3;H0YGG5;F5H2Z2;F5GXP1</td>\n",
       "      <td>Alpha-2-macroglobulin-like protein 1</td>\n",
       "      <td>A2ML1</td>\n",
       "      <td>0.00000</td>\n",
       "      <td>0.00000</td>\n",
       "      <td>0.00000</td>\n",
       "      <td>0.00000</td>\n",
       "      <td>0.00000</td>\n",
       "      <td>25.11629</td>\n",
       "      <td>0.00000</td>\n",
       "      <td>0.00000</td>\n",
       "      <td>0.00000</td>\n",
       "      <td>0.00000</td>\n",
       "      <td>0.00000</td>\n",
       "    </tr>\n",
       "  </tbody>\n",
       "</table>\n",
       "</div>"
      ],
      "text/plain": [
       "colnames                              prot_IDs  \\\n",
       "counter                                          \n",
       "0         Q96IC2;Q96IC2-2;H3BM72;H3BV93;H3BSC5   \n",
       "1                  H0YGH4;P01023;H0YGH6;F8W7L3   \n",
       "2           A8K2U0;F5H2W3;H0YGG5;F5H2Z2;F5GXP1   \n",
       "\n",
       "colnames                            prot_names Gene_names  translation_G1_1  \\\n",
       "counter                                                                       \n",
       "0              Putative RNA exonuclease NEF-sp     44M2.3          21.26058   \n",
       "1                        Alpha-2-macroglobulin        A2M          22.62015   \n",
       "2         Alpha-2-macroglobulin-like protein 1      A2ML1           0.00000   \n",
       "\n",
       "colnames  translation_G1_2  translation_G1_3  translation_G2M_1  \\\n",
       "counter                                                           \n",
       "0                 20.47467          20.48905           21.01794   \n",
       "1                 22.26825          23.11786           24.94606   \n",
       "2                  0.00000           0.00000            0.00000   \n",
       "\n",
       "colnames  translation_G2M_2  translation_G2M_3  translation_MG1_1  \\\n",
       "counter                                                             \n",
       "0                  20.14569           22.29011           21.11775   \n",
       "1                  24.21645           25.26399           23.56139   \n",
       "2                   0.00000           25.11629            0.00000   \n",
       "\n",
       "colnames  translation_MG1_2  translation_MG1_3  translation_S_1  \\\n",
       "counter                                                           \n",
       "0                  20.71892           20.25788         20.58628   \n",
       "1                  23.46051           22.21951         22.87688   \n",
       "2                   0.00000            0.00000          0.00000   \n",
       "\n",
       "colnames  translation_S_2  \n",
       "counter                    \n",
       "0                20.27662  \n",
       "1                23.35703  \n",
       "2                 0.00000  "
      ]
     },
     "execution_count": 5,
     "metadata": {},
     "output_type": "execute_result"
    }
   ],
   "source": [
    "g.df_.head(3)"
   ]
  },
  {
   "cell_type": "markdown",
   "metadata": {},
   "source": [
    "## String manipulation of ID columns\n",
    "\n",
    "Often datasets can have numerical/quantitative data coupled with IDs that help to identify rows based on your problem domain. In this case, we have some identifiers from **Uniprot**, one of the main databases managing protein sequences.\n",
    "\n",
    "There is a slight problem though, each of these expression values has a *stack of protein IDs* associated with it. So we're going to have to untangle this somehow by **expanding** the ID columns to something we can then perform **set theory** operations on.\n",
    "\n",
    "`MetaPanda` comes with an `expand` function which does exactly this:"
   ]
  },
  {
   "cell_type": "code",
   "execution_count": 6,
   "metadata": {},
   "outputs": [
    {
     "data": {
      "text/plain": [
       "MetaPanda(Translation(n=26318, p=14, mem=3.159MB), mode='instant')"
      ]
     },
     "execution_count": 6,
     "metadata": {},
     "output_type": "execute_result"
    }
   ],
   "source": [
    "g.expand(\"prot_IDs\", sep=\";\")"
   ]
  },
  {
   "cell_type": "markdown",
   "metadata": {},
   "source": [
    "We can see in this instance that $n$ has increased significantly, as has the memory usage."
   ]
  },
  {
   "cell_type": "code",
   "execution_count": 7,
   "metadata": {},
   "outputs": [
    {
     "data": {
      "text/html": [
       "<div>\n",
       "<style scoped>\n",
       "    .dataframe tbody tr th:only-of-type {\n",
       "        vertical-align: middle;\n",
       "    }\n",
       "\n",
       "    .dataframe tbody tr th {\n",
       "        vertical-align: top;\n",
       "    }\n",
       "\n",
       "    .dataframe thead th {\n",
       "        text-align: right;\n",
       "    }\n",
       "</style>\n",
       "<table border=\"1\" class=\"dataframe\">\n",
       "  <thead>\n",
       "    <tr style=\"text-align: right;\">\n",
       "      <th>colnames</th>\n",
       "      <th>prot_IDs</th>\n",
       "      <th>prot_names</th>\n",
       "      <th>Gene_names</th>\n",
       "      <th>translation_G1_1</th>\n",
       "      <th>translation_G1_2</th>\n",
       "      <th>translation_G1_3</th>\n",
       "      <th>translation_G2M_1</th>\n",
       "      <th>translation_G2M_2</th>\n",
       "      <th>translation_G2M_3</th>\n",
       "      <th>translation_MG1_1</th>\n",
       "      <th>translation_MG1_2</th>\n",
       "      <th>translation_MG1_3</th>\n",
       "      <th>translation_S_1</th>\n",
       "      <th>translation_S_2</th>\n",
       "    </tr>\n",
       "    <tr>\n",
       "      <th>counter</th>\n",
       "      <th></th>\n",
       "      <th></th>\n",
       "      <th></th>\n",
       "      <th></th>\n",
       "      <th></th>\n",
       "      <th></th>\n",
       "      <th></th>\n",
       "      <th></th>\n",
       "      <th></th>\n",
       "      <th></th>\n",
       "      <th></th>\n",
       "      <th></th>\n",
       "      <th></th>\n",
       "      <th></th>\n",
       "    </tr>\n",
       "  </thead>\n",
       "  <tbody>\n",
       "    <tr>\n",
       "      <td>0</td>\n",
       "      <td>Q96IC2</td>\n",
       "      <td>Putative RNA exonuclease NEF-sp</td>\n",
       "      <td>44M2.3</td>\n",
       "      <td>21.26058</td>\n",
       "      <td>20.47467</td>\n",
       "      <td>20.48905</td>\n",
       "      <td>21.01794</td>\n",
       "      <td>20.14569</td>\n",
       "      <td>22.29011</td>\n",
       "      <td>21.11775</td>\n",
       "      <td>20.71892</td>\n",
       "      <td>20.25788</td>\n",
       "      <td>20.58628</td>\n",
       "      <td>20.27662</td>\n",
       "    </tr>\n",
       "    <tr>\n",
       "      <td>0</td>\n",
       "      <td>Q96IC2-2</td>\n",
       "      <td>Putative RNA exonuclease NEF-sp</td>\n",
       "      <td>44M2.3</td>\n",
       "      <td>21.26058</td>\n",
       "      <td>20.47467</td>\n",
       "      <td>20.48905</td>\n",
       "      <td>21.01794</td>\n",
       "      <td>20.14569</td>\n",
       "      <td>22.29011</td>\n",
       "      <td>21.11775</td>\n",
       "      <td>20.71892</td>\n",
       "      <td>20.25788</td>\n",
       "      <td>20.58628</td>\n",
       "      <td>20.27662</td>\n",
       "    </tr>\n",
       "    <tr>\n",
       "      <td>0</td>\n",
       "      <td>H3BM72</td>\n",
       "      <td>Putative RNA exonuclease NEF-sp</td>\n",
       "      <td>44M2.3</td>\n",
       "      <td>21.26058</td>\n",
       "      <td>20.47467</td>\n",
       "      <td>20.48905</td>\n",
       "      <td>21.01794</td>\n",
       "      <td>20.14569</td>\n",
       "      <td>22.29011</td>\n",
       "      <td>21.11775</td>\n",
       "      <td>20.71892</td>\n",
       "      <td>20.25788</td>\n",
       "      <td>20.58628</td>\n",
       "      <td>20.27662</td>\n",
       "    </tr>\n",
       "    <tr>\n",
       "      <td>0</td>\n",
       "      <td>H3BV93</td>\n",
       "      <td>Putative RNA exonuclease NEF-sp</td>\n",
       "      <td>44M2.3</td>\n",
       "      <td>21.26058</td>\n",
       "      <td>20.47467</td>\n",
       "      <td>20.48905</td>\n",
       "      <td>21.01794</td>\n",
       "      <td>20.14569</td>\n",
       "      <td>22.29011</td>\n",
       "      <td>21.11775</td>\n",
       "      <td>20.71892</td>\n",
       "      <td>20.25788</td>\n",
       "      <td>20.58628</td>\n",
       "      <td>20.27662</td>\n",
       "    </tr>\n",
       "    <tr>\n",
       "      <td>0</td>\n",
       "      <td>H3BSC5</td>\n",
       "      <td>Putative RNA exonuclease NEF-sp</td>\n",
       "      <td>44M2.3</td>\n",
       "      <td>21.26058</td>\n",
       "      <td>20.47467</td>\n",
       "      <td>20.48905</td>\n",
       "      <td>21.01794</td>\n",
       "      <td>20.14569</td>\n",
       "      <td>22.29011</td>\n",
       "      <td>21.11775</td>\n",
       "      <td>20.71892</td>\n",
       "      <td>20.25788</td>\n",
       "      <td>20.58628</td>\n",
       "      <td>20.27662</td>\n",
       "    </tr>\n",
       "  </tbody>\n",
       "</table>\n",
       "</div>"
      ],
      "text/plain": [
       "colnames  prot_IDs                       prot_names Gene_names  \\\n",
       "counter                                                          \n",
       "0           Q96IC2  Putative RNA exonuclease NEF-sp     44M2.3   \n",
       "0         Q96IC2-2  Putative RNA exonuclease NEF-sp     44M2.3   \n",
       "0           H3BM72  Putative RNA exonuclease NEF-sp     44M2.3   \n",
       "0           H3BV93  Putative RNA exonuclease NEF-sp     44M2.3   \n",
       "0           H3BSC5  Putative RNA exonuclease NEF-sp     44M2.3   \n",
       "\n",
       "colnames  translation_G1_1  translation_G1_2  translation_G1_3  \\\n",
       "counter                                                          \n",
       "0                 21.26058          20.47467          20.48905   \n",
       "0                 21.26058          20.47467          20.48905   \n",
       "0                 21.26058          20.47467          20.48905   \n",
       "0                 21.26058          20.47467          20.48905   \n",
       "0                 21.26058          20.47467          20.48905   \n",
       "\n",
       "colnames  translation_G2M_1  translation_G2M_2  translation_G2M_3  \\\n",
       "counter                                                             \n",
       "0                  21.01794           20.14569           22.29011   \n",
       "0                  21.01794           20.14569           22.29011   \n",
       "0                  21.01794           20.14569           22.29011   \n",
       "0                  21.01794           20.14569           22.29011   \n",
       "0                  21.01794           20.14569           22.29011   \n",
       "\n",
       "colnames  translation_MG1_1  translation_MG1_2  translation_MG1_3  \\\n",
       "counter                                                             \n",
       "0                  21.11775           20.71892           20.25788   \n",
       "0                  21.11775           20.71892           20.25788   \n",
       "0                  21.11775           20.71892           20.25788   \n",
       "0                  21.11775           20.71892           20.25788   \n",
       "0                  21.11775           20.71892           20.25788   \n",
       "\n",
       "colnames  translation_S_1  translation_S_2  \n",
       "counter                                     \n",
       "0                20.58628         20.27662  \n",
       "0                20.58628         20.27662  \n",
       "0                20.58628         20.27662  \n",
       "0                20.58628         20.27662  \n",
       "0                20.58628         20.27662  "
      ]
     },
     "execution_count": 7,
     "metadata": {},
     "output_type": "execute_result"
    }
   ],
   "source": [
    "g.df_.head()"
   ]
  },
  {
   "cell_type": "markdown",
   "metadata": {},
   "source": [
    "## Applying a transformation to eliminate duplicates\n",
    "\n",
    "Here we see that there are labels that are *sort of* duplicated in the sense that they are appended with `-[0-9]`. We will split these off and keep the left-hand part, then apply a function which drops duplicates."
   ]
  },
  {
   "cell_type": "code",
   "execution_count": 8,
   "metadata": {},
   "outputs": [
    {
     "data": {
      "text/plain": [
       "MetaPanda(Translation(n=26318, p=14, mem=3.159MB), mode='instant')"
      ]
     },
     "execution_count": 8,
     "metadata": {},
     "output_type": "execute_result"
    }
   ],
   "source": [
    "g.transform(lambda x: x.str.split(\"-\",expand=True)[0], \"^prot_ID\")"
   ]
  },
  {
   "cell_type": "markdown",
   "metadata": {},
   "source": [
    "Now use `pandas.DataFrame.drop_duplicates`, with the subset just on Protein IDs"
   ]
  },
  {
   "cell_type": "code",
   "execution_count": 9,
   "metadata": {},
   "outputs": [
    {
     "data": {
      "text/plain": [
       "MetaPanda(Translation(n=21050, p=14, mem=2.527MB), mode='instant')"
      ]
     },
     "execution_count": 9,
     "metadata": {},
     "output_type": "execute_result"
    }
   ],
   "source": [
    "g.apply(\"drop_duplicates\", subset=[\"prot_IDs\"])"
   ]
  },
  {
   "cell_type": "code",
   "execution_count": 10,
   "metadata": {},
   "outputs": [
    {
     "data": {
      "text/html": [
       "<div>\n",
       "<style scoped>\n",
       "    .dataframe tbody tr th:only-of-type {\n",
       "        vertical-align: middle;\n",
       "    }\n",
       "\n",
       "    .dataframe tbody tr th {\n",
       "        vertical-align: top;\n",
       "    }\n",
       "\n",
       "    .dataframe thead th {\n",
       "        text-align: right;\n",
       "    }\n",
       "</style>\n",
       "<table border=\"1\" class=\"dataframe\">\n",
       "  <thead>\n",
       "    <tr style=\"text-align: right;\">\n",
       "      <th>colnames</th>\n",
       "      <th>prot_IDs</th>\n",
       "      <th>prot_names</th>\n",
       "      <th>Gene_names</th>\n",
       "      <th>translation_G1_1</th>\n",
       "      <th>translation_G1_2</th>\n",
       "      <th>translation_G1_3</th>\n",
       "      <th>translation_G2M_1</th>\n",
       "      <th>translation_G2M_2</th>\n",
       "      <th>translation_G2M_3</th>\n",
       "      <th>translation_MG1_1</th>\n",
       "      <th>translation_MG1_2</th>\n",
       "      <th>translation_MG1_3</th>\n",
       "      <th>translation_S_1</th>\n",
       "      <th>translation_S_2</th>\n",
       "    </tr>\n",
       "    <tr>\n",
       "      <th>counter</th>\n",
       "      <th></th>\n",
       "      <th></th>\n",
       "      <th></th>\n",
       "      <th></th>\n",
       "      <th></th>\n",
       "      <th></th>\n",
       "      <th></th>\n",
       "      <th></th>\n",
       "      <th></th>\n",
       "      <th></th>\n",
       "      <th></th>\n",
       "      <th></th>\n",
       "      <th></th>\n",
       "      <th></th>\n",
       "    </tr>\n",
       "  </thead>\n",
       "  <tbody>\n",
       "    <tr>\n",
       "      <td>0</td>\n",
       "      <td>Q96IC2</td>\n",
       "      <td>Putative RNA exonuclease NEF-sp</td>\n",
       "      <td>44M2.3</td>\n",
       "      <td>21.26058</td>\n",
       "      <td>20.47467</td>\n",
       "      <td>20.48905</td>\n",
       "      <td>21.01794</td>\n",
       "      <td>20.14569</td>\n",
       "      <td>22.29011</td>\n",
       "      <td>21.11775</td>\n",
       "      <td>20.71892</td>\n",
       "      <td>20.25788</td>\n",
       "      <td>20.58628</td>\n",
       "      <td>20.27662</td>\n",
       "    </tr>\n",
       "    <tr>\n",
       "      <td>0</td>\n",
       "      <td>H3BM72</td>\n",
       "      <td>Putative RNA exonuclease NEF-sp</td>\n",
       "      <td>44M2.3</td>\n",
       "      <td>21.26058</td>\n",
       "      <td>20.47467</td>\n",
       "      <td>20.48905</td>\n",
       "      <td>21.01794</td>\n",
       "      <td>20.14569</td>\n",
       "      <td>22.29011</td>\n",
       "      <td>21.11775</td>\n",
       "      <td>20.71892</td>\n",
       "      <td>20.25788</td>\n",
       "      <td>20.58628</td>\n",
       "      <td>20.27662</td>\n",
       "    </tr>\n",
       "    <tr>\n",
       "      <td>0</td>\n",
       "      <td>H3BV93</td>\n",
       "      <td>Putative RNA exonuclease NEF-sp</td>\n",
       "      <td>44M2.3</td>\n",
       "      <td>21.26058</td>\n",
       "      <td>20.47467</td>\n",
       "      <td>20.48905</td>\n",
       "      <td>21.01794</td>\n",
       "      <td>20.14569</td>\n",
       "      <td>22.29011</td>\n",
       "      <td>21.11775</td>\n",
       "      <td>20.71892</td>\n",
       "      <td>20.25788</td>\n",
       "      <td>20.58628</td>\n",
       "      <td>20.27662</td>\n",
       "    </tr>\n",
       "  </tbody>\n",
       "</table>\n",
       "</div>"
      ],
      "text/plain": [
       "colnames prot_IDs                       prot_names Gene_names  \\\n",
       "counter                                                         \n",
       "0          Q96IC2  Putative RNA exonuclease NEF-sp     44M2.3   \n",
       "0          H3BM72  Putative RNA exonuclease NEF-sp     44M2.3   \n",
       "0          H3BV93  Putative RNA exonuclease NEF-sp     44M2.3   \n",
       "\n",
       "colnames  translation_G1_1  translation_G1_2  translation_G1_3  \\\n",
       "counter                                                          \n",
       "0                 21.26058          20.47467          20.48905   \n",
       "0                 21.26058          20.47467          20.48905   \n",
       "0                 21.26058          20.47467          20.48905   \n",
       "\n",
       "colnames  translation_G2M_1  translation_G2M_2  translation_G2M_3  \\\n",
       "counter                                                             \n",
       "0                  21.01794           20.14569           22.29011   \n",
       "0                  21.01794           20.14569           22.29011   \n",
       "0                  21.01794           20.14569           22.29011   \n",
       "\n",
       "colnames  translation_MG1_1  translation_MG1_2  translation_MG1_3  \\\n",
       "counter                                                             \n",
       "0                  21.11775           20.71892           20.25788   \n",
       "0                  21.11775           20.71892           20.25788   \n",
       "0                  21.11775           20.71892           20.25788   \n",
       "\n",
       "colnames  translation_S_1  translation_S_2  \n",
       "counter                                     \n",
       "0                20.58628         20.27662  \n",
       "0                20.58628         20.27662  \n",
       "0                20.58628         20.27662  "
      ]
     },
     "execution_count": 10,
     "metadata": {},
     "output_type": "execute_result"
    }
   ],
   "source": [
    "g.df_.head(3)"
   ]
  },
  {
   "cell_type": "markdown",
   "metadata": {},
   "source": [
    "## Using `mode=delay`: Delaying actions to make a task graph\n",
    "\n",
    "You may have noticed that the representation of the object shows `mode='instant'`.\n",
    "\n",
    "Using the current approach, all of our operations apply instantly. This can be nice but if you make a mistake, it can be difficult to backtrack.\n",
    "\n",
    "Fortunately, `MetaPanda` has a `mode` parameter during initialization and `mode_` attribute that can be set at any point. When set to `delay`, many functions that apply changes immediately to the data are instead *cached* in a `pipe_` attribute.\n",
    "\n",
    "This attribute is then emptied when a call to `compute()` is made, and all of the operations within the `pipe_` are executed with their parameters, in order."
   ]
  },
  {
   "cell_type": "markdown",
   "metadata": {},
   "source": [
    "### Creating a series of operations to perform..."
   ]
  },
  {
   "cell_type": "code",
   "execution_count": 11,
   "metadata": {},
   "outputs": [],
   "source": [
    "g.mode_=\"delay\""
   ]
  },
  {
   "cell_type": "code",
   "execution_count": 12,
   "metadata": {},
   "outputs": [],
   "source": [
    "g.drop(\"prot_name\")\n",
    "g.apply(\"groupby\", [\"counter\",\"Gene_names\"])\n",
    "g.apply(\"mean\")\n",
    "g.rename([(\"translation\",\"trans\")])"
   ]
  },
  {
   "cell_type": "markdown",
   "metadata": {},
   "source": [
    "We can see that no changes have been made to the dataset."
   ]
  },
  {
   "cell_type": "code",
   "execution_count": 13,
   "metadata": {},
   "outputs": [
    {
     "data": {
      "text/plain": [
       "MetaPanda(Translation(n=21050, p=14, mem=2.527MB), mode='delay')"
      ]
     },
     "execution_count": 13,
     "metadata": {},
     "output_type": "execute_result"
    }
   ],
   "source": [
    "g"
   ]
  },
  {
   "cell_type": "markdown",
   "metadata": {},
   "source": [
    "But if we check the `pipe_` attribute, all of the operations have been saved:"
   ]
  },
  {
   "cell_type": "code",
   "execution_count": 14,
   "metadata": {},
   "outputs": [
    {
     "data": {
      "text/plain": [
       "[('drop', ('prot_name',), {}),\n",
       " ('apply', ('groupby', ['counter', 'Gene_names']), {}),\n",
       " ('apply', ('mean',), {}),\n",
       " ('rename', ([('translation', 'trans')],), {})]"
      ]
     },
     "execution_count": 14,
     "metadata": {},
     "output_type": "execute_result"
    }
   ],
   "source": [
    "g.pipe_"
   ]
  },
  {
   "cell_type": "markdown",
   "metadata": {},
   "source": [
    "### Now a call to `compute()`:\n",
    "\n",
    "Note that `compute()` will empty the `pipe_` attribute by default to prevent repeat calls.\n",
    "\n",
    "`compute()` also takes optional parameters `pipe` and `inplace`, if `pipe` is passed it uses this external pipe rather than an internal object. If `inplace` is set to False, a copy of the MetaPanda is returned instead of acting inplace."
   ]
  },
  {
   "cell_type": "code",
   "execution_count": 15,
   "metadata": {},
   "outputs": [
    {
     "data": {
      "text/plain": [
       "MetaPanda(Translation(n=5190, p=11, mem=0.561MB), mode='instant')"
      ]
     },
     "execution_count": 15,
     "metadata": {},
     "output_type": "execute_result"
    }
   ],
   "source": [
    "g.compute()"
   ]
  },
  {
   "cell_type": "code",
   "execution_count": 16,
   "metadata": {
    "scrolled": true
   },
   "outputs": [
    {
     "data": {
      "text/html": [
       "<div>\n",
       "<style scoped>\n",
       "    .dataframe tbody tr th:only-of-type {\n",
       "        vertical-align: middle;\n",
       "    }\n",
       "\n",
       "    .dataframe tbody tr th {\n",
       "        vertical-align: top;\n",
       "    }\n",
       "\n",
       "    .dataframe thead th {\n",
       "        text-align: right;\n",
       "    }\n",
       "</style>\n",
       "<table border=\"1\" class=\"dataframe\">\n",
       "  <thead>\n",
       "    <tr style=\"text-align: right;\">\n",
       "      <th></th>\n",
       "      <th>colnames</th>\n",
       "      <th>trans_G1_1</th>\n",
       "      <th>trans_G1_2</th>\n",
       "      <th>trans_G1_3</th>\n",
       "      <th>trans_G2M_1</th>\n",
       "      <th>trans_G2M_2</th>\n",
       "      <th>trans_G2M_3</th>\n",
       "      <th>trans_MG1_1</th>\n",
       "      <th>trans_MG1_2</th>\n",
       "      <th>trans_MG1_3</th>\n",
       "      <th>trans_S_1</th>\n",
       "      <th>trans_S_2</th>\n",
       "    </tr>\n",
       "    <tr>\n",
       "      <th>counter</th>\n",
       "      <th>Gene_names</th>\n",
       "      <th></th>\n",
       "      <th></th>\n",
       "      <th></th>\n",
       "      <th></th>\n",
       "      <th></th>\n",
       "      <th></th>\n",
       "      <th></th>\n",
       "      <th></th>\n",
       "      <th></th>\n",
       "      <th></th>\n",
       "      <th></th>\n",
       "    </tr>\n",
       "  </thead>\n",
       "  <tbody>\n",
       "    <tr>\n",
       "      <td>0</td>\n",
       "      <td>44M2.3</td>\n",
       "      <td>21.26058</td>\n",
       "      <td>20.47467</td>\n",
       "      <td>20.48905</td>\n",
       "      <td>21.01794</td>\n",
       "      <td>20.14569</td>\n",
       "      <td>22.29011</td>\n",
       "      <td>21.11775</td>\n",
       "      <td>20.71892</td>\n",
       "      <td>20.25788</td>\n",
       "      <td>20.58628</td>\n",
       "      <td>20.27662</td>\n",
       "    </tr>\n",
       "    <tr>\n",
       "      <td>1</td>\n",
       "      <td>A2M</td>\n",
       "      <td>22.62015</td>\n",
       "      <td>22.26825</td>\n",
       "      <td>23.11786</td>\n",
       "      <td>24.94606</td>\n",
       "      <td>24.21645</td>\n",
       "      <td>25.26399</td>\n",
       "      <td>23.56139</td>\n",
       "      <td>23.46051</td>\n",
       "      <td>22.21951</td>\n",
       "      <td>22.87688</td>\n",
       "      <td>23.35703</td>\n",
       "    </tr>\n",
       "    <tr>\n",
       "      <td>2</td>\n",
       "      <td>A2ML1</td>\n",
       "      <td>0.00000</td>\n",
       "      <td>0.00000</td>\n",
       "      <td>0.00000</td>\n",
       "      <td>0.00000</td>\n",
       "      <td>0.00000</td>\n",
       "      <td>25.11629</td>\n",
       "      <td>0.00000</td>\n",
       "      <td>0.00000</td>\n",
       "      <td>0.00000</td>\n",
       "      <td>0.00000</td>\n",
       "      <td>0.00000</td>\n",
       "    </tr>\n",
       "    <tr>\n",
       "      <td>3</td>\n",
       "      <td>AAAS</td>\n",
       "      <td>25.48382</td>\n",
       "      <td>24.42746</td>\n",
       "      <td>25.22645</td>\n",
       "      <td>24.44556</td>\n",
       "      <td>23.93706</td>\n",
       "      <td>25.30966</td>\n",
       "      <td>25.61462</td>\n",
       "      <td>25.45923</td>\n",
       "      <td>24.48253</td>\n",
       "      <td>24.31645</td>\n",
       "      <td>23.92143</td>\n",
       "    </tr>\n",
       "    <tr>\n",
       "      <td>4</td>\n",
       "      <td>AACS</td>\n",
       "      <td>24.18177</td>\n",
       "      <td>24.51533</td>\n",
       "      <td>24.32766</td>\n",
       "      <td>24.15993</td>\n",
       "      <td>24.05001</td>\n",
       "      <td>24.95797</td>\n",
       "      <td>24.11656</td>\n",
       "      <td>24.22523</td>\n",
       "      <td>23.96446</td>\n",
       "      <td>23.89440</td>\n",
       "      <td>23.78107</td>\n",
       "    </tr>\n",
       "  </tbody>\n",
       "</table>\n",
       "</div>"
      ],
      "text/plain": [
       "colnames            trans_G1_1  trans_G1_2  trans_G1_3  trans_G2M_1  \\\n",
       "counter Gene_names                                                    \n",
       "0       44M2.3        21.26058    20.47467    20.48905     21.01794   \n",
       "1       A2M           22.62015    22.26825    23.11786     24.94606   \n",
       "2       A2ML1          0.00000     0.00000     0.00000      0.00000   \n",
       "3       AAAS          25.48382    24.42746    25.22645     24.44556   \n",
       "4       AACS          24.18177    24.51533    24.32766     24.15993   \n",
       "\n",
       "colnames            trans_G2M_2  trans_G2M_3  trans_MG1_1  trans_MG1_2  \\\n",
       "counter Gene_names                                                       \n",
       "0       44M2.3         20.14569     22.29011     21.11775     20.71892   \n",
       "1       A2M            24.21645     25.26399     23.56139     23.46051   \n",
       "2       A2ML1           0.00000     25.11629      0.00000      0.00000   \n",
       "3       AAAS           23.93706     25.30966     25.61462     25.45923   \n",
       "4       AACS           24.05001     24.95797     24.11656     24.22523   \n",
       "\n",
       "colnames            trans_MG1_3  trans_S_1  trans_S_2  \n",
       "counter Gene_names                                     \n",
       "0       44M2.3         20.25788   20.58628   20.27662  \n",
       "1       A2M            22.21951   22.87688   23.35703  \n",
       "2       A2ML1           0.00000    0.00000    0.00000  \n",
       "3       AAAS           24.48253   24.31645   23.92143  \n",
       "4       AACS           23.96446   23.89440   23.78107  "
      ]
     },
     "execution_count": 16,
     "metadata": {},
     "output_type": "execute_result"
    }
   ],
   "source": [
    "g.df_.head()"
   ]
  },
  {
   "cell_type": "code",
   "execution_count": 17,
   "metadata": {},
   "outputs": [
    {
     "data": {
      "text/plain": [
       "[]"
      ]
     },
     "execution_count": 17,
     "metadata": {},
     "output_type": "execute_result"
    }
   ],
   "source": [
    "g.pipe_"
   ]
  },
  {
   "cell_type": "markdown",
   "metadata": {},
   "source": [
    "### Functions that are affected by `delay` (accessed in `turb.metapanda.__delay_functions__`) include:\n",
    "\n",
    "- `add_prefix`\n",
    "- `add_suffix`\n",
    "- `apply`\n",
    "- `drop`\n",
    "- `expand`\n",
    "- `melt`\n",
    "- `meta_map`\n",
    "- `multi_transform`\n",
    "- `rename`\n",
    "- `shrink`\n",
    "- `sort_columns`\n",
    "- `split_categories`\n",
    "- `transform`"
   ]
  },
  {
   "cell_type": "markdown",
   "metadata": {},
   "source": [
    "## Computing external pipelines\n",
    "\n",
    "Often we want to have standardized pipelines that we can apply to many different pandas.DataFrames, for example we may have a similar system for **standardizing a dataset** in preparation of Machine Learning algorithms.\n",
    "\n",
    "`turbopanda` provides one of these presets, called `ml_pipe`:"
   ]
  },
  {
   "cell_type": "code",
   "execution_count": 18,
   "metadata": {},
   "outputs": [
    {
     "data": {
      "text/plain": [
       "<function turbopanda.pipes.ml_pipe(mp, X_s, y_s, preprocessor='scale')>"
      ]
     },
     "execution_count": 18,
     "metadata": {},
     "output_type": "execute_result"
    }
   ],
   "source": [
    "turb.ml_pipe"
   ]
  },
  {
   "cell_type": "markdown",
   "metadata": {},
   "source": [
    "This function takes a `MetaPanda`, with the input columns as a selector and output column(s) as a selector, with optional arguments, and returns a pipeline list which can be passed directly into `compute()`:"
   ]
  },
  {
   "cell_type": "code",
   "execution_count": 29,
   "metadata": {},
   "outputs": [
    {
     "data": {
      "text/plain": [
       "[('drop', (object, '_id$', '_ID$'), {}),\n",
       " ('apply',\n",
       "  ('dropna',),\n",
       "  {'subset': Index(['trans_G2M_1', 'trans_G2M_2', 'trans_G2M_3'], dtype='object', name='colnames')}),\n",
       " ('transform',\n",
       "  (<function turbopanda.pipes.ml_pipe.<locals>.<lambda>(x)>, 'trans_G1_[1-3]'),\n",
       "  {}),\n",
       " ('transform',\n",
       "  (<function sklearn.preprocessing.data.scale(X, axis=0, with_mean=True, with_std=True, copy=True)>,),\n",
       "  {'selector': 'trans_G1_[1-3]', 'whole': True}),\n",
       " ('transform',\n",
       "  (<function turbopanda.pipes.ml_pipe.<locals>.<lambda>(y)>,\n",
       "   'trans_G2M_[1-3]'),\n",
       "  {})]"
      ]
     },
     "execution_count": 29,
     "metadata": {},
     "output_type": "execute_result"
    }
   ],
   "source": [
    "npipe = turb.ml_pipe(g, \"trans_G1_[1-3]\", \"trans_G2M_[1-3]\")\n",
    "npipe"
   ]
  },
  {
   "cell_type": "code",
   "execution_count": 30,
   "metadata": {},
   "outputs": [
    {
     "name": "stderr",
     "output_type": "stream",
     "text": [
      "..\\turbopanda\\metapanda.py:256: UserWarning: selection: '(<class 'object'>, '_id$', '_ID$')' was empty, no columns selected.\n",
      "  warnings.warn(\"selection: '{}' was empty, no columns selected.\".format(selector), UserWarning)\n"
     ]
    },
    {
     "data": {
      "text/plain": [
       "MetaPanda(Translation(n=5190, p=11, mem=0.725MB), mode='instant')"
      ]
     },
     "execution_count": 30,
     "metadata": {},
     "output_type": "execute_result"
    }
   ],
   "source": [
    "ng = g.compute(npipe, inplace=False)\n",
    "ng"
   ]
  },
  {
   "cell_type": "code",
   "execution_count": null,
   "metadata": {},
   "outputs": [],
   "source": []
  }
 ],
 "metadata": {
  "kernelspec": {
   "display_name": "Python 3",
   "language": "python",
   "name": "python3"
  },
  "language_info": {
   "codemirror_mode": {
    "name": "ipython",
    "version": 3
   },
   "file_extension": ".py",
   "mimetype": "text/x-python",
   "name": "python",
   "nbconvert_exporter": "python",
   "pygments_lexer": "ipython3",
   "version": "3.7.4"
  }
 },
 "nbformat": 4,
 "nbformat_minor": 4
}
