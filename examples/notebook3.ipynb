{
 "cells": [
  {
   "cell_type": "markdown",
   "metadata": {},
   "source": [
    "# Notebook 3: Extra Use Cases\n",
    "\n",
    "**TurboPanda** still has more to offer to allow seemless flowing of `pandas`-like operations, and indeed into `scikit-learn`."
   ]
  },
  {
   "cell_type": "code",
   "execution_count": 1,
   "metadata": {},
   "outputs": [
    {
     "data": {
      "text/plain": [
       "'0.1.6'"
      ]
     },
     "execution_count": 1,
     "metadata": {},
     "output_type": "execute_result"
    }
   ],
   "source": [
    "import sys\n",
    "import numpy as np\n",
    "import pandas as pd\n",
    "sys.path.insert(0,\"../\")\n",
    "# our main import\n",
    "import turbopanda as turb\n",
    "\n",
    "import matplotlib.pyplot as plt\n",
    "%matplotlib inline\n",
    "\n",
    "turb.__version__"
   ]
  },
  {
   "cell_type": "markdown",
   "metadata": {},
   "source": [
    "## Correlation Matrices\n",
    "\n",
    "In `pandas`, there exists a basic correlation function `corr()` which takes a method type among other things and returns a correlation matrix. I found this to be clunky and unreliable.\n",
    "\n",
    "1. *Case one*: when two features are not BOTH continuous.\n",
    "2. *Case two*: when features are not type-casted properly due to `pandas` poor handling of missing data.\n",
    "3. *Case three*: when desiring to compare *between* two datasets (say Matrix and Vector). `pandas` only provides intra-correlations between features in a *single dataframe*.\n",
    "\n",
    "***\n",
    "\n",
    "| Use case | `pandas` response | `turbopanda` response |\n",
    "| --------------------- | ----------------- | --------------- |\n",
    "| One matrix $X$ | Correlates all using `method`<br>parameter (spearman, pearson)<br>returning Matrix | Correlates all using most<br>appropriate method (spearman,<br>pearson for continuous, biserial for boolean/cont)<br>returning Matrix |\n",
    "| Two vectors $x$,$y$ of same shape | *Does not handle* | Correlates using appropriate method<br>returning single value |\n",
    "| One matrix $X$, one Vector $y$ | *Does not handle* | Correlates every column $X_i$ to vector $y$<br>using appropriate method returning<br>Vector $z$ |\n",
    "| Two matrices $X$,$Y$ of same shape | *Does not handle* | Correlates column $X_i$ with $Y_i$ using <br>most appropriate method returning<br>Vector $z$ |\n",
    "| Two matrices $X$,$Y$ of different shapes | *Does not handle* | *Does not handle* |\n",
    " \n",
    "***\n",
    "\n",
    "In `turbopanda`, we have a dedicated `correlate(X, Y=None)` function which handles missing, heterogenous datasets in the following way:\n",
    "\n"
   ]
  },
  {
   "cell_type": "code",
   "execution_count": 2,
   "metadata": {},
   "outputs": [
    {
     "data": {
      "text/plain": [
       "MetaPanda(Translation(n=5216, p=14, mem=0.585MB, key='None'), mode='instant')"
      ]
     },
     "execution_count": 2,
     "metadata": {},
     "output_type": "execute_result"
    }
   ],
   "source": [
    "g = turb.read(\"translation.csv\", name=\"Translation\")\n",
    "g"
   ]
  },
  {
   "cell_type": "code",
   "execution_count": 3,
   "metadata": {},
   "outputs": [],
   "source": [
    "def correlation_matrix(C):\n",
    "    plt.figure(figsize=(7,6))\n",
    "    # plot\n",
    "    plt.pcolormesh(C, cmap=\"Reds\")\n",
    "    # adjust ticks\n",
    "    plt.xticks(range(C.shape[1]), labels=C.columns.values, rotation=50, horizontalalignment=\"center\")\n",
    "    plt.yticks(range(C.shape[1]), labels=C.index.values)\n",
    "    # colorbar\n",
    "    plt.colorbar(label=r\"$r_s$\")"
   ]
  },
  {
   "cell_type": "code",
   "execution_count": 4,
   "metadata": {},
   "outputs": [
    {
     "data": {
      "image/png": "[encoded data removed]",
      "text/plain": [
       "<Figure size 504x432 with 2 Axes>"
      ]
     },
     "metadata": {
      "needs_background": "light"
     },
     "output_type": "display_data"
    }
   ],
   "source": [
    "corr = turb.correlate(g)\n",
    "correlation_matrix(corr.df_)"
   ]
  },
  {
   "cell_type": "markdown",
   "metadata": {},
   "source": [
    "## Correlation by rows\n",
    "\n",
    "In certain use cases, you don't necessarily want the correlation matrix, but just every pairwise correlation in a stack of rows. \n",
    "\n",
    "This is nice when you want more detail, such as p-values, $n$ and which type of method was used (it isn't always spearman depending on the feature types).\n",
    "\n",
    "This can be achieved using the `style` keyword:"
   ]
  },
  {
   "cell_type": "code",
   "execution_count": 7,
   "metadata": {},
   "outputs": [
    {
     "data": {
      "text/html": [
       "<div>\n",
       "<style scoped>\n",
       "    .dataframe tbody tr th:only-of-type {\n",
       "        vertical-align: middle;\n",
       "    }\n",
       "\n",
       "    .dataframe tbody tr th {\n",
       "        vertical-align: top;\n",
       "    }\n",
       "\n",
       "    .dataframe thead th {\n",
       "        text-align: right;\n",
       "    }\n",
       "</style>\n",
       "<table border=\"1\" class=\"dataframe\">\n",
       "  <thead>\n",
       "    <tr style=\"text-align: right;\">\n",
       "      <th></th>\n",
       "      <th>column1</th>\n",
       "      <th>column2</th>\n",
       "      <th>r</th>\n",
       "      <th>p-val</th>\n",
       "      <th>rtype</th>\n",
       "      <th>n</th>\n",
       "    </tr>\n",
       "  </thead>\n",
       "  <tbody>\n",
       "    <tr>\n",
       "      <th>0</th>\n",
       "      <td>translation_G1_1</td>\n",
       "      <td>translation_G1_2</td>\n",
       "      <td>0.94675</td>\n",
       "      <td>0</td>\n",
       "      <td>spearman</td>\n",
       "      <td>4635</td>\n",
       "    </tr>\n",
       "    <tr>\n",
       "      <th>1</th>\n",
       "      <td>translation_G1_1</td>\n",
       "      <td>translation_G1_3</td>\n",
       "      <td>0.952289</td>\n",
       "      <td>0</td>\n",
       "      <td>spearman</td>\n",
       "      <td>4654</td>\n",
       "    </tr>\n",
       "    <tr>\n",
       "      <th>2</th>\n",
       "      <td>translation_G1_1</td>\n",
       "      <td>translation_G2M_1</td>\n",
       "      <td>0.924073</td>\n",
       "      <td>0</td>\n",
       "      <td>spearman</td>\n",
       "      <td>4543</td>\n",
       "    </tr>\n",
       "    <tr>\n",
       "      <th>3</th>\n",
       "      <td>translation_G1_1</td>\n",
       "      <td>translation_G2M_2</td>\n",
       "      <td>0.919471</td>\n",
       "      <td>0</td>\n",
       "      <td>spearman</td>\n",
       "      <td>4562</td>\n",
       "    </tr>\n",
       "    <tr>\n",
       "      <th>4</th>\n",
       "      <td>translation_G1_1</td>\n",
       "      <td>translation_G2M_3</td>\n",
       "      <td>0.912911</td>\n",
       "      <td>0</td>\n",
       "      <td>spearman</td>\n",
       "      <td>4568</td>\n",
       "    </tr>\n",
       "  </tbody>\n",
       "</table>\n",
       "</div>"
      ],
      "text/plain": [
       "            column1            column2         r p-val     rtype     n\n",
       "0  translation_G1_1   translation_G1_2   0.94675     0  spearman  4635\n",
       "1  translation_G1_1   translation_G1_3  0.952289     0  spearman  4654\n",
       "2  translation_G1_1  translation_G2M_1  0.924073     0  spearman  4543\n",
       "3  translation_G1_1  translation_G2M_2  0.919471     0  spearman  4562\n",
       "4  translation_G1_1  translation_G2M_3  0.912911     0  spearman  4568"
      ]
     },
     "execution_count": 7,
     "metadata": {},
     "output_type": "execute_result"
    }
   ],
   "source": [
    "corr_rows = turb.correlate(g, style=\"rows\")\n",
    "corr_rows.head()"
   ]
  },
  {
   "cell_type": "code",
   "execution_count": null,
   "metadata": {},
   "outputs": [],
   "source": []
  }
 ],
 "metadata": {
  "kernelspec": {
   "display_name": "Python 3",
   "language": "python",
   "name": "python3"
  },
  "language_info": {
   "codemirror_mode": {
    "name": "ipython",
    "version": 3
   },
   "file_extension": ".py",
   "mimetype": "text/x-python",
   "name": "python",
   "nbconvert_exporter": "python",
   "pygments_lexer": "ipython3",
   "version": "3.7.5"
  }
 },
 "nbformat": 4,
 "nbformat_minor": 2
}
