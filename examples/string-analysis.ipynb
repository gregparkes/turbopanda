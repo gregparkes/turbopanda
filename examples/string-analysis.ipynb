{
 "cells": [
  {
   "cell_type": "markdown",
   "metadata": {},
   "source": [
    "# Analysis of String Arrays\n",
    "\n",
    "Particularly when it comes to the meta analysis of datasets within `turbopanda`, much of the intelligence comes down to *intuitive sorting* or *grouping* of features. One of the most sensible ways to do this is by looking at the similarities between the **column names**."
   ]
  },
  {
   "cell_type": "code",
   "execution_count": 1,
   "metadata": {},
   "outputs": [
    {
     "name": "stdout",
     "output_type": "stream",
     "text": [
      "turbopanda version: 0.2.4\n"
     ]
    }
   ],
   "source": [
    "import sys\n",
    "import string\n",
    "import numpy as np\n",
    "import pandas as pd\n",
    "import matplotlib.pyplot as plt\n",
    "%matplotlib inline\n",
    "sys.path.insert(0,\"../\")\n",
    "# our main import\n",
    "import turbopanda as turb\n",
    "\n",
    "print(\"turbopanda: %s\" % turb.__version__)"
   ]
  },
  {
   "cell_type": "markdown",
   "metadata": {},
   "source": [
    "## Levenshtein distance\n",
    "\n",
    "Levenshtein distance is a formal way of measuring the *distance* between two strings, $a$ and $b$. Mathematically described it does:\n",
    "\n",
    "\\begin{align}\n",
    "\\text{lev}_{a,b}(i, j)=\\begin{cases}\n",
    "\\max{(i, j)} & \\min{(i, j)=0} \\\\\n",
    "\\min{\\begin{cases}\n",
    "\\text{lev}_{a,b}(i-1,j)+1 \\\\ \\text{lev}_{a,b}(i,j-1)+1 \\\\ \\text{lev}_{a,b}(i-1,j-1)+1_{(a_i\\neq b_j)}\n",
    "\\end{cases}} & \\text{otherwise}\n",
    "\\end{cases}\n",
    "\\end{align}\n",
    "\n",
    "thus $\\text{lev}_{a,b}(i, j)$ is the distance between the first $i$ characters of $a$ and the first $j$ characters of $b$; $i, j$ are 1-based indices. Note that this is a recursive algorithm and thus expensive for cases where $a$, $b$ have high $N$.\n",
    "\n",
    "#### New in 0.2.4: Levenshtein distance is now Numba-supported\n",
    "\n",
    "This means that CPU execution speeds for expensive Levenshtein calculations are now substantially faster.\n",
    "\n",
    "## Example: Heterogenous biological replicates\n",
    "\n",
    "Let's say you have a dataset representing the experiments from two replicate groups; let's say we have some mouse samples and human samples:"
   ]
  },
  {
   "cell_type": "code",
   "execution_count": 2,
   "metadata": {},
   "outputs": [
    {
     "name": "stdout",
     "output_type": "stream",
     "text": [
      "['rna_human_rep0', 'rna_human_rep1', 'rna_human_rep2', 'rna_human_rep3', 'rna_mouse_rep0', 'rna_mouse_rep1', 'rna_mouse_rep2', 'rna_mouse_rep3', 'rna_mouse_rep4', 'rna_mouse_rep5']\n"
     ]
    }
   ],
   "source": [
    "\n",
    "sx = ['rna_human_rep%d' % i for i in range(4)]\n",
    "sy = [\"rna_mouse_rep%d\" % i for i in range(6)]\n",
    "samples = sx + sy \n",
    "print(samples)"
   ]
  },
  {
   "cell_type": "markdown",
   "metadata": {},
   "source": [
    "We can clearly see there is a distinguishable pattern in terms of the text names used here; let's see how `levenshtein` fares:"
   ]
  },
  {
   "cell_type": "code",
   "execution_count": 6,
   "metadata": {},
   "outputs": [],
   "source": [
    "lev_m = turb.str.levenshtein(samples, as_matrix=True)"
   ]
  },
  {
   "cell_type": "code",
   "execution_count": 7,
   "metadata": {},
   "outputs": [
    {
     "data": {
      "text/html": [
       "<div>\n",
       "<style scoped>\n",
       "    .dataframe tbody tr th:only-of-type {\n",
       "        vertical-align: middle;\n",
       "    }\n",
       "\n",
       "    .dataframe tbody tr th {\n",
       "        vertical-align: top;\n",
       "    }\n",
       "\n",
       "    .dataframe thead th {\n",
       "        text-align: right;\n",
       "    }\n",
       "</style>\n",
       "<table border=\"1\" class=\"dataframe\">\n",
       "  <thead>\n",
       "    <tr style=\"text-align: right;\">\n",
       "      <th>y</th>\n",
       "      <th>rna_human_rep0</th>\n",
       "      <th>rna_human_rep1</th>\n",
       "      <th>rna_human_rep2</th>\n",
       "      <th>rna_human_rep3</th>\n",
       "      <th>rna_mouse_rep0</th>\n",
       "      <th>rna_mouse_rep1</th>\n",
       "      <th>rna_mouse_rep2</th>\n",
       "      <th>rna_mouse_rep3</th>\n",
       "      <th>rna_mouse_rep4</th>\n",
       "      <th>rna_mouse_rep5</th>\n",
       "    </tr>\n",
       "    <tr>\n",
       "      <th>x</th>\n",
       "      <th></th>\n",
       "      <th></th>\n",
       "      <th></th>\n",
       "      <th></th>\n",
       "      <th></th>\n",
       "      <th></th>\n",
       "      <th></th>\n",
       "      <th></th>\n",
       "      <th></th>\n",
       "      <th></th>\n",
       "    </tr>\n",
       "  </thead>\n",
       "  <tbody>\n",
       "    <tr>\n",
       "      <th>rna_human_rep0</th>\n",
       "      <td>1.000000</td>\n",
       "      <td>0.928571</td>\n",
       "      <td>0.928571</td>\n",
       "      <td>0.928571</td>\n",
       "      <td>0.714286</td>\n",
       "      <td>0.642857</td>\n",
       "      <td>0.642857</td>\n",
       "      <td>0.642857</td>\n",
       "      <td>0.642857</td>\n",
       "      <td>0.642857</td>\n",
       "    </tr>\n",
       "    <tr>\n",
       "      <th>rna_human_rep1</th>\n",
       "      <td>0.928571</td>\n",
       "      <td>1.000000</td>\n",
       "      <td>0.928571</td>\n",
       "      <td>0.928571</td>\n",
       "      <td>0.642857</td>\n",
       "      <td>0.714286</td>\n",
       "      <td>0.642857</td>\n",
       "      <td>0.642857</td>\n",
       "      <td>0.642857</td>\n",
       "      <td>0.642857</td>\n",
       "    </tr>\n",
       "    <tr>\n",
       "      <th>rna_human_rep2</th>\n",
       "      <td>0.928571</td>\n",
       "      <td>0.928571</td>\n",
       "      <td>1.000000</td>\n",
       "      <td>0.928571</td>\n",
       "      <td>0.642857</td>\n",
       "      <td>0.642857</td>\n",
       "      <td>0.714286</td>\n",
       "      <td>0.642857</td>\n",
       "      <td>0.642857</td>\n",
       "      <td>0.642857</td>\n",
       "    </tr>\n",
       "    <tr>\n",
       "      <th>rna_human_rep3</th>\n",
       "      <td>0.928571</td>\n",
       "      <td>0.928571</td>\n",
       "      <td>0.928571</td>\n",
       "      <td>1.000000</td>\n",
       "      <td>0.642857</td>\n",
       "      <td>0.642857</td>\n",
       "      <td>0.642857</td>\n",
       "      <td>0.714286</td>\n",
       "      <td>0.642857</td>\n",
       "      <td>0.642857</td>\n",
       "    </tr>\n",
       "    <tr>\n",
       "      <th>rna_mouse_rep0</th>\n",
       "      <td>0.714286</td>\n",
       "      <td>0.642857</td>\n",
       "      <td>0.642857</td>\n",
       "      <td>0.642857</td>\n",
       "      <td>1.000000</td>\n",
       "      <td>0.928571</td>\n",
       "      <td>0.928571</td>\n",
       "      <td>0.928571</td>\n",
       "      <td>0.928571</td>\n",
       "      <td>0.928571</td>\n",
       "    </tr>\n",
       "    <tr>\n",
       "      <th>rna_mouse_rep1</th>\n",
       "      <td>0.642857</td>\n",
       "      <td>0.714286</td>\n",
       "      <td>0.642857</td>\n",
       "      <td>0.642857</td>\n",
       "      <td>0.928571</td>\n",
       "      <td>1.000000</td>\n",
       "      <td>0.928571</td>\n",
       "      <td>0.928571</td>\n",
       "      <td>0.928571</td>\n",
       "      <td>0.928571</td>\n",
       "    </tr>\n",
       "    <tr>\n",
       "      <th>rna_mouse_rep2</th>\n",
       "      <td>0.642857</td>\n",
       "      <td>0.642857</td>\n",
       "      <td>0.714286</td>\n",
       "      <td>0.642857</td>\n",
       "      <td>0.928571</td>\n",
       "      <td>0.928571</td>\n",
       "      <td>1.000000</td>\n",
       "      <td>0.928571</td>\n",
       "      <td>0.928571</td>\n",
       "      <td>0.928571</td>\n",
       "    </tr>\n",
       "    <tr>\n",
       "      <th>rna_mouse_rep3</th>\n",
       "      <td>0.642857</td>\n",
       "      <td>0.642857</td>\n",
       "      <td>0.642857</td>\n",
       "      <td>0.714286</td>\n",
       "      <td>0.928571</td>\n",
       "      <td>0.928571</td>\n",
       "      <td>0.928571</td>\n",
       "      <td>1.000000</td>\n",
       "      <td>0.928571</td>\n",
       "      <td>0.928571</td>\n",
       "    </tr>\n",
       "    <tr>\n",
       "      <th>rna_mouse_rep4</th>\n",
       "      <td>0.642857</td>\n",
       "      <td>0.642857</td>\n",
       "      <td>0.642857</td>\n",
       "      <td>0.642857</td>\n",
       "      <td>0.928571</td>\n",
       "      <td>0.928571</td>\n",
       "      <td>0.928571</td>\n",
       "      <td>0.928571</td>\n",
       "      <td>1.000000</td>\n",
       "      <td>0.928571</td>\n",
       "    </tr>\n",
       "    <tr>\n",
       "      <th>rna_mouse_rep5</th>\n",
       "      <td>0.642857</td>\n",
       "      <td>0.642857</td>\n",
       "      <td>0.642857</td>\n",
       "      <td>0.642857</td>\n",
       "      <td>0.928571</td>\n",
       "      <td>0.928571</td>\n",
       "      <td>0.928571</td>\n",
       "      <td>0.928571</td>\n",
       "      <td>0.928571</td>\n",
       "      <td>1.000000</td>\n",
       "    </tr>\n",
       "  </tbody>\n",
       "</table>\n",
       "</div>"
      ],
      "text/plain": [
       "y               rna_human_rep0  rna_human_rep1  rna_human_rep2  \\\n",
       "x                                                                \n",
       "rna_human_rep0        1.000000        0.928571        0.928571   \n",
       "rna_human_rep1        0.928571        1.000000        0.928571   \n",
       "rna_human_rep2        0.928571        0.928571        1.000000   \n",
       "rna_human_rep3        0.928571        0.928571        0.928571   \n",
       "rna_mouse_rep0        0.714286        0.642857        0.642857   \n",
       "rna_mouse_rep1        0.642857        0.714286        0.642857   \n",
       "rna_mouse_rep2        0.642857        0.642857        0.714286   \n",
       "rna_mouse_rep3        0.642857        0.642857        0.642857   \n",
       "rna_mouse_rep4        0.642857        0.642857        0.642857   \n",
       "rna_mouse_rep5        0.642857        0.642857        0.642857   \n",
       "\n",
       "y               rna_human_rep3  rna_mouse_rep0  rna_mouse_rep1  \\\n",
       "x                                                                \n",
       "rna_human_rep0        0.928571        0.714286        0.642857   \n",
       "rna_human_rep1        0.928571        0.642857        0.714286   \n",
       "rna_human_rep2        0.928571        0.642857        0.642857   \n",
       "rna_human_rep3        1.000000        0.642857        0.642857   \n",
       "rna_mouse_rep0        0.642857        1.000000        0.928571   \n",
       "rna_mouse_rep1        0.642857        0.928571        1.000000   \n",
       "rna_mouse_rep2        0.642857        0.928571        0.928571   \n",
       "rna_mouse_rep3        0.714286        0.928571        0.928571   \n",
       "rna_mouse_rep4        0.642857        0.928571        0.928571   \n",
       "rna_mouse_rep5        0.642857        0.928571        0.928571   \n",
       "\n",
       "y               rna_mouse_rep2  rna_mouse_rep3  rna_mouse_rep4  rna_mouse_rep5  \n",
       "x                                                                               \n",
       "rna_human_rep0        0.642857        0.642857        0.642857        0.642857  \n",
       "rna_human_rep1        0.642857        0.642857        0.642857        0.642857  \n",
       "rna_human_rep2        0.714286        0.642857        0.642857        0.642857  \n",
       "rna_human_rep3        0.642857        0.714286        0.642857        0.642857  \n",
       "rna_mouse_rep0        0.928571        0.928571        0.928571        0.928571  \n",
       "rna_mouse_rep1        0.928571        0.928571        0.928571        0.928571  \n",
       "rna_mouse_rep2        1.000000        0.928571        0.928571        0.928571  \n",
       "rna_mouse_rep3        0.928571        1.000000        0.928571        0.928571  \n",
       "rna_mouse_rep4        0.928571        0.928571        1.000000        0.928571  \n",
       "rna_mouse_rep5        0.928571        0.928571        0.928571        1.000000  "
      ]
     },
     "execution_count": 7,
     "metadata": {},
     "output_type": "execute_result"
    }
   ],
   "source": [
    "lev_m"
   ]
  },
  {
   "cell_type": "markdown",
   "metadata": {},
   "source": [
    "The function `levenshtein` returns essentially a distance *matrix* between every pairing of words.\n",
    "\n",
    "A heatmap may more clearly highlight the relationship between the groups."
   ]
  },
  {
   "cell_type": "code",
   "execution_count": 8,
   "metadata": {},
   "outputs": [
    {
     "data": {
      "image/png": "[encoded data removed]",
      "text/plain": [
       "<Figure size 432x288 with 2 Axes>"
      ]
     },
     "metadata": {
      "needs_background": "light"
     },
     "output_type": "display_data"
    }
   ],
   "source": [
    "plt.pcolormesh(lev_m, cmap=\"Reds\")\n",
    "plt.xticks(ticks=np.arange(.5,len(lev_m)), labels=lev_m.columns, rotation=-45, ha='left', rotation_mode='anchor')\n",
    "plt.yticks(ticks=np.arange(.5, len(lev_m)), labels=lev_m.columns)\n",
    "plt.colorbar()\n",
    "plt.show()"
   ]
  },
  {
   "cell_type": "markdown",
   "metadata": {},
   "source": [
    "### Using clustering to find subgroups\n",
    "\n",
    "The levenshtein distance matrix can be hierarchically clustered to find an optimal number of appropriate subgroups."
   ]
  },
  {
   "cell_type": "code",
   "execution_count": 9,
   "metadata": {},
   "outputs": [],
   "source": [
    "from scipy.cluster import hierarchy"
   ]
  },
  {
   "cell_type": "code",
   "execution_count": 10,
   "metadata": {},
   "outputs": [
    {
     "data": {
      "text/plain": [
       "array([2, 2, 2, 2, 1, 1, 1, 1, 1, 1], dtype=int32)"
      ]
     },
     "execution_count": 10,
     "metadata": {},
     "output_type": "execute_result"
    }
   ],
   "source": [
    "hierarchy.fclusterdata(lev_m.values, 2, criterion='maxclust', method='average')"
   ]
  },
  {
   "cell_type": "markdown",
   "metadata": {},
   "source": [
    "## Longest common substring matching\n",
    "\n",
    "This is a well defined and known problem, whereby we wish to find the most likely common substring match between two strings $a$ and $b$.\n",
    "\n",
    "Take the above example for biological replicates, between two mouse samples we would have:"
   ]
  },
  {
   "cell_type": "code",
   "execution_count": 11,
   "metadata": {},
   "outputs": [
    {
     "data": {
      "text/plain": [
       "'rna_mouse_rep'"
      ]
     },
     "execution_count": 11,
     "metadata": {},
     "output_type": "execute_result"
    }
   ],
   "source": [
    "turb.str.common_substrings([\"rna_mouse_rep0\", 'rna_mouse_rep3'])"
   ]
  },
  {
   "cell_type": "markdown",
   "metadata": {},
   "source": [
    "Or between human and mouse:"
   ]
  },
  {
   "cell_type": "code",
   "execution_count": 12,
   "metadata": {},
   "outputs": [
    {
     "data": {
      "text/plain": [
       "'rna_'"
      ]
     },
     "execution_count": 12,
     "metadata": {},
     "output_type": "execute_result"
    }
   ],
   "source": [
    "turb.str.common_substrings([\"rna_human_rep0\", 'rna_mouse_rep3'])"
   ]
  },
  {
   "cell_type": "markdown",
   "metadata": {},
   "source": [
    "Once again, we can compare the pairwise interactions between our dataset columns:"
   ]
  },
  {
   "cell_type": "code",
   "execution_count": 13,
   "metadata": {},
   "outputs": [],
   "source": [
    "pairs = turb.str.common_substrings(samples)"
   ]
  },
  {
   "cell_type": "code",
   "execution_count": 14,
   "metadata": {},
   "outputs": [
    {
     "data": {
      "text/plain": [
       "rna_             20\n",
       "rna_mouse_rep    15\n",
       "rna_human_rep     6\n",
       "dtype: int64"
      ]
     },
     "execution_count": 14,
     "metadata": {},
     "output_type": "execute_result"
    }
   ],
   "source": [
    "pairs"
   ]
  },
  {
   "cell_type": "code",
   "execution_count": null,
   "metadata": {},
   "outputs": [],
   "source": []
  }
 ],
 "metadata": {
  "kernelspec": {
   "display_name": "Python 3",
   "language": "python",
   "name": "python3"
  },
  "language_info": {
   "codemirror_mode": {
    "name": "ipython",
    "version": 3
   },
   "file_extension": ".py",
   "mimetype": "text/x-python",
   "name": "python",
   "nbconvert_exporter": "python",
   "pygments_lexer": "ipython3",
   "version": "3.7.5"
  }
 },
 "nbformat": 4,
 "nbformat_minor": 4
}