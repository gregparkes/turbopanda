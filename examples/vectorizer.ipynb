{
 "cells": [
  {
   "cell_type": "markdown",
   "metadata": {},
   "source": [
    "# Parameterization of function arguments\n",
    "\n",
    "There are many use cases where, given a particular function $f(x) \\to y$, you would like to pass multiple $x$ of length $n$ instead, getting $y_n$ results. \n",
    "\n",
    "In Python this is traditionally done with for loops:\n",
    "\n",
    "```python\n",
    "def f(x):\n",
    "    return x**2\n",
    "\n",
    "result = [f(_x) for _x in [1, 2, 3]]\n",
    "```\n",
    "\n",
    "This can become more problematic when you want to, say parameterize over two arguments:\n",
    "\n",
    "```python\n",
    "import itertools as it\n",
    "def f(x, y):\n",
    "    return x + y**2\n",
    "\n",
    "result = [f(_x, _y) for _x, _y in it.product(x, y)]\n",
    "```\n",
    "\n",
    "And let's say you wish to include keyword arguments into this; well good luck:\n",
    "\n",
    "```python\n",
    "def f(x, y, z):\n",
    "    return x + y**2 - z*.5\n",
    "\n",
    "# result = f(1., 2., z=[4., 5., 6.]) ?\n",
    "```"
   ]
  },
  {
   "cell_type": "code",
   "execution_count": 1,
   "metadata": {},
   "outputs": [
    {
     "name": "stdout",
     "output_type": "stream",
     "text": [
      "turbopanda: 0.2.5\n"
     ]
    }
   ],
   "source": [
    "import numpy as np\n",
    "import sys\n",
    "sys.path.insert(0,\"../\")\n",
    "# our main import\n",
    "import turbopanda as turb\n",
    "\n",
    "print(\"turbopanda: %s\" % turb.__version__)"
   ]
  },
  {
   "cell_type": "markdown",
   "metadata": {},
   "source": [
    "## Fear not: There lies a solution\n",
    "\n",
    "In `turbopanda` we have a useful decorator function called `vectorize` which does precisely this!\n",
    "\n",
    "There is a catch: when calling a custom function, you must wrap your argument you wish to iterate over using a `turb.Vector` object (which is just an inherited Python list).\n",
    "\n",
    "## Basic Use Case\n",
    "\n",
    "A simple use case would be to vectorize a simple float-in float-out function:"
   ]
  },
  {
   "cell_type": "code",
   "execution_count": 2,
   "metadata": {},
   "outputs": [],
   "source": [
    "from turbopanda import Vector as Vec"
   ]
  },
  {
   "cell_type": "code",
   "execution_count": 3,
   "metadata": {},
   "outputs": [
    {
     "data": {
      "text/plain": [
       "[8, 64, 216]"
      ]
     },
     "execution_count": 3,
     "metadata": {},
     "output_type": "execute_result"
    }
   ],
   "source": [
    "@turb.vectorize\n",
    "def f(x):\n",
    "    return x**3\n",
    "\n",
    "f(Vec(2, 4, 6))"
   ]
  },
  {
   "cell_type": "markdown",
   "metadata": {},
   "source": [
    "The `Vector` object is important so that `vectorize` knows which parameters to iterate over, rather than using standard `list`, `tuple` or `dict` objects that Python provides by default.\n",
    "\n",
    "This allows you to pass *normal* list arguments, etc if your function normally uses them:"
   ]
  },
  {
   "cell_type": "code",
   "execution_count": 4,
   "metadata": {},
   "outputs": [
    {
     "data": {
      "text/plain": [
       "[[6.0, -2.0, 4.0], [9.0, -3.0, 6.0]]"
      ]
     },
     "execution_count": 4,
     "metadata": {},
     "output_type": "execute_result"
    }
   ],
   "source": [
    "@turb.vectorize\n",
    "def g(x, yj):\n",
    "    # x is a float, y is a list of float\n",
    "    return [a*x for a in yj]\n",
    "\n",
    "g(Vec(2., 3.), [3., -1., 2.])"
   ]
  },
  {
   "cell_type": "markdown",
   "metadata": {},
   "source": [
    "## Combinations of Vectorizations\n",
    "\n",
    "By Default if more than one parameter contains a `Vector` object, the **product** of the arguments is calculated.\n",
    "\n",
    "This means if argument `a` has 3 parameters, and argument `b` also has 3 parameters, function $f(a, b, \\dots)$ is called 9 times."
   ]
  },
  {
   "cell_type": "code",
   "execution_count": 5,
   "metadata": {},
   "outputs": [
    {
     "data": {
      "text/plain": [
       "[0.5403023058681397,\n",
       " -4.39449989467654,\n",
       " -1.0,\n",
       " -5.934802200544679,\n",
       " -1.0,\n",
       " -5.934802200544679]"
      ]
     },
     "execution_count": 5,
     "metadata": {},
     "output_type": "execute_result"
    }
   ],
   "source": [
    "@turb.vectorize\n",
    "def g(x, y, z):\n",
    "    # x is a float, y is a list of float\n",
    "    return np.cos(x) + np.sin(y) * -.5 * np.pi * z\n",
    "\n",
    "g(Vec(1., np.pi, -np.pi), np.pi / 2, Vec(0., np.pi))"
   ]
  },
  {
   "cell_type": "markdown",
   "metadata": {},
   "source": [
    "This expands up to $\\inf$ arguments, although watch out as you don't want your computer to denotate from the parameterization explosion.\n",
    "\n",
    "## Incorporating keyword arguments\n",
    "\n",
    "For long functions with many *default parameters*, it is highly useful to use keyword arguments just to pick-and-choose which parameters to tweak. For one of these parameters, there are a number of use cases where vectorizing over this parameter could yield some useful information."
   ]
  },
  {
   "cell_type": "code",
   "execution_count": 6,
   "metadata": {},
   "outputs": [
    {
     "data": {
      "text/plain": [
       "[-0.41614683654714296, -0.4161468365471432]"
      ]
     },
     "execution_count": 6,
     "metadata": {},
     "output_type": "execute_result"
    }
   ],
   "source": [
    "g(2., np.pi, z=Vec(3., 4.))"
   ]
  },
  {
   "cell_type": "markdown",
   "metadata": {},
   "source": [
    "This also works if other keyword arguments you specify are not vectorized:"
   ]
  },
  {
   "cell_type": "code",
   "execution_count": 7,
   "metadata": {},
   "outputs": [
    {
     "data": {
      "text/plain": [
       "[-0.41614683654714296, -0.4161468365471432]"
      ]
     },
     "execution_count": 7,
     "metadata": {},
     "output_type": "execute_result"
    }
   ],
   "source": [
    "g(x=2., y=np.pi, z=Vec(3., 4.))"
   ]
  },
  {
   "cell_type": "markdown",
   "metadata": {},
   "source": [
    "## Automatic Parallel Backend\n",
    "\n",
    "By default `vectorize` has a parallel argument which is set to `False`, but understandably with large numbers of arguments in a potentially slow function, we would like to parallelize calculations on the function, given the key assumption that each set of arguments are independent from one another. \n",
    "\n",
    "The decorator has a `parallel` keyword which can be set:"
   ]
  },
  {
   "cell_type": "code",
   "execution_count": 8,
   "metadata": {},
   "outputs": [],
   "source": [
    "import pandas as pd"
   ]
  },
  {
   "cell_type": "code",
   "execution_count": 20,
   "metadata": {},
   "outputs": [
    {
     "data": {
      "text/plain": [
       "[array([-45. , -40.5, -36. , -31.5, -27. , -22.5, -18. , -13.5,  -9. ,\n",
       "         -4.5,   0. ,   4.5,   9. ,  13.5,  18. ,  22.5,  27. ,  31.5,\n",
       "         36. ,  40.5]),\n",
       " array([-43. , -38.5, -34. , -29.5, -25. , -20.5, -16. , -11.5,  -7. ,\n",
       "         -2.5,   2. ,   6.5,  11. ,  15.5,  20. ,  24.5,  29. ,  33.5,\n",
       "         38. ,  42.5]),\n",
       " array([-41. , -36.5, -32. , -27.5, -23. , -18.5, -14. ,  -9.5,  -5. ,\n",
       "         -0.5,   4. ,   8.5,  13. ,  17.5,  22. ,  26.5,  31. ,  35.5,\n",
       "         40. ,  44.5]),\n",
       " array([-39. , -34.5, -30. , -25.5, -21. , -16.5, -12. ,  -7.5,  -3. ,\n",
       "          1.5,   6. ,  10.5,  15. ,  19.5,  24. ,  28.5,  33. ,  37.5,\n",
       "         42. ,  46.5]),\n",
       " array([-37. , -32.5, -28. , -23.5, -19. , -14.5, -10. ,  -5.5,  -1. ,\n",
       "          3.5,   8. ,  12.5,  17. ,  21.5,  26. ,  30.5,  35. ,  39.5,\n",
       "         44. ,  48.5]),\n",
       " array([-35. , -30.5, -26. , -21.5, -17. , -12.5,  -8. ,  -3.5,   1. ,\n",
       "          5.5,  10. ,  14.5,  19. ,  23.5,  28. ,  32.5,  37. ,  41.5,\n",
       "         46. ,  50.5]),\n",
       " array([-33. , -28.5, -24. , -19.5, -15. , -10.5,  -6. ,  -1.5,   3. ,\n",
       "          7.5,  12. ,  16.5,  21. ,  25.5,  30. ,  34.5,  39. ,  43.5,\n",
       "         48. ,  52.5]),\n",
       " array([-31. , -26.5, -22. , -17.5, -13. ,  -8.5,  -4. ,   0.5,   5. ,\n",
       "          9.5,  14. ,  18.5,  23. ,  27.5,  32. ,  36.5,  41. ,  45.5,\n",
       "         50. ,  54.5]),\n",
       " array([-29. , -24.5, -20. , -15.5, -11. ,  -6.5,  -2. ,   2.5,   7. ,\n",
       "         11.5,  16. ,  20.5,  25. ,  29.5,  34. ,  38.5,  43. ,  47.5,\n",
       "         52. ,  56.5]),\n",
       " array([-27. , -22.5, -18. , -13.5,  -9. ,  -4.5,   0. ,   4.5,   9. ,\n",
       "         13.5,  18. ,  22.5,  27. ,  31.5,  36. ,  40.5,  45. ,  49.5,\n",
       "         54. ,  58.5])]"
      ]
     },
     "execution_count": 20,
     "metadata": {},
     "output_type": "execute_result"
    }
   ],
   "source": [
    "@turb.vectorize(parallel=True)\n",
    "def h(x, z, a, q):\n",
    "    return x*z - a*q\n",
    "\n",
    "h(Vec(*np.arange(10)), 2., -3., Vec(np.arange(-15, 15, 1.5)))"
   ]
  },
  {
   "cell_type": "markdown",
   "metadata": {},
   "source": [
    "Note in the above example that I **unpacked** the numpy array into the `Vector` constructor such that those numbers were in list form.\n",
    "\n",
    "`Vector` will take any object which would normally be represented as a parameter, but it will **NOT** unpack vectors/matrices for you, assuming that you want to pass this as a whole to the function:"
   ]
  },
  {
   "cell_type": "code",
   "execution_count": 18,
   "metadata": {},
   "outputs": [
    {
     "name": "stdout",
     "output_type": "stream",
     "text": [
      "operands could not be broadcast together with shapes (10,) (20,) \n"
     ]
    }
   ],
   "source": [
    "try:\n",
    "    h(Vec(np.arange(10), 2), 2., -3., Vec(np.arange(-15, 15, 1.5)))\n",
    "except ValueError as e:\n",
    "    print(e)"
   ]
  },
  {
   "cell_type": "markdown",
   "metadata": {},
   "source": [
    "In the above case, the first argument in `Vec` passes the whole numpy array as the first argument to the function, rather than 10 individual numbers.\n",
    "\n",
    "Just be careful, particular in **product** use cases that what your result is, actually makes sense."
   ]
  },
  {
   "cell_type": "code",
   "execution_count": null,
   "metadata": {},
   "outputs": [],
   "source": []
  }
 ],
 "metadata": {
  "kernelspec": {
   "display_name": "Python 3",
   "language": "python",
   "name": "python3"
  },
  "language_info": {
   "codemirror_mode": {
    "name": "ipython",
    "version": 3
   },
   "file_extension": ".py",
   "mimetype": "text/x-python",
   "name": "python",
   "nbconvert_exporter": "python",
   "pygments_lexer": "ipython3",
   "version": "3.7.5"
  }
 },
 "nbformat": 4,
 "nbformat_minor": 4
}
