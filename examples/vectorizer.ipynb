{
 "cells": [
  {
   "cell_type": "markdown",
   "metadata": {},
   "source": [
    "# Parameterization of function arguments\n",
    "\n",
    "There are many use cases where, given a particular function $f(x) \\to y$, you would like to pass multiple $x$ of length $n$ instead, getting $y_n$ results. \n",
    "\n",
    "In Python this is traditionally done with for loops:\n",
    "\n",
    "```python\n",
    "def f(x):\n",
    "    return x**2\n",
    "\n",
    "result = [f(_x) for _x in [1, 2, 3]]\n",
    "```\n",
    "\n",
    "This can become more problematic when you want to, say parameterize over two arguments:\n",
    "\n",
    "```python\n",
    "import itertools as it\n",
    "def f(x, y):\n",
    "    return x + y**2\n",
    "\n",
    "result = [f(_x, _y) for _x, _y in it.product(x, y)]\n",
    "```\n",
    "\n",
    "And let's say you wish to include keyword arguments into this; well good luck:\n",
    "\n",
    "```python\n",
    "def f(x, y, z):\n",
    "    return x + y**2 - z*.5\n",
    "\n",
    "# result = f(1., 2., z=[4., 5., 6.]) ?\n",
    "```"
   ]
  },
  {
   "cell_type": "code",
   "execution_count": 1,
   "metadata": {},
   "outputs": [
    {
     "name": "stdout",
     "output_type": "stream",
     "text": [
      "turbopanda: 0.2.6\n"
     ]
    }
   ],
   "source": [
    "import numpy as np\n",
    "import sys\n",
    "import matplotlib.pyplot as plt\n",
    "%matplotlib inline\n",
    "sys.path.insert(0,\"../\")\n",
    "# our main import\n",
    "import turbopanda as turb\n",
    "\n",
    "print(\"turbopanda: %s\" % turb.__version__)"
   ]
  },
  {
   "cell_type": "markdown",
   "metadata": {},
   "source": [
    "## Fear not: There lies a solution\n",
    "\n",
    "In `turbopanda` we have a useful decorator function called `vectorize` which does precisely this!\n",
    "\n",
    "There is a catch: when calling a custom function, you must wrap your argument you wish to iterate over using a `turb.Param` object (which is just an inherited Python list).\n",
    "\n",
    "## Basic Use Case\n",
    "\n",
    "A simple use case would be to vectorize a simple float-in float-out function:"
   ]
  },
  {
   "cell_type": "code",
   "execution_count": 2,
   "metadata": {},
   "outputs": [],
   "source": [
    "from turbopanda import Param as Vec"
   ]
  },
  {
   "cell_type": "code",
   "execution_count": 3,
   "metadata": {},
   "outputs": [
    {
     "data": {
      "text/plain": [
       "[8, 64, 216]"
      ]
     },
     "execution_count": 3,
     "metadata": {},
     "output_type": "execute_result"
    }
   ],
   "source": [
    "@turb.vectorize\n",
    "def f(x):\n",
    "    return x**3\n",
    "\n",
    "f(Vec(2, 4, 6))"
   ]
  },
  {
   "cell_type": "markdown",
   "metadata": {},
   "source": [
    "The `Param` object is important so that `vectorize` knows which parameters to iterate over, rather than using standard `list`, `tuple` or `dict` objects that Python provides by default.\n",
    "\n",
    "This allows you to pass *normal* list arguments, etc if your function normally uses them:"
   ]
  },
  {
   "cell_type": "code",
   "execution_count": 4,
   "metadata": {},
   "outputs": [
    {
     "data": {
      "text/plain": [
       "[[6.0, -2.0, 4.0], [9.0, -3.0, 6.0]]"
      ]
     },
     "execution_count": 4,
     "metadata": {},
     "output_type": "execute_result"
    }
   ],
   "source": [
    "@turb.vectorize\n",
    "def g(x, yj):\n",
    "    # x is a float, y is a list of float\n",
    "    return [a*x for a in yj]\n",
    "\n",
    "g(Vec(2., 3.), [3., -1., 2.])"
   ]
  },
  {
   "cell_type": "markdown",
   "metadata": {},
   "source": [
    "## Combinations of Vectorizations\n",
    "\n",
    "By Default if more than one parameter contains a `Param` object, the **product** of the arguments is calculated.\n",
    "\n",
    "This means if argument `a` has 3 parameters, and argument `b` also has 3 parameters, function $f(a, b, \\dots)$ is called 9 times."
   ]
  },
  {
   "cell_type": "code",
   "execution_count": 5,
   "metadata": {},
   "outputs": [
    {
     "data": {
      "text/plain": [
       "[0.5403023058681397,\n",
       " -4.39449989467654,\n",
       " -1.0,\n",
       " -5.934802200544679,\n",
       " -1.0,\n",
       " -5.934802200544679]"
      ]
     },
     "execution_count": 5,
     "metadata": {},
     "output_type": "execute_result"
    }
   ],
   "source": [
    "@turb.vectorize\n",
    "def g(x, y, z):\n",
    "    # x is a float, y is a list of float\n",
    "    return np.cos(x) + np.sin(y) * -.5 * np.pi * z\n",
    "\n",
    "g(Vec(1., np.pi, -np.pi), np.pi / 2, Vec(0., np.pi))"
   ]
  },
  {
   "cell_type": "markdown",
   "metadata": {},
   "source": [
    "This expands up to $\\inf$ arguments, although watch out as you don't want your computer to denotate from the parameterization explosion.\n",
    "\n",
    "## Incorporating keyword arguments\n",
    "\n",
    "For long functions with many *default parameters*, it is highly useful to use keyword arguments just to pick-and-choose which parameters to tweak. For one of these parameters, there are a number of use cases where vectorizing over this parameter could yield some useful information."
   ]
  },
  {
   "cell_type": "code",
   "execution_count": 6,
   "metadata": {},
   "outputs": [
    {
     "data": {
      "text/plain": [
       "[-0.41614683654714296, -0.4161468365471432]"
      ]
     },
     "execution_count": 6,
     "metadata": {},
     "output_type": "execute_result"
    }
   ],
   "source": [
    "g(2., np.pi, z=Vec(3., 4.))"
   ]
  },
  {
   "cell_type": "markdown",
   "metadata": {},
   "source": [
    "This also works if other keyword arguments you specify are not vectorized:"
   ]
  },
  {
   "cell_type": "code",
   "execution_count": 7,
   "metadata": {},
   "outputs": [
    {
     "data": {
      "text/plain": [
       "[-0.41614683654714296, -0.4161468365471432]"
      ]
     },
     "execution_count": 7,
     "metadata": {},
     "output_type": "execute_result"
    }
   ],
   "source": [
    "g(x=2., y=np.pi, z=Vec(3., 4.))"
   ]
  },
  {
   "cell_type": "markdown",
   "metadata": {},
   "source": [
    "## Choosing the return type\n",
    "\n",
    "By default, `vectorize` will return a list of the vectorizable return values. You can specify instead that you want the return type, as a `numpy` array or `pandas` DataFrame object instead.\n",
    "\n",
    "Below we have a tuple example:"
   ]
  },
  {
   "cell_type": "code",
   "execution_count": 8,
   "metadata": {},
   "outputs": [],
   "source": [
    "@turb.vectorize(return_as='tuple')\n",
    "def h(s, i, j, k):\n",
    "    return s[:i] + \"...\" + s[j:k] + \".\""
   ]
  },
  {
   "cell_type": "code",
   "execution_count": 9,
   "metadata": {},
   "outputs": [
    {
     "data": {
      "text/plain": [
       "('The b...uty and the beas.', 'Cinde...lla and her slippe.')"
      ]
     },
     "execution_count": 9,
     "metadata": {},
     "output_type": "execute_result"
    }
   ],
   "source": [
    "h(Vec(\"The beauty and the beast\", \"Cinderella and her slipper\"), 5, 7, -1)"
   ]
  },
  {
   "cell_type": "markdown",
   "metadata": {},
   "source": [
    "Or we can convert the list of lists into a numpy object with multiple dimensions, as such:"
   ]
  },
  {
   "cell_type": "code",
   "execution_count": 10,
   "metadata": {},
   "outputs": [],
   "source": [
    "@turb.vectorize(return_as=\"numpy\")\n",
    "def gauss_pdf(x, m, sd):\n",
    "    return 1. / (sd * np.sqrt(2*np.pi)) * np.exp(-.5 * ((x-m) / sd)**2)"
   ]
  },
  {
   "cell_type": "code",
   "execution_count": 11,
   "metadata": {},
   "outputs": [
    {
     "name": "stdout",
     "output_type": "stream",
     "text": [
      "(3, 100)\n"
     ]
    },
    {
     "data": {
      "image/png": "[encoded data removed]",
      "text/plain": [
       "<Figure size 432x288 with 1 Axes>"
      ]
     },
     "metadata": {
      "needs_background": "light"
     },
     "output_type": "display_data"
    }
   ],
   "source": [
    "x_d = np.linspace(-5, 5, 100)\n",
    "pdfs = gauss_pdf(x_d, m=Vec(-1., 0., 1.), sd=1.)\n",
    "print(pdfs.shape)\n",
    "for i in range(pdfs.shape[0]):\n",
    "    plt.plot(x_d, pdfs[i, :], label=\"mean=%i\" % (i - 1))\n",
    "plt.legend()\n",
    "plt.show()"
   ]
  },
  {
   "cell_type": "markdown",
   "metadata": {},
   "source": [
    "Though the above examples are simple in nature, they help to demonstrate a powerful feature: that complex functions can now be efficiently vectorizable into a compact output that is more useful to the user."
   ]
  },
  {
   "cell_type": "markdown",
   "metadata": {},
   "source": [
    "## Automatic Parallel Backend\n",
    "\n",
    "By default `vectorize` has a parallel argument which is set to `False`, but understandably with large numbers of arguments in a potentially slow function, we would like to parallelize calculations on the function, given the key assumption that each set of arguments are independent from one another. \n",
    "\n",
    "The decorator has a `parallel` keyword which can be set:"
   ]
  },
  {
   "cell_type": "code",
   "execution_count": 12,
   "metadata": {},
   "outputs": [],
   "source": [
    "import pandas as pd"
   ]
  },
  {
   "cell_type": "code",
   "execution_count": 13,
   "metadata": {},
   "outputs": [
    {
     "data": {
      "text/plain": [
       "(10, 20)"
      ]
     },
     "execution_count": 13,
     "metadata": {},
     "output_type": "execute_result"
    }
   ],
   "source": [
    "@turb.vectorize(parallel=True, return_as=\"numpy\")\n",
    "def neg_dot(x, z, a, q):\n",
    "    return x*z - a*q\n",
    "\n",
    "_X = neg_dot(Vec(*np.arange(10)), 2., -3., Vec(np.linspace(-15, 15, 20)))\n",
    "_X.shape"
   ]
  },
  {
   "cell_type": "markdown",
   "metadata": {},
   "source": [
    "Note in the above example that I **unpacked** the numpy array into the `Param` constructor such that those numbers were in list form.\n",
    "\n",
    "`Param` will take any object which would normally be represented as a parameter, but it will **NOT** unpack vectors/matrices for you, assuming that you want to pass this as a whole to the function:"
   ]
  },
  {
   "cell_type": "code",
   "execution_count": 14,
   "metadata": {},
   "outputs": [
    {
     "name": "stdout",
     "output_type": "stream",
     "text": [
      "operands could not be broadcast together with shapes (10,) (20,) \n"
     ]
    }
   ],
   "source": [
    "try:\n",
    "    neg_dot(Vec(np.arange(10), 2), 2., -3., Vec(np.arange(-15, 15, 1.5)))\n",
    "except ValueError as e:\n",
    "    print(e)"
   ]
  },
  {
   "cell_type": "markdown",
   "metadata": {},
   "source": [
    "In the above case, the first argument in `Vec` passes the whole numpy array as the first argument to the function, rather than 10 individual numbers.\n",
    "\n",
    "Just be careful, particular in **product** use cases that what your result is, actually makes sense."
   ]
  },
  {
   "cell_type": "markdown",
   "metadata": {},
   "source": [
    "## Null case\n",
    "\n",
    "In the case where Param is not used, the normal return value is obviously used:"
   ]
  },
  {
   "cell_type": "code",
   "execution_count": 15,
   "metadata": {},
   "outputs": [],
   "source": [
    "@turb.vectorize\n",
    "def novec(x, y, z):\n",
    "    return [x*y -z]"
   ]
  },
  {
   "cell_type": "code",
   "execution_count": 16,
   "metadata": {},
   "outputs": [
    {
     "data": {
      "text/plain": [
       "[-1.0]"
      ]
     },
     "execution_count": 16,
     "metadata": {},
     "output_type": "execute_result"
    }
   ],
   "source": [
    "novec(1., 2., 3)"
   ]
  }
 ],
 "metadata": {
  "kernelspec": {
   "display_name": "Python 3",
   "language": "python",
   "name": "python3"
  },
  "language_info": {
   "codemirror_mode": {
    "name": "ipython",
    "version": 3
   },
   "file_extension": ".py",
   "mimetype": "text/x-python",
   "name": "python",
   "nbconvert_exporter": "python",
   "pygments_lexer": "ipython3",
   "version": "3.7.5"
  }
 },
 "nbformat": 4,
 "nbformat_minor": 4
}
